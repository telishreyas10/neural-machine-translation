{
  "cells": [
    {
      "cell_type": "markdown",
      "metadata": {
        "id": "xnIfQCkU6NR5"
      },
      "source": [
        "# **Neural Machine Translation**\n",
        "\n",
        "### **English to Japanese**\n"
      ]
    },
    {
      "cell_type": "markdown",
      "metadata": {
        "id": "SOzjKaXh7jT9"
      },
      "source": [
        "# **Introduction**\n",
        "\n",
        "Our primary objective is to develop a Transformer-based Neural Machine Translation system for converting Japanese sentences into English sentences."
      ]
    },
    {
      "cell_type": "markdown",
      "metadata": {
        "id": "3oODvL3e9cq7"
      },
      "source": [
        "## **Dataset**\n"
      ]
    },
    {
      "cell_type": "code",
      "execution_count": 6,
      "metadata": {
        "id": "tpgEiMaC_yw-"
      },
      "outputs": [],
      "source": [
        "ANKI_LEXICON_PATH = '/content/dataset/eng_jpn.txt'\n",
        "KYOTO_LEXICON_PATH = '/content/dataset/kyoto_lexicon.csv'"
      ]
    },
    {
      "cell_type": "markdown",
      "metadata": {
        "id": "XCoJpiRD_2Mn"
      },
      "source": [
        "## **Hyperparamters**\n",
        "\n",
        "The below are the Hyperparamters for our model. \n"
      ]
    },
    {
      "cell_type": "code",
      "source": [
        "import os\n",
        "os.environ['LC_ALL'] = 'en_US.UTF-8'\n",
        "os.environ['LANG'] = 'en_US.UTF-8'\n"
      ],
      "metadata": {
        "id": "_IMHzbOAPlW3"
      },
      "execution_count": 7,
      "outputs": []
    },
    {
      "cell_type": "code",
      "execution_count": 8,
      "metadata": {
        "id": "lU-RdLCcr03u"
      },
      "outputs": [],
      "source": [
        "BATCH_SIZE = 20\n",
        "EPOCHS = 50\n",
        "\n",
        "D_MODEL = 512\n",
        "HEADS = 8\n",
        "N = 6"
      ]
    },
    {
      "cell_type": "markdown",
      "metadata": {
        "id": "zeAXGXZNA6rz"
      },
      "source": [
        "# **Library Imports and Device Configuration**"
      ]
    },
    {
      "cell_type": "code",
      "execution_count": 10,
      "metadata": {
        "colab": {
          "base_uri": "https://localhost:8080/"
        },
        "id": "0XuACo7PsG0L",
        "outputId": "0ba4a5c1-72a6-4172-8665-f9a4d0357785"
      },
      "outputs": [
        {
          "output_type": "stream",
          "name": "stdout",
          "text": [
            "Running on device: cuda:0\n"
          ]
        }
      ],
      "source": [
        "import torch\n",
        "from torch import nn\n",
        "from torch.nn import functional as F\n",
        "import numpy as np\n",
        "import pandas as pd\n",
        "import matplotlib.pyplot as plt\n",
        "import spacy\n",
        "import torchtext\n",
        "from torchtext import data\n",
        "from torchtext.data import Field, BucketIterator, TabularDataset\n",
        "from sklearn.model_selection import train_test_split\n",
        "import math\n",
        "import copy\n",
        "from datetime import datetime\n",
        "from nltk.translate.bleu_score import sentence_bleu\n",
        "\n",
        "if torch.cuda.is_available():\n",
        "    device = 'cuda:0'\n",
        "    torch.set_default_tensor_type('torch.cuda.FloatTensor')\n",
        "else:\n",
        "    device = 'cpu'\n",
        "print(f'Running on device: {device}')"
      ]
    },
    {
      "cell_type": "markdown",
      "metadata": {
        "id": "_pBLlSqXBIhF"
      },
      "source": [
        "## **Preprocessing**\n",
        "\n",
        "We employ the spaCy library for English and Japanese text tokenization in our preprocessing stage. spaCy is a powerful open-source Python library designed for NLP tasks, seamlessly integrating with popular AI frameworks. It accurately segments Japanese text into meaningful word units, despite the absence of spaces. Installing spaCy and other necessary dependencies is crucial for preprocessing."
      ]
    },
    {
      "cell_type": "code",
      "source": [
        "!pip install torchtext==0.6.0\n",
        "!pip download spacy\n",
        "!pip install sudachipy sudachidict_core\n",
        "!pip install -U spacy\n",
        "!pip install spacy[ja]\n",
        "!pip install spacy download en_core_web_sm"
      ],
      "metadata": {
        "colab": {
          "base_uri": "https://localhost:8080/"
        },
        "id": "ZkNLVnB7P9Uk",
        "outputId": "3da23820-7c0e-4631-e812-588c14f9ff70"
      },
      "execution_count": 9,
      "outputs": [
        {
          "output_type": "stream",
          "name": "stdout",
          "text": [
            "Looking in indexes: https://pypi.org/simple, https://us-python.pkg.dev/colab-wheels/public/simple/\n",
            "Requirement already satisfied: torchtext==0.6.0 in /usr/local/lib/python3.10/dist-packages (0.6.0)\n",
            "Requirement already satisfied: tqdm in /usr/local/lib/python3.10/dist-packages (from torchtext==0.6.0) (4.65.0)\n",
            "Requirement already satisfied: requests in /usr/local/lib/python3.10/dist-packages (from torchtext==0.6.0) (2.27.1)\n",
            "Requirement already satisfied: torch in /usr/local/lib/python3.10/dist-packages (from torchtext==0.6.0) (2.0.1+cu118)\n",
            "Requirement already satisfied: numpy in /usr/local/lib/python3.10/dist-packages (from torchtext==0.6.0) (1.22.4)\n",
            "Requirement already satisfied: six in /usr/local/lib/python3.10/dist-packages (from torchtext==0.6.0) (1.16.0)\n",
            "Requirement already satisfied: sentencepiece in /usr/local/lib/python3.10/dist-packages (from torchtext==0.6.0) (0.1.99)\n",
            "Requirement already satisfied: urllib3<1.27,>=1.21.1 in /usr/local/lib/python3.10/dist-packages (from requests->torchtext==0.6.0) (1.26.15)\n",
            "Requirement already satisfied: certifi>=2017.4.17 in /usr/local/lib/python3.10/dist-packages (from requests->torchtext==0.6.0) (2022.12.7)\n",
            "Requirement already satisfied: charset-normalizer~=2.0.0 in /usr/local/lib/python3.10/dist-packages (from requests->torchtext==0.6.0) (2.0.12)\n",
            "Requirement already satisfied: idna<4,>=2.5 in /usr/local/lib/python3.10/dist-packages (from requests->torchtext==0.6.0) (3.4)\n",
            "Requirement already satisfied: filelock in /usr/local/lib/python3.10/dist-packages (from torch->torchtext==0.6.0) (3.12.0)\n",
            "Requirement already satisfied: typing-extensions in /usr/local/lib/python3.10/dist-packages (from torch->torchtext==0.6.0) (4.5.0)\n",
            "Requirement already satisfied: sympy in /usr/local/lib/python3.10/dist-packages (from torch->torchtext==0.6.0) (1.11.1)\n",
            "Requirement already satisfied: networkx in /usr/local/lib/python3.10/dist-packages (from torch->torchtext==0.6.0) (3.1)\n",
            "Requirement already satisfied: jinja2 in /usr/local/lib/python3.10/dist-packages (from torch->torchtext==0.6.0) (3.1.2)\n",
            "Requirement already satisfied: triton==2.0.0 in /usr/local/lib/python3.10/dist-packages (from torch->torchtext==0.6.0) (2.0.0)\n",
            "Requirement already satisfied: cmake in /usr/local/lib/python3.10/dist-packages (from triton==2.0.0->torch->torchtext==0.6.0) (3.25.2)\n",
            "Requirement already satisfied: lit in /usr/local/lib/python3.10/dist-packages (from triton==2.0.0->torch->torchtext==0.6.0) (16.0.5)\n",
            "Requirement already satisfied: MarkupSafe>=2.0 in /usr/local/lib/python3.10/dist-packages (from jinja2->torch->torchtext==0.6.0) (2.1.2)\n",
            "Requirement already satisfied: mpmath>=0.19 in /usr/local/lib/python3.10/dist-packages (from sympy->torch->torchtext==0.6.0) (1.3.0)\n",
            "Looking in indexes: https://pypi.org/simple, https://us-python.pkg.dev/colab-wheels/public/simple/\n",
            "Collecting spacy\n",
            "  File was already downloaded /content/spacy-3.5.3-cp310-cp310-manylinux_2_17_x86_64.manylinux2014_x86_64.whl\n",
            "Collecting spacy-legacy<3.1.0,>=3.0.11 (from spacy)\n",
            "  File was already downloaded /content/spacy_legacy-3.0.12-py2.py3-none-any.whl\n",
            "Collecting spacy-loggers<2.0.0,>=1.0.0 (from spacy)\n",
            "  File was already downloaded /content/spacy_loggers-1.0.4-py3-none-any.whl\n",
            "Collecting murmurhash<1.1.0,>=0.28.0 (from spacy)\n",
            "  File was already downloaded /content/murmurhash-1.0.9-cp310-cp310-manylinux_2_5_x86_64.manylinux1_x86_64.manylinux_2_17_x86_64.manylinux2014_x86_64.whl\n",
            "Collecting cymem<2.1.0,>=2.0.2 (from spacy)\n",
            "  File was already downloaded /content/cymem-2.0.7-cp310-cp310-manylinux_2_17_x86_64.manylinux2014_x86_64.whl\n",
            "Collecting preshed<3.1.0,>=3.0.2 (from spacy)\n",
            "  File was already downloaded /content/preshed-3.0.8-cp310-cp310-manylinux_2_5_x86_64.manylinux1_x86_64.manylinux_2_17_x86_64.manylinux2014_x86_64.whl\n",
            "Collecting thinc<8.2.0,>=8.1.8 (from spacy)\n",
            "  File was already downloaded /content/thinc-8.1.10-cp310-cp310-manylinux_2_17_x86_64.manylinux2014_x86_64.whl\n",
            "Collecting wasabi<1.2.0,>=0.9.1 (from spacy)\n",
            "  File was already downloaded /content/wasabi-1.1.1-py3-none-any.whl\n",
            "Collecting srsly<3.0.0,>=2.4.3 (from spacy)\n",
            "  File was already downloaded /content/srsly-2.4.6-cp310-cp310-manylinux_2_17_x86_64.manylinux2014_x86_64.whl\n",
            "Collecting catalogue<2.1.0,>=2.0.6 (from spacy)\n",
            "  File was already downloaded /content/catalogue-2.0.8-py3-none-any.whl\n",
            "Collecting typer<0.8.0,>=0.3.0 (from spacy)\n",
            "  File was already downloaded /content/typer-0.7.0-py3-none-any.whl\n",
            "Collecting pathy>=0.10.0 (from spacy)\n",
            "  File was already downloaded /content/pathy-0.10.1-py3-none-any.whl\n",
            "Collecting smart-open<7.0.0,>=5.2.1 (from spacy)\n",
            "  File was already downloaded /content/smart_open-6.3.0-py3-none-any.whl\n",
            "Collecting tqdm<5.0.0,>=4.38.0 (from spacy)\n",
            "  File was already downloaded /content/tqdm-4.65.0-py3-none-any.whl\n",
            "Collecting numpy>=1.15.0 (from spacy)\n",
            "  File was already downloaded /content/numpy-1.24.3-cp310-cp310-manylinux_2_17_x86_64.manylinux2014_x86_64.whl\n",
            "Collecting requests<3.0.0,>=2.13.0 (from spacy)\n",
            "  File was already downloaded /content/requests-2.30.0-py3-none-any.whl\n",
            "Collecting pydantic!=1.8,!=1.8.1,<1.11.0,>=1.7.4 (from spacy)\n",
            "  File was already downloaded /content/pydantic-1.10.7-cp310-cp310-manylinux_2_17_x86_64.manylinux2014_x86_64.whl\n",
            "Collecting jinja2 (from spacy)\n",
            "  File was already downloaded /content/Jinja2-3.1.2-py3-none-any.whl\n",
            "Collecting setuptools (from spacy)\n",
            "  File was already downloaded /content/setuptools-67.8.0-py3-none-any.whl\n",
            "Collecting packaging>=20.0 (from spacy)\n",
            "  File was already downloaded /content/packaging-23.1-py3-none-any.whl\n",
            "Collecting langcodes<4.0.0,>=3.2.0 (from spacy)\n",
            "  File was already downloaded /content/langcodes-3.3.0-py3-none-any.whl\n",
            "Collecting typing-extensions>=4.2.0 (from pydantic!=1.8,!=1.8.1,<1.11.0,>=1.7.4->spacy)\n",
            "  File was already downloaded /content/typing_extensions-4.5.0-py3-none-any.whl\n",
            "Collecting charset-normalizer<4,>=2 (from requests<3.0.0,>=2.13.0->spacy)\n",
            "  File was already downloaded /content/charset_normalizer-3.1.0-cp310-cp310-manylinux_2_17_x86_64.manylinux2014_x86_64.whl\n",
            "Collecting idna<4,>=2.5 (from requests<3.0.0,>=2.13.0->spacy)\n",
            "  File was already downloaded /content/idna-3.4-py3-none-any.whl\n",
            "Collecting urllib3<3,>=1.21.1 (from requests<3.0.0,>=2.13.0->spacy)\n",
            "  File was already downloaded /content/urllib3-2.0.2-py3-none-any.whl\n",
            "Collecting certifi>=2017.4.17 (from requests<3.0.0,>=2.13.0->spacy)\n",
            "  File was already downloaded /content/certifi-2023.5.7-py3-none-any.whl\n",
            "Collecting blis<0.8.0,>=0.7.8 (from thinc<8.2.0,>=8.1.8->spacy)\n",
            "  File was already downloaded /content/blis-0.7.9-cp310-cp310-manylinux_2_17_x86_64.manylinux2014_x86_64.whl\n",
            "Collecting confection<1.0.0,>=0.0.1 (from thinc<8.2.0,>=8.1.8->spacy)\n",
            "  File was already downloaded /content/confection-0.0.4-py3-none-any.whl\n",
            "Collecting click<9.0.0,>=7.1.1 (from typer<0.8.0,>=0.3.0->spacy)\n",
            "  File was already downloaded /content/click-8.1.3-py3-none-any.whl\n",
            "Collecting MarkupSafe>=2.0 (from jinja2->spacy)\n",
            "  File was already downloaded /content/MarkupSafe-2.1.2-cp310-cp310-manylinux_2_17_x86_64.manylinux2014_x86_64.whl\n",
            "Successfully downloaded spacy catalogue cymem langcodes murmurhash numpy packaging pathy preshed pydantic requests smart-open spacy-legacy spacy-loggers srsly thinc tqdm typer wasabi jinja2 setuptools blis certifi charset-normalizer click confection idna MarkupSafe typing-extensions urllib3\n",
            "Looking in indexes: https://pypi.org/simple, https://us-python.pkg.dev/colab-wheels/public/simple/\n",
            "Requirement already satisfied: sudachipy in /usr/local/lib/python3.10/dist-packages (0.6.7)\n",
            "Requirement already satisfied: sudachidict_core in /usr/local/lib/python3.10/dist-packages (20230110)\n",
            "Looking in indexes: https://pypi.org/simple, https://us-python.pkg.dev/colab-wheels/public/simple/\n",
            "Requirement already satisfied: spacy in /usr/local/lib/python3.10/dist-packages (3.5.3)\n",
            "Requirement already satisfied: spacy-legacy<3.1.0,>=3.0.11 in /usr/local/lib/python3.10/dist-packages (from spacy) (3.0.12)\n",
            "Requirement already satisfied: spacy-loggers<2.0.0,>=1.0.0 in /usr/local/lib/python3.10/dist-packages (from spacy) (1.0.4)\n",
            "Requirement already satisfied: murmurhash<1.1.0,>=0.28.0 in /usr/local/lib/python3.10/dist-packages (from spacy) (1.0.9)\n",
            "Requirement already satisfied: cymem<2.1.0,>=2.0.2 in /usr/local/lib/python3.10/dist-packages (from spacy) (2.0.7)\n",
            "Requirement already satisfied: preshed<3.1.0,>=3.0.2 in /usr/local/lib/python3.10/dist-packages (from spacy) (3.0.8)\n",
            "Requirement already satisfied: thinc<8.2.0,>=8.1.8 in /usr/local/lib/python3.10/dist-packages (from spacy) (8.1.9)\n",
            "Requirement already satisfied: wasabi<1.2.0,>=0.9.1 in /usr/local/lib/python3.10/dist-packages (from spacy) (1.1.1)\n",
            "Requirement already satisfied: srsly<3.0.0,>=2.4.3 in /usr/local/lib/python3.10/dist-packages (from spacy) (2.4.6)\n",
            "Requirement already satisfied: catalogue<2.1.0,>=2.0.6 in /usr/local/lib/python3.10/dist-packages (from spacy) (2.0.8)\n",
            "Requirement already satisfied: typer<0.8.0,>=0.3.0 in /usr/local/lib/python3.10/dist-packages (from spacy) (0.7.0)\n",
            "Requirement already satisfied: pathy>=0.10.0 in /usr/local/lib/python3.10/dist-packages (from spacy) (0.10.1)\n",
            "Requirement already satisfied: smart-open<7.0.0,>=5.2.1 in /usr/local/lib/python3.10/dist-packages (from spacy) (6.3.0)\n",
            "Requirement already satisfied: tqdm<5.0.0,>=4.38.0 in /usr/local/lib/python3.10/dist-packages (from spacy) (4.65.0)\n",
            "Requirement already satisfied: numpy>=1.15.0 in /usr/local/lib/python3.10/dist-packages (from spacy) (1.22.4)\n",
            "Requirement already satisfied: requests<3.0.0,>=2.13.0 in /usr/local/lib/python3.10/dist-packages (from spacy) (2.27.1)\n",
            "Requirement already satisfied: pydantic!=1.8,!=1.8.1,<1.11.0,>=1.7.4 in /usr/local/lib/python3.10/dist-packages (from spacy) (1.10.7)\n",
            "Requirement already satisfied: jinja2 in /usr/local/lib/python3.10/dist-packages (from spacy) (3.1.2)\n",
            "Requirement already satisfied: setuptools in /usr/local/lib/python3.10/dist-packages (from spacy) (67.7.2)\n",
            "Requirement already satisfied: packaging>=20.0 in /usr/local/lib/python3.10/dist-packages (from spacy) (23.1)\n",
            "Requirement already satisfied: langcodes<4.0.0,>=3.2.0 in /usr/local/lib/python3.10/dist-packages (from spacy) (3.3.0)\n",
            "Requirement already satisfied: typing-extensions>=4.2.0 in /usr/local/lib/python3.10/dist-packages (from pydantic!=1.8,!=1.8.1,<1.11.0,>=1.7.4->spacy) (4.5.0)\n",
            "Requirement already satisfied: urllib3<1.27,>=1.21.1 in /usr/local/lib/python3.10/dist-packages (from requests<3.0.0,>=2.13.0->spacy) (1.26.15)\n",
            "Requirement already satisfied: certifi>=2017.4.17 in /usr/local/lib/python3.10/dist-packages (from requests<3.0.0,>=2.13.0->spacy) (2022.12.7)\n",
            "Requirement already satisfied: charset-normalizer~=2.0.0 in /usr/local/lib/python3.10/dist-packages (from requests<3.0.0,>=2.13.0->spacy) (2.0.12)\n",
            "Requirement already satisfied: idna<4,>=2.5 in /usr/local/lib/python3.10/dist-packages (from requests<3.0.0,>=2.13.0->spacy) (3.4)\n",
            "Requirement already satisfied: blis<0.8.0,>=0.7.8 in /usr/local/lib/python3.10/dist-packages (from thinc<8.2.0,>=8.1.8->spacy) (0.7.9)\n",
            "Requirement already satisfied: confection<1.0.0,>=0.0.1 in /usr/local/lib/python3.10/dist-packages (from thinc<8.2.0,>=8.1.8->spacy) (0.0.4)\n",
            "Requirement already satisfied: click<9.0.0,>=7.1.1 in /usr/local/lib/python3.10/dist-packages (from typer<0.8.0,>=0.3.0->spacy) (8.1.3)\n",
            "Requirement already satisfied: MarkupSafe>=2.0 in /usr/local/lib/python3.10/dist-packages (from jinja2->spacy) (2.1.2)\n",
            "Looking in indexes: https://pypi.org/simple, https://us-python.pkg.dev/colab-wheels/public/simple/\n",
            "Requirement already satisfied: spacy[ja] in /usr/local/lib/python3.10/dist-packages (3.5.3)\n",
            "Requirement already satisfied: spacy-legacy<3.1.0,>=3.0.11 in /usr/local/lib/python3.10/dist-packages (from spacy[ja]) (3.0.12)\n",
            "Requirement already satisfied: spacy-loggers<2.0.0,>=1.0.0 in /usr/local/lib/python3.10/dist-packages (from spacy[ja]) (1.0.4)\n",
            "Requirement already satisfied: murmurhash<1.1.0,>=0.28.0 in /usr/local/lib/python3.10/dist-packages (from spacy[ja]) (1.0.9)\n",
            "Requirement already satisfied: cymem<2.1.0,>=2.0.2 in /usr/local/lib/python3.10/dist-packages (from spacy[ja]) (2.0.7)\n",
            "Requirement already satisfied: preshed<3.1.0,>=3.0.2 in /usr/local/lib/python3.10/dist-packages (from spacy[ja]) (3.0.8)\n",
            "Requirement already satisfied: thinc<8.2.0,>=8.1.8 in /usr/local/lib/python3.10/dist-packages (from spacy[ja]) (8.1.9)\n",
            "Requirement already satisfied: wasabi<1.2.0,>=0.9.1 in /usr/local/lib/python3.10/dist-packages (from spacy[ja]) (1.1.1)\n",
            "Requirement already satisfied: srsly<3.0.0,>=2.4.3 in /usr/local/lib/python3.10/dist-packages (from spacy[ja]) (2.4.6)\n",
            "Requirement already satisfied: catalogue<2.1.0,>=2.0.6 in /usr/local/lib/python3.10/dist-packages (from spacy[ja]) (2.0.8)\n",
            "Requirement already satisfied: typer<0.8.0,>=0.3.0 in /usr/local/lib/python3.10/dist-packages (from spacy[ja]) (0.7.0)\n",
            "Requirement already satisfied: pathy>=0.10.0 in /usr/local/lib/python3.10/dist-packages (from spacy[ja]) (0.10.1)\n",
            "Requirement already satisfied: smart-open<7.0.0,>=5.2.1 in /usr/local/lib/python3.10/dist-packages (from spacy[ja]) (6.3.0)\n",
            "Requirement already satisfied: tqdm<5.0.0,>=4.38.0 in /usr/local/lib/python3.10/dist-packages (from spacy[ja]) (4.65.0)\n",
            "Requirement already satisfied: numpy>=1.15.0 in /usr/local/lib/python3.10/dist-packages (from spacy[ja]) (1.22.4)\n",
            "Requirement already satisfied: requests<3.0.0,>=2.13.0 in /usr/local/lib/python3.10/dist-packages (from spacy[ja]) (2.27.1)\n",
            "Requirement already satisfied: pydantic!=1.8,!=1.8.1,<1.11.0,>=1.7.4 in /usr/local/lib/python3.10/dist-packages (from spacy[ja]) (1.10.7)\n",
            "Requirement already satisfied: jinja2 in /usr/local/lib/python3.10/dist-packages (from spacy[ja]) (3.1.2)\n",
            "Requirement already satisfied: setuptools in /usr/local/lib/python3.10/dist-packages (from spacy[ja]) (67.7.2)\n",
            "Requirement already satisfied: packaging>=20.0 in /usr/local/lib/python3.10/dist-packages (from spacy[ja]) (23.1)\n",
            "Requirement already satisfied: langcodes<4.0.0,>=3.2.0 in /usr/local/lib/python3.10/dist-packages (from spacy[ja]) (3.3.0)\n",
            "Requirement already satisfied: sudachipy!=0.6.1,>=0.5.2 in /usr/local/lib/python3.10/dist-packages (from spacy[ja]) (0.6.7)\n",
            "Requirement already satisfied: sudachidict-core>=20211220 in /usr/local/lib/python3.10/dist-packages (from spacy[ja]) (20230110)\n",
            "Requirement already satisfied: typing-extensions>=4.2.0 in /usr/local/lib/python3.10/dist-packages (from pydantic!=1.8,!=1.8.1,<1.11.0,>=1.7.4->spacy[ja]) (4.5.0)\n",
            "Requirement already satisfied: urllib3<1.27,>=1.21.1 in /usr/local/lib/python3.10/dist-packages (from requests<3.0.0,>=2.13.0->spacy[ja]) (1.26.15)\n",
            "Requirement already satisfied: certifi>=2017.4.17 in /usr/local/lib/python3.10/dist-packages (from requests<3.0.0,>=2.13.0->spacy[ja]) (2022.12.7)\n",
            "Requirement already satisfied: charset-normalizer~=2.0.0 in /usr/local/lib/python3.10/dist-packages (from requests<3.0.0,>=2.13.0->spacy[ja]) (2.0.12)\n",
            "Requirement already satisfied: idna<4,>=2.5 in /usr/local/lib/python3.10/dist-packages (from requests<3.0.0,>=2.13.0->spacy[ja]) (3.4)\n",
            "Requirement already satisfied: blis<0.8.0,>=0.7.8 in /usr/local/lib/python3.10/dist-packages (from thinc<8.2.0,>=8.1.8->spacy[ja]) (0.7.9)\n",
            "Requirement already satisfied: confection<1.0.0,>=0.0.1 in /usr/local/lib/python3.10/dist-packages (from thinc<8.2.0,>=8.1.8->spacy[ja]) (0.0.4)\n",
            "Requirement already satisfied: click<9.0.0,>=7.1.1 in /usr/local/lib/python3.10/dist-packages (from typer<0.8.0,>=0.3.0->spacy[ja]) (8.1.3)\n",
            "Requirement already satisfied: MarkupSafe>=2.0 in /usr/local/lib/python3.10/dist-packages (from jinja2->spacy[ja]) (2.1.2)\n",
            "Looking in indexes: https://pypi.org/simple, https://us-python.pkg.dev/colab-wheels/public/simple/\n",
            "Requirement already satisfied: spacy in /usr/local/lib/python3.10/dist-packages (3.5.3)\n",
            "Requirement already satisfied: download in /usr/local/lib/python3.10/dist-packages (0.3.5)\n",
            "Requirement already satisfied: en_core_web_sm in /usr/local/lib/python3.10/dist-packages (3.5.0)\n",
            "Requirement already satisfied: spacy-legacy<3.1.0,>=3.0.11 in /usr/local/lib/python3.10/dist-packages (from spacy) (3.0.12)\n",
            "Requirement already satisfied: spacy-loggers<2.0.0,>=1.0.0 in /usr/local/lib/python3.10/dist-packages (from spacy) (1.0.4)\n",
            "Requirement already satisfied: murmurhash<1.1.0,>=0.28.0 in /usr/local/lib/python3.10/dist-packages (from spacy) (1.0.9)\n",
            "Requirement already satisfied: cymem<2.1.0,>=2.0.2 in /usr/local/lib/python3.10/dist-packages (from spacy) (2.0.7)\n",
            "Requirement already satisfied: preshed<3.1.0,>=3.0.2 in /usr/local/lib/python3.10/dist-packages (from spacy) (3.0.8)\n",
            "Requirement already satisfied: thinc<8.2.0,>=8.1.8 in /usr/local/lib/python3.10/dist-packages (from spacy) (8.1.9)\n",
            "Requirement already satisfied: wasabi<1.2.0,>=0.9.1 in /usr/local/lib/python3.10/dist-packages (from spacy) (1.1.1)\n",
            "Requirement already satisfied: srsly<3.0.0,>=2.4.3 in /usr/local/lib/python3.10/dist-packages (from spacy) (2.4.6)\n",
            "Requirement already satisfied: catalogue<2.1.0,>=2.0.6 in /usr/local/lib/python3.10/dist-packages (from spacy) (2.0.8)\n",
            "Requirement already satisfied: typer<0.8.0,>=0.3.0 in /usr/local/lib/python3.10/dist-packages (from spacy) (0.7.0)\n",
            "Requirement already satisfied: pathy>=0.10.0 in /usr/local/lib/python3.10/dist-packages (from spacy) (0.10.1)\n",
            "Requirement already satisfied: smart-open<7.0.0,>=5.2.1 in /usr/local/lib/python3.10/dist-packages (from spacy) (6.3.0)\n",
            "Requirement already satisfied: tqdm<5.0.0,>=4.38.0 in /usr/local/lib/python3.10/dist-packages (from spacy) (4.65.0)\n",
            "Requirement already satisfied: numpy>=1.15.0 in /usr/local/lib/python3.10/dist-packages (from spacy) (1.22.4)\n",
            "Requirement already satisfied: requests<3.0.0,>=2.13.0 in /usr/local/lib/python3.10/dist-packages (from spacy) (2.27.1)\n",
            "Requirement already satisfied: pydantic!=1.8,!=1.8.1,<1.11.0,>=1.7.4 in /usr/local/lib/python3.10/dist-packages (from spacy) (1.10.7)\n",
            "Requirement already satisfied: jinja2 in /usr/local/lib/python3.10/dist-packages (from spacy) (3.1.2)\n",
            "Requirement already satisfied: setuptools in /usr/local/lib/python3.10/dist-packages (from spacy) (67.7.2)\n",
            "Requirement already satisfied: packaging>=20.0 in /usr/local/lib/python3.10/dist-packages (from spacy) (23.1)\n",
            "Requirement already satisfied: langcodes<4.0.0,>=3.2.0 in /usr/local/lib/python3.10/dist-packages (from spacy) (3.3.0)\n",
            "Requirement already satisfied: six in /usr/local/lib/python3.10/dist-packages (from download) (1.16.0)\n",
            "Requirement already satisfied: typing-extensions>=4.2.0 in /usr/local/lib/python3.10/dist-packages (from pydantic!=1.8,!=1.8.1,<1.11.0,>=1.7.4->spacy) (4.5.0)\n",
            "Requirement already satisfied: urllib3<1.27,>=1.21.1 in /usr/local/lib/python3.10/dist-packages (from requests<3.0.0,>=2.13.0->spacy) (1.26.15)\n",
            "Requirement already satisfied: certifi>=2017.4.17 in /usr/local/lib/python3.10/dist-packages (from requests<3.0.0,>=2.13.0->spacy) (2022.12.7)\n",
            "Requirement already satisfied: charset-normalizer~=2.0.0 in /usr/local/lib/python3.10/dist-packages (from requests<3.0.0,>=2.13.0->spacy) (2.0.12)\n",
            "Requirement already satisfied: idna<4,>=2.5 in /usr/local/lib/python3.10/dist-packages (from requests<3.0.0,>=2.13.0->spacy) (3.4)\n",
            "Requirement already satisfied: blis<0.8.0,>=0.7.8 in /usr/local/lib/python3.10/dist-packages (from thinc<8.2.0,>=8.1.8->spacy) (0.7.9)\n",
            "Requirement already satisfied: confection<1.0.0,>=0.0.1 in /usr/local/lib/python3.10/dist-packages (from thinc<8.2.0,>=8.1.8->spacy) (0.0.4)\n",
            "Requirement already satisfied: click<9.0.0,>=7.1.1 in /usr/local/lib/python3.10/dist-packages (from typer<0.8.0,>=0.3.0->spacy) (8.1.3)\n",
            "Requirement already satisfied: MarkupSafe>=2.0 in /usr/local/lib/python3.10/dist-packages (from jinja2->spacy) (2.1.2)\n"
          ]
        }
      ]
    },
    {
      "cell_type": "code",
      "execution_count": 11,
      "metadata": {
        "id": "T52-l6-0sJ09"
      },
      "outputs": [],
      "source": [
        "anki_dataset_df = pd.read_csv(ANKI_LEXICON_PATH,sep='\\t',names=['Japanese','English']) "
      ]
    },
    {
      "cell_type": "code",
      "execution_count": 12,
      "metadata": {
        "colab": {
          "base_uri": "https://localhost:8080/"
        },
        "id": "KzccheseNClb",
        "outputId": "06451fcb-9eb8-4e83-8817-f3eaad339dc1"
      },
      "outputs": [
        {
          "output_type": "stream",
          "name": "stderr",
          "text": [
            "<ipython-input-12-f1baa3a726a5>:1: FutureWarning: The error_bad_lines argument has been deprecated and will be removed in a future version. Use on_bad_lines in the future.\n",
            "\n",
            "\n",
            "  kyoto_lexicon_df = pd.read_csv(KYOTO_LEXICON_PATH, error_bad_lines=False)\n",
            "Skipping line 2738: expected 3 fields, saw 4\n",
            "Skipping line 2787: expected 3 fields, saw 4\n",
            "Skipping line 2843: expected 3 fields, saw 4\n",
            "Skipping line 2850: expected 3 fields, saw 4\n",
            "Skipping line 2853: expected 3 fields, saw 4\n",
            "Skipping line 2894: expected 3 fields, saw 4\n",
            "Skipping line 3135: expected 3 fields, saw 4\n",
            "Skipping line 3179: expected 3 fields, saw 4\n",
            "Skipping line 3247: expected 3 fields, saw 4\n",
            "Skipping line 3312: expected 3 fields, saw 4\n",
            "Skipping line 3504: expected 3 fields, saw 4\n",
            "\n"
          ]
        }
      ],
      "source": [
        "kyoto_lexicon_df = pd.read_csv(KYOTO_LEXICON_PATH, error_bad_lines=False)"
      ]
    },
    {
      "cell_type": "code",
      "execution_count": 13,
      "metadata": {
        "id": "oLJLgRrZtHn9"
      },
      "outputs": [],
      "source": [
        "JA = spacy.blank('ja')\n",
        "EN = spacy.load(\"en_core_web_sm\")"
      ]
    },
    {
      "cell_type": "code",
      "execution_count": 14,
      "metadata": {
        "id": "JCZ8y0kUtJoV"
      },
      "outputs": [],
      "source": [
        "def tokenize_ja(sentence):\n",
        "    return [tok.text for tok in JA.tokenizer(sentence)]\n",
        "\n",
        "def tokenize_en(sentence):\n",
        "    return [tok.text for tok in EN.tokenizer(sentence)]"
      ]
    },
    {
      "cell_type": "code",
      "execution_count": 15,
      "metadata": {
        "id": "bsEDR5QyyNaR"
      },
      "outputs": [],
      "source": [
        "JA_TEXT = Field(tokenize=tokenize_ja) \n",
        "EN_TEXT = Field(tokenize=tokenize_en, init_token='<sos>', eos_token='<eos>') "
      ]
    },
    {
      "cell_type": "code",
      "execution_count": 16,
      "metadata": {
        "colab": {
          "base_uri": "https://localhost:8080/"
        },
        "id": "tJvM3Qrb0XeG",
        "outputId": "d7db03a5-88a2-4a99-f64f-d4cda72c4c5f"
      },
      "outputs": [
        {
          "output_type": "execute_result",
          "data": {
            "text/plain": [
              "<torchtext.data.field.Field at 0x7fbdd544f640>"
            ]
          },
          "metadata": {},
          "execution_count": 16
        }
      ],
      "source": [
        "JA_TEXT"
      ]
    },
    {
      "cell_type": "markdown",
      "metadata": {
        "id": "1iIYOqiaCHx3"
      },
      "source": [
        "Merging the dataset here. (Both Kyoto_lexicon and anki_dataset)"
      ]
    },
    {
      "cell_type": "code",
      "execution_count": 17,
      "metadata": {
        "id": "HSebMqhvN4e7"
      },
      "outputs": [],
      "source": [
        "frames = [kyoto_lexicon_df, anki_dataset_df]"
      ]
    },
    {
      "cell_type": "code",
      "execution_count": 18,
      "metadata": {
        "id": "sT7hDzxdOF_j"
      },
      "outputs": [],
      "source": [
        "merged_dataset_df = pd.concat(frames)"
      ]
    },
    {
      "cell_type": "code",
      "execution_count": 19,
      "metadata": {
        "colab": {
          "base_uri": "https://localhost:8080/",
          "height": 206
        },
        "id": "lDn3_2_4OOGm",
        "outputId": "5d80d744-c0a9-47fd-f0d3-1c8beb1d9f2d"
      },
      "outputs": [
        {
          "output_type": "execute_result",
          "data": {
            "text/plain": [
              "                 日本語                                                 英語  \\\n",
              "0         102世吉田日厚貫首               the 102nd head priest, Nikko TOSHIDA   \n",
              "1      1月15日：成人祭、新年祭  15th January: Seijin-sai (Adult Festival), the...   \n",
              "2  1月3日：家運隆盛、商売繁盛祈願祭  3rd January: Prayer Festival for the prosperit...   \n",
              "3         1月7日：七種粥神事  7th January: Nanakusa-gayu shinji (a divine se...   \n",
              "4       21世紀COEプログラム      The 21st Century Center Of Excellence Program   \n",
              "\n",
              "   Unnamed: 2 Japanese English  \n",
              "0         NaN      NaN     NaN  \n",
              "1         NaN      NaN     NaN  \n",
              "2         NaN      NaN     NaN  \n",
              "3         NaN      NaN     NaN  \n",
              "4         NaN      NaN     NaN  "
            ],
            "text/html": [
              "\n",
              "  <div id=\"df-5894e9c9-45e8-471e-b195-99e7c837af39\">\n",
              "    <div class=\"colab-df-container\">\n",
              "      <div>\n",
              "<style scoped>\n",
              "    .dataframe tbody tr th:only-of-type {\n",
              "        vertical-align: middle;\n",
              "    }\n",
              "\n",
              "    .dataframe tbody tr th {\n",
              "        vertical-align: top;\n",
              "    }\n",
              "\n",
              "    .dataframe thead th {\n",
              "        text-align: right;\n",
              "    }\n",
              "</style>\n",
              "<table border=\"1\" class=\"dataframe\">\n",
              "  <thead>\n",
              "    <tr style=\"text-align: right;\">\n",
              "      <th></th>\n",
              "      <th>日本語</th>\n",
              "      <th>英語</th>\n",
              "      <th>Unnamed: 2</th>\n",
              "      <th>Japanese</th>\n",
              "      <th>English</th>\n",
              "    </tr>\n",
              "  </thead>\n",
              "  <tbody>\n",
              "    <tr>\n",
              "      <th>0</th>\n",
              "      <td>102世吉田日厚貫首</td>\n",
              "      <td>the 102nd head priest, Nikko TOSHIDA</td>\n",
              "      <td>NaN</td>\n",
              "      <td>NaN</td>\n",
              "      <td>NaN</td>\n",
              "    </tr>\n",
              "    <tr>\n",
              "      <th>1</th>\n",
              "      <td>1月15日：成人祭、新年祭</td>\n",
              "      <td>15th January: Seijin-sai (Adult Festival), the...</td>\n",
              "      <td>NaN</td>\n",
              "      <td>NaN</td>\n",
              "      <td>NaN</td>\n",
              "    </tr>\n",
              "    <tr>\n",
              "      <th>2</th>\n",
              "      <td>1月3日：家運隆盛、商売繁盛祈願祭</td>\n",
              "      <td>3rd January: Prayer Festival for the prosperit...</td>\n",
              "      <td>NaN</td>\n",
              "      <td>NaN</td>\n",
              "      <td>NaN</td>\n",
              "    </tr>\n",
              "    <tr>\n",
              "      <th>3</th>\n",
              "      <td>1月7日：七種粥神事</td>\n",
              "      <td>7th January: Nanakusa-gayu shinji (a divine se...</td>\n",
              "      <td>NaN</td>\n",
              "      <td>NaN</td>\n",
              "      <td>NaN</td>\n",
              "    </tr>\n",
              "    <tr>\n",
              "      <th>4</th>\n",
              "      <td>21世紀COEプログラム</td>\n",
              "      <td>The 21st Century Center Of Excellence Program</td>\n",
              "      <td>NaN</td>\n",
              "      <td>NaN</td>\n",
              "      <td>NaN</td>\n",
              "    </tr>\n",
              "  </tbody>\n",
              "</table>\n",
              "</div>\n",
              "      <button class=\"colab-df-convert\" onclick=\"convertToInteractive('df-5894e9c9-45e8-471e-b195-99e7c837af39')\"\n",
              "              title=\"Convert this dataframe to an interactive table.\"\n",
              "              style=\"display:none;\">\n",
              "        \n",
              "  <svg xmlns=\"http://www.w3.org/2000/svg\" height=\"24px\"viewBox=\"0 0 24 24\"\n",
              "       width=\"24px\">\n",
              "    <path d=\"M0 0h24v24H0V0z\" fill=\"none\"/>\n",
              "    <path d=\"M18.56 5.44l.94 2.06.94-2.06 2.06-.94-2.06-.94-.94-2.06-.94 2.06-2.06.94zm-11 1L8.5 8.5l.94-2.06 2.06-.94-2.06-.94L8.5 2.5l-.94 2.06-2.06.94zm10 10l.94 2.06.94-2.06 2.06-.94-2.06-.94-.94-2.06-.94 2.06-2.06.94z\"/><path d=\"M17.41 7.96l-1.37-1.37c-.4-.4-.92-.59-1.43-.59-.52 0-1.04.2-1.43.59L10.3 9.45l-7.72 7.72c-.78.78-.78 2.05 0 2.83L4 21.41c.39.39.9.59 1.41.59.51 0 1.02-.2 1.41-.59l7.78-7.78 2.81-2.81c.8-.78.8-2.07 0-2.86zM5.41 20L4 18.59l7.72-7.72 1.47 1.35L5.41 20z\"/>\n",
              "  </svg>\n",
              "      </button>\n",
              "      \n",
              "  <style>\n",
              "    .colab-df-container {\n",
              "      display:flex;\n",
              "      flex-wrap:wrap;\n",
              "      gap: 12px;\n",
              "    }\n",
              "\n",
              "    .colab-df-convert {\n",
              "      background-color: #E8F0FE;\n",
              "      border: none;\n",
              "      border-radius: 50%;\n",
              "      cursor: pointer;\n",
              "      display: none;\n",
              "      fill: #1967D2;\n",
              "      height: 32px;\n",
              "      padding: 0 0 0 0;\n",
              "      width: 32px;\n",
              "    }\n",
              "\n",
              "    .colab-df-convert:hover {\n",
              "      background-color: #E2EBFA;\n",
              "      box-shadow: 0px 1px 2px rgba(60, 64, 67, 0.3), 0px 1px 3px 1px rgba(60, 64, 67, 0.15);\n",
              "      fill: #174EA6;\n",
              "    }\n",
              "\n",
              "    [theme=dark] .colab-df-convert {\n",
              "      background-color: #3B4455;\n",
              "      fill: #D2E3FC;\n",
              "    }\n",
              "\n",
              "    [theme=dark] .colab-df-convert:hover {\n",
              "      background-color: #434B5C;\n",
              "      box-shadow: 0px 1px 3px 1px rgba(0, 0, 0, 0.15);\n",
              "      filter: drop-shadow(0px 1px 2px rgba(0, 0, 0, 0.3));\n",
              "      fill: #FFFFFF;\n",
              "    }\n",
              "  </style>\n",
              "\n",
              "      <script>\n",
              "        const buttonEl =\n",
              "          document.querySelector('#df-5894e9c9-45e8-471e-b195-99e7c837af39 button.colab-df-convert');\n",
              "        buttonEl.style.display =\n",
              "          google.colab.kernel.accessAllowed ? 'block' : 'none';\n",
              "\n",
              "        async function convertToInteractive(key) {\n",
              "          const element = document.querySelector('#df-5894e9c9-45e8-471e-b195-99e7c837af39');\n",
              "          const dataTable =\n",
              "            await google.colab.kernel.invokeFunction('convertToInteractive',\n",
              "                                                     [key], {});\n",
              "          if (!dataTable) return;\n",
              "\n",
              "          const docLinkHtml = 'Like what you see? Visit the ' +\n",
              "            '<a target=\"_blank\" href=https://colab.research.google.com/notebooks/data_table.ipynb>data table notebook</a>'\n",
              "            + ' to learn more about interactive tables.';\n",
              "          element.innerHTML = '';\n",
              "          dataTable['output_type'] = 'display_data';\n",
              "          await google.colab.output.renderOutput(dataTable, element);\n",
              "          const docLink = document.createElement('div');\n",
              "          docLink.innerHTML = docLinkHtml;\n",
              "          element.appendChild(docLink);\n",
              "        }\n",
              "      </script>\n",
              "    </div>\n",
              "  </div>\n",
              "  "
            ]
          },
          "metadata": {},
          "execution_count": 19
        }
      ],
      "source": [
        "merged_dataset_df.head()"
      ]
    },
    {
      "cell_type": "markdown",
      "metadata": {
        "id": "pSWSgrfXCmd_"
      },
      "source": [
        "## **Dataset Split**\n",
        "\n",
        "In the subsequent steps, we will split our dataset into three separate CSV files according to the following distribution: 60% for training, 20% for validation, and 20% for testing."
      ]
    },
    {
      "cell_type": "code",
      "execution_count": 20,
      "metadata": {
        "id": "mFq7IkumyPPW"
      },
      "outputs": [],
      "source": [
        "# train, val, test = train_val_test_split(kyoto_lexicon_df, test_size=0.3)\n",
        "train, val, test = np.split(merged_dataset_df.sample(frac=1), [int(.6*len(merged_dataset_df)), int(.8*len(merged_dataset_df))])\n",
        "train.to_csv('train.csv', index=False)\n",
        "val.to_csv('val.csv', index=False) \n",
        "test.to_csv('test.csv', index=False) "
      ]
    },
    {
      "cell_type": "code",
      "execution_count": 21,
      "metadata": {
        "id": "dhIBcnjsyR9o"
      },
      "outputs": [],
      "source": [
        "data_fields = [('Japanese', JA_TEXT), ('English', EN_TEXT)]\n",
        "\n",
        "train, val, test = TabularDataset.splits(path='./',\n",
        "                        train='train.csv', \n",
        "                        validation='val.csv',\n",
        "                        test = 'test.csv',\n",
        "                        format='csv',\n",
        "              \n",
        "                        fields = data_fields )"
      ]
    },
    {
      "cell_type": "code",
      "execution_count": 22,
      "metadata": {
        "colab": {
          "base_uri": "https://localhost:8080/"
        },
        "id": "5yNu43Yu1Q7d",
        "outputId": "3639ec93-75fe-490b-c8c1-242d2c53c8ec"
      },
      "outputs": [
        {
          "output_type": "execute_result",
          "data": {
            "text/plain": [
              "<torchtext.data.dataset.TabularDataset at 0x7fbdd55fc340>"
            ]
          },
          "metadata": {},
          "execution_count": 22
        }
      ],
      "source": [
        "train"
      ]
    },
    {
      "cell_type": "code",
      "execution_count": 23,
      "metadata": {
        "id": "kLhoHK6ZyUBK"
      },
      "outputs": [],
      "source": [
        "JA_TEXT.build_vocab(train, val) \n",
        "EN_TEXT.build_vocab(train, val) "
      ]
    },
    {
      "cell_type": "code",
      "execution_count": 24,
      "metadata": {
        "id": "8V_0aPGhydkA"
      },
      "outputs": [],
      "source": [
        "train_iter = BucketIterator(\n",
        "    train,\n",
        "    batch_size=BATCH_SIZE,\n",
        "    sort_key=lambda x: len(x.English),\n",
        "    shuffle=True\n",
        ")"
      ]
    },
    {
      "cell_type": "code",
      "execution_count": 25,
      "metadata": {
        "id": "0TlVkISJyeR2"
      },
      "outputs": [],
      "source": [
        "batch = next(iter(train_iter)) "
      ]
    },
    {
      "cell_type": "code",
      "execution_count": 26,
      "metadata": {
        "id": "VmbGCTYKygZR"
      },
      "outputs": [],
      "source": [
        "global max_src_in_batch, max_tgt_in_batch\n",
        "\n",
        "def batch_size_fn(new, count, sofar):\n",
        "    \"Keep augmenting batch and calculate total number of tokens + padding.\"\n",
        "    global max_src_in_batch, max_tgt_in_batch\n",
        "    if count == 1:\n",
        "        max_src_in_batch = 0\n",
        "        max_tgt_in_batch = 0\n",
        "    max_src_in_batch = max(max_src_in_batch,  len(new.Japanese))\n",
        "    max_tgt_in_batch = max(max_tgt_in_batch,  len(new.English) + 2)\n",
        "    src_elements = count * max_src_in_batch\n",
        "    tgt_elements = count * max_tgt_in_batch\n",
        "    return max(src_elements, tgt_elements)\n",
        "\n",
        "class MyIterator(data.Iterator):\n",
        "    def create_batches(self):\n",
        "        if self.train:\n",
        "            def pool(d, random_shuffler):\n",
        "                for p in data.batch(d, self.batch_size * 100):\n",
        "                    p_batch = data.batch(\n",
        "                        sorted(p, key=self.sort_key),\n",
        "                        self.batch_size, self.batch_size_fn)\n",
        "                    for b in random_shuffler(list(p_batch)):\n",
        "                        yield b\n",
        "            self.batches = pool(self.data(), self.random_shuffler)\n",
        "            \n",
        "        else:\n",
        "            self.batches = []\n",
        "            for b in data.batch(self.data(), self.batch_size,\n",
        "                                          self.batch_size_fn):\n",
        "                self.batches.append(sorted(b, key=self.sort_key))"
      ]
    },
    {
      "cell_type": "code",
      "execution_count": 27,
      "metadata": {
        "colab": {
          "base_uri": "https://localhost:8080/"
        },
        "id": "xGCB6B1lysZD",
        "outputId": "f6c5e802-8ed5-454d-ce8e-03d9b93d101b"
      },
      "outputs": [
        {
          "output_type": "stream",
          "name": "stderr",
          "text": [
            "WARNING:torchtext.data.iterator:The `device` argument should be set by using `torch.device` or passing a string as an argument. This behavior will be deprecated soon and currently defaults to cpu.\n"
          ]
        }
      ],
      "source": [
        "train_iter = MyIterator(\n",
        "    train,\n",
        "    batch_size=1300,\n",
        "    device=0,\n",
        "    repeat=False,\n",
        "    sort_key=lambda x: (len(x.Japanese), len(x.English)),\n",
        "    batch_size_fn=batch_size_fn,\n",
        "    train=True,\n",
        "    shuffle=True\n",
        ")"
      ]
    },
    {
      "cell_type": "markdown",
      "metadata": {
        "id": "Q_9zMXJ3EKH1"
      },
      "source": [
        "# **Transformer Model**\n",
        "\n",
        "## **Introduction**\n",
        "\n",
        "![transformer_model_architecture.png](data:image/png;base64,iVBORw0KGgoAAAANSUhEUgAAAZkAAAJTCAIAAABVXPzWAAAAAXNSR0IArs4c6QAAAARnQU1BAACxjwv8YQUAAAAJcEhZcwAAFiUAABYlAUlSJPAAAMwfSURBVHhe7J0FXBTb+8av3V67OwGlu0VAQBEEBROwFRUDFbsVURQbFcVAkRBBpFOwuwUlJJQSFPGqt/T3/z/L2Tt374C4Cwvsynk+j37OvOdM7JmZ77xnmJ395f+oqKioxF+UZVRUVD+DKMuoqKh+BlGWUdVR/e9//3vw4IGtra2ampqWltbGjRtfv36NILe6Qn379o3PlhVIKAuhYkRZRlUXBY5Mnjx52LBh9+/f//z5c0lJSXx8fJ8+fQ4ePMgPXzZs2JCdnc2dqKw2b96clZXFnaCqsijLqOqitm7d6uDgwMLWX3/9JSkpeeXKFe7090VZJoKiLKOqc/r06VOHDh1+//137jSP0tLSgDMwDonb48ePeWEH0r18+fLr1693794dNWrU0aNHkdOhwdu3b38r1bFjx9atW+fp6Ynlk1lQW3YhL168IAsZPXr0kSNHyEK41VRVEGUZVZ0ThpP29vbcif8KWBk0aBDw9Oeff/bs2RNE41b83//l5+fr6+sjkpmZOWHChAsXLiCrQvvDhw8vW7bM0dERc6EWqFJRUcnLy8MsIBdrIQUFBRjYkoVMmjQpICCALIRbTVUFUZZR1TkhgfL29uZOlNH48eOfP3/+PZaRMu8YEyyTlpbmbYn0zcDAAIT6HstImY4xhSvKMqo6J3d3dz8/P+5EGdna2mJgKBDLDhw4QMpEJLn7448/KMtqUpRlVHVOPj4+u3fv5k78V8AQRojp6ekCsSwiIoKUGZmZmaEBZVlNirKMqs4JBJGQkCj3LhX5swAYVJZlOTk532OZv78/KTMaPnx4UVFRWZbl5uZSllWTKMuo6pxAMW1t7YSEBO70P0Lcyclp7dq1KP/9998dO3bkxdDly5e/xzJLS0teMoKDXbt2xRKgTp06ff36lVvxf/+XmJhIWVZNoiyjqovCgBGoiomJIbQCicAdDDzl5eVBItJGTk4uLS2NlMEjU1NThmVbtmy5f/8+KYNlSL4ePHhAJrEoRHbs2EEmlZSUUlJSSBkLMTc3Z1jm7Ox8584dUqaquijLqOqo3r17Z2Fh0a5dOxsbmzFjxrRq1QoZ2R9//MGt/r//e/HiRf/+/Q8dOhQYGGhra5uRkcGw7PHjx4MHD7a3tweeQK5Tp06tXr0aOR3gaGVltWzZMiahA8j69euHhQQFBWEhmZmZDMuePn3KLIREqKoiyjKquivkUL///nthYWFRUVG5QEEQVcXFxWQIyTuQRJlMgmWRkZEofPnyBYvC/6X1/4qfhVBVXZRlVFRVEsMyqtoVZRkVVZVEWSYioiyjoqqS/v77b3rDSxREWUZFRfUziLKMiorqZxBlGRUV1c8gyjIqMRZ5pqGsuNV8qzrmYmrLFlj6XpxKIFGWUYmx8vPzf/mvmjRpMmbMmA8fPnBb8KfPnz9369ZNUKD89ttvPXv25E6U0caNG2/fvo2Cra0t+f6AqqpqYWEhClhRdHQ0WR3+l5CQwKJQpqqKKMuoxFhgmZKSEneiVH///be3t3f//v1R4Ib4UHWwLC4ujnxnk2GZu7s7eeUsVtS0aVOGZW5ubswXp6gqLcoyKjEWWKasrMyd+Eegg4aGRnJyMne6jL5+/Qp28D5IwbAM+qtUKHDr/hGZi7eKYVkFc0EMyxihGcOysvr27RtWBBazGpD499ZCRVlGJcYql2WQvb39lStXvnz5Mn36dJz/u3fvHjFiBGAEHOzYscPMzGzv3r2GhoZHjhwhX5wkLMvJyZk4cSLGhosWLUKhpKSELA3s2Llzp5GREZYzbdq0CRMmoD3ihGWYC5FNmzY5ODhMnjz548ePZC5PT8/nz5+jwLBsxowZxcXF9+/fnzJlSv369dEYmRoWjtnJN59Qvnz5so6OzrZt2ywtLVesWEE2D/GIiAhTU9MDBw5gLisrK97vjVIRUZZRibHKZRnO8/bt2xcVFYE1cnJyBgYGly5dAphAhNmzZwcEBKCAZvjfxcVl69atKIBN7dq1s7a2RtZDFvLq1auhQ4eS3C0xMXHp0qVkLigsLIy8FwjLx4pAImYuMEtGRobMVfH9Mt4xJnO/7NmzZyAsGR0jHhgYuGDBApSBy+HDhzNc8/LycnJyQpmKV5RlVGIssAz5VDyPTp482bdvXzc3N5zzAESDBg2Yl/MUFBQoKCgQghCBDr1790YmBZb98ssvubm53IpSLV68+Pr16yggV+Ktev/+vaKiIll+vXr1sFhuRamQEhKECcoyFLS0tHjfaIaIvLw8KIz8DqkcaQ8BncyHomJEWUYlxgLLunTpcpFHoaGhwAE57QGIVq1aMQiIiYnZs2cPKTNat27djRs3wLIWLVowLYkQZ15DhioMA9PT0wGRSZMmkdfSYvktW7ZkzYWxLUiKgqAsQzqGz4J0EitiNGvWLKwRw+QBAwZgvHzv3j1CPcxIxRJlGZUY63v3y4hw2vP+nTEkJCQoKIg78Y/c3d2BP7AMHGExAtnQzJkzUcjMzMRYVVdXF2jDQm7evEl+QxPL7969O2nM6MmTJ/Pnz0dBUJYh28I418PD48R/RfI+kO7OnTvr16+XlpaWlZUlC6TiFWUZlRhLIJZdu3Zt06ZN3Il/NG3atGfPnoFlDRs2JDekGIWFhXl6eoI1/fr1u3v3LkEPhEEfw7LGjRuz5kJu6OXlhYKgLPv69Su2lvUoCWoZMRFkZ+Qd3CRCRURZRiXGEohlGLJ17tyZFwGIdOvWDSM4sKxevXq8b6wGMgwMDF6+fIkCgMWgBIqLi2NYhrmYt2NDCCJ9I+SqmGVNmjQhy8T/hGUoW1hYJCUloUCEKm1t7bdv37q6usbGxnKjpXFsQLm/u16XRVlGJcYSiGXQ+fPn7ezsyAOrSK90dHQSExNRBsuGDBkyYsQIAi+kSMjIZsyYgTI0cuTIwMBAFJCC3b9/f+7cuUiLcnNzsXyM+AwNDYEq1GIujBBnz56NMpZZMctA1UePHoFHKDMsw3Cyd+/e2dnZCIK5+/fvX7RoEeKvX78eMGBATk4OWUtUVJS5uTlZCxUjyjIqMRZYEBMTw50oI+AgJCSEO1EqnP+glb29vY2NDf4niIHQEoD466+/Tpw4gSrwDgNMZvCItWzdunXy5MlTp069fPkyFhIfH48RK+aKjo7GXMeOHZsyZQrmCg8PZxCDoWtRUREKIBpBFXIr5rmwvLw8f3//mzdvon1ERASTLQJ2a9euJetCA2ZpANnKlStJ3NfXlzz2QcUryjIqKqqfQZRlVFRUP4Moy6ioKilmAEglCqIso6KqjL58+VL2l8+palGUZVRUlZGPj4+qqipNzURHlGVUVALr27dvgwYNql+/fk5ODjdEVduiLKOiEljJycn16tX75ZdfVqxYwQ1R1bYoy6ioBNa0adNK38jNeSU388IfqtoVZRkVlWD68OFDo0aNCMuQnQUHB3MrqGpVlGVUVILp+PHjjRs3rl+/PsnLlJSU6F8AREGUZVRUAujbt28zZszIyspq27YtWBYbG7tv376MjAxuNVXtibKMikoAIQWDQDTCMvILKTQvEwVRllFRCSwWy6hEQZRlVFQCi7JMBEVZRkUlsCjLRFCUZVRUAouyTARFWUZFJbAoy0RQlGVUVAKLskwERVlGRSWwKMtEUJRlVFQCi7JMBEVZRiVOAkQePHiwd+/ebbWqNWvWNGnSBCybMGECN1RLcnZ2jomJ+fLlC7eD6rAoy6jERu/fv+/fvz8IQsVS06ZNL1++zO2muirKMirxEDKyvn374ryt36BB34H9VLXVqeGhckNbtGyBbmnQoAHzE3l1U5RlVOKhO3fu1KtXr36D+lsPON9+c+9e3kNq+G7ug8Brwd16dAPO5syZw+2sOinKMirx0K5du3C6DpaSuPPmPut8pp67bB46p2fPnnX5W+6UZVTioZ07d+J0VVZXYZ3GlfCt13fX796obaAjoyRjOWWcZ/ApVoOyDr0bvmCVw/GLJ1lxEfFql7XonK5du1KWUVGJuoTFMgzKrGzHT1swI+bp5ZtZd06GeA2RHbrt0HZWM5aV1JS3HNwWfCvUK8zbeuoEVm2tm7IMoiyjEg8Ji2Wxzy5Ly8ncyr7LRAKuBPUfNACMYyJl3W9gfzILWDbO1pq3ShRMWQZRllGJh4TFsoiH0ZJDpW5k3mYit9/cOxvpcyeHcxsu4eVVO/upskpyypoqjhuXIXELfxBtMcWyRauW5pMslm5YPsxYr+/Afogkplzbf/bgmQjvSTOnDJEbYmBqGHwzxPW4m4aeppyKvOOGZWSBl5Ov2My1k1WSRXDWkjlYYNSj2KkO01Ega/e8eHLtrvUVk/SHpiyDKMuoxEPCYhkQM8LMWNtAx+XozrjnCbwQQealNVx7zc51AM3VtBtT5thOmW17/dWts9E+Xbp1PR1+Juj6pc37t+mPMkTk1uu7C1YuVNVU80+4gGW6HNnZu1+fRWuWYCEAorqO+vGgE1jm6HFmzu4ut1/fu55xG4PTtTs52JqxcNb0hTNRiHgYM3iIROjdCGYbKmfKMoiyjEo8JMx7/9l3d3m6jbY269m750DJQbOXzsXAE/Gj548bjxnJ0A3NZBXlwu9Fodyrb++yY0ywzHHDUlJGmtajZ89rr26RSactK5dvXQHG2S+bT2aE93kdHGtrhQIimnpauz336Bjo7vM6QGqrYsoyiLKMSjwkRJYxRm518WaI3bxpEkMkElOv2a+Yv2bnet4GE6ZPPHL+GArfY9meU/tJGXmckqoyKcMrndcsXLcYhWuvbh7yPbJwzaL5Kxz0RxpaTBlLGoTdj2rfof3U+dOrOLokpiyDKMuoxEPCYpnbqb0HvA/xRkATPWP9A97u81c5rN6xlrfK2m48kjUUvscypFqkDJYpq/27bYRlV1KvY9C6wW1T8K1QNDh47jDDsv1nDyLp0xquw6RyVTFlGURZRiUeEhbLth/eYWxuwpsN3c15oDtimMeF48cCT+iPNCD37OEbGbeHykmH32ePMcfacMaJ8A9Zdtjfg4EXvGbnOjIZejdCSmZo5KOYWUvm2NpPrXpqRlkGUZZRiYeExbKr6TdkFGXnLLWPeBCNydhnl+2Xz5NXUQCqbr++hwRt0boloFjCi6sWk8dOnT+DzMWwzP9yoLSCzOHzR29m3fkhywKvXuw/eEDwzVDMi7xvuLG+rtGw+ORENR11d7+jaIaFaAzT3H1iDzNj5UxZBlGWUYmHhHi/LDH1+tKNy3VH6EnJSmkO13bcuAyDQVJ1Lf3mvBUL5FTk1XTV1+3eyHzxc+HaxaSMrG3jns228+yupF0/ct4jIDGINACVABRShk9cOn30wjEkXDuP7VYfpoEF2i+fn5hy3d5pPrKzzQe2MblY1KOY+asW3nrN/ftA5UxZBlGWUYmHDhw4gNO1T/++JD+i5vW0BdPROb1796Yso6ISdT158qReqeavcEAahWEgNXw945bHBc82bduAZY6OjtzOqpOiLKMSDyHj0NXVxRkLtW3XrkvXLtRwpy6dwXf0SZMmTd69e8ftrDopyjIqsdFff/01cuRIgjMqXnXq1In+8gBlGZU4CdlZbm7ulStXEmtb4eHhrq6u3IlaVVJS0tevX7kdVIdFWUZFVRm9fPly/fr13AkqERBlGRVVZTR37txWrVph2MudpqptUZZRUQmskpIS8ptyERER3BBVbYuyjIpKYHl6epKb7v369avLj3SJlCjLqKgEE+DVrRvnd4+gevXqZWRkcCuoalWUZVRUgunx48fkkS6iBQsWcCuoalWUZVRUAghJmaWl5bRp01q04PzC7qRJkzp37vzHH39wq6lqT5RlVFQC6OvXr2/evMH/bdu2BcuSk5MBsjr+wL2IiLKMikpgffv2jWEZN0RV26Iso6ISWJRlIijKMioqgUVZJoKiLKOiEliUZSIoyjIqKoFFWSaCoiyjohJYlGUiKMoyKiqBRVkmgqIso6ISWJRlIijKMioxU3Fx8YMHD+7VqhISEtq3b9+sWbN9+/ZxQ7Wn169f0++3Q5RlVGKjv//+28bGpn79+kiIqBjVq1evf//+BQUF3G6qq6IsoxIPIfUwNzcnZ2+LFi3ate9ADbdp05Z80b1NmzYlJSXczqqToiyjEg+lpaWRk3bm7AU377589Ow1NfzgcebBw14tWrREz6xdu5bbWXVSlGVU4iF3d3ecrr379H3+Mj81o5ia1zNmLUDn1PEXQ1KWUYmHdu7cidNVVU2TdRoLxQ+fZm/eujvl1XtWfNeeI0+Tc1lBEfSmrbvQOV27dqUso6ISdVUry67dSho8WKosy0xHW9x/lMEKiqApyyDKMirxUK2w7NmL/LJBETRlGURZRiUeqhWWLVi0HMPPazef79zt7rbPQ0NTV1FJdbHj6uTUt6hFey/vi/qGJjIyChMm2l25/pQET3pdQFBaRt7QaFRQyGUEn78smDDJLjg0YeSoMRjMkoUL0ZRlEGUZlXioVlimpT3s3sNXoRFX+/Ttt36jy7MXeY+eZhsame5wPYja84FRyirqCdcev0wvAtRQfpqcGxpxTVN72I3byVjapbArQ6VlEXz+Ml9ZVX2MpXX8lYe8yxeWKcsgyjIq8VDtskxBUeVFWhEJHj/pbz3BBgUz83HBoYkkiHkXL1194NCpU2cCT50NIkFYVk7x+u1ksKxr12437rxg4sI1ZRlEWUYlHqpdllmMncAEffzDrcZPeZFW2Kdvf30DEyPj0cQysgpz5zmiQXziQ9fdh51Wbpxjv7hDx05YOFimoqrxMv0dsxDhmrIMoiyjEg/VLsssx01kggzLBktIRcbcSrz2hPG9Rxluez1MzSzR5uadl0kpBUjoCMvUNbRTXlGWVaMoy6jEQ6LGMhSMR5r5BUQy8Y2bXY8eP6esqnHt5nMSAcJ69upNWVYzoiyjEg9VN8t69ux9zi+M19dvJVXMsrM+IZKSQ2Pi72Hw6OMXJi+v9PBJlrmF9crVm5NS3t66lzJ9xrwBAwf7BkRQltWAKMuoxEPVyrIHT7KmzZjHMpi1edvuJ0k5gNqefceYxvGJD/ce8EQBeZzXuWDDESOlpeXHWU+OS3yA4M27LydPmS4jo2BkPBpZG3i3cMnK5NTCTVt2UZZVqyjLqMRDrq6uOF2HDJGpvjvo4uuly9ehc3r06EFZRkUl6rp+/Xq9evUaNWrk4elTfQmOOBoD5L79BoBl1tbW3M6qk6IsoxIPff36tVOnTjhjGzVqrKyibmBoQg0P0zNs27YdugWgf/bsGbez6qQoy6jERvn5+V27dsV5S8VSw4YNAwMDud1UV0VZRiVO+vvvv2NiYpycnJbVthYuXDhx4kTuRK3q1KlTRUVF3A6qw6Iso6KqjPLy8g4dOsSdoBIBUZZRUVVGa9eu7dGjx7dv37jTVLUtyjIqKoH1559/tmnT5pdffrl79y43RFXboiyjohJYcXFx5Ka7gYEBN0RV26Iso6ISTP/73/9kZWUJy+rXr//u3TtuBVWtirKMikowZWVl8f7e8P79+7kVVLUqyjIqKsG0cOHCgQMHNmnSBCCTlJRs27bt33//za2jqj1RllFRCSBgKzIy8q+//gLCwLLk5GSkadnZ2dxqqtoTZRkVlcD69u0bwzJuiKq2RVlGRSWwKMtEUJRlVFQCi7JMBEVZRkUlsCjLRFCUZVSirv/9738lJSWRkZGbN29WU1PrLwLq169fgwYNwLIuXbpwQ2IuCQkJGxubffv2PX369K+//uJ2vViJsoxKdAWKPXjwQE9Pr2HDhgAHVc2oVatWmzZt+vjxI3c3iIkoy6hEVMXFxcOGDatXrx7OLvzfuXNnU9PRy5evcHbevn27S+168+YtzZo1w4bZ2NixqsTUmzZvmTvXXkVFlXwuqGnTpkePHhWjL89TllGJou7du9eiRQucUaDYcH39gAuBb98W/vbbJxFxQUEh+W65j48fq0rc/fJlytat27p1714KtF9MTEw+f/7M3SuiLcoyKpHT1atXyaCya9eu/v7nS0o+ss63WvdPzDLinJzc+fMXkKS4f//+v/32G3ffiLAoy6hES0lJSY0aNcIppKioiByBdY6JiH96lsEfP/52+rRX06acIae2tvbXr1+5e0hURVlGJUL68uVLly5dcPIMHTo0MzOLdXaJjusCy4jPnDlLvnm6YsUK7k4SVVGWUYmQli9fjtOmTZu2d+/eY51UIuW6wzJkZ6tWr8EnrV+/voh/7ZSyjEpUVFxcTG6Tbd/uwjqjGOPUysnNS0y8Ehx8qRbt73+e/Gli9eo1rKoadkREZEpKGrqF1VFC9Nu3hdLS0viwpqamovxbwpRlVKKigwcP4oTp1at3fn4B63Qixkk1b/4C5qEBKqJ69erp6g578OAhq7uEaB8fX7IiUX7xJGUZlUgIF/yePXvihFm5chXrRCIuKfk4bpxV6clLVY66dev2MiWV1WnCcmFhUY8enL3j6+vL3WGiJ8oyKpEQBpjkCYDExKusE4k4PDyi9Jz9xcxcL+GK5517Z6nhW3fObHNeSG7Pz5kzl9VpQvTUadOwCnNzc+4OEz1RllGJhJKSknCqtGjRAikA6ywiXrR4MRp07doxJy/y46dEasYlvyVMsRmNzhkwYOD798WsfhOWjxw5ilV06dJFZL8JQFlGJRIKCwvDqTJo0ODvPRk7e84cNNDUVGKdyeX66XO/u/e9WEFep6VfRBtWEM4riLp5+yQrSJz26lJU9MG8gmhWnDj/bXRk9IEPHxN4g69zwm7frWgzhGXXXUvROd279ygsfMfqN2E5OPgSVtG8eXORfSE4ZRmVSCgoKAiniqys7Pf+JCcQy/QNNKSlBxe+i2PFGR/1WLvcaRorCAM9hiM0WEH4nO92NXW5ufbjFBWH3r1/llUL339wDpu3/8BK3mBYxH5zc33eSDV5txvnWZbvsSw7+3XVvztx/foNrKJBgwaUZVRUFUmILLt994yFpSEcErqPVcVYUJapqMg8fe6Pgvc5Z4eFk3iriMGyXr26DxzY98kzTjPi2mXZhw8liYlXpk6dOm3a9Ko/tPHgwUNyQ1Nk3whEWUYlEhIWy0p+S1i02MbvvGtgkNv4CSa88Ws3TixxnLLAYUJUzOEjR9cwLEt6EbB23axZsyx8fHdcv3myXJZZWBpERB7CQnbtXuq8fSGrFgbLlJRlTp7eom+gzuSDvCx7/yH+lNeWGTPMnVZMvXOPm9md9XZ+/NTvQuBubExuflRs/OFHT3wdl9o4LJyIrS16H3fEY93UaaZue5cXFJY/tiXmZRk6MCcn1/3wYRUVlYYNGzZt2hQpVX5+AcuC3lmjLKOi4kvCYln+22hFJenCd7EFhTEyMhLpGZdI/PyFXcoqMpdC9sbFH5kxc6yZuT5h2f2H56RlBp8+syXxqse69XOtx48sl2W37nipaygcOrxm5ChdQIdVCxOWAXbjJ4x03r4IBQQZlhWXXJ44adRce+v4y0fOX3DFQBWoRXyJo93UaWMXLppy5ZpnavolDU0lWzvzmFh3/4Cdgwb1tZ1qcfL05sQrHrPnWM2dN56sqFwTlnXr1v3q1evzFyzo1KkTJomAs3Zl1L59+/79B1hbj/fzO19c/IHV1eWasoyKii8Ji2UnT212WjGdlB2X2rruckThXXG8otLQp8/PkzjIAmARlo2zMiJYIV66zK5cliVePS4jKykh0T//bQyripiwDIVXmSGSUgOu3+D8AYFhGVZhZq5HAAdjuCqvMPRdcRxYNn2GJQmmZ4T07NU9+3U4mbSfN36501RSzswOU1LiLPx7Jizr2rWbm9seRUUlAh0+JSU1JCIiktXbZU1ZRkXFl4TCMkBq2DAVHz+XO3dPw97nnKWlB3/4mPAiJXCYnjqDEniX21LCMiUlWd6HPGLjPcqy7GLwnhFGmi9SglaumklAuWffagwAedswLIORA6qpyb4timFYNm/++LPe20ktjC3RHab85Nl5sCwgcDcJgmUGBlpMG6cVM7x9XEgZmaCkZD+mqqx5x5jIsy5fTrCxtW3d+lcEmzRpcuTIUV9fP16fOXt285ataurq5E3fjRs3dnXdVfHfByjLqKj4klBYdvvuGUnJ/hMnGTHu179HwhXPR0989A3+Q6hDh1cRlg0ZMgijUSZ+/eYpFsvALGRkGVmhpIw8zv3IOmUVWeR6vM14WQZ6zppttWr1TIZlNjamQcF7SC0Mlo2xMLh73wcsCws/SIJgmYnJMKYNWOZ33pWUBWIZ02Np6a9AKKkhQ5YuXVZur374UBIWFj54sATmBdQOHjzEasBryjIqKr4kFJYtXDT58JG1vJEjHuumz7B4nRMhLz+k8F0sE1/saEtYhgUyY0/4tNdWFsty8yOHSkt9+HiZTL7OCZcaMnCuPfvuFS/LYKxxqPSgzVsWEJZtd1m0cZM9kxiCiRKSA7Jeh1cry4jfvy+OjYsHtlhxxhmZWaqqapi9WbPmd77/ehLKMioqvlR1luGEl5aRyH7Dvd9EnJMX1bdvLwBo2jSLbc7cvz9eu3FSWlqSsGzP3uWTppiSJCvtVTCGoiYjdUgzYoxbtbQVz/lyh3tAj7zCEGmZwanpF5k2MItlcHTs4VatWhKWpaRdlJQc8PCxD8rI2jZsmmc31RxoqwGW8eOUlLQuXbtiCSYmI7830qQso6LiS1VnWWjY/mXL7VhB8GL5cjuM797kRkyeYqqtrYS0a8LEkQEX3Ha7LUOD9x/iV66aoa4ub2Coajp6eFjEISR3vEuAnz731xuuCqIN01OxsDRIfhkYdHHP/AUTMC/T5tnz8xMnjWImYax6/cY5i0qXhnLCleOaWoo6uor4f/oMSzKw3enqmHjlOGmf9Tps3ryJpAy77VkeEXWIlPPfRo+x0GOqyrqKLIPd3Q9jCfXr13/0+AmripiyjIqKL/HJMgWFIcxITVBjRgwYc/IiWEvAJGDxOicMKRhvnNcYY77JDce8zLeUMJegW4LlZ78JzSuIEnTGHxqD2SqyLCc3r0OHDliIq+suVhUxZRkVFV/6Icuct7ugQZOmTS4nHGOdyXXcOXmR8gpS6Bx1dfWqfFcJA0wsZNKkSaw4MWUZFRVf+iHLUlJSW7RsiTa/tmllPd7E1s6MGraxNZOUHIBugQ4fPsLqNIE8c+YsLMTIyJgVJ6Yso6LiSz9kGXz2rHfz5s05Zy1VGdnZTa3iF8jt7edhOSNGGLHixJRlVFR8iR+Woer27TuzZ89RUlKWqlVJSEjWr18fG9yzZ09uqJYkLS1tbj4GlK/6mzAoy6iohCB+WCY6/il/h4myjIpKCKIsq3VTllFRCUGUZbVuyjIqKiGIf5YVFb1LSnrx7NnzWvS9ew+6deveqlVrd/cjrKqa95s3Oawuqpwpy6iohCB+WPb+ffGmzVu6du3aqHHjRrWtBqVq2LAhd7r21KJFC2vr8SmpaazuEtSUZVRUQtAPWYY4eQCKqlxJSQ3JzMxidZpApiyjohKCfsiyuLjL5FxS1NTZ5R10JPQyNXwoKHqS/SLygMjiJUtYnSaQKcuoqISgH7Js6bJlaNCuY6fwF7lX8n+nZpyY92WE5Xh0jqSkFJ8vvC7XlGVUVELQD1nG/W65uhbrTKaGHZ3d0DlV+W45TFlGRSUE8ckyRQ1t1mksXMe/LjG3nTncfByv3S/GsJoJ5L3+4c4nfFlB4XqZy17KMsoyKpGQiLAsLqu4V78BJ2Jv+dx6zjgy7S2rmUB2cj04Z+VGVlC4piyDKMuoREKiw7I+AwZFpuSz4sSJuZ8v53zC//8J5n1BMKFMMAFBNM77QllWM6IsoxIJiT7Lth7zVlTXklJQVtTQcvO9RIIHL8ao6ughKKustnb/MRKMSiscN32ujJKagob22GmzHTa6UJbVgCjLqERCIjTG7NvfI/yK15WHxP53khE/HnlNWXtYaNJr5Fkhz7OxGd7XHgU+SB0irxhw7yWCkakF+qMt9vqHofG46XPmr9vKScpyPx8IjBogIUVZVgOiLKMSCYkOy7p076k/xsrIahLxTKd1iI+dOvtgYBTTbPsJ35nL1y3c5LLK7TAT9Lp818RqUkRK3hA5xbisD0x83LQ5lGU1IMoyKpGQiI8xpZXVBkhJS8gqEvcdLGViPcXEenKv/oOY4MChsnJqmmcS7+sam/LOu3T7XsqyGhBlGZVISMRZpqwz3P/2c1ZwjN2sPb4hrKD/7SRtQ2PeyKJNOyjLakCUZVQiIRFn2TTHVY7Obswk2OGw0WXdgePjZ81nguCapd2suOwPEtKywU8ySDAh95O6niFlWQ2IsoxKJCTiLAt8mDZQauja/cd8bj7betxbRkk15Pnr6PSioYoqgNq5G0/d/EJkFFXOXXuMxmv3eajq6h+PuuaVeH/C7AXGFlaUZTUgyjIqkZCIsCwh57fNx7zjs0tYcTjwQerM5WuHm1tNdVwV9CidBMNe5C7c6KI/xmqi/WLvq49IMDHvy/6ACIxAx9jO3BcQHnDv5YnYW6SqmkxZBlGWUYmERIRlYmrKMoiyjEokRFlWFVOWQZRlVCIhyrKqmLIMoiyjEglRllXFlGUQZRmVSIiyrCqmLIMoy6hEQpRlVTFlGURZRiUSqkmW2Sxcrqitx+slPM/B1rDnb9juGX2DFRTUlGUQZRmVSKgmWaY+fMTe82HhKfmMYzLfs9rUmE0n2ZG3a1TFlGUQZRmVSKiGWeYRnsgKEl9+81vws+zwl3mJeV9IJOpVUVx2SULOp9DkHNZbGMt1Qu5ntAx+moVFkQhmj0ovwgLDXuTGv/7IaZPz6dLz1xGpBQhSlglLlGVUIiFRYNnJ2FuKmrqqeoaqusNL397D+SaT/ZrNGw+d0DUebTjGavK8xUdCLpPGhy/FKWvrJeRwgTXFYaln1PXQpNf6oy019I1VhhnIqWqQbwIcuBAx3XGVhe1MjeEj/G49P3v1ofpwQ3V9Iy1DE9uFy0ysJ1OWCUWUZVQioRpm2fKd+w9cjCF2D72MHArkGig19EzifTRAuuS0c7+R5XgkYmCZgpomGIS48wmfiXMXkoVMnrdkiJziqbjbKMdmvh+qoByT8W7c9Lnbjp8jDYAwA/NxpNBvkMQe30tYbGxWsbyqBgPETUdOd+zclbJMKKIsoxIJ1TDLDCysrecsJLZdtAIwWuV2eOqSlczQEhSTVlC+cD8FLJu/fhuJY+wpp6yGUSQGiVr6RluOnpm/3hnxwyHxZpOnos2O0+dBNLKEs4n3pRRUUADL9EzHkCUgmzMeO4FZCxaF9I2yTCiiLKMSCdX6GHP87AVbj3vzRsynTDsWcQUscznlTyJgkNHY8cjdfG48sbSdGf4id1jpaxdtHJbt8g5CIeT568Wbd1rNnGfn4DhxjgPDMowlyRJW7/WYvXIDKROPHD+FskwooiyjEgnVOstmLFuzes8R3oiuyejT8bfBMmRbTBC8W7DBeen2PduOeQNtw0xGhyfnqOroRaYWxL8uUdLU2Xc+nLwgO/jxK4ZldouWk9mBRYZrxPqjLSnLhCLKMiqRUK2z7GjoZRWd4Zf/uZcf9Ch90BDp6FdFLJZFpOTrjBhpZGF16Vk2JgG1eWs2mU+eivKlJ5lS8srkb53AnPMJn7IsO383WVpRmfk1gNCkNx06d6EsE4ooy6hEQrXOMthq+pxR46ccCIreeSZwqILy9pN+CLJYBkgZmFlqGRgn5nGYFXDvRZOmTXd6BaCMvGywtOyizTvdQy4v2bZ78tyFPfr084y+wcsyeJrjKv3RFljLbp9gLUMTQzOalwlHlGVUIqGaZNnh0MthL3JZQTgh95Ord5D1bIfpy9acSbxP7tCfu/7k4mPuC6+Jva8/Phl3h5TRxvXcxdh/HrW99DTTfu3WcTPnbfE4A7QdDUs8EXcn5Hn2mSsPSAMYa9njFzrBftHcNVsu3E85e/UhSfGqYsoyiLKMSiRUkyz7+UxZBlGWUYmEKMuqYsoyiLKMSiREWVYVU5ZBlGVUIqEfsmzu3Llo0F9CivmeIzXj6Y6r0Dk9e/UqKqIso6KqVf2QZceOHUeD+vXrO+08QL6hTQ0n5n05HX+nU9du6JyRI0d9r/f4MWUZFZUQ9EOWvX1bOGDgQLTBGdWpa/euvfpQw1169m7StBm6pVGjRlHRMaxOE8iUZVRUQtAPWQbfv/9AUlISzahYatmy5SH3w1VJymDKMioqIYgflsFv3xadPeu9ZIkjTrza9YyZs8aOs2IFa94LFjjs3u2WkprG6qhKGEujLKOiqqr4ZJnoOPhSyPTpM1hBsTZlGRWVECR2LDM3H9O2Xbus7NesuPiasoyKSggSL5Y9e57UrFlzbLCb2x5WlfiasoyKSggSL5atW78BWwtJS0uXlGCL2Q3E0ZRlVFRCkBix7N2799279+CQrFQxMbGsBmLqWbNm4+MYGRmz4sSUZVRUfEmMWObj68th2D+yth4vLvf4KvaoUab4OBMnTmLFiSnLqKj4kriwDJtnbGyiraPTtGlTbLDuML2OHTumpaWzmomd8/LyO3fugk+0Y+dOVhUxZRkVFV8SF5bl5ub5+5/Pyyto06YNNtjHx+/uvftXr15jNRM7k6+IQWAWq4qYsoyKii+J173/goJChmWsKnH0q1cZPXv2xMcxMjL+Xv9TllFR8SXKstpyVvZrTU1NfJamTZvduHmTVcuYsoyqSvrf//73+fPnV69ehYWFhYqDbty4UVBQ8O3bN+4H4FuUZTXvkpKP0TGxQ4YMwQcBp3btdmM14DVlGVUlBYq9fPnSzMysUaNGOIDESDji+/bte+TIkT///JP7YfiQmLJs8+atsbHxYueQkNAdO3bq6g4jR1fjxo03bdr8ocIH5SjLqCojUGD27Nnk0MH/OOB69+49QByEM5xsNtStW7enT59yP9KPJKYs+wk0cOCg4EshP+x2yjIqgfX777/Ly8uT42zkyJHJycmVGLLVlpBOfvz48dSpUy1btsT2N2jQ4Nq1a9y6CkVZVpPCfunZq5f5mDGnT3u9e/ee9enKNWUZlWACtkaMGIEjBml/TEwM0MCtEDd9/vxZQ0MDHwRJJXDMjX5fYsqyEydO5ebmiZ3z8vKBMIG6mrKMSjCFhITgcMFl886dO9yQ2AojZXV1dXycPn36/DC1pPf+RdyUZVQC6OvXr126cJ69XrVqFTck5nr37h15Pj48PJwb+o4oy0TclGVUAuj+/fs4Vpo1a4azmRsSfzk5OeFDqaqqVjxe5p9lT58+8/c/7+fnX4v28jrbokULbPCy5U6sqpp3XFz8++IPrF4SuinLqATQjh07cKxYW1tzp38KZWZm4kNh1PzHH39wQ+WJH5ZlZb0eO3Zcw4YN0ZKKV5KSUnHxl1ndJVxTllEJIFNTzosKTp8+zZ3+KfTnn3+Wnm6/FBYWckPl6Ycs+/ChRFdXlyyqcZPGLalK1bw555WQ0K+//vrw4SNWpwnRlGVUAkhJSQnHip+fH3f6pxCGluR8y8nJ4YbK0w9ZdiGQ0wCaNcfqeXLAq8wQajjtVfDxExtbtOD8rNzkKTbVd7eRsoxKAP2sLGvdujU+15s3b7ih8vRDli1ctAgNevfp/rYw5uOnRGpez7Ufj87p27cvnw+LVcKUZcIXzo0//vgDx/vHn07kxx9dXV250yKgL1++VPFJXWGxbPacOWigqanEOo3LdVLy+YePvVlBXr/KCEYbVhDOfxt9974XK0iMJCg+4Uj+2/JJWlAYHXf58IePCbzBN7nh9x+e5Y1Uk3e7LUfndO/eo7DwHavfhGXKMqEJp8SLFy8cHR179uzZqFEj0q1U1Sp0csOGDdu0aWNmZhYbG/v3339zd4YgqhWWGRpqyshIFL2PY8UZH/VYu9xpGisI377rZThCgxWE/c7vVFOXmz7DXFlF5sHDc6xa+P6Dc+iuQ+6reYNhEfvNzfV5I9VkyjJIDFiGk+H58+eKioq8/ALOmv90ql+/vkh9NPJoGKNOnTr5+/sLmqbVPMvu3vc2H6MPh4UfYFUxFpRlqmqyj5/6oXDGe9vCRZN4q4jBsp49uw0c2PdZ0r/pniiw7P374oSExOIqP7RBWVZV4cxZvnw56USc6soqKlu3bouKin727HlqWvpPZhlZWXzMhYsWs+K15ZcvU65evXbkyNGxY8eRn1CD1NTUiouLubuHD9Uwy0p+S3BcaufjtyPgwq6Jk0bxxm/f8XJaMdVx6ZT4hGNHjq5hWPYyNWjTlnnz5lsHBO6+cetUuSwzHzM8KuYwFrJn7/Kt2xawamGwTElZ5rjnxhEjtJh8kJdlxSWXvX22z7Ufu2btrAePfEjQx9fl6XP/S6H7Vq+ZlVcQlZDoARSuWDXNcanNrTte74rjPU9umjXb4uChVYXvYsks5bosy9CNmZnZO113SUvLLFni+L1e5d+UZVXSH3/8Qb6cCKmra0RGRVd9l4iyFUvv/a9es5YVFwUnJ7+YOXMWebYLCdqrV6+4O+lHqmGW5b+NUVSUxplfUBgjLSPxKjOExIMuuikqDg244BoRdcDOznyMhSFh2cPHvtLSg497boiNc1+5aubEiablsuzGzVOamooexzcYGWvn5EWyamHCMsBu3Dijna6OJMiwDCCzsTGbMdMyMvrgOZ/t8vJSwSF7EV/iaDdjppX9vAlxl4+mpgdraSlPnjIac3mfcx40qO+06WOPHlsXE+c+bbrF/AUTyTLLNS/L0IGJV67a2tmRbm/WrNnZs96hoWG8jomJSUlJFejX8CjLKi9kZOPGjUPfNWjQYM3adVVPkkXfoswyGCdJSEho586dsZHt27d///49d1dVqBpm2WmvLcuWTwNTUF68xGaX2zIUkOAoKUuTQSIMsugbqBGWWY83Pn9hF4ljrsWONuWy7NqNkzKykoMl+ucVRLOqiAnLUEjPCJaUGnDz1mmUGZZdDN5rOlqXbBWMLVFQlH5XHAeWTZ1mQeLpGSEYpWZmh5E2c+2tly6zI2UEycK/Z8Kyrl277dt/gBxFPxTA1Lt37yWOS58/T2J1dbmmLKu8XF1d0XEAmZvbnp87HWMs4iwjvnHjZteuXbGdkpKS/Nw7q0mWAVLD9dXOB7g+fOwN+/rvkJWTBClepATpDlNjUAK77l5KWKakJPsm9988KybuaFmWhYTtNzTUwOhv2fKpGAwicuDQOtYfFhiWwRjhamjKIzdkWDZ/wQSvs9tILYwt0dFVfvosACxjSAqW6RtoMW2cVszwPredlHPzoyQl+zFVZU1Y1q1bd2RkGC137NQJk0Q4g1q1as1ykyZNuNW//ILJbc7b378vZnU4y5RllVReXl6j0jdezp/vUEdABosFy2BkZ40bN8aR7enpyd1h31dNsuzufe/Bg/uOG6fPuE+fbleunXj4+Jy+wX8IdejwasIyKalBGI0y8es32ffLwCxZOan0jEsoA08WFgbHPDcqq8hWwLIPHxOmTbdct34Ow7IpNqYXg/eQWhgss7A0uHv/HFgWFn6QBMEyE5NhTBuwzO+8KynzyTLmftnr128OHz6ipKQMkGGMGX85ITMrm9cYYEZGRS9wcGjbth1mxK6cOHFSYRFn3u+ZsqySmjJlCnpt4MBBeXn5rD79iS0uLANuyO/1t2zZ8ocvwq5Jli1eMoX1VIT74TUzZ419nRMhrzCElz6Oy+wIyzQ0FJ8nBzBxr7POLJbl5kdKy0h9+HiZTGa/CZeSGjDXfjzTgJiXZTCn2ZCB25wXEZZtc3bYsnU+kxhidCkhOSArO6yaWEZcUvIxPv7y1KlT7eymfq9XU9PSzczNMS+EhK6CvIGyrDL6+PEjrifotWPHPVkd+nNbXFgGp6WltyolVHBwMHe3fUc1xrK8gihpGYms19z7TcQ5eVF9+/Z6kxNhZ2e+Y+cSErx5+7S0tCRh2W63ZbZ25u8/xKP8KjNkuL6GyUgd0owY41YNTQX/f7ASFe0uJy8lIyuR9iqYaQOzWAZHRh1q1aolYdnL1CBJqQHkhh2yti3bHKbYjAbaqpVljJGmVXCb/33xh0mTJ2N2oCrgQiCrljFlWWV06dIldFmXLl1rLCnD+ZOTk5eVlV27lpWTwwdf4riUFa95FxYWsbqIZfQYOQGMjIxAK+6eK081xrKQ0H3Iy1hB8ALBoItuSJSsxxvr6amajNS2sjbx9XPduYuDNqRIS5fZaWopmozUHGWqFxyyf9589l8MHz721dFVGqanYmCobmY+/FnSef8AV/t54wkBiZ8+87eyNmImYax61eqZ80uXhnJs/FENDXl9A1XdYSq2tmYgL+LbXRZfTjhG2mdmh82eY03KsOuupWERXMzlv402NdVmqsq6Ypb90G/fFiooKGIJcnLyHz6UsGqJKcsqIwcHB3TZ2LHjWL1ZHcaZc/FisIaGRuvWv7Zs2ap2TZ6Vbdy4MSte8+7YseOkyVOSkpJZ3cVrL68z2NoWLVp8/fqVu+fKk3BZJisnyfqeEP8GULLfhGVlh7KWgHhOXuSrzGCkYLxxXqMqMzsEZubFXDDTgB+DfekZF1/nhAs64w+9YaM9OqdHj56VYxmMs4Cg6vLlBFYVMWWZwMKhP3DgQHTZ1q3bWL0pdOO0OX7ck74P63vq3bv3s+//wf7p02ek2bt377g7rzwJi2W7du1Gg8aNGwUF7xE6C8TaqenBgwb1Refo6g77Xu/90EVF7/r27YeFrF+/nlVFTFkmsHDot2/fHl3m4eHB6k2hG4Mpsq6uXTu57Fh8zncHNXzGe7v9vAnklqWVlTWr0xjn5eWjAVTxy3yExbLMTO7Oatq0iYGhxvgJI6nhMWMMOnfpwNkNv/xy9qw3q9MEsuVYzuOcY8dZseLElGUCC4f+r7/+ii47deoUqzeF7lOnvbAi7KEr106wrnXUi5fYoHOaNm2KKzar34jfvy9GA+j169fcnVeehMUyOCwsvEMH7nlLxStceFauWlXppIx47ty5WNSIEUasODFlmcCqSZY5b3fBijp0aP+26MevxMrJi3j63K+C0U3hu5gXKf/+dZ8xZnn63LfcGd8Wxd5/eDY3n3MbuKw/fEx4+Ngbi+UNFpdcfvKs/KUJ1wEXOGM6HL4vX6ay+o245lkGY2PWrVtvZmY+cuSoWrSRsQl5/lFJSZlVVdMeZTpn7tyYmNgqggwmz9lQlglNNc+yjh07VPzFXWLHZXYdO7bPyAplxRlfv3nSxKScPzYVvY+TkOjHerQSfvzUT0NDwcJyOP6PiDrEqoXz38a0adPaaQXn0QHG2W/CBwzsW8FdamH5QqAbOkfUWCYi/il/h4myTMiqDpY9evTE0/NEQcFb1nnCP8vy30arqspj2LVv/wpWFWNBWTZnrtXJ05tQuHn7tLFxOTOCZd26dx40qF9c/FEmSFkmCqYsE0HVCZaVlHzU1R3WuUuXJUscHzz49/cd+GeZt4/Lcqep9x+c09RSeP/hX45kvQ7bf2DF2nUz4y57XLtxgmFZ4bu4U15bVq6aej5gV0FhTLksW+407eChVSgkXj1uOdaQt4oYLBswoPeFoL0yMhLM60xZLANAN22es3Xb/HsPuC8IvHnrdOLVY4+e+G5zXvA6J+Lm7VN5BVGH3FdjI6/dOIkG8QkeKB90XwVAk1nKNWVZBaYsE0H9DCwrLv5w+/YdD49jq1evWbFyZbkeZ2WFZUINGjTA3vI+51NYWMQnyz58TDA20X74yKfktwS94WrMHwqePT8vKye5a7ejf4DLnLnW06aPJSwrKIzW0VV2WjH9/IUdGzfNmzpt7KBBfcuyLC09WFFJOjhkn76Bxu27Z1i1MGFZTl4UFjXXfjx5somXZXv3OWFFZ85uRX6noSl/5OhaBE+c3IwtMTXV8zqzBRjV0VWbYmN+1GMtJiUk+y9xnAqGBlzYgRxzlKluBfmdaLLsyZOnixYtVtfQUFVVq0UrK6uQv/MOGjSYVVXzHjXK1PPEiaq/SIayTMgSiGXv3r0/etRDWlqaHFgCqX///mPGWKDwQ5bdf3jOyFib3G4/fGQtxoYkPmmy6dl/3mSA2pmzxhGW7dzlCF6Q9vh//8FVvXp1K8uyV5khRkZaHTq0u3u//DfTE5bl5ke/LYpVVBoaVPrlZIZlyS8DZWUl3+RGkMZYmoysZGZ2GFimrCLD5FyDBvWPjeMOUcG+4cNVyVcLQUYFBZnsN//5xg+vRZBlly6FtmvHeSyDiiXsprFjx1Xxh0soy4Qs/lmWnPxSR4f7g4no5Xbt2skrKKioqpVrKakhpCWE82H27DnXrt/YsnUbJn/IMseltnv2LSePfT94dK40V+K8JUZBUZb3tXzhkQcJy8aM0b91598861Vm6MCBfVgse54coDtMJSRs/2635dNnWIJN5y/sznodztuGYRnKV655SkkNyMgKYVh27Ph6bBhv+9lzrPz8d4Jla9bOZoLq6krM30m9zjojxWOqFBWHpr0KYiZZFjWW5eTkkncNNWvWdLyZ/qJZ46nh+VPHSksO4OyGX37Z5ryd1WkCmbJMyOKTZY+fPCWPKUNGRsYhoaFv3xay2jDG6TFz1iy0lJOT37d//5s3OSTOzxgTCY7UkIH6+sqMBwzs5XliI6okJPojY2JaXr3uSVimpSWX9OJfRqDN4MHsMaaVlVHwJc6bRZEfgUHO2xfq6ChnZP0nS+JlGbxho72dnXlWdhhhmcuORayXNWM8C5DBLju4X6KGtXXUmHfagGXr1s9lqsSLZSdOnEQDJOCR3rv+LzuGmvHnlDBddXl0zmAJCewUVr/xb8oyIYsfluXk5MnLc3Ze06ZNjx33/OGrfp88fTZ16rT4ywmslvywzOvMthkzLHkjMXFHdIYpo6CsIpeSdpGJn/V2JiybYjM6lOdXMx4+9u3XrxeLZRgzMuQC7IYPV9PWUSHDUsYslmEJ4N3BQ2sIyy4E7Z48xZRpjHnNxwxHbvizsszJaQUa9Ore+a9XkayTmdrD1QmdgwFHfn4Bq9/4N2WZkMUPy5Y7cfZcw4YNvb3PVXB7hTEQVm4zflhmYKgZ/8+bDIjBFHmFIfcenNu8eb7DwsnACoIY+qGlqSnnnS0XL+01HKFJ7li9K46bPnOshMQAFsvspv77CprkFxe0tJQGDerL/KQFMYtl8P2H53r26kZYllcQpaAwlHnLQmjYASUlaazlZ2XZsmWcV0H0792NdRpTw6f3rUbnUJaJln7IsszMLPLn8FmzZvMDsgr8Q5Y9SwrQN1B/V/zvq12Id+xcvM3ZoaAwetp0CwNDjYkTjYxNdM6ec8EkajFs3Lh5npa20oSJI0aOGnbcc4OZuQGLZUjoDEdojBihaW1tiGwL482EK54mI3V4vwMABqmry7JeML9v/wp1DXkC0Fu3vTQ1FSzHGlhYDNcbrgrSIXjOx+XAQc6jHsTmFiMYlvkH7GIACo8w0nyV+W9eybK4s+yPtIgFUy289q1mxb9mRC2zn3BqzwpWnPGX1LDNTrNJ+e2jgG+Z0ZzC40C3DQ4kyOvbIe7HXJezglHeOy4c28wKCuoYn50hJ7exgt8zZRkkfiw75H4Ytc2aNUtOfsGqEtTbXXZgUXx+h6lcY2SXmn7xwSNv5F+sKmRq9+57VfAMF5CX9CIA8/Jijjx4wb/B2cdPfZ4+9+N96k0oFrXvMAnKsk8vw7p26SgxsN/XzCje+N3woy1btrC3s+AN8vpjcoiGmjIpa6kpFieFoPDm3vlFcyaTIK/9j26aPnE0K7h/i8N6x+msoKA+uG3R9lVzWMHvmbIMEj+WTZzIeQWgnt5wVrwSJm/gwh5iRmrUjB0WTkLnNG3a9Ht/6Rd9lvXt09PEQDshYD9vfJ6d5bTJloKy7HumLBMdiR/LlJSUUYsjmxWvhLOzX3fs2BFL69y5w6Yt8457bqImtptqXr8B58WQ1tbjWZ3GWPRZ1q9PT//jznbWI/+XxRknwr+9CJWTlvQ7uoWw7NIpZ5hUwX6H1oR5uRCWFTwKMtFTafNraz0NeZ8Dq1/f9befNp5pyfiHLDt/dLOOhpKSzKBhWspxfnsQwcYEeGzWLQ0qyw/13L2StMR6F86wUlWU1lKVWzhr/M619pRlAkn8WCYhIYnabducWfHK+fRpL/LCA6qy6tOnTwUDebFgWcHji0ryQ4ueXCTB03tXL583KezMTsIy9+2O7tuXkip4x6qZHjuXE5ZhZPruSaCqkuyrm+e+pIRm3PIdbTSMackYLBtnOjz1ymler1tsQ1h2K/SwnqZS3oMA8OvNXX9NFbm0a2dSrp7R1VAsfn4JwaInQYpyQ3LunUdjeztL51Vz/noViVWHn9khNXgAZZlAEleWOVftsUDGOHPCwiN0dYe1bdsW661dkW8vNGnalDtde+rSteu0adNTUsq/U0YsFix79+zSxqXTSe7zLTNquLZK0uXT/LCMRJgxZgUs69ur2wSzYbxWkB5IWDZ7inlCwD6m8Tn3DdtWzn4aeyLG141EvmVFG+tr3gk5+O5ZsKKs1O9p4UzjGZPMKMsEUl1nGePCwqKCgre1a3kFBXy05U4rWPGaNzjF6p+yFheWvbjiZaCj+jUzOinhtL62yrfM6KqwzGv/WowNYQNtpU8pYRWMMZF2qchLyUr1J+1hyYG9bMcZIX437MjWFTMXzLBeaj9ZYmC/25cOPIk+NsZEj3chezYtoCwTSJRlImQx+k05WFxYhrLRcA2kY8vnTfbatwaT32PZxqVTK5GXVcAyXXU5zMiqPXtw3USLEanXvNEAk2NNh4NlLxO9TEfo8DbbQe+XCSjKMq4Li94VvC2sXf+bl5WpqmHz89IFMWLZyT2rF8+eIC8j9fFFKCYZlnm6rcQIlLSHjYars1imqarw/jlnCZVgGQpO8yYf2fHv02cHti3Zu2mh1ejhty4dJJEvqeHSUgPBMhRkhgwqeHSBxL9mRhnoqlKWCSR6v+y3yKhoA0PD9u3bt61tkftlzZo1407Xnrp37z5z5qzU1HRWd/FajFj27unFbl07LZg+jlQxLEtOPC0xsG/ihX0ZN866rl8w0lCXxbLh2ipbnWY+jjpaOZZl3DwnNbi/j/uGzJvegce3qijKvH0UuH3VbGszg5eJpx9Eesy1s9TTUt61fj5yNCSJI/U1HkUfR9WS2eMtTA0oywRSXWfZWe9zjRs3xgKpyqpfv/4vXrxk9RhjEWfZX68iz+xb9XtaBJkMPrH11Q1vUs68eS7hPOfxCDjOz22qtbHN2BEXPbfejzx2J/TIn+kRF45tIbWY5ajLknth7iXJIWGnXUiQ16lXveL8drOCj6M9boe4k3L6de+VC6ZYGGutmD/p9R3OePP3tHAMbMeN0plnZ3E/wgOrOLjFASzj3Mjzcpk23mTa+JERZ3emXTt7P/wIWcgPTVkG1WmWZWe/6dixE+cg6Nhp7urN6w96UhOPnmRHfnh4/IQJrE5jLOIsq1OmLIPqNMu8zpzForCHjkVcuZL/OzXjxLwvE+cuROc0bdZMTJ/7r1OmLIPqNMvI9zHbd+gYm1nMOpmpd5/jwAWHL31Phuibsgyq0ywj78no0LFTXNYH1pksXO/xD1t36CSvPWNustoI5JCkNweDY1lB4drNJxidQ1kmFqYsgyjLaoJlipo6E+ctdti8k/HBizGsNgLZI/yKvpklKyhcU5aJkSnLIMqyGmLZqbhbrGBVTFlGzWvKMoiyrDZZdu76E6uZ89T1jWcuXxuWnEOCsZnvHZ33aBmbjhpvcyQknml8LPKa2eRpOiajnVwPuAfHUpZV2sXPg8eO1Lkdyn1sgvjtw4B3T4JIOf/B+ffPuF9HF8hvHwUUPQkk5Y1Lp+c/5Jar25RlEGVZrbHM//ZzSVmF/QERF59mbjjkqaSli81IyPk00nryLKf1gQ/TTsbe0hg+Yq9/KBoDXkMVVY5HXbv4JGPVbndtQxPKskrb++A6HQ0lGysT3qDbhgUn3Lgvod22cvY5941MFf/eu2nh8V3cd/isWzoz9wH3Of7qNmUZRFlWQyzrO1hSQlaRWEVXPybjndUM+13eQaRBYt6XmcvWbD3mfSru9nBTi8S8zyTud+u5rtEo1KrpGQBtJAhPXbyCsqxy/l9W9EgDrWfxp2WGDH7/LJiJV8AyzPIx6VLxs4usV9R+y4xGEFXkm5UwL8v+TI8k79eGMeOHZxdLkoK//dOSuHQJQR+T/11C5UxZBlGW1U5elpD7ebC03LgZ9hPnLyHG4HGi/aKlO/bJa2gzwfFzF3Xp0Ss++4OktGxc9r8beeBCJGVZ5fw4xnPsKD2wY9VC28Mu3C+WL5pp3bNbpz49u44x0rC3s+jepWO/3t2sTXVRVZIcYmtlMkxTabiWoqmh9us7fgiGnHLeu2WxrfUoI10VJfkh9naWINeS2eM5C+nRxcxQHW2mTjTPuuOPQvp1byM9Ncyup6lkbaaf/zAAQb/DG9xdlk8aazxCV1lRVspxzoSvGf8BpUCmLIMoy2qJZTm/9ZOQ2nk2cG9AJGPv648dNu2wmDqbN7g/KPrym98GSkjFvy5hZncPjqMsq5wXzxoffJLzLtnnl0+pKckwBPleXjbX1uKQ81KSNyVc2G+oq4by6b2rpSQGplw9i+DfGVHGeuphXpxvOPHmZaONdDNu+X1KCVNVkGbeYuZ9aIPxcHWkaQe3LZGTkcosfYvGX68itVTlEi/8+6YzQU1ZBlGW1dr9Mv3RlsfCE5nJnWcuwHv9Q0dPtGWCESn5Ng5LkcTJKqsFPkhl4stc9lKWVcKfXoapKEh/TuG8LQPjO201+XsRR0lVuSwrfhasoSIPWpE4KDbWdHjK1TNg2dK5E0kQ3rVu7p5NnF9pKsuy0NMu0yaYMkNIrHSEntrDqGNgGe8rOjY42h3f5cRMCmrKMoiyrNZYtvtcsIyyWvCTjMS8L+fvJg9VULrwIDX61TspeUWX0+cTcj7FZhXbLHCcv24bGq9yczcwHxeZWpCY+/lU3G1lTZ0RFla8SxO6f0qWnT2wFgNJ27GGxEMG95k/bSypKpdlyZdPtW7VgnmZIjygT/d4PzewzHX9AtIYPrhlwfdYtn3l7P1bFpEIMca2QSecwbLDPK8D2r5yBmVZFUVZVhMss1u8wv9OEisIhG04dEJRQ2uwrILaMP0DgVGIIO5367mh+ThJeUWQbvrS1eQ2GdC2ZOsuBTUtaWW1MVOmA2cOm1yYRVWHfz6WfcuMGqapGOOz63ncceL74UcGD+xL/gJQLssyb57T1VAkQeLfU8MwLOWfZYe2Ld7231f3zLExDz/rSlkmdFGW1QTLxNE/H8uexp7Q0VBk/rZIPHX8qLMH1qEAlh3fvYoEwTLvQxtQ+CMtQkFWMuOmD4n/mR6hpSqfc+98BSzzcOX+ijBh2bP4k6qK0lgOCYKbMkMG5z+8QFkmdFGWUZaV75+PZY5zJhxzZfPiatCB4VrKANy5QxuGaSh4uCxG0NNtpYGO8oldnL9y+rpvUJCRiD7neuPigekTR69ZZIfg91jme3ijrrr80e2chRCW/S8res2iqeNMh18N3Bfvt9tARwUU48xCWSZsUZZRlpXvn4xloFXkWc5vX7Lif6VHhpza9kd6xN8ZURh+hp3aygm+igS8Irw4f+4EjG6GuC+3nzjfzjzw+Fbyd8+MG94vEk6RJcCpV069TORMojbWd3foSc5Crl7Y9+kl548MXzOjIs7uWDjdctncCdcuHiR/B0i94pV27QwKxEnxnunX/50U1JRlEGUZZVn5/inv/f+spiyDKMsoy8o3ZZkYmbIMoiyjLCvfosmy3j26ME97UTM+vnsFOoeyTLQkpixbs99DY8RIXk9xWMpqU2OetWKD/232IyCCWtRYduTIUTRo1Kjh9YvcH2SjJv7rVaTFyGHonP79+3/vheb8WIgs+/r1q7Ozc2ZmJneaRy4uLn/88Qd3QqiiLBMOy2wcls5fty3ocQbj0H/e4VPz1jYyPRV3mxUU1KLGsszM7LZt26JNx/Ztl8yesNlpFjW8cdnM4VpKhDKrVq9mdZpAFiLL0KZ58+Zg659//skN/aOWLVuWlJRwJ4QqyjKhsWyF6wFWkDgx93NUelFUeiEKJHL5zW9x2SWJeV+iXxUl5H5iWn7PaBmT8T4iteDym48kkpD7OSbzPeKxmcXke5oJOZ8i097GZhUj+FOyDD512qtZs+al66RiS0tbp6DgLavHBLJwWdaxY8eJEyfOmzcPBwA3WirKsn8tXiwLeZatZzpGQUNbUVNH18TsQul3Knd7B81dtdFy6ixl7WEL1m1df+gEaRz8JFNBU+fS0ywyuf6g56YjXvHZJZPsFytr6cppaEsrqhwIjEJV0MM0E6uJi7bsVFTXBnROxd9R1zNU1NRVG6a/cNMOLcORPyXL4KtXr1lZjx88WGLgwEHluv+Agf3xr0y8OozVsCLV5H4VfiIlZeXtLjsKC4tYfSWohcuyTp06ffz4UVpa+vbt29xoqSjL/rXIssx24XKPyGuMkUkh/1LVGe5y0g+5ErzHL0RaSTX+9UewbJDUUMACwTOJ9zUNjclCNrifHDRk6KYjp8mkhv4I3xtP1+w9YuuwjCzB/3bSUHlFVIFl/QdLLN68EwladHrREDnFEzE3SZtFm3d26NTlZ2UZjAYVOCAg0NfPnxWsDufnF2zZspUVrA7n5uYtcVzKCrLM6qLKWegs+/vvv3FstG/f/suXL9wKHpZ9+vRp+fLlvFkb4mvXruWNCCTKMqGxTE5Ny9xuFuOgh+ngi6aBMfhC2qAwwnL8gQuRYJnhGCsSx9hQSVM75Hk2yqOsJ+/xCTabPBXl8Be5CupaoCHaB9x7SZYQ/jKva49eKIBlg4ZII2VDeYfXeasZ9sxawMo+Awb9xCyrwCUlH42MIZOSEuGc3hX4zNmzHTp0ePMmhxUXut3dD//6a5tXrzJYcaG7OliG8tGjR62srBhCMSxDxMfHZ9myZaQKQXV19Xfv3pW2qowoy6pxjLl6n8fUJSt4I47Obit3HQTLZi5fywRnr1i/5Zh3/OsSbQMjbImmvlFsZvGWY2dnr9yA2tis4o2HT02e7zhl3qJJcxd26NwFQbBs+ChzMvv8Dduddu4nZWINfeO6ybKHDx83adKkQYMGj588ZVUJ19jI4cP1scEHD7qzqoRr0FlZWRkrcnPbw6oSuquJZd++fdPQ0AgJCSFVvGNMHBvnzp0DzgoLC6sIMoiyrBpZts3TZ8JsB94IELZ2/zGwbJbTOiZ4JuGe2SS7I6GX7RYtx+SU+Y4e4YkmVpPOXn2IbGvMlGlLnN2iUgtQFZv5vle/ASiAZfqmY8jsK3cfwriSlImVtHTrJsuWLXcq3aJfHB2XsqqE6zt37zZq1AgrUlRUFNYQr1wnJFwhn0hGRra4+AOrVriuJpZBb9++7dKlS3FxMcqs+2U4PFxcXFq0aJGbm8sNVVaUZdXIsuAnGf0HS8ZmvCeTWIuUnILf7ecsll1+81Fdz9DWYenh0l9dOnQxBlBTH6aP4Wd89od+gyXJWBL2vvaodZu2KPCy7GTMTbVhBpdzfiOTQY/SW7b+tQ6yLD+/oHv37qVb9Ev37j3y8vJZDYRoB4eFZEVQQkIiq1ZYRlfY2NiStdSvXz8qKprVQLiuPpZByMt0dXVxMLBYBsAh8QTOFi1ahFputFKiLKtGliGrWrzFVdPA5FBw3OHQy8NHW8xYugZBFsvg6Y6revXtH/+a88hFdHpRz779yCAUjYebWtg6LPOMveXs6WM20XaA1NC9/mG8LEMbs8lTx06bcyzq+r6AcE0DYy0DozrIshMnTpZuDlcnTpZ//FTdBQVvO3TsyF3NL7/Y2tpVU2qW/iqjVatW3NX88suECRNZDYTramUZDgNra2sPD4/mzZszLCMgw9AStX5+fosXL64KzijLhMOyE3G3fG4+YwXhxNzP+y9EWs1aMG7mPDffSwmlj5ghdTqdcI+3WeDDNDe/UFAJZfy/NyA88GE6qYpIyV+02XXkRDsMJMNe5JyMu73bLzQm492h4FjSAI5/XbL56Blz25mzVmy48CD1WOS18Be5TG3lLF4sw1w6urrt27cv3aJf2rfvoK2tU1KCZbFbVt1HjhxFltSwYUOsqHHjxsDNq4xMVhuhePt2lyalwopa//prq9atM6pnRcTVyjII+xU7CAshLPvy5QsBGanFceLj47NmzZpK44yyTDgs+/ksRJYRxDx+/JgbKk9VZNnjx0+WL3cKDOQsBLp9566T04pHj5+wmlXd4OP06TP8/c9368YZz27evGXtuvUeHsdYzarud+/eL1y4KCY2rkmTpliRp+eJ/QcOHjvmyWomRAuXZQoKCl+/fuVO/6ObN2/27t0bOxhlHBifPn0icSJESFXlRFlGWVa+hciyESNGoNmBAwe4ofJURZaRFMxtz14spEOHDtg2JihcY/OKit49f55E0qXg4EsIvn1b1edUyxorgv38/LGWRo0aPXn6DMFqvf0vRJbViijLKMvKt7BYBp08ybmTNXDgwG/fvnFDZVT1+2UfPnAeUMJCzMzMK70QPo3RH1aEA7Vany9DD6traGBF+FwfPgifyyxTlglZNcky1127sahWrVtHpxexzmTq7Sf90Dk4fNPTy39Kk3+WffjwoX79+lhUVFQUN1RGVWfZOR9frAULQS7DqhKuMzIyu3TpihVNnDiJVSVEox9cXHZw+rf6PxExZZmQVZMsC4+IxKKgJVt38fMd77rjqLS3KjrD0TNdunT53kiNf5ZBy5YtQ8tWrVp9r3EVWYYzrWtXDl+UlVWqdSBWWFhkajoaK2revMXt23dYtcIy+vyQu3vTppw7ZVhd8YfqfbKMmLJMyKpJlhUVvVNQUMDScD2XVVEfbjqGGtYbZd6jT190C7R+/UZWpzEWiGV//vlnnz590Lht27ZJSUnYy9yKf1RplqH95csJPXr0xOw4cq5fv8FqIES/ysgcNWoU5zP/8suWLVtZtUIxKAZqWI8fT8CBoz0zM4vVpppMWSZk1STL4CdPnvbr3x8LpCqrSZMnV/BuP4FYBr17946kTjglHB0ds7KyeIlWCZZhA0AxG1tb8gh+8+bNz58PYLURlp8+e75p8xZkqZwP/MsvOO0/fChhtUHkypWr7oePrFy50slpRSU8a9ZsNTV18rQHpK6hkZqaxlpL9ZmyTMiqYZbBeXn5u93cJkyYOHacVa3bcIQRK1IrnjFj5sWLwRX/HVBQlkEfP34cPpwzdIVwYjRr1mzAgAGSperQoQOCGFVJSkpJSg1h3Lt3n549e5V19+49AC9ydhG1a9dOUuo/8wrHklKdO3cmd+IgrHT7dhdWz+AQ2ua8vU+fvrzbUxV16dIVR3hVXhJbCVOWCVk1zzLRMehgYTm2ho/gSrsSLIOwfxMSEtTV1Rs0aEBmFxeBtnZ2dvfvP+DtBGSRGNUOGTKUtKlXr37nzl2UlZXV1TUqYX0Dg1mzZ5/1Ppebm8e7lpoxZZmQVZdZhlSofv0GYWHhrLhounIsI8JeRo6WmpoaFRV1sVRTpkzBorp27bZ167at25wZr123fs2ateV5Hatl9Xnv3n1R0THlPn4RFxdP3tyNce748RMw5n37tpDVRlxMWSZk1WWWmZmZ46NZWVlX7m95NeyqsKysqv5MRs07JSWV3AHs2LFjUNBFMdrycj19+gx8FhOTkaw4MWWZwKqzLEtOfklu+jZr1uzFi5esWhF0HWdZScnHMWMssM2tWrW6evUaq1bsjG7X0+PcyrS1tWNVEVOWCaw6y7LVq9fgcxFt2PjdJyFEx3WcZdev3yDXHlfXXeKekcHp6a9ateK8AsDd/TCripiyTGDVTZa9fVvYu3dvfC6iPn37ghSsNqLmOs6yJUscscHdunUvKnrHqhJHr1u/AR+nadOmaWnprCpiyjKBVTdZdu6cT7NmzcmrFzp06NC8efOAgAusNqLmOs4yFRVVbPCcOXNZcXH0zZu3yHuZps+Y+b3+pywTWHWTZXv37sOxMmky5295VlZW9+4/2LN3n4if1XWZZe/eFZM/Xx496sGqEjvfv/+gV69e+CztO3RISS3/PQIwZZnA+iHLZGXlULtqVZV+olnUTE5ghmUkQlkmsi4oKGzTpg022MfHj1UlRs7Nzd+xYye5TYahQGhoGKsBrynLBNYPWUYeXLAcO5YV/wnMyzLRN2UZNnjSpMmbN28RO69bt97Kyrpz586lO5DzTMnFi8EV9zxlmcD6Icu2bNmK2k6dOuXk5LKqxN2UZWLHMnFX48aNx40b9/x5EusDljVlmcD6IcswvMcOQAOkx6wqcTdlmdixrHfvPkOHSoudZWXlTE1NkRaAUKyP9j1TlgmsH7IMHjt2HBqg2cOHj1hVYm3KMnq/TGRNWSaw+GHZs+dJ5LUK/fr1v/ff7/qKtSnLKMtE1pRlAosflsGBgUEtWrRAMxxS27e7ZGVlsxqIoynLKMtE1pRlAotPluGIDwq62KED9ydX27Vvb2xismjRonXr1ouvpWVk8Fkoy1grEkFTlomgxJVlxMnJL8aPn0BeK/rTiLKMtSIRNGWZCEq8WUb84kXKrl27J0ycpKmlpSjOQnaJD05ZxloRrwsLi86fD1i1avUSR8datIPDQvL7mGZmY1hVNeylS5cdOuT+vS9RCtGUZQKrEiz7aUzvl1XMsocPH0lLS5OVUvGqbdu2xz1PVGtKS1kmsCjLKMtYKyJGRiYhIYE2OKM6dGjTuXM7arhTp7aNG3PusTRs2DAuPp7VaUI0ZZnAoiyjLGOtiPjECc6Pn+N02uG6pOh93MdPidTwh48JCYnHu3Th/BHMdPTo6kvNKMsEFmUZZRlrRcRz7e3RQEKi37vieNb5TL1s+TR0Tq9evavvZWqUZQKLsoyyjLUi4tlz5qCBpqYS6zQu1+ERB3z9t7OCvL5993RUzCFWEM7ICjnjvZUVhJH+hIYd2O6y4OZtL1YVcVZ2KGoLCmN4g0kvzvv6ufBGqsm7dnN+Fr579x6FhZRlIiPKMsoy1oqI+WdZcclldQ0FCYkBOXmRrCrGRz3WLneaxgrCt+96GY7QYAXhbc4O46xGHPVYo6WtGBq2n1UL339wDpu3xNG25LcEJhgWsd/cXJ+ZrD7vdluOtVOWiZYoyyjLWCsi5p9lUdGHp023nDFz7CmvLawqxoKyTF5eKiXtIgoXgnbPtbfmrSIGyyQlB8jKSkbHHmGClGU1KcoyETJlWdVZhrRo0uRRMXFHLyceMzbWZrIkJGsex9frDVfR0VHctXvpIfdVhGVoEBp+wHS0rorqUKcV0+Pij5bLstlzxp322orGmMvj2DpWLQyWKSnLxMYflZGVfJ0TQYK8LENw0eIpSkpSI4w0yaIQ3OG6JPGq57r1c0aZDsvMDjvmuT7oopu+gZq2jqLnyU2Z2aHgprzCYBtbs5S0ILKccl0xy7CnPnwoYQUFNWWZwKIsoyxjrYiYT5ZlZIWiDcj1rjheSUn64WNfEt+xc4mFpUHW67DCd3F79jqpqMoSloWE7VdVlX381P/Dx8uBF/cM19col2Wp6RcVlaRnz7GaN38iFs6qhQnLUFi5aubMWeMIqhiW5b+NVlOTO+qxruh9XGp68ChT3d17liG+xNHOZKTeiZObEU/PCBkqLbli5YyCwhjkgEOGDhg5ahi2H6vbd2Cl5VhDtP+ev8eyFy9T1q1bP3Xa9JISdOu/8UqYskxgUZZRlrFWRMwny3a6LnHZsZiUnbcvXLlqBgqgg5y8FEBG4gDN5CmmhGXI3a5cO0HisOsux7IsQ/vDR9bq6CjLyUllvwln1RIzLHtbFKOmLn8+wBVlhmWeJzYhsyOAg5GjSUkNKiiMBsvIFsJg2eDB/d8WxZLJxUtst25bQMpoLycnScrlmsUy7JrgSyEWlpZNmzZt0qTJtes3eHuycqYsE1iUZZRlrBUR88Oyd8VxOOe3bpt/5OgqeNNm+x49uyJBe5Z0HgkXb8t9+1cQlsnJDckriGbiGPGxWAYA7XJbNmvWOEDq2PENVlZGSJTs59tgkrcZwzL4+o2TUlIDMjJDGJZNnzHGv5RuxFimsbHWg0d+YFnwpX0kCJaNMNJh2jitmOHrv5OUc/OjJCX7MVVlzbDs2fOkHTt2SklJEe5A9es36FJGPXr21NbRWbbc6erVa3wOPynLBBZlGWUZa0XE/LAsMuqQtrai665FjNU1ZAOD3J4+99c3+A+h9h/kskxGRgoDQCaOHI3FMuR0UkMGFb7jpEsfPiY4rZjusHCKuob8+w//GWnysgze5rxw4qRRoeH7CMumTjMPuLCLqQXLRo7Suf/QFywLCz9IgmCZickwpg1Y5neeiz8+WdalS9f1Gzb26NGDs1f4U4MGDYyMjO/ff/C9bmdMWSawKMsoy1grIuaHZTa2Zn7/5DLEAYG7zcz0kHnJykq+yeXekoenTrMgLDMw0Lh5+zQT37t/BYtleQVRklKDiku4D+gi9ZNXkJq/YCLTgJjFsqL3ccOGqcyabU1YhiGqw8JJzBgTyxw4qB/+Fy7LyBjzbWHR2bPeenrDCXpatmzp5rbn8OEjvEZkxsxZPXv2RAOoTZs2Z86cZXU4yz8hy1JTU9evX//161fu9D8qKiry9PTkTlRBlGWUZawVEf+QZanpwdIyEsz9JmIwZcDAvi9TgtZvmDt5imlObiSGnEePrVfXUCIsw9BPU0sx+WUgcq7IaHe94RqjTP8FCgwAWVkbrVg5HUBEjrbdZZHhCE05eamr10/yNmOxDH7y1O/XX1sRlgFGiopDz55zxtozskLHWRtt3jIfS64OlpHuQjeCPg4LF3bu3Hnjps3l9ir24LFjxzt16oR5GzZseM7Hl9WA1z8hy2JiYvB5tmzZAuhwQ6UC44yMjLgTVRBlGWUZa0XEP2RZfILH0WNrWUHwwuP4uujYw4CI6y5HHR0lbR1FcOT6jVM+vpwvBqDBOV+XESM0VVWlFy6a8uiJ3959y3mXAOfkRS5xtMFwVUtLfsPGuSDa3XtnN2+Zh2UybVLTL27cbM9MwqVL3s4sDQ1mzLRUVJTUG6564ODKDx85Q1Tvc873H54jDbCW3W6cP24S+/q53Lh1ipQB6NWrpzNVZV2WZYxzc/N8ff2/d1MMvf348ZNBgwZh9nbt2lXwg0w/J8vGjBnTu3fv58+fc0OlEl+W5ecXHD3qMXnylDEWFrXrXr1644P36NGDFa95L1jgEBkZVfEf8muYZXPncr6POXhwv/cf6Pcx2V62fCo6p/T7mO9Z/caP799/AJBhCRMnTfpe//+cLENSBpD169fvzz//5Eb/yzJWygaVjXxPNcyyJ0+eSUpJYXVULNWvX99u6lQAi9VjjGuYZceOeaIBtsp111IkRMUll6mJr10/0bkz56d8Ro0y/V7v/dDOztuxhEaNGr18mcKqIv5pWYaCi4vL4sWLGUgxLENk/vz5JSUlJA59+/YNLb98+cKdrlA1yTKcjWrq6lgXdpKkVH9VtaHUxJ1L3yEDubjsYHUa4xpmWWFhERkKQV27denXvzc13Ldvr4YNG6JP8H9MbByr0/h3VlZ2mzZtsZz9+w+wqoh/ZpZ9/fpVTk4uISGBxHnzssLCQlVV1Q8fPqAMkM2ZMycqKopU/VA1ybKoqGisCHLZsRjXN1beXpedkxepo6uMnunevfv3Rpo1zDL4yZOn9L2y5apNmzYnT56qdFIGY14DA0MsysbWllVF/DOzDMrOzu7YsePnz59RZt0vIzgrKCgAyKKjo5n07YeqSZbt2u2GFbVq1TI3/7svVKizPu21BZ2Dw/fVq0xWvxHXPMvgt28LfXz91q5dt9zJqRa9ZIkjed+/hcVYVlUNe8WKlfv2H0hNTWN1VCU8fcYMfCJjYxNWnPgnZxl05MgRa2trAKjsvf+srKzGjRujAf8gg2qSZc7bXbCijh07kCchK3Z07OGVq6ZVkL4lv7zgtmcpKwi//xC/Zu2MsnesP3xM8A/YNWvWGI/jG8p9USqCDgvH371/hjeY/zZ61eoZ5K9g1eoLgRzQ4/B9+TKV1W/EtcIyEfFP+TtM9vbz8IlGjDBixYl/fpYBPRoaGhcvXmSxDENLOzu7gwcPKikp8d47+6FEk2XgjuloPSmpgayninh9/eZJExNtVhAGkiQk+pWllefJTaNHD4uOdZ83fwLzpTxe57+NadOmtbLyUN55s9+EDxjYtwZGxJRlFZiyTARVVZZBxcXF7du3B7YYlhGQkXtkRUVFysrK5N4ZP6oOlj169OTSpRCce6w4/yx7lnTeyFjb88TGufbjWVWMBWXZFJvRQRc532t5kXJBV1eVt4oYLOvfv9fESaNXr5nFBCnL0KCg4G1+fkEt+lVGFjlKT57yYlXVvN8Xf2B1UeVMWcZRYGBg6Re7OCwDjObOnct7j6ywsFBdXf2PP/4gkxWrOlhWXPxBTV1j8ODB27Zt572zwD/LkDcBZLn5UTIy/76dCsnawUOrtLSVlFWG2tqNuRDkxrAs+NJeA0NNBUUJC8sR8ZePlcuyM2edp023xGhx507HDRv/85glMVg2YEDvpBdB0tKDLyceJ0FelmVlh06fYaGiIq2qJjt/wYTXOZxXOHid2Ua+OK2hqZCSFrxm7WyMZA1HaMorSM6YaZmSdnH2HCtV1aFqanLYSLLMci2CLCsp+ejtfU5JSblFixbNm9eum5PP3qRJkzJVNe1OnTrNnDnr1asMVncJ6jrHsps3bx49epQ78Y8AoCVLlsyZM4dMfv78mQEZ0ZcvX1iR76kSLMMh/jIlNSjo4t69+9zc9pRrWzvOw4RQq1atJkycFB0Ti1ORT5blv41W11AAyFCePsPS88QmEj95esso02FZr8NKfku4fvMUcivCslu3vRQVhz556o842GFlbdKvf6+yLHv/IR6zm5nrz18wifXSBWLCstz86Mhod1k5SfIHCoZl74rjjY21D7qvRgELd93laD5mOPB64uRmFVV5/P+umLNGeQXp5U7T8RHQbMJEE0VF6bv3vbFh9+57S0uzv/HDaxFk2U7XXQ0acJ4/oCqrIUOGZGSU/1caPl3nWFbdEohloFhg0MVhw/SaNm3K2Z98q379+goKimPGWKD8Q5b5nXedM9eKlGPjjw4frgYWoKyto/LwkQ+JwwcOrSIss5834Yy3MxNPuOLZp28PFssAHY9j60cYaSkpS19OPIYI8EQWy5hhGeKLFk9ZuGgyCgzL4i57jByly8yCyHB9tRu3ToNi4yeYMPGh0pIvU7mvJAV87aaakTKspCSTnhHMTLIsaixLTn5B/nQ4qH/vg9uW+B3ZTA37Ht44faIpjmf0zNy59j8coVdgyjIhi3+WZWe/sbCwREuihg0b9urVu1+//uW6Rw/uKwGgxo2bjLGwCAkJ3bxlKyZ/yDKTUTrjJxitWGkHL102pU2b1khtEB8ydHBB4b8zJlw5Tlimp6f8LOkCE88riB48uC+LZZ4nNkycOBLBh499lZVlUtKCZs8Zj+EkbxuGZaXlaDk5ybDwAwzLXHct3rR5Hm/71atnglZgmfP2RUxQS1uVeaeN11nndevnMlVIHtNefffNy6LGMrc9e9GgWbOmyQmn/y87hprxt6zoGZPM0Dk4yKvym3KUZUIWnyxLSUmVlpZBM0hZReXEyZNZ2a8/fCj5nhcuWoSWffv1W7t2HeYlJww/Y0ywBqlTwIUdjOc7TFi6zA5VsnJDGUzASNkIy4yNNR898Wfib3IjBw1is0xDU+F5cgAph4Yf4LyzVH5I4bv/tOFlGXw58bi09ODHT/0Jy/YfcFq7bjbTGF7iaHPmrDNY5rJjCRPU1lEr+OeHzsSaZcuWcb4+3bdn12+Z0ayTmfrknlXonHbt2ufnF7D6jX9TlglZ/LCsoOCtlpY22iAX2+6y4927H3yf9nlSspn5GD8//8LCIt44PyxbtWaW667/PDX2IiVo0OB+mMXYRDsu3oOJAxOEZStWTnfb8++7FgIu7O7duzuLZdo6yswLEjAetLU1V9eQB6GYBjCLZWi2bsPcMRYGhGW3755RV5d798+rGt4WxSgpyzx+6vdzs6x/726s07hydl1nv3TuBFYQPuziuGS2NStYsRMC9kV6u7KCfDrae0fQsc2sYCV8et9qdA5lmWiJH5Zt3sx5JL1+/foHDhzk5wZBUdH7cpv9kGVIlIYOHZyazvkxMcZgioWFvq//jshodwXFIRhaZmRdOnpsvanpcPKyKgwYhwwZ6H/eNTM7pPQ3fvSUlOVYLDt4aJWOrvLN26fTXl3cus3BcISm1XjjXW7LmftcMItlcOm75OUIyz58TJgzx3rmrLHJLy88Szpva2vmsGgy2lCW8WMzY90WLZq/SPTiDX56Gdq3dw8piQG8wR/61N41B7Y5soJ82t158bYVs1jBSpiyDBI/lr3Jye3QgfPN5/HjJ/ADsgr8Q5aBSp4nNvDyhfj6zZNBwbtRiE84ZmNramyiuWv30vSMEPJKLPjp8/PzF0wwMFBZtXrmq8xLJ05uZOVcIJGPn4uV1QhjEw3XXY4Yq74tit29x5H352mRcx046MSCIDKvAwdXYHbS4JD7atPROuZj9I55biCruHvvTOIV7gMc8IlTm5jc7f5D79i4f3+90ePY2ryC735566dnmdUYo3VLpvEG/Q5vGG9hrCQvw0S+ZUZ9zYj8lvWfUS0mv2ZEMUEWy/6XFQ0zZU7L/w6KOUEsNjMKBcoyIUr8WHb8OOfdL02aNHn8+CmrSlDvP3AQi2rWrGlGVgjrTKYGJdE5OHxfv85h9RuxuLPM9+gWOWnJP9IjmOAoQ+3Ic7sJywCgXevna6kpqMhJKMsPDTuzE0HQ59Te1cM0lRHUUlOM89uDIC/Lsm77Wo7Sf55wBuXL5/fqaauqykuoK8thLtKgJOmSvZ2FmqKMjpq8/VTLnWvtKcuEJfFjma2tHWq1tLSrmJTB9+7db9CgAZY2xsLgWVJA9psIauLo2MM9e3ZFz8jJy3+vn8WdZeFnXGdONos6t5tE0q+f01SRy70fQFgW6e06eazx72nh4BeCQyQHfUkNB6oUZCQ+JocgmH3bV0l+yG8vQhmW3Q0/oquh9CTGE+XMWz5KckMyb/qg5YfnlyxGDov15axojq3FjjX2f5cma7G+bpKD+1OWCUvixzIVFVXULl68hBWvhEtKPjLP0DZt2uTXX1tRExPEN2rU6HzABVanMRZ3lkWcdU28sB/AAm4QWe84/eiOZQWPAgnLrgQeeBR9nDQGegb06138LCjjlo+M1MDCx0EkHu/n9ltyCFi2f+uSiLM7ddQVXt/xI1U71847vmsFKcMPIo/bWpm8exasKDfk97R/M8E5NhaUZcKS+LFMQkIStVu3bmPFK+eCgrd2U6fhpMUyqXjVsWNHD49jFSS/PwHL/noVqaIonf/wAnIujDeLn19iWPY1Mwp4WrvIdtHsiY5zJnXu1AEs+5YV7bVvzXBtZRBwzyYHJF9oCZZh1GlioDVUcmDWbU4EnmxpOLh/TyWZQcRyQwZoq8k9iTmO9ZIGxPs2L6QsE5bElWXOzttZ8ar48eMnJ0+ednc/UrtWVVXDR1NSUmLFa95Ix968yWX1Ess/ActQ2Lpi1lFXpzCvHTMmjUaCxrAMadqK+ZNzH1wg7aWlBoFlpAznPQjwdd+gIC2RcvUMWDZlnPHvqeE+7htG6Kn9/SoSDWZNNo06t4tpT5x69cxIQ23eyM518yjLhCXKMhEy/R2mmmdZytWzelrKFiOHXQ8+hEnCsm+Z0bJDB71/dpE0LnoS9OuvrcGyk3tWIlMjQdhljf3JPauZ+2WYa47NGATBxBNuKxfNGs+0DDuz097OEqNL2SGDwUESROpnoKNCWSYsUZaJkCnLap5l4M5IfQ1F2SFfM6IwSViG4IxJpoBR8uWTl8/vnWI1Ull+SODxrQUPLyjKSp09sDb1yumwMzvkZSSSEk4zLINLkkJUFIZeCzrwMZlT2LV+QcqVUxirYiRLvnp1fJeToa7q3bDDz2I9HWZYWZkbUZYJS5RlnDcCBQVdXLRosV1tq3//Afhoffv25U7XnhYtWnTpUgh6htVXvBZrlkV578y+7UvKD6M8bgYfJOUvKWFBx7egUJJ0yXXd/Almw1Y52GTe8nkcc9z30BrEs+/4rllkO370MIxAn8WdQORl4mlSIH6RcCrWhzO6RDaHISSW4DhnfNLlk6T2W1Z0jM/uOVPMZk8xi/XdnXHD+2HEUVJVFVOWQXWdZXl5+cbGJlggFUs4cEebmVVwbog1y34yU5ZBdZplOG3s/nkmo0e3zhqKUtTE3bt2Jt0ya9ZsVqcxpiwTHVOWQXWaZSkpaeSVWLZWJp9TwljHR102emO8mT56Bv2T/foNq9+IKctEx5RlUJ1mWWxsPBYFJSX85zvG1PDDqGOkcyIjo1j9RkxZJjqmLIPqNMuiY2KxKOjNPe6fyX/o31PDS5KCyZPivP7rVQTirC8h8/r31LC/Sp88YoyF/PaC820Y3iA3nnyJtSgEPyZfKttYIP+dEfn5ZSgr+D1nXD9DOic0NIzVb8SUZaJjyjKIsowj/lm2YemMJk0ap10/y4qvWzKtRfPmbx8FsuKMVzrYhnpxvp98N+zw1cD9KPydEaWspMACHPznq8jBA/q8fcJ9uIn4j/TI/n17/faySgPhq4H7JpgbsILfM2WZGJmyDKIs40gglvXu1WPrf58J+jM9UkpiQN8+vflhmefulW6bFqLwLTP64qmdXzM5jzXxmrKMtSJiQVn2JTV8nOmwfZsdWHFcPKaMHbFvEzvO+PPLsIWzuK9pTL58EpccFPIeXFi7eCoJ8johYK/runmsYNDxTaf2rGIFBfVFzy0+h9axgt8zZRlEWcaRQCxbNHuisvxQ8mglcehplxkTRyvISYNlX1LC8h+cZ6o+vQgpeMiZJCzLvefvvHL2qoU2aVdPYxR5O8wDRGMaE/+QZZjlbvjRI86LwrxcMOZl2qRdO3tyt5PnruWpVznvnCH+mBwSdHyL565lqdfO1imWfXoZ1q1rp/59e6M/eeNXAve3bdvG3s6CN8hr9JiGmjIpa6kpFieFoACWbXKaS4K89j+6afrE0azg/i0O6x2ns4KC+uC2RdtXzWEFv2fKMoiyjCOBWLZt5ezJY42vXOCME+H/ZUWbG+vcCjmsKC8Dll2/eGiOzb/nSeSZ7fOnjUWBsOzA1sWq8lIK0oNmTxpVuTHmt8yoJXMmWI3WP7bDcemcCcb6miVJl9DgwvGtBrqq7s6L9292UJEfSl6tlX3HV1VRer3j1KMuS8abGy61n1ynWNa3T8+xow0jznLSYcZTrUfOnzlRUJbh+vEHz/stGPPDMiR6+Q/8kScykdJgaP59/4/JnH3HGJe3d0+C3j0JxOooywQVZRlHArHMedWcGF83HMHkTnz2HT8VBWkcfPywDAVmjFkBywb07Tl7yujFMywZO0wb06NbF7Ds+sWDQCeTFR52WbbVaRa2ZJiW8uu7/iQY6b1r1mTO5tlamfgf5b5OHrOMMRlWp1jWr0/PkDO7rM30mb+ZvC99607A8W2EZb7u633dN5Aq2NN16fmjmwjL8h4EqspLtmzRXH7owJO7lmXd8bMdb8a0ZFwxy7DeQ86OmqoKI4eraKjIY+GIAFjYa7oaSqOGq+JK47J6Ltm8wseBE8YYGuiomBpqThlnsnXFLMoygURZxpGgLPsjPUJWWuJDaUKEA27vZg6bKs2y908vXglwI/6cEgaWDerfO+S089ULexjH++3u06s7WLZmkc2mZTOY9hc9tw3TUABJC59cxEmCi/+rGz7rl0yzHq37d0akrMxQ3kFokOe2usaywifBqkqy+Q+5r7s4vH0pOqf0m96cfeS+3dF9+1JSBe9YNdNj5/Jy87KMW76jjYaRIK/BspH6GszuIF40YyxhWbz/nlEGmp9K/3aMxepqKD6N9Xwad9JQV42MfH9PC1dTlMkq/TbV5HEmHq5OKMB3wg4P7N+HskwgUZZxJCjLcCFdu2Tq6X1rMO5QVZQhp0q5LIvwcv4hy14kei2ZOZY4/9GFiseY0yeMsjTRZtrDLqtnf82M8j64btLYkQ7TLA86Ox7ZuQIs+ys9QmJQf/IKGuLEgL11jWXvnl3ascZ+/5ZFiCAz1VJTyLjpI1yWDRncj3d3wMM05AjLkBffCj3MNA703LrBcVrKlTO3Q4+QCHacvrbK7UsH3j4OUpEfypukz58+jrJMIFGWcSQoy1B4fvnUiGFq0T67p4w1JlUMy2ZONicRGLyrxBizApZtXDr9BM/fyEqSQ8K9XFKuntHTVGS+upAQsB8sw6krKz0EZybT2PvQhjrIssxbvsM0lNDb9yM9Rhpo4jpUFZZ57V9LXq9ooK30KSWsgjEmVqQsJyUr1Z95IyPKDtPHYr+EnNruNH/yghnWy+dNkRkyCCx7FOUxZqQe70L2bnagLBNIlGUcVYJlOFINh6lrqymQu+wwYVnqNW8lOSlCqD/TIsyMdVksO+G2attKzhIqx7K7YUeU5CQJobAN21fP3b5q7t3wowbayuQm2p/pEbNsLKxMdVC7aKb1vs2LUUAc57aBrtrEMYZkgT/0T8MylM2MdB9GHXOYbhXgwXkHBi/LDjn/+xNK65bYViIvq4Bl+lqKadfPMXHsms8vQzHOxSFR8OgC2S+Wo/TAsrRr3iMNtEiEGIcZZZlAoizjqBIsgz13r5Aa3J/5IR8lBVmwDKOGyWONRwxTXT7Hepyp/kEXJ8KyVf+w7HGMp+Sgfvpa8mCZirJiuSyTGNi3LMsG9OsNluFw37luvrL80KWzrazN9M1NdDm32NIjRxlqjR6h5ThrnLG+5jn3jYMH9g09vb3oSZCRnjr45TjbylBXzWPXShsrE97FVuCfiWU+7huQLMtJS5I/JjIsO7V39eqF3HcromN1NBRZLNNUVXj/nLOESrAMhXVLpu5av4Ah1PY19ge2LhlnOvxG8AES+S05ZFD/3mAZ9q/s0MHMzwX8/SpSQ0WWskwgUZZxxD/L+PTTuBOJAXuAHpCu+Pm/ozxhufDJxXi/XRjnMhEw9EmM5xWs9EXpM2j/nD/fMqOfx5+8HrSf9ycz+PHPxLLfXoT26NZ5xYIppIphWcYtn4H9evu6b7getG/ZvCnjLUxYLDMaruEwzfJ64N7KsSz/QYCM1MDdGxfcDN5/0HmJhorch6RLB7YuNtBRuezvFnbaZZKlsbmx7kqHKeCd7+ENGsqyEWd2oGrKWOOpE8dQlgkkyjKOhM6yn8DizjKkvVFndyBjJZOged4/zzCj8DCS+wbExzHHVy2YvGLexJvBB5MSTj+LO4lMOTFgL6lFYnvpxJYXCSdBRuZ9jbx+c9f3fjj3Rj7jtGteSfHcly8WPg7av2XRfDuzvZscip8HI4INCzrh7DDNYovTzIwb5zDYvOCxASyD74YfWe0wZfVCmweRx3Lu+b1M+PdaVbEpyyDKMo4oy8pa3FlWp0xZBlGWcURZVtaUZWJkyjKIsowjyrKypiwTI1OWQZRlHFGWlTVlmRiZsgyiLONIKCzLuetbUnpzt/r87kkg+UJMDZiyTIxMWQZRlnFUdZZ9ehnWs1sX8igZ4+TLp3zc15Pyby9CXNfNZ6r494uE0+f+eY/VmkVTg0+5MFXV6p+eZf/Lii5+FvRH2n9eXyF0f3jO+Z4sKyh0U5ZBlGUcVZ1lYNZS+8myQyU+lD5aSRznt4f58eqiJ0HDtFSZKv59+fw+hxlWpJyUcDr3fg0Nh396lpUkh7Rt8+vm5TN4gwFHN726wX1S/174kXh/N6aKf1/w2JR+3ZuUNdWUsSKmqppMWQZRlnFURZbhCm+ir5lx4xzIdXov5xdh4cyb5/ZvWWhtpn89aG/h48Bwr+3yMlIoFz8NQu27pxc9d6/YunzalcAD30pfx4jBY8qV03kPAg5sWei6du7TWM7Px2bdOndw6+JxpnqY8e+MyMexJ5gX+2Tc8N6/xWHH6tn3I49hAxApSbqUfu3Mm7v+ezfO373ePonvp5PK9U/PsuO7nJwW2MpLS/K+SmSurcW1i4dI+cz+tTvWst8Zy4/nTbVMDOQ+jBbh7fbnP98MqT5TlkGUZRxVkWUvrpwZZagFJD2IPDZcS5mQ5dIpZwtjbdkhAxdOG3M/wmPWpFHdu3ZGOSneE1d+FYWhezYuCDi6cfJY45ULbDDLw+jjetqqEy2Nzx1ce9Jt5eABva8HHwo5vd3SREdWagBm/JISyowxI87uVFWUPu663O/wehN9jS2lrzC7GnTQWF9rooWRr/s6VA3s1+th1DFmIwX1z82yvzOihmupFDwMRHdFeLuSIK4luPYAYZk3zr6547t91RzHOROwv0gtUq1jrstOuq3Iucd95jb/wXlcP5ITvA5sXuB3ZAN5KSYWMsHc4NTeNVgIJm+EHGG+pobdcWDLAp9D63ElI5GPSZewkNz754/tXHpi94o3d7nfYRLUlGUQZRlHVWTZMvtJ5EvLOGrVlWWf/fPM9/fGmDMnmV066UzKyLbMjYc9jTsBlvXo1oU5yr32r3WYzrn7xjvGJCz7Mz1SZsigtGvc30/5khqmqSL3NO4kWNavdw/mjwPu2x1XOXC/tVMJ/9wsw9VlvDnna/aR3q4okMvP8nmTBvXvZaKnunvtHI+dy7VUZBRlBs+dbIqqwONbtVTlOa/t3bJQTUnm5iV3BNcsspthM3a2jcXpPU6LZllrKMv+nhaxYv7kwf17Geupuq7h/CgEGWPiOrdx2YyRBprHXZftWD1HUU6KXGYundw+dvQI8BRxoFNiYN9XN7iDU4FMWQZRlnFUFZZ9TA6RGTL47aMLJUnB8LaVs5zmTSbnRrks+5oZPURiwLkDawI9NhDbWZsc3bEMLCNnF3Hiebep40ehUJZlt0PcLUYOI6sg3rvJYdf6+WDZjEn/vvs09NQ2h+njmElB/XOzDMPA8DM7UPiSGi47VIL5Une5Y8w/0iLkZSTzH3APkrTr3vo6KsjswLKJFiPIrX38P8pA62oQ583pvGNMwjKwT1dDiRlslk4qYglg2ZDB/ZmXNW1cOt1tQ2X+QERZBlGWcVQVlvkf3SzRv5eehhzxMHXZfn16klsw5bLsc0p4z26dNy+dus1pGuNrgfvAsinj/n2JxdULe77HstDT22dN/s/3mQM8tm5YOgMsm2tnyQTDvZwpy8o19gVyK+b9/SsXTHHbyP1ZpnJZdvPSIUNdlTifnYzlpCUKHgaAZedL83HiBXbmYV4cPpZl2Yr5k07v495IhQE+DRXZrNt+YBmSeiZ+Zu/K9Y7TmEn+TVkGUZZxVGmWfcuMGjFM7X6kBxNBujTRwjDgGOcQL5dlaKCsIJ3/gPvWZvhK4L5npWNMPln24ooXruq8P0a30mEKxkSUZXzac/fKfr27Ma9IlB86UG7oYPL2t3JZFuS5VWHoICf78bx++ygQLAs+uZ00hhdOG/M9liH1jj63i0SIJ4wZ8Sz+NFi2eqEdE/Tev4qyrNKiLOOo0ix7Hn9SW02eFytwtI+baemfAoChqRM4d1tgsExFURbDCpRXL7RZZj+RzPXu6UV1ZbmMmz7fY1nihQO21iNJkLAMNDTUVQv03EaGmS+veA2VHJj3IICyjB+j23XUFZMSTjMR7ClDXdUrpT/AXC7LHkQeYw3qL3hsRurNP8s2L59xcNsSEoE5r/wdMijvwQXKMiGKsoyjSrNsi9PMozuXsYJ/vYpUVRj6+q4fLt066gq48n9+GYKg3fhRCkMH3ri47+OLkEmWxsbDNezGjdBQkfMp/Smgp3En7Kf+S6JbwfsJiQofB+Hcw0J+S77kvHJOhDfn8p51y8dYT91y5DCbsSM0lOUSAvZxZgk5vGzeZDI7HOuzc9U/b+yqhH9Wlt0JO2o4TO3rf3+W9MyBddMmmIJW8+wso87tJkHvg+vIa8j+yogaKjngVgjnfj98O/QIlkDul5XLsgXTxoaf5WZhhGUvEk5jWIrrGSJYyzn3DWZGOmAoZZkQRVnGUVXul1XOOKCzb/s+jjr624tKficJ+UXatTNJ8SfK/d3GqvtnZRkG7Ly3rog/JF0a2K8P/j/vsVlqUD9QCcHkhNPSUoN01WRQvnnJXU5actZk09mTR6soDH0ez3l2D9wJ4fkahuPMsRFnOK8OvnBsCxaywI7zsw/DtNTAMuxuv8MbFWQk59uNmWRhaKCjmnuf82BH6CmXdUv+hZfPwdWb/vvsLp+mLIMoyziqeZaJvn/i+2WV8+9pEXfD3O+FH2be7yioP70Mux64N+nyKVZWWHVTlkGUZRxRlpU1ZZkYmbIMoizjKPsO94tB1IzTr3qRzhEplvXt1fWbsJOan8An96xC51CWiZZqkmU3b93GoiC/I5tYBwf12QPrSOfcv/+Q1W/ENcwyN7c9aNCiefOUq9wvPFAT/y8reo7NGHRO9x49CguLWP3GvynLhKyaZFlR0bvBgwdjae3attm5bt55j83UxDvW2Ldp3Qo9IyU15MOHEla/Edcwy549e964cWO0kRzU9/iuFawNrrP2P7rJYYZVgwYN0DPTpk9ndZpApiwTsmqSZXBYeETTpk2xQKqyatmyZWRkNKvHGNcwy+AtW7aS04mqrPr07Zue/orVYwKZskzIqmGW4cy5fDlBT0+vbdu29DwhQj+0bdtOX9/gckIiq7t4XfMsKyn56Ol5QlpGpmVLTs5IBTVs2KhT5842NjYpKams7hLUlGVCVg2zjBgnyZs3OS9fprwoT48ePV65chV3ojqVnPzCyWkF/q9uYRVLly5/+vQZd5qtl29yctEnrF5iueZZRlxc/CErK5u7pWXk4+N76tRp7kR1KiQkdNmy5dyJ6hQOv1Wr1nAnyig1Na0q9/t5TVkmZNUKyyp2cHBIx44dATtWXOh++PBR69atHz9+wooL3dnZr1u3/jUiIpIVF8i1xbIKjHlnzZptZT2+Kgvh00uWOA4cOAidwIoL3ae9vHr26lVQ8JYVF7opy4QsEWQZzg2sce/evay40L106TKsCDkgKy5079zpihVNmjSZFRfIIsgyXG/atW/fuHHjFy9TWFXCNVKhrl274twODLrIqhKu0Rta2jroGR9fX1aV0E1ZJmSJGstSUtNatGiBNUpKSn3vL3pCcWFhUYcOHbGiHj16vn1byKoVokv/eiuBFSEHTH+Vwarl3yLIsqNHj5FNwlCdVSVcHzvuSVZkOno0q0q4vnr1GlmRiYkJq0ropiwTskSNZTt27MTqiC6FhLJqheiTJ09xV/PLL6e9zrBqheiAgAvc1fzyy549lU82RY1lJSUfNTW1yCZ169YtNzeP1UBYxhaqa2iQFTVs2DA5+QWrgbCMFdnZTSUratq02dOnz1gNhGvKMiFLpFiG02PoUGmsjmjUKNMf3hGvnD+UfNQuHUoQ6Q3Xr0p6UoGxWAMDQ+5qfvlFUVGp0smmqLHszp27jRo1IpsEHfU4xmogLN+4cbN+/frc1VTnPYHU1HQyJiDauHETq4FwTVkmZIkUy+LiLjNHLXZk48aNHz16zGojFN+8eQtHbZ8+fbGifv36NWvW/N69+6w2QjFOeHwKclDiozVo0ODKlausNnxa1Fi2ZIkj+VxESkrKxcUfWG2qbmze3Ln2JiNHEsqMMh2NAXs13RPYtGkz+SwQPtqAAQOKq/MuB2WZkCU6LMNRu3jxkq3bts0t3ce9e/fBSnF4sZoJxUFBwaDknDlzsaKFCxfdv//wYvAlVhuhePWatVu3buvTlwNNB4eF+DjLli1nteHTIsWyt2+L9PUNzgdc6D9gAJYzxcYGo7O4uHhWs6obaSwWi43s0KEDVhQaGvb06XMkUKxmVTf4OHacFXOLw/ucz9ix48LDI1jNhGjKMiFLpFiWnf0a/+N4xRqh8PDIar0rz7CMFReiCwreBgdfIh+HnJNZWdmsNnxaxFhWSHYNufD06dMnNzevKl9O/KEZlrHiwjK699279zNnzsJaevXujU9XUvLx9es3rGZCNGWZkCVq9/7hoqL3cnJyWKmComK1PuZTAyzLy8uXl5fnfBYFxSoOwURtjEl869Zt8uVEZKBVXFTFrm6WwQkJic2aNcNa1q5bx6qqDlOWCVkiyDL4woVAsiOn2NgWFb1j1QrL1c0y5Cnjx0/AKurXr3/xYjCrVlCLJssw+7Rp07GoJk2aeJ05U304q26WPX78pH///lgFcsxqTccYU5YJWaLJMqT3Dg4LsV7IyMjo+fMkVgOhuFpZ9uzZcz09PfIRljg6smorYdFkGfzmTY6kJOcgadiw4cqVq6pppFmtLPPzP9+9ew8sv2nTppGRUazaajJlmZAlmiyDMSKbPmMG2Z3I/CdMmOjldQajgCtXrgrLlpZjsXAsmRWvirGFp097IR1r0oTzOhBkZDNnzQaGWJ+uEhZZlsHJyS+GSnMfpunWvfvSZcuQh7J6popu06YNFr537z5WvCqOio7ZvdtNXZ378FrLlq38/PxZH636TFkmZIksy+APH0oOHjzUuXNnbIA4qnPnLkeOHBXWtxdEmWUwxmUzZszESJNspNhJVVXt2rXrrA9VraYsE7JEmWXEr15luLjsUFZWad26NYYATYRn8iwb/mfFq2II26mqpoZtzszMYn2WqljEWQZjUbdu3Z4z137AgAHNW7Rg9UyV/A8iGzVqxK6qgpHvd+rUafRoM6Rj1Xdb9numLBOyRJ9ljHNy8l68SHnx4qWwbD7GAh9t1KhRrHjVnJJTPd/mEX2WMUYqmpGRWaZnKu+HDx/jCoENPnToMKuqKk5NTat5hDGmLBOyxIhlQvekyVPw0aysrFhx0bQYsUzoLigoJPfLfHz8WFXia8oyIYuyjLKMtSIRNGWZCEr8WCYvr4DaFdX/kq+aN2UZZVktmjwSRFkmNP2QZRYWlqgdNcqUFf8JTFlGWVaLJmeWlZU1K05MWSawfsgy8k5UHElZWa9ZVeJuyjLKstpyYeG7Pn364BNt2LCRVUVMWSawfsiypKRk8iW1NWvWsqrE3ZRllGW1ZT8//9Kd+cv3HmqjLBNYP2QZjnW7qZyXbTZv3vzy5QRWrVibsoyyrFacm5s3ZOhQfBx1dY3vPUp9//4DyjLB9EOWwSmpaT179kSbjh07xsTEisXRz4/rMssuXryIRUlLS1fTm3uF65+JZYWFRWPHcr4817Bhw7CwcFYt48jIKLRp2rTp33//zd1nIiZRZBk5Sjw9PVm9yevY2Lg2bdqiGcabDgsXYuApFudAxRYvlr19W4ithd68ecPdeVXQ9evXsahu3boL6ytW1eqfg2VIAnDi6OsblO7GX5YsqeiNA+fO+aANPvXXr1+5+0zEJIos61v61lNX112s3mT5ypWr5P2oUKNGjeQVFCZMnGRjYyu+7t+f805UcWHZy5eppPMLCwu5O68Kys3NJUtLS3vFWpEImmHZ4cNHMUoQOz97nuR/PmDatOnM7wnMmDmr4vfZrVu3Hs0UFBRwhnL3mYhJ5FgG2djYoNemT5/O6s2yzsnJdXRc2q5du9Ld8ZNIXFh28WIwtrZx48ZCuYGChTRv3hwL9PQ8wVqRCJphGfnNBLET+eYvUYcOHQ4cOFhxOoxBj5a2Nho7OTlxd5joSRRZdvr0afTa4MES7/l7NU129uuz3ucANcuxYy0sLMXXvXr1xgcXF5YtXLQIW6uoqCiUCzUWYmnJeb7JcMQI0b9dwLBMfIWMTFpaev36Da8yMn94x/nx4yeNGjfGXI8fP+buMNGTKLIsPz8f14169epVcCfyp7QY3S/LyyvoUfrnl+PHj3N3W5V17949LLBho0YJCYms1YmaGZZt377j6rXrYucbN2+lp7/i89YkSDdr1mx82M6dO4vszTJIFFmGS7SEBOeHtfUNDH6CO/r8W4xYtnu3GzYVl5ySkhLubquysN+Hlj4ZoKOj++7de9YaRco/x71/Po1LS9OmnBd5njt3jrurRFKiyDLo7t27yMugI0c8WD37E1tcWPbs2fMOHTpiUxcsWCDcO8GPHj3CTseSV65cLcqP2tQdlmVmZpHEAv9/+/aNu59EUiLKMpwhFhacl3m1atUqPv4yq39/VosFy968yVFRUSW75tOnT9wdJiRhvy9duhQLb9CgoZvbHpHFWR1hWXb2azU1dXzMxo0bp6enc3eSqEpEWQZ9+fKle/fu6Mf27duHhIaJ8lVaWBZ9lqWmpZODu2HDhrdv3+buKqEKF399fX2sAgPYJUuWVOtvXFbaPz3LcLrdu3dfTo7z84MNGjS4ePEid/eIsESXZVBeXh5Aht7EcH2504qcnFxWj/9kFmWWFRd/OHfOp0cPzo8D4eD29fXl7qRq0J9//mlgwH2AU15ePjg4pIo/5Sl0/9wse/36zfr1G8iLc3HRCggIEO6dhGqSSLMMKiwslJGRKT2qOX9GcXJacfXqNRG/MVxpiyDLcH1+9jxp3779iopKZC80a9YsNja2ug9uZGfbtm0ja4RkZWU3btwUFxefmZUtCn8O+vlYhnMqOfmlr6/f1KnTSAIBtWvXLjk5mbtLRF6izjLo69evu3fvJn9JIWrRouWgQYMlJCV/Mv/6K+f0aNW6NStea5aQ7NSpE7kZD6EwevTo4uJi7o6pfqWnp2tpaTEbAGHgKSISte2punj7Gaebs7MzEmTunhAHiQHLiD59+uTm5tavXz/eHqeqGf3666+zZs169epVzY81sMbMzMytW7di12Nsy90gqupRixYt9PX1/f39v3z5wt0B4iOxYRkRjmzkBch7Q0JCLv10Ir8rbmJiwp0WAd2+fTsnJ0cUnpDErscJho0BUmtdjx8/btmyJXbWqVOnuCExFy4Yb9++xY6u+cuVsCRmLPu5tWXLFpweBw4c4E5Tiaq+ffvWti3nNS1idDvppxdlmQiJskxcRFkmgqIsEyFRlomLKMtEUJRlIiTKMnERZZkIirJMhERZJi6iLBNBUZaJkCjLxEWUZSIoyjIREmWZuIiyTARFWSZCoiwTF1GWiaAoy0RIlGXiIsoyERSbZWvWrLH4r5YuXZqXl8etFlzr169nvsFXUFBAnirG/4sWLfr8+TOJC1E3btxITEzkToibKMvERZRlIig2y3R0dK5du1byj96/f3/p0qXWrVu/evWK20JATZw4kfnNsaZNmzIsMzIy+vjxI4kLUQEBAd7e3tyJSunr16+vX7++cuXKzp07N5fKxcUFnZCenl7dv3JKWSYuoiwTQZXDsrI/3RoaGjpr1izuhIDi/XoXwzKINy5EVZpl2B6kn8gWW7ZsWa9evRYtWgwYMGBcqZSUlNq0aYNgkyZNJk2a9Pjx42raeMoycRFlmQiKL5bhJB8yZAg5gZFMrVq1ytraesyYMTjrmG8dY++eOnUKpzqqbG1tmYUEBgZiLJmZmbl///4GDRrs2rULZMSiQBzmjSIZGRl2dnZTpkwxMzOLjIxkSBEbG4ucLiQkBMmdpaXlwoULf/vtN1KF9R4/fhzbgDWOHTv20aNHJF45lhUVFU2ePBmbB36dPHkyPz+f90u2KODTvXv37sKFC1paWmimrKycmprKNBCWKMvERTXGMqwIY6O0tLSoqCicCPHx8Rgh4Rys+rGHE03yv1JXV/f396/0kqOjozF8IWWcUMyvpvr5+WGUQ8pCVHFxMVDDnSgVXywLCgqyt7dHAd0qKyuLIRg+MBQeHq6hoYHuRhXOQy8vLxIHm3r16vX7778jrqenBzSgDT4b8hpwDSM1tBk6dCjGsGhw9+5dZryJqg0bNqxfvx4NMDljxgx9ff179+6VLvV/ERERSJFI1Zo1azw9PcmqsUzECwoKUBaUZVgaCNWsWTPsS2wJWWAFQvuUlBQDAwMQDR+ZQblQRFkmLsJxUq0sw2H25MmT+fPnk9ciNmrUCMOFVq1aYbjQsGHD+vXr46KLMwWnKjkdKqHz58/v3LkTZyUjnNfDhw/ftm0bt4WAArBiYmJIeePGjdnZ2aQMBFfH69SRWyCl4E6UqhyWxcXFAatEwNC5c+fQiWTLZs6cefPmTdISQj9io0E6lLFcLJ3EIfTU27dvUSAsI0He+2WEZTgmBg0a9OHDB9IAQhXARHgKljk7O5M4hKoOHTp8+fIFc+nq6vLevTp79izSPRQEYhkW6OjoiMEj9p9AVMKMWBGOsNGjRwvxJhplmbio+liGQwtnPjIGHJYYDOHsy8rK+uOPP3CY4RDF/58+fcJKcZB06dIFbZAHIHXgziyIcIaW/W1TjHuAS95zAdsDcSf+qwqqeFlWVhXMSKog7vQ/4kZ54nyxzNDQcBqPNm/eDKihCp+wR48erFMX/YjRHwqbNm1CDlX2BnnFLMvNzQWVSC0jHx+f06dPowCWPX/+nAQhzCUhIcEMMyFEsJsBzWHDhmFsiAj/LMO8Dg4OuMohuyRbJagwcMZlEweTsLIzyjJxUTWxDNdp8uPt48aNA8IqPixR+/jxYwwMkabh7BP0ICyXZVgmTlIySPrzzz9xQIIG5ubmuGYjayNtIJz1iEydOlVLS2vJkiXklMfGYAiF0Rjyg4EDB5qZma1YsQJbheyH6SVkf0gGkf1ZWFiYmJjgDCJxcAPD5wcPHowaNcrGxgYQZ3ImbBKyJUVFRTs7O8ALs5NPyhfLyo4xifDZBg8ezOpffGxsN4LYu4mJiePHj+/cuTMWgi0jLStmWVpa2tKlS0ktozt37qxatQoFsAwDOhKEMBdGgoRlL168GDNmTL9+/bDv0ePoVkFZdurUKYAsKiqKO10p5eXl4ZieOHEi+VxVFGWZuKg6WAZY4Hju06cPRpf8H05oiWO+WbNmuJzjus6N8qFyWZaTk4PLMz4deKGpqcnc3sGpihOWpFpIDDGWIutClYeHx8KFC1G+cOHCmTNnSPs1a9bg1EYB8aNHj0ZERKCAxWIjb9y4QdpgOfLy8miGKoxPwS8yOyZR1alTJ/Is17Vr1zAcxLwoo3bPnj0nTpxAuUosA32Rl7Hwjw9vYGBAtoAIawWAME68fPkyJitmGfbfiBEjSC2j4OBgd3d3FL7HMnxIJNi4DpBPCKEfBWIZLgiNGzcGNZgtR4EpCyRcQBo0aBAZGcmdroIoy8RFOPCEyzIckK1atdLQ0Kjcy6lxinXt2hWpBv84A8vmz5+PhIjRxYsXu3fvHhYWhlocz+vWrSMtiVJTUzHwwjmCc3bkyJHMyYJUi4yiCMtIkHeMybAMuQ4rcUHuicwOiyIs4z0BN2zYQP5icPjwYd7hKrIHrB2FKrEMa8JSXr58yZ0u1ZEjR4BJ9OCcOXN4N+XWrVvbt29HoWKWgY89e/YkfyUgQhWST7KW77EsKSmJLJwRRov8swzLAWrxScFlLB+DaGS2uB6iW7Gc+/fvM4jkR1iak5PTr7/+KtBVkSUsBJ2A6w9Oj2XLlrEuGFSiJuGyDPxCNgSQVeW3Qj58+NCxY0dkBnwePGCZqqrqVh7t37+feYx0ypQpvKcehEMUBzm2EEImgfYABdaFOGnwQ5bZ29s/ffqUBIkwL+iJjw9s4ULOjZbq4MGDzF8S0AzCEBCZEwaw5A+AVWIZhI+qoqLCPK8P4vTt2xdgxqIxbr969SqJY3L16tWxsbEo87KsdevW4BcKaEBYhrK/v//cuXMJPhD39fUdN24cCpj8HssKCgqkpKTIKB3B27dvKygobNu2DWV+WIbMuX79+qCwrq4uDkfAdP369eg78BHdVK9ePVzfcJnituZDwFDz5s0PHTrEnRZQ+IzGxsbYpHbt2vXp2xfEx9JwVUSmzW1BJWISIstw0OLi3b9/f94reuWEU71Jkyaurq7c6QpV7hiTETYJsOBO/COc7OTPdKAPZh8zZgxySQsLC/K9oB+ybPz48QwKGOHMLSwsBMt27tzJDZWKYRlqAQQMOSdNmrRr1y6sgl+Wbdq0qexn4BWSYWRnyMLMzc2nTp1KeAQBMQjisrB48WKMtMEUrA9x4Jb5M2V8fLytre2+fftQtXz5cpJOo4w4LkorVqxAZgQkMX89QC+QbiJCS+So2OUonDt3DjgDMTHCRT5cVFRkY2MDKIBrGGBzZyhPmBcIwwCzUaNG6AvWY2IoY41GRkYNGzYkKS6fwgGEg1vQfAqrA0BBrkWLFj19+uzvv7/iJMGlIiIyytBwRMuWLZGBcptSiZJw/e7cuTPAgesiN1RZxcXF4fKJQxcHD8jo7u4OEOCswcANWQXvwcmPfHx8cGDzDsq+p4pZRs4m7kSpsCUkL+NOlwqHK4iDIx/n7A9ZNm/evArysnJZhgYSEhIY9jL9gDOdX5bxIywInwFiVkD0vTg/IvMKNGMlZoEAXxw6FQ/lsExkajgm+P9rd3FxMfDH2lUVC2vZsWMH9uX10ruhiNy8eUtf3+CPPziHCw4OF5cduO6BtqXNqURCGBPgCopBFnZ3gwYNcL2xsrK6e/euoMchEZiIRU2fPh0g6Nq1K3laG2kIEgWwEqm6rKws665OxcIZIScnh9m5099XxSyLjo5GbsGdKNWLFy+QqeBjYkbev5ghgkQEx/8PWYZx24IFC0iQCOcXBoJYwvdYhjO0W7duvH0L9AuTZWKty5cvA2TDhg2rOIdCZyHjY92PrEBohvGvi4sLd5oP4RhFRsb7vF5sXFyPHj2Y+244LnHa9OrVS9B0j6o6hF2MpKlZs2Zjx44LDAxKTn6RlpaWmHjFcenSdu3bY6hViRumOIdxZcXpCjJipIKkgznesPfT09MxBkIVGMHncQjhiAIEeQc05apiluGQ09bWvn79OtYLvX//HsMgcvcJ/+NQJ989gF6/fj1w4EBsLS/LMBj09vYmqQbDMkwOHz4cJyCZEVmFtLQ0SRcqyMtA8+fPn5NZsrKyJk6ciPE4upqy7P/Wrl2Lo6eCe4KMsJPQkv+rorOzMwbX3IkfCTvG2Nh4wQIHFLihMiyDcMT07dtXKH8kpaqKsJu2bdvWvn0HclpCIaGhW7ZuJeXMrCxtbR3kC8izSIRP4dzGlRV8/N7NBKx3+/btyNcqvnPCKyCjY8eOe/fu5U5/R8+ePat4gIzPsnv3biMjI2R51tbW4Ai34v/+D1tramqKOGoXLVpEHpMCcZivEoJT2Gzy1BuSVma4itHGgQMHyDNrlpaWzF3pzMxM1i2dW7dukcc1AOVRo0aZmZnhfMG4G0vYs2fPxYsXP3/+fPjwYdKYqM6xDAm8oqIiL0G+J7Tp3bs3/1/puHTpEv+3zL58+YID9Ml/x6RlWQatX7+h7GMrVDWs+/fvY7x/48a/SfRuNzcDQ0PuxP/934eSEhVV1SVLlnCn+dDvv//etGlTpF0V3xXFcQhetGvXjtxf5kebN2/u168fPwf5z6S6xTLsXaQ5GzZs4E7/SCtWrJgwYQJ34kfCdQl4QkoMVv5QgwYNat36V4AvISExIjKS2MVlR4cOHS6FhDCRFy9fhoaGtm7dmrsOqtoQDhuMa3BR4aUDi2XQw4cPASby1T1+lJqaiqSs7LPiZYXLG1hGHuPiR0i4MKSoxJhXrFXnWIZU64fpNyMkZchvuRM/EliGQ5N/9ezVC3NpamohFyMCyEDD7t27c6d79NixY+f169fr169PVkFVKwKekEDl5ORwp0tVlmUY3BkYGB45coQ7/SOFh4djzzJv96tYq1evlpCQ4E78SMXFxTjA+Kfqz6E6xzItLS3WXcYKhCshyMJ7Na5AQUFBjRs39vDw8OdD27dvR2PWE2TljjHPnvXGNnAnqGpDN27ckJaW+fvvvz9+/Fjyj7Y5Ow/T0+NOlOqvv/7C4A6JP1ItfiQnJ9ezZ08QkLuaCnXt2rUmTZrweT8Oo1ew7MGDB9zpuqE6d7/M1tZ29uzZ3Ikf6dmzZ7hyku+F/VDm5uasvx9XIIwuW7VqxdxIJiqXZVOnTVu+fDl3gqo2FBcXZzp6dH5+fosWLUpT6vLl73/+8OHD3An+pKqqyl3Hj5SRkdGoUSM+n6clLAOCudN1Q2yWDRs2DGdvWb1//57bojqVnp5OkqZTp04x73UTrg4dOtS1a1c+iUP+JLRx40bu9PeFAUjDhg35H5BCq1atQm/jas+dLo9lKSkpLVu2fPHiBXeaqjaEYb6srNyff/6Zlf06KyubeN369Vra2swk/NunT9u2bUNetoI/ycvLy8rK8nko5ubm4jTk87KKJBEs433cpy6IzTIdHR0ABf1bVtwW1SmseseOHSggo3748CEJClfkrhbvG9MqFpCK62HFNAGPVFRUsFjm+Rp+9PnzZ6RmLi47mFEGi2U4IrE7kEjWTOdTfU8FBQXNmzdnff+m3PtlRkbG/N8vu3DhQrt27fj8wzdSrcaNG5PvBf5QOH1wNJb9wtDPrXJY9sNnr3BqYbcxZyAjJl723PveLBBvFcOysiLNBFpyufrrr7+aNWvm6+vLnf6RsPxJkya1bt0aOCu7dghYNDQ0xKFTr169Hz6gyNLjx49xkqxcuYo8oYOP7+a2B2TEipCRaWvrKCgo8DmsoKo+YXf069eP9XROWZY9ffoMlz3yfmN+lJqa2qBBAz4vq9gGc3NzPT29cg9CXqEBzmIcjRU/w4Fm5MRh6YfLF4rI2nkLVZcALCsqKgJokpKSxowZs2HDBmTIvO/MwS6ZNm3a1KlTZ8+ebWxszDwdhwb+/v5aWlqYRVVV9fjx47ybjguIpqbmsmXLxo4de/r06eTkZMKy+Pj4O3fuoIDlgDtXrlyxtLRcu3atlJRUUFAQs9J79+5hmLZgwQI7OzskUMxcFWv58uU4NPnvQQwuxo8fj8PO0dERqT7Z3xDG3fv27UNu1aVLl/bt2+ODMBvGv/ABsTH9+/dfs2bthcDAxMQrXmfO2NrZtWzZCgyta39WF1nhQG3Tpg3vWIHFsk+fPmPIOX36dO40H8JVqkmTJqxnRCvQ06dPQai4uDju9HeEEwRX1t69e1d8NJ4/fx7kxUWapfDwcG6L6hROIpw4KOCEAi5IsIoSgGWvX7/u1q3b3r17SR9ha9CY7F0Ml4YOHYrNKm3I4VqvXr0+lr6d0sXFxdXVlcyC/3fv3r1ixQoy+eDBAzMzMybHxuGiq6tLWHby5Mng4GAUbt++3adPH2TjZBZkVRiFkfQHiRJGdsyXXSMiIgYMGHDx4kUyWYHevn1bv3598k5tPoW1o33nzp1xlDRt2hTb0LJlS5RbtGgBnMXExKBc6d/lRA9g7ABYd+zY8ddff8XnBW3JSJ/bgqq2hX2xcePG7t27My+D8fH1Xbx4MSljNDdyJOe1UayvXlcsLFNbWxuXSe70j4T2ODBw+H3v9gsagEQNGzbE0YjDkhv9jir+DlN1i2EZRiT8D5IqVjkswxCMi+h/pK6ujiqwDCcz7/Aep/fBgwdR2LNnD5IvEiQKCQl59erVp0+fkHHwzoLulpOTI8/USEtLs4b0M2fOLMsyGRkZzFVaz5Gbm1t0dDQio0aN4v1eBaSmpsYPyyDyxjEysuNfWGl2dja4g0tfZGQkUiqMB/HpFBUVkR7ybmTlhCXs37+/6suhqg5hv+CqDJTY2NhGRUfn5OQWFLx98ODhli1bO3XqZGhoyLwLi3/hSG7cuDH/d2+xDfb29hgirFmzpqSkhDlUUMA5hSERqjp06IBLNZNYfE/8sAyLRfKIwQGzIkagNsawvKc2ESD1vVl4l8awrKy+t1JMIlg2zqgcluEUxZpYQhVYZmJiQpoRJSQkgCwoADflvikImRfGZdyJf4QrBq4e6AsMzciSGSG3Ksuy1atXl1Zy5enpCYZixnbt2vH+ERACWPlkGdaOq6ienh5rAwQVunXdunU4HH946PAjDFpxquAY5U5TiZiwuzFqmT9/ftu2bXHJR1bevHlzHEU3b9783glWsXAAd+3aVaBnbrAinBpI4TFCVFBQsLKysrCwkJKSAsUwrsSZJSkpaWpq+sPtqYBlOCn09fXBgcmTJ2MctnDhQmCBufDj3EFCOnXqVHd395EjRzIDNfx//fp1XNQRwVmPIRcvE5B2YNS1ZcsWZ2dnGxsbHOqEZRgkkWeksFj0ZFJSEmqxZFtbW4xUmOfpAJ8RI0asWrUKwJkzZ86zZ8/K/mKvYGPMMWPGcCdKxbAMI0rwkgR5hc9W9s86gYGBJ06cANTLfmUMyXNZlrEeiWBYhsSKRSLsGz5ZBiFtxIGIfqk0zrDxu3btwjHE/0orFsbjGB3w/4cwqtoS8hFcvXCIkj/UcKOVUkBAAA4hnFzcaf6EkxwAxclCvviNYwYUwJF86dIljDFZ45VyBZYdOnQIs7CEj4P/MZrmfcv+uXPnHBwcSBkJDc5K8qnxP5hCXqt99+5d0IdJL7ANEhISIBTKuDwPGTKEoSHO/QkTJrDulwEgbdq02bCB+0Ux/L9p0yZyLiBNA6aZrzFgOSoqKkZGRmSSkXBYpqyszPrzDT4DtuDx48e4iHFD/2jz5s2YETsDyTDpLEYYmfLJMnxUJIOs5BwXEIGwgt2PlArXAVZ+x49IXyOZP3r0KOn9KgqnB4bzYBnS1bKpO5Wo6dq1a2PHjuVOVEE4eDQ0NAR6Vf/3hHOwZcuWGH7yc0CCZfXq1cMBzBJAg7Oyc+fOvN/ZAoz69u2LxSYnJ48fP553+UVFRbGxsYjIy8uzIID0ijylBEoggyFBojt37pRlGU5G3nE6sg3Sw97e3l5eXiRIFBQUVF0s8/PzQ4ZCgkQLFiy4d+8egIUzk3cngRr9+/cnfxbA1vA+t4XuQBrJJ8tQQBvmzwgQsA04CpoipaamYvcPGDDge49clCskz+goJPnM63OrLnQmji2wDEI+y41SiaSw0wEgHAB8PrxasZBoYJCB87Yq1zBsCc41VVVVPhdS8RgTIy2SUhEBcOQ7LTj7wBFulEc4x5E6sVKT7OxsQhyMLlk3YfCRy7KM9RA7YIrBMgrIUZAVkSARkj6+WHb69OknZYQPUwHLQCiMk69cuYJNga5evaqlpUU+GOCCoS/BLTbXzs7u1KlTnJlLX+qmqKiIkTNmQWPkk8hX+WcZZkHei3H7jRs3QG6MFsHTSgz3kNyhN5HnT5w4EX2EjeFWlBGqQLGtW7c2adIEF1Lm1/2qLiwZPU9ABmF7KtgMqloXDl0cMNhTyMq5oaopIyMD5zZwxnvh51+4kPfo0QOXZJIl8KOKWQYwMfeqIIZlGJbeunWLG+URGmBwxjpokbJhaIkChoSsr9Bj4WVZ1rNnT94lMCzDaZ7y3xd2g0U/ZhlYcLg8YVOAUtZLAbEyhpfYOOxX5J/jxo0DfZhdgo0j9/NANAsLC9ZdUixhxowZgIi9vT0WhT1B/t6MLIm8cBJZK8bhpW25wtIYiGBRuBwht8JyUEZOSzAnqDAvhgxDhw5Fjo3/9+3bB3xj1cAchM+O1BoMBa8bNmyIgwaXJuEOA/Py8rDqpk2b4vRApo3zBMcBt45K9LRy5crSi84vbdq0YSUjlRYOeAwswCOBHsdBy6ioKGyGnJwc/yCDKscyzIU8gxstFU4EkAXZDBqwTopHjx4hw0DB3Nyc+YUnIhze/LMMYGENUZE2/ZhlYiSgmvWeCWtra1YuKpDQj8Cik5MTdiSGD8yIDwLCcJxhx2DgLFyKESFXRQaKITPW5ezsfOfOHf5fVkVVw8Lgq1mzZuTAwEEixK89Il3Q09PDlWz+/Pm4glZMNNSCeqNGjcJVcOnSpYIelpVjGcYlUlJSvPiOiYkhLwREssL7bXY0xpiJ3C0BbVlPI5w4caJ16Vv5+GEZugKIZ26lof+RVfxULPPz85s7dy7z4YGhgQMHCgU0WObvv/+OSwdwCaFPsS95e1noIgvfwvNbv9W6Oqqq6NKlSwRkRCN5fvi26sKiIiIiOnbsCELp6+sHBwfjOGSwglqc8xiXnDlzRkZGBmuXl5cnr8MnDfgXWGZlZRVbRjiPKmAZyh4eHgsWLABZMJmWlga0kaeIMIKRlpZ+9uwZ4kjT9u7dy/yeP85K9FJ4eDiWDCUkJCxfvhwLRBU/LINwwZCVlcWqvby8LC0tf7a8DB8byYuSkhL6BXvFzMyMNSYXO/GyjEo0haPOwsIiJCQEwzrsLJxamBT6gYcTHhnN+PHjkQAi9cOwoEWLFl26dGnSpAmyNkSwdnt7+6p8OQQQAZTLipARUMM2cJuWwog8oI4y/n/x4gUyRxsbm02bNgFhpA0EHrm7u9vZ2c2aNSsyMpK1BAw+pk2bhsHNtWvXsBAsEHEkDeQGHBqTHyspbc4RqjBY4U6UNgDWkRiiDWiO851b8Y/EmGVE+GD4kBBvL4ipKMtEXzjScFrif+a3fnHg8aYwQhSWjHXl5+cnJiaCnsikQkNDcXoDndgAbqM6IHzeJ0+ecCdKFRgYiJOFO/GPxJ5lP5Moy8RFvCzjhqiqTUj9+vTpg6QMcIc+fvyIIXDZNxpRlomQKMvERZRlNayMjAyMuEePHm1ubo7/y+12yjIREmWZuIiyTARFWSZCoiwTF1GWiaAoyzhP+Z45c8bIyEi3ttW1a9dmzZr16NGDO117Mv7nN6K5fSQyKikpAeuxedwNrSWpq6uT14RJSEhwQ7UnW1vb2/982bsuq66z7PPnz4MHD8ZBSVVWcnJyv4vSG7qzsrLIkxBULNWrV8/e3r6O46xOswz73tLSEodCgwYNLEeZLrOfR01sZmRcv3599MyUKVO4nVXb+vr1a8eOHbFJzZs3n2BhOcfWjhqebWOrUPrQLBQSEsLtrDqpOs2yT58+kS8q7Vi77u+MzK+ZWdTE6I2Ny5zQMyDalwp/AqPGdO/ePfLUaNQ5H7qzeP05JdVQdxh2loKCQl1Ozeo0y/Lz8zmXs19+Sbtxk3V8UD+Lv4yeAT5q5qdRf6jo6GhsT+8ePf5If8XaVOqjO13ROa1bt6Ysq6NiWJZ99x7r4KBOK/2NRUikWNa/d2/WdgrFSPTeP0/Kvf/gQ1KyOCZ9J/fsRee0atWKsqyOqsZYtm7xkrsRkaxgpV38LOleeAQrKHTXHZa9SLxqbWaup6Vtoqenq6k1feKk7Dt3WW1Yzrp1O+XKNVaQTz+Pi8+9/5AVrKIpyyDKMo6qm2XTJkxMDAxiBSvtR9GxEywsWUGhu46w7OWVq0MkJOL8z5PJv15l+B4+Ii8tU/DoMdOmrMGOHWvXs4J82mne/JDTZ1jBKpqyDKIs46iGWfb+WdLDyKj8h4+YCIyhTdq168/jL39JTeONlzVlmRBtbjLS/+gx3gh2xK4NGx2mz6hgsFmWZZ9epj6Nic28dfuHQ1TKsmoSZRlHNcayiRaW7jtcx4wcZTtuHC7++7duw6Effz5gw9JlEy3GTrYcO97cXFtN/f/bOxO4mtI+jpv3fZnxvubFzFinQWamEIl2MooQUtZsoZIhYawVWaaNKEtakFAIZStZsqW0WopSaW+QaOySfd73/d2e47zHTVxE59b/+3k+fZ7nf55z7u2c+3zP/7n33HNTj59A54LEpLHDR/AbyYqJwerBvn4qSkrfNGqkoar6R+In/MiiNrjsxoWL7X7+uTQrRyp+Oy1dsXWbspzcw9u2uzrM5+Oh69e7L3BcNGt2mx9+UGjRUl9XF8GpFpbbfHyN+xpNGDGir4GBtfm40mzJBs1MTK4np/DrGvXU/zMt3Xz4iOZNmv6sqGg5woxf9PGFXAbIZRI+m8sGGBpOm2j9OC8f9eKUC4pt2jy4nBW5Y2ebVq3Pv3pDLT78gIZalyd5+XnxCcb9jFgQJSMqaoBhH1QoL6uqEr1n78C+/aSCKM8KCjsotytMOhO2ecv8Gb/x8W1eXhAZKsK8DHrC4cBxRB0rzptq62xnj3pfff1r55NZHxRttS4lqZdQobzsE0Euk/A5XZYceYwFkZHpdFW/di4ZLjMzMWVBFjc16p8UcZBcJuRTuOzI9uChA42lgijPCwrVOnbKjo2T0WUHAoNYHeXaufOaXbpCauSyzwy5TMLndFlB0hk+3kNLm7nMznYaH0SZbmUVusGfXCbkU7gsMzpGW10d3pGKIylu3ar13fRMGV2WdvIUq6PgVNT+Z6X7mVnkss8MuUxCtbvMcvQYPogywcwsMngHXCacASUeOEguq1qXPc3LV1XpmHkqRip+as9e/W7dkZ3BZQ7TZ/BxX7elb3RZ1O49rI5yL/Nyp/YdHufm9empz7+unuYXqCi3I5d9UshlEqrdZS2bt+A/1rx5MVWlXfs76RlF55PV1dSQI7C401w73mUjTAez4KcrtcFlKLAA9ip7t4uVkoupSNaO7wpF/UTo7pGvdjXUNmTAAN5lSxc4sjhcNmmsOZay5g5fvwkjR6EyZMDA0/vCWDDjVHT9r+rzLgvbEsjiVVXIZYBcJqHaXWY2eMigfkZbvdYGe/sY6OmtX74CSzE8EJxqYbVvY8Cy+QtsJ1qPKH9bjX1oYDvB4mbK/z8mq/JSS1yGCaarw/ye3bpjn4cFbFrj7KKtrrHRcxVbejc9Q7WDipvD/P0bA2ZNnmJjNZG57GTo7o7t29vZ2KAOl82cMtVmguUef3/PxUvU1brkxEouow329dPuqr7d22fbWu8xQ4cZ6PVgLlvnvry7ltbKRa9d0vGRhVwGyGUSPrXLsqJjMCpQuXTiZFlOLh+/ePQYJiNwGSYyRefOr3VxdZ+/IOUo9+EACvKFwNVrlsyafXxXyMPL2bFh4Sx+9ey503v2PsrK5ntWeaklLmOlICFxwwoP7OdNK1cJL6RAKU5OwXFZ5jD//OEjWJR6/CSLZ0bHxIdJ0i64LP1UTFxYuKudPYR4q1xYKC8K/zi9b7/TnDkbPTzvXErHyYwdepyiLkQeRWHdqqSQywC5TMKndtnbC3OZVLDaS61y2ccU5jKp4Gcu5DJALpNQvS6L3rvP3XGhVLDaC7lMxjJz0q/ZsfFSwc9cyGWAXCahel0mzkIuk6NCLgPkMgnksoqFXCZHhVwGyGUSyGUVC7lMjgq5DJDLJJDLKhZymRwVchkgl0mQxWURQVt/bN1GQ1VVWNb87iTV7Y0lYuu2Nc6uUkHZy8IZvwm/8ceXkHXr3crv4mDSf8C9zMvCRR9f5Nplyx0XtvvpJ6mDdXCrTFfbr1i46NiuEKmg7GXogIF58QlSwecFhYY9fvkzLb3kYuqnuM6ZXAbIZRJkcdlu/40TzEZKBWUsuzcGuDoskArKXmZYTQzd4C8VRAlcvYZdzOG91J3dZ6YKi1y7bOHMWStlO81ULItmzca5Ryooe+mp2y27wi1n4TI1lY4lqZdwylm3wkNq6ccXchkgl0moEpelnTgZHxbO7qR4NyMzKiS08NUl/sxlzwoKzx8+khAWLrxcFuVOesap0N3pUadeCG7j9ygnN35/2MXjJ7CW0GWSjRyJTDoQUZabx7vsespF/gvST/MLzhw8lBB+QHhPxyd5+ecOHT536Aj/VZt3lhrsMraLko9EPi/f4deTU07uCvkzNY0tZS7DMcL+T448+kzwUynon3EqGkcWx5cPoqCJI5hTfmWG0GW3L6VjywWJSbzL8NDFF/5/x1o8yuk9e/EowuNSmpUTt28/HoiPvLOQywC5TMLHuOxhVraRYR8bC8vJ48ZZjByl3lltt3+Ameng2ZN+1ezSxctFMrWEy2ZNsTHtP8Bm/ITJ5uM0u3TFy5etvmW1l7a6xm8TrYcNNMZa7IuBsfvC1NXUpk6w+NXcfOhAYwuzkcxlBQlJeto6lqNGTbe06mfQy/G3mcxlerrdMJxi9u4fM2z48EEmthaWeKqd2ndg962HJfEQ1mPGThk/YfSQoSOMB53avRfxt5ca6bLLMaexk0cNGTLdaiImgyZGRn7uy8eNMMP+b6+sfDR4J/rAZR6/O/XVN0Af82HDe/XoUVR+u4s7l9JxBEcMMkFnHQ3NkPUbEMTpZ+tabxzQmdbW5sNH4GWgp6UNlyG+bpk7dvusSZOwz2dPsVHtoAKX3bhwsbe+AVb0cVs6c7KNiVH/mdaThgwY2LvHL6Xl3+KIDN6Jl9A0C8vxZiNnTp7StVOn2+mvefONhVwGyGUSZHSZjrq6n9tSYbl54SJcpvC9womQULx8UaZaWGAYPM2TnMxxwu/cqZNk3Y0BP3yvkBHF3Rkm6eAh7a7qj3Pz8+MTdTW1bqdJvvWCdTH8nObZPbycpaHW5dLJKNb5zMHDTZs0hcvQYZjxIIiSxTHAVFU6Mpd119FlLmverBmyAETQecmcuW72DkgrDH/pyd/PPiniUKOGjWqDy4YbDxIeqQAPTyRBcFnzZs1z4yQJFDLZHjq6syZPwb5CMz78gKlRf1TgMuz/22npqGPRdm9f6A+V+TN+W+XkzDpjKU4qOFUg9e6iqlpSfl8ALNrh69fgXw3gstTjJ+A79iYm4htWeNSvL/luOVzWq6c+gt6ubtrq6uybbUj3oLOIwCC8EtQ6qeaX/8Ih1gr29atXrx65TEbIZRJkdJmuhsYG9+XCcvNCKlzWuZMqm62g4OXu8eprwxg8P7ZtK1l3YwBSNhZEwcu0f2/DlMhjvkuXudjZ30hOYSUzOuYX3W4YVPy9GVhnvNDhspKLqVrq6sIpj7OdvZTLxgwdhv5s6f6AzdOsJmafjtXvrscHUUGiURtchgRKeKQ2r1zFXDbAsA+/NyaMHHV0hyQXQ7mefEFDVRUVuGyVIKfDWu2UlDHl1+qqnh0Tyx8sh2nTg3181y1fwT5+YQVTxZ/atoXLli1w9FvmzscxbWzRvIWUy9wXLuI7OM2Z6+/hGb4lcPL4CXywNDvn+5YtyWUyQi6T8JFzzF+66/HN1c4u/p4rWf1xbt6PioqowGXOdg4syIrVyJGHtwfPmWLTuYOKkb4+X8yHDtvqtXauja2wM2YccNnl6GjD8mHAF4xPKZcJR8LBwCC4LD7swJD+A/ggCh6iNs8xRw8dxjctRo0+c+gwqxenXFQvT6LhsnDBp8YQn3on1dyEpCbfftuvZ0/hwdrlt97Bdto2bx++M0oPbR24bIr5OOFNyp7lF6p26CDlMt9ly/kOS+3t4TJMS5FN80GYES8PcpmMkMskfAaXTbWwZEFW4JfEAxErHBf6uC3lg0/y8lOOREbv2Wc5ajQfREG2BZcVJ1/Q09HhcwoUz8VL3umy/PgEzKT4tBGro0kuY6Uyl61f/v+PGnFQOii3u385S61Tp3uCt/wLE5Oun0/2cnVb7eTMB1FU2reHy5zm2QWu8eKDeCW0btXqnS47vG37xDFj+eDDy9nNmzUjl8kIuUzCZ3BZmx9aFadwv/CaG5egqtLxYVbO2UOHdTU0sQUW37dps/VY89tpl1RVVPg7zxQkJDVv1hwuw1m6l16P2P3cbX8eXM7S0dB4p8swJzXQ67EvYDMLIhn87ttvyWWsVOayX7p14z8FPrErtI++Ac4B5sOGb161hgWf5uX3722YHHk07cTJblpa/AUx0Xv2fvXVV3DZ6X37JW+bvnpDAIlevXr13umy22npHdq1wzYRweFe67r0X//6F7lMRshlEmR0mWKr1qNNBwvLWmcXGV02eYJFv1691jg5r/7dSVtdI7z8zqIYIfOm2vYzMFi/zN3Fzh5x9r7vdm8fOM7bxXXlkt+NehtOHm8BlyGeeOBgF9XOyx0X+rotNTEymv/qc8y3uAyV7NOx0Nlgo/7DBhpPHGs+ysS0NrisaydVqYMVtmmzjC6zn/6bqVF/v/J3MzW7dGU/8ZcbF9+1s9qCGTM2LF8+zHgQ9jyyXRxBPBa8xo6gaf/+Jkb94bJnBYW/Tfp1cP8B/suXL541x8x0MM5D73QZKrChjobm8IHGxn36Os2169KxI7lMRshlEmRxGeYXmVGnpMq1s+dw/sR0g+92KzXtziXJR2AoeKHnlt9iFOsifvPCRUhq08pVSLVYBxSsfu5wpJ/b0p1+64Qr5sTGBXh67t7gj+CfF1P52Q2SO2wkaM2aq2fPPbycdbM81ytMSMTgKc3KxqyHdUN5kHm5ODkF28+Oi3+cl4/JZkFC4vMCyY88XRDc7rGyItcuw66WOlIo2I04u+CQ8d2Kzp1/9CqlQg6VHy/5fFPy2fTl7Lz4hE2enjt8fIU/YH4nPWOP/0ZvF5czBw9hx7IgjJYcecxv6dLD27eX5eRi+yynQwd083F1O7ErBJErSWeQI+NR/ih/tSD7Zp9fs4LnhgNdlpuXn5CEv9kxp4vOJ2Otju078DdJf0shlwFymQRZXCanBSPNsKc+f00GpkVdOqk+ev1i3TcWuXaZnBacsSTXZMRzP+GMZNz4TT/fWbGQywC5TEINdhlKXlyCUa9evXr8ot+tGyabiREHpTq8sZDLqqUkhB/ooaNr0L37L926YZr5h+DXId5SyGWAXCYhr/xdqhpcMN+5n5F5Nz1DeHna20t6VBT2zBdffCEql7VWUODfUK+pBccIRwrHi5/GvrP4e3hi55DLai+lpaV/+9vf8CJwc5j/QnCtAxWMosWz52DP/P3vf3/y5Am3v6qV5ORkiLVe3brCH6OkglKWkzugtyEOlrKyMrmsloIDP3LkSDZiTY2MZlhZUWFlUN++2CfYM2ZmZtzOqm5evHjxzTff4Ck1atjwV3Nzd8eFVFAWzpzZQ0cHuwWEhIRwO6tWUqtdBpB0qKiosJcCIYWSklJZWRm3p0RAenp6/fr1uSdHvA7OOrU5KQO13WXg5cuXu3btGjt27HARoKWlxdWqFXNz89DQUKRC3D4SDffu3Vu8eHHnzp1/FAEKCgpcrVoZM2bMyZMna7nIALlMRODlaG9vTy/Kd4JdVO08e/bM1dWVa1Qr3E6p9ZDLRERxcfE//vGPkpISrk2ImISEhAYNGsBoXJuobshlIsLBwaFOnTqYQ3FtQqwgGzIyMsLBOnToEBciqhtymVh4/vz5l19+ieHxzTffoM5FCVFy8+ZN9jlv27ZtaZYnEshlYiEiIuKLL77A8ABRUVFclBAljo6O7EjhkOXn53NRolohl4kCnNs1NTXZ8ABqamp0thctL168+Prrr7lDVaeOra0tt4CoVshloiAvLw9zlsaNG2NsNGzYsG7duteuXeOWESLjxIkT9evX/+qrr3CwcMhQEclXI2o55DJREBwcfP36dWdnZwyPNWvWFBcXBwYGcssIMYF82d3dvbS0VKf8avvo6OiMjIxTp05xi4nqg1wmIlxcXDA8vL29uTYhYpjLEhMTuTZR3ZDLRAS5TI4gl4kNcpmIIJfJEeQysUEuExHkMjmCXCY2yGUiglwmR5DLxAa5TESQy+QIcpnYIJeJCHKZHEEuExvkMhFBLpMjyGVig1wmIshlcgS5TGyQy0QEuUyOIJeJDXKZiCCXyRHkMrFBLhMR5DI5glwmNshlIoJcJkeQy8QGuUxEkMvkCHKZ2CCXiQhymRxBLhMb5DIRQS6TI8hlYoNcJiLIZXIEuUxskMtEBLlMjiCXiQ1ymYggl8kR5DKxQS4TEcePH587d25cXBzXJkQMTjk4WH/88QfXJqobchlBEDUBchlBEDUBchlBEDUBchlBEDUBchlBEDUBchlBEDUBchlBEDUBclkV85///Ofhw4f4y7UJkfHXX39lZ2fHxsbGxcVdv36djlSNgVxWxTx+/LhOnTqfaIRgs15eXlyDeH9SU1NbtWplYmISHBwcEBBgYGCgrq5eVFTELX4rCQkJd+/e5RofSlJS0p07d7gGUaWQy6qYT+qyly9ffv/991yDeE8yMzOx965evcofHVTOnz/fsmXL27dvs8hbWLFiRX5+Ptf4UFatWpWbm8s1iCqFXFbFCF2Gv4w///yzuLj46dOnrA9AEH8x3ykpKblx48aLFy9YHLBVuEY5LAKeP3+OgcfqbBFWvHnzJrbw7NkzFiHeCHa1kpLS5cuXubaA3bt3Gxsbszq/YxlsVzNcXV2xOtd4RWlpKSaqUu8qCOugvCOHu7t7RkYGq7NFZWVl2AJeIXiGrD/xYZDLqhihyyZOnBgeHj5u3LjQ0FBUOnTocPToUcTxqlVWVk5JSRk+fDgGUlhYmIaGRmxsbPkG/nvkyJH169ezOsPNzQ0TnMTERBsbm3r16s2ePTsiIgJx5BSGhoaRkZF79+7FxmNiYlh/oiJIqVRUVNhxkQLng2+//RZWQgUzUKFTMB/U1NTEeQL7vH379lDevHnzkB1v3bp1x44ddnZ2Tk5O8fHxkydPnjRpEuJYhW2E1RmYmaqpqWEjc+bMwWEaOHDg3Llz0Q1PBn6cMmUKtuDp6YlF9+/f59Yh3h9yWRUj5TJdXV0kU2zRgwcPGjZsiKECWrdujVc/P7Tw0u/YsSMyLNQrcxkqwjkmq/Mbx1Bs0aKFcAgRQvbs2bN27VquUYFRo0alp6dX5jJWF84x4bI2bdogHWZNEBISYm9vj0plLmN14RwzJydnwoQJrA5OnDgBr3EN4v0hl1UxUi47ePAgiwMEFRUVHz16hNEC70i9+YKUzcXFBRUZXYYx07hxY/iRNbFxDC1ejoQUQUFBW7Zs4RoVsLW1PXPmzHu5TKghgHWbN2+OU4vsLsNk08jIiH84rIKZJqsTHwC5rIqRcllWVhaLAwQxj0ACxfIy4dtnAMOmZ8+e6COjy9DTz88PTSzFZBOKJJG9BeRN2F1cowLm5uapqanv5bLQ0FBW5zE1NS0uLpbdZegDl2loaECyeXl5fIpNfBjksipGymXZ2dksDoQuwwxF6t16ZFhY+kaXIV+r6DIGFBYfH7948eLvvvtu7ty5pLPKSEtLMzQ05Bqvg8OBlOr27dsVXYZgZS7bu3cvq/OMHTsWSpLdZQDHq6SkJCIiYty4cY0aNYqOjuYWEO8PuayKkdFlLVu2xDmcW1AOZhyY6aASGRnp6+vLggxra+s3zjGFNkRTX1//0qVLXJt4HeyrJk2asHckpUhMTOzcuTOODvahgoKCUEOQV2Uumz17NqszsLqysnJZWRk28sMPPwg3UlhY+EaXobPQm3g94BlSdvbBkMuqGBldBiXNnz+fW1C+yMLCAhkW6unp6cOGDWNxgEGIMzbvsmbNmrH4lStXevXqxR6I4ezsjMkm1yAqgIRXW1v7yZMnXLucW7duQT3sMGFntm3bVvhhIjJiocv4SzrgMiTCSIpZEyAj09PTwxaAkpLSvXv3uAXlbxHwLlu9enVmZiare3t77969m9UBVvzpp5+ksnVCdshlVYyMLlNUVHR0dFy7di2aOD/7+fmZm5uztXBixxn++PHjT58+xRzHzs5uyZIlzGXogBUPHz6MEYi6sbGxl5cXtoAHjYqK0tHRwbrlD0W8AeyxoKCgFi1aQCg4YaSkpPz+++9IkIXXsmzcuNHS0hImws4PDw/39/fnXbZr1y6cb3JycrAduAxJtKmpaUFBAfY50mEtLa3r16+znps2bcKcEVNLbOTAgQPYCO8yyGv8+PFsI+gAeeHIwl94RHd390WLFiHOehLvC7msioGnME7YK7KoqEjq+ljML9CBuQyLMBJwcsa84+zZs8IXMewWGBiIRCAkJATdHj58iAhbhFwA22dzJWwnNjYWI3PlypXHjh0jkckCdmZoaKiHhwd2Gk4AUmkajgKyYxwRHBfMKNHk55XY2zh87EpXuGz//v1Yd8+ePThMO3bs4A8QQAcYCscFG0G+hib+skVsI/wrBCchtgUfHx8+SHwY5LJqgLmMZhPyC3MZ1yDEAbmsGiCXyTvkMhFCLqsGMJWIiIiA0bg2IW8UFhZeu3aNaxDigFxGEERNgFxGEERNgFxGEERNgFxGEERNgFxGyCsvX76cNm1aZddklZWVVfzKJOPx48f8Bfd//fVXSEiIl5fX8+fPsakP+0AGz2TXrl1co3LS09MLCgq4RiUUFxefPXuWa7wOnh7/DafNmzff/egbdtcwyGWEvBIREZGUlMQ1KnDz5k0DAwOu8Tq3bt3iv2cOKXh6ej59+hSmwNbgNRZ/L7C6lpYW16icoKCgI0eOcI1KSEhIWLp0Kdd4HTzD+vXrM3c/fPjQ0tKSxQkGuYyQS5BAaWhoCL/CLcVbXAYd8N+RMDEx4a+u+NQuw3N+Z94no8vwd9KkSXS/MyHkMkIuycvLW7x4MatjYB87dszBwWH27Nk7duxgnmIuw6QsMDBw1qxZTk5OhYWFrD+Cqamp8GBsbGz79u0xwYyLi4PIFixYYGVlhSD/xaYrV65gxZkzZ/r7+wu/7YR1MUvFwzk6OmLmWJnLUlJS0PPZs2dnzpx59OgRntKdVz/ChFW2bduGLbi5ud27dw+L2O+nMJeh8+rVq/G47u7u7GvqyCWjoqLq1q0bHR3NvuR78eJFHx8fybaIcshlhFyycuVKCAgViGzevHnwAqwBi23ZsqV3794Iwg6qqqpTp05FBU0kX23btmX3WUI6o6enhxQJTTjo0KFDN27cKCkpgbDgRwSZDWNiYvr16wf7oGdaWpqmpib70iUeqE+fPpGRkahAi3hEDw+PN7qsc+fO2LiSkpKzs/ODBw82bdrE7jP8+PFjBCE4bAGKnD59+pgxY8LCwrAILhs6dOiMGTPY76HAhk2bNoX40O3q1atffvllUVERu5MHgj///DP6SB6JIJcR8ggGMNyBVIXV69Wrx8/d0Bw0aBBLgjDyhffe2blzJ0tkmMtYEJ3fOMeEzhQUFIR39cFSSBMVbAcm5SWCyvz58ytzWa9evfiEjneZvb09VMiCAE8ewuJd1qRJEziOLQK2trYIooIH4ueYrNmiRQv6JhwPuYyQPzCMmzVrxrIk1NXV1detW4dRzY9zwPIyrlFOYmIi8iNUZHEZZo7W1taszkAKpqioCMvo6OhIvVGVm5tbmcuQfHGNVy5jDhLOWIGLiwvvMsyIWZDh5+fHxIcVhS4DXbt2pU8zechlhPyB8fzPf/6TT0kwfZszZ87XX3/drVu3NWvWsOENl0m99w9Vye4yOKVNmzZWAjAN/Pe//42ZHUyESSLrxsB8sDKXCV3DXIYsrEGDBkIlASziXSb13j80XZnLtLW1WXJKAHIZIX9gPDdu3FhqeoUgxLFly5aGDRveuXPnI1129uzZZcuWYZsVad26NeTFujFu3LhRmcuEk1w+L2vZsiWcyEXL8fDw+ACXdezYkfIyHnIZIX9gPCsrK5eWlqJ+//599svHPD4+Phj8H+kyrN63b1+hOF68eLFx40ZEbGxskpOTuWg5x44dk91lqMybN094oRnmrQoKCu/rMlSaNm0qlSHWZshlhFxib2/PLk1AgoMhzb9JjxFubW196dKlD3DZ+fPnnZycWB3bGThwYExMDHMH/np7e2MCi/qVK1eEP+FcVlaGB+revTtrCqnMZZgU//jjj6dPn8ZG0GFiOTK6jH3GCpCWIr9jT48A5DJCLoGY+F/eQ5aE2daqVauCgoL69evn6+uLEV5SUjJgwADWgXHu3DlMG1G5detWnz59WNDMzKyoqIjVIURNTc2RI0eyt/bRNDU1nTZtWnh4+ODBg21tbflPS2EcyCsgIAA54OjRo4uLi5HEsUVCdHR0hL+EsnXrVj4dg4J37ty5ePFiLy8vzFixqQMHDiB+5swZzDdZHwYMePz4cVTwT+H59+jRA+khmgUFBXZ2duVdCAnkMkIuQXoCm/BZCSowAsTBpy1VAjaLtAublfrYEWBiiPRKeNGG7OBJ8s+csWDBglOnTnEN2VixYgX/MwIEIJcR8oqfn987v6otTjCLFP7sOXK07777jr39JyOwITJQKSHWcshlhLyCXMnKykoexzNyPV1dXcwlMzMzo6Oje/bsyd4skx2okH7XWQpyGSHHVJysyQt42kVFRfBRVlbWB0xU5fcf/3SQywiCqAmQywiCqAmQywiCkH/++9//AWWSMQVf6SmQAAAAAElFTkSuQmCC)\n",
        "\n",
        "Similar to the Convolutional Sequence-to-Sequence model, the Transformer does not use any recurrence. It also does not use any convolutional layers. Instead the model is entirely made up of linear layers, attention mechanisms and normalization. \n",
        "\n",
        "Recurrent neural networks are very slow to train and without LSTM the model is not very accurate. But with LSTM, the model makes it much slower to train.\n",
        "\n",
        "First for out baseline model we used seq2seq as our baseline model but since doesn't do parallel computing and no GPU is used we have switched to transformer model which is much faster than the seq2seq model \n",
        "\n",
        "In the seq2seq model the words are passed to the encoder sequentially and there is no use of GPU there. So in order to do parallel computing for the language translation we went with transformers.\n"
      ]
    },
    {
      "cell_type": "markdown",
      "metadata": {
        "id": "yqXRE2RqKynH"
      },
      "source": [
        "First the tokens are passed through the standard embedding layer. Next, as the model has no recurrent it has no idea about the order of the tokens within the sequence. We solve this by using a second embedding layer called a positional embedding layer. The next function after the Enbedder is the PositionEncoder."
      ]
    },
    {
      "cell_type": "code",
      "execution_count": 29,
      "metadata": {
        "id": "yZxEYQ6Yyux2",
        "colab": {
          "base_uri": "https://localhost:8080/"
        },
        "outputId": "f7d876e2-46ad-48c8-d805-0ea314cff555"
      },
      "outputs": [
        {
          "output_type": "stream",
          "name": "stdout",
          "text": [
            "Embedding(10000, 256)\n"
          ]
        }
      ],
      "source": [
        "import torch.nn as nn\n",
        "\n",
        "def Embedder(vocab_size, d_model):\n",
        "    \"\"\"\n",
        "    Create an embedding layer.\n",
        "\n",
        "    Args:\n",
        "        vocab_size (int): The size of the vocabulary.\n",
        "        d_model (int): The dimensionality of the embedding.\n",
        "\n",
        "    Returns:\n",
        "        nn.Embedding: The embedding layer.\n",
        "    \"\"\"\n",
        "    embedding = nn.Embedding(vocab_size, d_model)\n",
        "    return embedding\n",
        "\n",
        "# Usage example:\n",
        "vocab_size = 10000\n",
        "d_model = 256\n",
        "embedder = Embedder(vocab_size, d_model)\n",
        "print(embedder)"
      ]
    },
    {
      "cell_type": "markdown",
      "metadata": {
        "id": "7N3vBW2zLVRE"
      },
      "source": [
        "To ensure our model considers the order of the sequence without recurrence or convolution, we incorporate positional encoding. By using the formula (PE(pos, 2i) = sin(pos / 10000^(2i/d_model)) and PE(pos, 2i+1) = cos(pos / 10000^(2i/d_model)), where pos represents token position and d_model is set to 512, we provide the model with positional information. This encoding enables the model to utilize the relative or absolute position of tokens within the sequence."
      ]
    },
    {
      "cell_type": "code",
      "execution_count": 31,
      "metadata": {
        "id": "YFGQy8Blyzfe"
      },
      "outputs": [],
      "source": [
        "import math\n",
        "\n",
        "def PositionalEncoder(d_model, max_seq_len=80):\n",
        "    # Create a positional encoding matrix 'pe' with values dependent on position and i\n",
        "    pe = torch.zeros(max_seq_len, d_model)\n",
        "    for pos in range(max_seq_len):\n",
        "        for i in range(0, d_model, 2):\n",
        "            pe[pos, i] = math.sin(pos / (10000 ** ((2 * i) / d_model)))\n",
        "            pe[pos, i + 1] = math.cos(pos / (10000 ** ((2 * (i + 1)) / d_model)))\n",
        "\n",
        "    pe = pe.unsqueeze(0)\n",
        "    pe = pe.to(device)  # Assuming 'device' is defined elsewhere\n",
        "    \n",
        "    def forward(x):\n",
        "        # Scale the embeddings by a square root of the model dimension\n",
        "        x = x * math.sqrt(d_model)\n",
        "\n",
        "        # Add the positional encoding constant to the embeddings\n",
        "        seq_len = x.size(1)\n",
        "        x = x + pe[:, :seq_len].detach()\n",
        "        return x\n",
        "\n",
        "    return forward\n"
      ]
    },
    {
      "cell_type": "markdown",
      "metadata": {
        "id": "4eaFLxfzMLUF"
      },
      "source": [
        "The input mask, called input_msk, has a shape identical to that of the input sentence. It assigns a value of 1 to non-<pad> tokens in the source sentence and 0 to <pad> tokens. Its purpose is to mask the multi-head attention mechanisms in the encoder layers. These mechanisms compute and apply attention across the source sentence, ensuring that the model disregards <pad> tokens that lack valuable information."
      ]
    },
    {
      "cell_type": "code",
      "execution_count": 32,
      "metadata": {
        "id": "vAhLYjPey3JS"
      },
      "outputs": [],
      "source": [
        "def create_masks(input_seq, target_seq, input_pad_idx, target_pad_idx, device):\n",
        "    input_msk = (input_seq != input_pad_idx).unsqueeze(1)\n",
        "    target_msk = (target_seq != target_pad_idx).unsqueeze(1)\n",
        "    \n",
        "    size = target_seq.size(1)\n",
        "    nopeak_mask = np.triu(np.ones((1, size, size)), k=1).astype(np.uint8)\n",
        "    nopeak_mask = torch.tensor(nopeak_mask == 0).to(device)\n",
        "    target_msk = target_msk & nopeak_mask\n",
        "    \n",
        "    return input_msk, target_msk"
      ]
    },
    {
      "cell_type": "markdown",
      "metadata": {
        "id": "guTFfnAQM_FI"
      },
      "source": [
        "We first pass the input sentence and its mask into the multi-head attention layer, then perform dropout on it,  pass it through a Layer Normalization layer. \n",
        "\n",
        "The mutli head attention layer is used by the encoder layer to attend to the input sentence, i.e. it is calculating and applying attention over itself instead of another sequence.\n",
        "\n",
        "Multi head attention means many attention vectors will be created for each word and the Wz weight will choose which attention vector to take. (Multiple attention vector for one word)\n",
        "And the rest of the things in the Attention model are normal like Feed Forward Neural Network.\n"
      ]
    },
    {
      "cell_type": "code",
      "execution_count": 34,
      "metadata": {
        "id": "8knxD6o7y5qm"
      },
      "outputs": [],
      "source": [
        "def multi_head_attention(heads, d_model, dropout=0.1):\n",
        "    def attention(q, k, v, d_k, mask=None, dropout=None):\n",
        "        # Attention calculation implementation goes here\n",
        "        pass\n",
        "\n",
        "    def multi_head_attention_forward(self, q, k, v, mask=None):\n",
        "        bs = q.size(0)\n",
        "\n",
        "        # Perform linear operation and split into h heads\n",
        "        k = self.k_linear(k).view(bs, -1, self.h, self.d_k)\n",
        "        q = self.q_linear(q).view(bs, -1, self.h, self.d_k)\n",
        "        v = self.v_linear(v).view(bs, -1, self.h, self.d_k)\n",
        "\n",
        "        # Transpose to get dimensions bs * h * sl * d_model\n",
        "        k = k.transpose(1, 2)\n",
        "        q = q.transpose(1, 2)\n",
        "        v = v.transpose(1, 2)\n",
        "\n",
        "        # Calculate attention using the defined `attention` function\n",
        "        scores = attention(q, k, v, self.d_k, mask, self.dropout)\n",
        "\n",
        "        # Concatenate heads and put through the final linear layer\n",
        "        concat = scores.transpose(1, 2).contiguous().view(bs, -1, self.d_model)\n",
        "\n",
        "        output = self.out(concat)\n",
        "\n",
        "        return output\n",
        "\n",
        "    return multi_head_attention_forward\n"
      ]
    },
    {
      "cell_type": "code",
      "execution_count": 36,
      "metadata": {
        "id": "1FnRrci4y_iR"
      },
      "outputs": [],
      "source": [
        "def my_attention(my_q, my_k, my_v, my_d_k, my_mask=None, my_dropout=None):\n",
        "    scores = torch.matmul(my_q, my_k.transpose(-2, -1)) /  math.sqrt(my_d_k)\n",
        "    if my_mask is not None:\n",
        "        my_mask = my_mask.unsqueeze(1)\n",
        "        scores = scores.masked_fill(my_mask == 0, -1e9)\n",
        "    scores = F.softmax(scores, dim=-1)\n",
        "\n",
        "    if my_dropout is not None:\n",
        "        scores = my_dropout(scores)\n",
        "\n",
        "    output = torch.matmul(scores, my_v)\n",
        "    return output\n"
      ]
    },
    {
      "cell_type": "code",
      "execution_count": 38,
      "metadata": {
        "id": "Rbazxn1rzBYc"
      },
      "outputs": [],
      "source": [
        "def FeedForward(d_model, d_ff=2048, dropout=0.1):\n",
        "    class FeedForward(nn.Module):\n",
        "        def __init__(self):\n",
        "            super().__init__()\n",
        "            self.linear_1 = nn.Linear(d_model, d_ff)\n",
        "            self.dropout = nn.Dropout(dropout)\n",
        "            self.linear_2 = nn.Linear(d_ff, d_model)\n",
        "\n",
        "        def forward(self, x):\n",
        "            x = self.dropout(F.relu(self.linear_1(x)))\n",
        "            x = self.linear_2(x)\n",
        "            return x\n",
        "\n",
        "    return FeedForward()"
      ]
    },
    {
      "cell_type": "code",
      "execution_count": 40,
      "metadata": {
        "id": "TGV7jl_gzD9f"
      },
      "outputs": [],
      "source": [
        "def norm(d_model, eps=1e-6):\n",
        "    def norm_forward(x):\n",
        "        alpha = nn.Parameter(torch.ones(d_model))\n",
        "        bias = nn.Parameter(torch.zeros(d_model))\n",
        "        norm = alpha * (x - x.mean(dim=-1, keepdim=True)) / (x.std(dim=-1, keepdim=True) + eps) + bias\n",
        "        return norm\n",
        "\n",
        "    return norm_forward"
      ]
    },
    {
      "cell_type": "markdown",
      "metadata": {
        "id": "tD-X9EhzOy-F"
      },
      "source": [
        "The decoder generates predicted tokens for the target sentence based on the encoded representation of the source sentence. We calculate the loss by comparing the predicted tokens with the actual tokens in the target sentence. The gradients of the parameters are computed using the loss, and the Adam optimizer is used to update the weights and improve predictions."
      ]
    },
    {
      "cell_type": "code",
      "execution_count": 50,
      "metadata": {
        "id": "b62B2RMjzGAD"
      },
      "outputs": [],
      "source": [
        "import copy\n",
        "\n",
        "def EncoderLayer(d_model, heads, dropout=0.1):\n",
        "    def encoder_layer_forward(x, mask):\n",
        "        norm_1 = nn.LayerNorm(d_model)\n",
        "        norm_2 = nn.LayerNorm(d_model)\n",
        "        attn = multi_head_attention(heads, d_model)\n",
        "        ff = FeedForward(d_model)\n",
        "        dropout_1 = nn.Dropout(dropout)\n",
        "        dropout_2 = nn.Dropout(dropout)\n",
        "\n",
        "        x2 = norm_1(x)\n",
        "        x = x + dropout_1(attn(x2, x2, x2, mask))\n",
        "        x2 = norm_2(x)\n",
        "        x = x + dropout_2(ff(x2))\n",
        "\n",
        "        return x\n",
        "\n",
        "    return encoder_layer_forward\n",
        "\n",
        "\n",
        "def DecoderLayer(d_model, heads, dropout=0.1):\n",
        "    def decoder_layer_forward(x, e_outputs, src_mask, trg_mask):\n",
        "        norm_1 = nn.LayerNorm(d_model)\n",
        "        norm_2 = nn.LayerNorm(d_model)\n",
        "        norm_3 = nn.LayerNorm(d_model)\n",
        "        dropout_1 = nn.Dropout(dropout)\n",
        "        dropout_2 = nn.Dropout(dropout)\n",
        "        dropout_3 = nn.Dropout(dropout)\n",
        "        attn_1 = multi_head_attention(heads, d_model)\n",
        "        attn_2 = multi_head_attention(heads, d_model)\n",
        "        ff = FeedForward(d_model)\n",
        "\n",
        "        x2 = norm_1(x)\n",
        "        x = x + dropout_1(attn_1(x2, x2, x2, trg_mask))\n",
        "        x2 = norm_2(x)\n",
        "        x = x + dropout_2(attn_2(x2, e_outputs, e_outputs, src_mask))\n",
        "        x2 = norm_3(x)\n",
        "        x = x + dropout_3(ff(x2))\n",
        "\n",
        "        return x\n",
        "\n",
        "    return decoder_layer_forward\n",
        "\n",
        "\n",
        "def get_clones(module, N):\n",
        "    return nn.ModuleList([copy.deepcopy(module) for _ in range(N)])"
      ]
    },
    {
      "cell_type": "markdown",
      "metadata": {
        "id": "kILnOLx3PQOG"
      },
      "source": [
        "The decoder is similar to encoder, however it has two multi-head attention layers. A *masked multi-head attention layer* over the target sequence, and a multi-head attention layer which uses the decoder representation as the query and the encoder representation as the key and value."
      ]
    },
    {
      "cell_type": "code",
      "execution_count": 52,
      "metadata": {
        "id": "0oDIYBWczL6G"
      },
      "outputs": [],
      "source": [
        "import torch.nn as nn\n",
        "\n",
        "def Encoder(vocab_size, d_model, N, heads):\n",
        "    def encoder_forward(src, mask):\n",
        "        embed = embedder(vocab_size, d_model)\n",
        "        pe = PositionalEncoder(d_model)\n",
        "        layers = get_clones(EncoderLayer(d_model, heads), N)\n",
        "        norm = nn.LayerNorm(d_model)\n",
        "        \n",
        "        x = embed(src)\n",
        "        x = pe(x)\n",
        "        for i in range(N):\n",
        "            x = layers[i](x, mask)\n",
        "        return norm(x)\n",
        "    \n",
        "    return encoder_forward\n",
        "\n",
        "\n",
        "def Decoder(vocab_size, d_model, N, heads):\n",
        "    def decoder_forward(trg, e_outputs, src_mask, trg_mask):\n",
        "        embed = embedder(vocab_size, d_model)\n",
        "        pe = PositionalEncoder(d_model)\n",
        "        layers = get_clones(DecoderLayer(d_model, heads), N)\n",
        "        norm = nn.LayerNorm(d_model)\n",
        "        \n",
        "        x = embed(trg)\n",
        "        x = pe(x)\n",
        "        for i in range(N):\n",
        "            x = layers[i](x, e_outputs, src_mask, trg_mask)\n",
        "        return norm(x)\n",
        "    \n",
        "    return decoder_forward\n",
        "\n",
        "\n",
        "def get_clones(module, N):\n",
        "    return nn.ModuleList([copy.deepcopy(module) for _ in range(N)])\n"
      ]
    },
    {
      "cell_type": "markdown",
      "metadata": {
        "id": "SfmczIlBPY8Z"
      },
      "source": [
        "The main Transformer model code"
      ]
    },
    {
      "cell_type": "code",
      "execution_count": 55,
      "metadata": {
        "id": "LzR9yM1JzPcv"
      },
      "outputs": [],
      "source": [
        "class Transformer(nn.Module):\n",
        "    def __init__(self, src_vocab, trg_vocab, d_model, N, heads):\n",
        "        # print(\"inside Transformer __init__\")\n",
        "        super().__init__()\n",
        "        self.encoder = Encoder(src_vocab, d_model, N, heads)\n",
        "        self.decoder = Decoder(trg_vocab, d_model, N, heads)\n",
        "        self.out = nn.Linear(d_model, trg_vocab)\n",
        "    def forward(self, src, trg, src_mask, trg_mask):\n",
        "        # print(\"inside Transformer forward\")\n",
        "        e_outputs = self.encoder(src, src_mask)\n",
        "        d_output = self.decoder(trg, e_outputs, src_mask, trg_mask)\n",
        "        output = self.out(d_output)\n",
        "        return output"
      ]
    },
    {
      "cell_type": "code",
      "execution_count": 56,
      "metadata": {
        "id": "EweXXucIzSZ9"
      },
      "outputs": [],
      "source": [
        "src_vocab = len(JA_TEXT.vocab)\n",
        "trg_vocab = len(EN_TEXT.vocab)\n",
        "# print(JA_TEXT.vocab)\n",
        "model = Transformer(src_vocab, trg_vocab, D_MODEL, N, HEADS)\n",
        "\n",
        "for p in model.parameters():\n",
        "    if p.dim() > 1:\n",
        "        nn.init.xavier_uniform_(p)\n",
        "\n",
        "optim = torch.optim.Adam(model.parameters(), lr=0.0001, betas=(0.9, 0.98), eps=1e-9)"
      ]
    },
    {
      "cell_type": "code",
      "execution_count": 46,
      "metadata": {
        "id": "D_f3tvW7zUaD"
      },
      "outputs": [],
      "source": [
        "input_pad = JA_TEXT.vocab.stoi['<pad>']\n",
        "target_pad = EN_TEXT.vocab.stoi['<pad>']  "
      ]
    },
    {
      "cell_type": "code",
      "execution_count": 47,
      "metadata": {
        "colab": {
          "base_uri": "https://localhost:8080/"
        },
        "id": "YhhXS_KAx2zC",
        "outputId": "ffffb186-fb52-4a0f-9a96-adafbd5f31a5"
      },
      "outputs": [
        {
          "output_type": "execute_result",
          "data": {
            "text/plain": [
              "<function __main__.multi_head_attention.<locals>.multi_head_attention_forward(self, q, k, v, mask=None)>"
            ]
          },
          "metadata": {},
          "execution_count": 47
        }
      ],
      "source": [
        "multi_head_attention(HEADS, D_MODEL)"
      ]
    },
    {
      "cell_type": "code",
      "execution_count": 57,
      "metadata": {
        "id": "Wy6rEBtrzXDu"
      },
      "outputs": [],
      "source": [
        "Loss_hist = []\n",
        "Perplexity_hist = []\n",
        "\n",
        "def train_model(model, epochs, print_every=50):\n",
        "    \n",
        "    model.train()\n",
        "    \n",
        "    start_time = datetime.now()\n",
        "    temp_time = start_time    \n",
        "    total_loss = 0\n",
        "    \n",
        "    for epoch in range(epochs):     \n",
        "        for iteration, batch in enumerate(train_iter):\n",
        "            src = batch.Japanese.transpose(0, 1)\n",
        "            trg = batch.English.transpose(0, 1)\n",
        "            trg_input = trg[:, :-1]\n",
        "            \n",
        "            # Obtain the target words for prediction\n",
        "            targets = trg[:, 1:].contiguous().view(-1)\n",
        "            \n",
        "            # Create source and target masks using custom function\n",
        "            src_mask, trg_mask = create_masks(src, trg_input)\n",
        "            \n",
        "            preds = model(src, trg_input, src_mask, trg_mask)\n",
        "            \n",
        "            optim.zero_grad()\n",
        "            \n",
        "            loss = F.cross_entropy(\n",
        "                preds.view(-1, preds.size(-1)),\n",
        "                targets,\n",
        "                ignore_index=target_pad\n",
        "            )\n",
        "            loss.backward()\n",
        "            optim.step()\n",
        "            \n",
        "            total_loss += loss.item()\n",
        "            if (iteration + 1) % print_every == 0:\n",
        "                avg_loss = total_loss / print_every\n",
        "                perplexity  = math.exp(avg_loss)\n",
        "                print(\"time = {}, epoch {}, iter = {}, loss = {}, perplexity = {}, {} per {} iters\".format(\n",
        "                    (datetime.now() - start_time) // 60,\n",
        "                    epoch + 1,\n",
        "                    iteration + 1,\n",
        "                    avg_loss,\n",
        "                    perplexity,\n",
        "                    print_every,\n",
        "                    datetime.now() - temp_time\n",
        "                ))\n",
        "                if iteration + 1 == 450:\n",
        "                    Loss_hist.append(avg_loss)\n",
        "                    Perplexity_hist.append(perplexity)\n",
        "                total_loss = 0\n",
        "                temp_time = datetime.now()\n",
        "    \n",
        "        print()\n"
      ]
    },
    {
      "cell_type": "code",
      "execution_count": null,
      "metadata": {
        "colab": {
          "base_uri": "https://localhost:8080/"
        },
        "id": "Z24Ic9Omzb1o",
        "outputId": "12c966c0-6eb8-457e-9231-41bccb9540cb"
      },
      "outputs": [
        {
          "output_type": "stream",
          "name": "stdout",
          "text": [
            "time = 0:00:00.158379, epoch 1, iter = 50, loss = 0.21574885480105876, perplexity = 1.2407907212341052, 0:00:09.502762 per 50 iters\n",
            "time = 0:00:00.307311, epoch 1, iter = 100, loss = 0.2533483242988586, perplexity = 1.288331956012439, 0:00:08.935795 per 50 iters\n",
            "time = 0:00:00.456528, epoch 1, iter = 150, loss = 0.2796466886997223, perplexity = 1.3226624181956819, 0:00:08.952892 per 50 iters\n",
            "time = 0:00:00.608140, epoch 1, iter = 200, loss = 0.25726391077041627, perplexity = 1.293386420328483, 0:00:09.096628 per 50 iters\n",
            "time = 0:00:00.761938, epoch 1, iter = 250, loss = 0.25193466261029246, perplexity = 1.2865119772043194, 0:00:09.227062 per 50 iters\n",
            "time = 0:00:00.914397, epoch 1, iter = 300, loss = 0.3464961762726307, perplexity = 1.4141040866715255, 0:00:09.147325 per 50 iters\n",
            "time = 0:00:01.062428, epoch 1, iter = 350, loss = 0.301076485067606, perplexity = 1.3513126928282178, 0:00:08.881014 per 50 iters\n",
            "time = 0:00:01.212485, epoch 1, iter = 400, loss = 0.32071139380335806, perplexity = 1.3781077930457826, 0:00:09.003295 per 50 iters\n",
            "time = 0:00:01.367839, epoch 1, iter = 450, loss = 0.2986984997987747, perplexity = 1.3481031088352813, 0:00:09.321115 per 50 iters\n",
            "\n",
            "time = 0:00:01.628036, epoch 2, iter = 50, loss = 0.5180448924005031, perplexity = 1.6787423172940723, 0:00:15.611689 per 50 iters\n",
            "time = 0:00:01.781147, epoch 2, iter = 100, loss = 0.2722989568114281, perplexity = 1.3129794667979344, 0:00:09.185833 per 50 iters\n",
            "time = 0:00:01.933660, epoch 2, iter = 150, loss = 0.22275588482618333, perplexity = 1.2495155108061466, 0:00:09.150644 per 50 iters\n",
            "time = 0:00:02.084934, epoch 2, iter = 200, loss = 0.2767374014854431, perplexity = 1.3188200053850148, 0:00:09.075532 per 50 iters\n",
            "time = 0:00:02.238041, epoch 2, iter = 250, loss = 0.22253991089761258, perplexity = 1.2492456771720317, 0:00:09.186297 per 50 iters\n",
            "time = 0:00:02.393847, epoch 2, iter = 300, loss = 0.23655519261956215, perplexity = 1.266877475977136, 0:00:09.348254 per 50 iters\n",
            "time = 0:00:02.548481, epoch 2, iter = 350, loss = 0.27583223447203636, perplexity = 1.3176267931291754, 0:00:09.276850 per 50 iters\n",
            "time = 0:00:02.702336, epoch 2, iter = 400, loss = 0.34943133633583784, perplexity = 1.4182608058457642, 0:00:09.231182 per 50 iters\n",
            "time = 0:00:02.858956, epoch 2, iter = 450, loss = 0.2488923266530037, perplexity = 1.2826039233772777, 0:00:09.396307 per 50 iters\n",
            "\n",
            "time = 0:00:03.125947, epoch 3, iter = 50, loss = 0.41561749145388605, perplexity = 1.515306140453398, 0:00:16.019356 per 50 iters\n",
            "time = 0:00:03.281512, epoch 3, iter = 100, loss = 0.28389186292886737, perplexity = 1.328289285673286, 0:00:09.333781 per 50 iters\n",
            "time = 0:00:03.433406, epoch 3, iter = 150, loss = 0.22865285508334637, perplexity = 1.2569056348646248, 0:00:09.113514 per 50 iters\n",
            "time = 0:00:03.588107, epoch 3, iter = 200, loss = 0.27506268322467803, perplexity = 1.3166132018422112, 0:00:09.281931 per 50 iters\n",
            "time = 0:00:03.741473, epoch 3, iter = 250, loss = 0.2284351559728384, perplexity = 1.2566320374079643, 0:00:09.201843 per 50 iters\n",
            "time = 0:00:03.894890, epoch 3, iter = 300, loss = 0.27780183017253873, perplexity = 1.3202245426141088, 0:00:09.204899 per 50 iters\n",
            "time = 0:00:04.049018, epoch 3, iter = 350, loss = 0.27709505781531335, perplexity = 1.3192917740683991, 0:00:09.247513 per 50 iters\n",
            "time = 0:00:04.207770, epoch 3, iter = 400, loss = 0.2339999060332775, perplexity = 1.263644373467252, 0:00:09.525033 per 50 iters\n",
            "time = 0:00:04.362339, epoch 3, iter = 450, loss = 0.32334073856472967, perplexity = 1.3817360814722828, 0:00:09.273997 per 50 iters\n",
            "\n",
            "time = 0:00:04.629289, epoch 4, iter = 50, loss = 0.4778011457622051, perplexity = 1.6125247941106111, 0:00:16.016893 per 50 iters\n",
            "time = 0:00:04.785795, epoch 4, iter = 100, loss = 0.19646846413612365, perplexity = 1.2170969380696164, 0:00:09.390248 per 50 iters\n",
            "time = 0:00:04.938830, epoch 4, iter = 150, loss = 0.22939534671604633, perplexity = 1.2578392233295268, 0:00:09.181975 per 50 iters\n",
            "time = 0:00:05.095743, epoch 4, iter = 200, loss = 0.20330444648861884, perplexity = 1.2254454940390758, 0:00:09.413842 per 50 iters\n",
            "time = 0:00:05.252659, epoch 4, iter = 250, loss = 0.23328451454639434, perplexity = 1.2627406963200354, 0:00:09.414157 per 50 iters\n",
            "time = 0:00:05.402037, epoch 4, iter = 300, loss = 0.3023903408646584, perplexity = 1.3530892896837936, 0:00:08.962545 per 50 iters\n",
            "time = 0:00:05.563494, epoch 4, iter = 350, loss = 0.2497153340280056, perplexity = 1.2836599503648156, 0:00:09.687259 per 50 iters\n",
            "time = 0:00:05.718688, epoch 4, iter = 400, loss = 0.27442948818206786, perplexity = 1.3157797927728605, 0:00:09.311537 per 50 iters\n",
            "time = 0:00:05.871807, epoch 4, iter = 450, loss = 0.3044714605435729, perplexity = 1.3559081626204612, 0:00:09.187049 per 50 iters\n",
            "\n",
            "time = 0:00:06.137250, epoch 5, iter = 50, loss = 0.41721015438437464, perplexity = 1.5177214352363253, 0:00:15.926418 per 50 iters\n",
            "time = 0:00:06.290134, epoch 5, iter = 100, loss = 0.2528174266219139, perplexity = 1.2876481650974232, 0:00:09.172944 per 50 iters\n",
            "time = 0:00:06.442873, epoch 5, iter = 150, loss = 0.233992443010211, perplexity = 1.2636349428953353, 0:00:09.164202 per 50 iters\n",
            "time = 0:00:06.598920, epoch 5, iter = 200, loss = 0.24188375174999238, perplexity = 1.2736461250768847, 0:00:09.362746 per 50 iters\n",
            "time = 0:00:06.756382, epoch 5, iter = 250, loss = 0.18158547163009645, perplexity = 1.1991170228164405, 0:00:09.447573 per 50 iters\n",
            "time = 0:00:06.911289, epoch 5, iter = 300, loss = 0.21171737775206567, perplexity = 1.235798571548656, 0:00:09.294346 per 50 iters\n",
            "time = 0:00:07.066316, epoch 5, iter = 350, loss = 0.24725196212530137, perplexity = 1.2805017100677347, 0:00:09.300524 per 50 iters\n",
            "time = 0:00:07.221691, epoch 5, iter = 400, loss = 0.24918369948863983, perplexity = 1.2829776937700554, 0:00:09.321960 per 50 iters\n",
            "time = 0:00:07.377044, epoch 5, iter = 450, loss = 0.2892829407379031, perplexity = 1.335469533813079, 0:00:09.320368 per 50 iters\n",
            "\n",
            "time = 0:00:07.642296, epoch 6, iter = 50, loss = 0.4481277684122324, perplexity = 1.5653786888264583, 0:00:15.914254 per 50 iters\n",
            "time = 0:00:07.796230, epoch 6, iter = 100, loss = 0.2470605843514204, perplexity = 1.2802566739489925, 0:00:09.235948 per 50 iters\n",
            "time = 0:00:07.945905, epoch 6, iter = 150, loss = 0.24985942453145982, perplexity = 1.2838449268996885, 0:00:08.980343 per 50 iters\n",
            "time = 0:00:08.100737, epoch 6, iter = 200, loss = 0.21978927984833718, perplexity = 1.2458141847725464, 0:00:09.288977 per 50 iters\n",
            "time = 0:00:08.254184, epoch 6, iter = 250, loss = 0.21518975660204887, perplexity = 1.2400971912702579, 0:00:09.206655 per 50 iters\n",
            "time = 0:00:08.408687, epoch 6, iter = 300, loss = 0.26357368610799314, perplexity = 1.3015731992715147, 0:00:09.270075 per 50 iters\n",
            "time = 0:00:08.562618, epoch 6, iter = 350, loss = 0.22545200750231742, perplexity = 1.2528889034057, 0:00:09.234846 per 50 iters\n",
            "time = 0:00:08.720676, epoch 6, iter = 400, loss = 0.19022792622447013, perplexity = 1.2095252487653523, 0:00:09.483370 per 50 iters\n",
            "time = 0:00:08.873969, epoch 6, iter = 450, loss = 0.2715063901245594, perplexity = 1.3119392552849558, 0:00:09.197479 per 50 iters\n",
            "\n",
            "time = 0:00:09.142408, epoch 7, iter = 50, loss = 0.34416957207024096, perplexity = 1.410817850528659, 0:00:16.106173 per 50 iters\n",
            "time = 0:00:09.295800, epoch 7, iter = 100, loss = 0.24403225362300873, perplexity = 1.276385497882215, 0:00:09.203457 per 50 iters\n",
            "time = 0:00:09.450304, epoch 7, iter = 150, loss = 0.18157963335514068, perplexity = 1.1991100220619935, 0:00:09.270090 per 50 iters\n",
            "time = 0:00:09.606424, epoch 7, iter = 200, loss = 0.2357041397690773, perplexity = 1.2657997549538136, 0:00:09.366739 per 50 iters\n",
            "time = 0:00:09.761056, epoch 7, iter = 250, loss = 0.24198418065905572, perplexity = 1.2737740423909494, 0:00:09.277823 per 50 iters\n",
            "time = 0:00:09.916238, epoch 7, iter = 300, loss = 0.20596397005021572, perplexity = 1.2287089328766228, 0:00:09.310766 per 50 iters\n",
            "time = 0:00:10.067033, epoch 7, iter = 350, loss = 0.2824595874547958, perplexity = 1.3263881712916927, 0:00:09.046739 per 50 iters\n",
            "time = 0:00:10.220729, epoch 7, iter = 400, loss = 0.2743866643309593, perplexity = 1.3157234472213986, 0:00:09.221639 per 50 iters\n",
            "time = 0:00:10.375746, epoch 7, iter = 450, loss = 0.23150956615805626, perplexity = 1.2605013846754123, 0:00:09.300899 per 50 iters\n",
            "\n",
            "time = 0:00:10.640096, epoch 8, iter = 50, loss = 0.37548921652138234, perplexity = 1.4557033945986866, 0:00:15.860886 per 50 iters\n",
            "time = 0:00:10.795967, epoch 8, iter = 100, loss = 0.18469364032149316, perplexity = 1.2028498789722255, 0:00:09.352152 per 50 iters\n",
            "time = 0:00:10.949778, epoch 8, iter = 150, loss = 0.18568579725921153, perplexity = 1.2040438870484338, 0:00:09.228526 per 50 iters\n",
            "time = 0:00:11.109343, epoch 8, iter = 200, loss = 0.1951766936480999, perplexity = 1.2155257431940236, 0:00:09.573778 per 50 iters\n",
            "time = 0:00:11.262857, epoch 8, iter = 250, loss = 0.22508966170251368, perplexity = 1.2524350066126946, 0:00:09.210721 per 50 iters\n",
            "time = 0:00:11.416635, epoch 8, iter = 300, loss = 0.23731590293347835, perplexity = 1.2678415693909897, 0:00:09.226533 per 50 iters\n",
            "time = 0:00:11.569528, epoch 8, iter = 350, loss = 0.24980998814105987, perplexity = 1.2837814598094743, 0:00:09.170026 per 50 iters\n",
            "time = 0:00:11.722558, epoch 8, iter = 400, loss = 0.2776913219690323, perplexity = 1.320078655032715, 0:00:09.181724 per 50 iters\n",
            "time = 0:00:11.880064, epoch 8, iter = 450, loss = 0.22936841040849687, perplexity = 1.2578053422416773, 0:00:09.450247 per 50 iters\n",
            "\n",
            "time = 0:00:12.147994, epoch 9, iter = 50, loss = 0.33011505588889123, perplexity = 1.391128176745292, 0:00:16.075626 per 50 iters\n",
            "time = 0:00:12.303664, epoch 9, iter = 100, loss = 0.17157258220016958, perplexity = 1.1871703070381134, 0:00:09.339399 per 50 iters\n",
            "time = 0:00:12.451814, epoch 9, iter = 150, loss = 0.2700009347498417, perplexity = 1.3099656752228825, 0:00:08.888907 per 50 iters\n",
            "time = 0:00:12.608149, epoch 9, iter = 200, loss = 0.16514566995203495, perplexity = 1.179564933364236, 0:00:09.379986 per 50 iters\n",
            "time = 0:00:12.762263, epoch 9, iter = 250, loss = 0.23136894777417183, perplexity = 1.260324147469512, 0:00:09.246471 per 50 iters\n",
            "time = 0:00:12.917057, epoch 9, iter = 300, loss = 0.21456751972436905, perplexity = 1.2393257970857856, 0:00:09.287514 per 50 iters\n",
            "time = 0:00:13.073469, epoch 9, iter = 350, loss = 0.22394926011562347, perplexity = 1.251007541839926, 0:00:09.384556 per 50 iters\n",
            "time = 0:00:13.230424, epoch 9, iter = 400, loss = 0.19769779413938524, perplexity = 1.2185940718996857, 0:00:09.416556 per 50 iters\n",
            "time = 0:00:13.383277, epoch 9, iter = 450, loss = 0.25776542603969577, perplexity = 1.294035236049253, 0:00:09.171043 per 50 iters\n",
            "\n",
            "time = 0:00:13.652887, epoch 10, iter = 50, loss = 0.32890882685780526, perplexity = 1.389451169183479, 0:00:16.176498 per 50 iters\n",
            "time = 0:00:13.807422, epoch 10, iter = 100, loss = 0.18696469008922578, perplexity = 1.2055847152096357, 0:00:09.271981 per 50 iters\n",
            "time = 0:00:13.959435, epoch 10, iter = 150, loss = 0.18791464067995547, perplexity = 1.2067305052578263, 0:00:09.119737 per 50 iters\n",
            "time = 0:00:14.113848, epoch 10, iter = 200, loss = 0.22442275419831276, perplexity = 1.251600026766371, 0:00:09.264606 per 50 iters\n",
            "time = 0:00:14.267362, epoch 10, iter = 250, loss = 0.169914443641901, perplexity = 1.1852034452920766, 0:00:09.209842 per 50 iters\n",
            "time = 0:00:14.422000, epoch 10, iter = 300, loss = 0.16261357054114342, perplexity = 1.176581935908204, 0:00:09.278139 per 50 iters\n",
            "time = 0:00:14.579268, epoch 10, iter = 350, loss = 0.22394688554108144, perplexity = 1.2510045712327922, 0:00:09.435116 per 50 iters\n",
            "time = 0:00:14.732435, epoch 10, iter = 400, loss = 0.2628161136806011, perplexity = 1.3005875367060458, 0:00:09.189865 per 50 iters\n",
            "time = 0:00:14.888878, epoch 10, iter = 450, loss = 0.23357655465602875, perplexity = 1.2631095211046226, 0:00:09.386471 per 50 iters\n",
            "\n",
            "time = 0:00:15.155086, epoch 11, iter = 50, loss = 0.3656316557526588, perplexity = 1.4414242045443815, 0:00:15.972375 per 50 iters\n",
            "time = 0:00:15.309080, epoch 11, iter = 100, loss = 0.14885990463197232, perplexity = 1.1605103956890679, 0:00:09.239501 per 50 iters\n",
            "time = 0:00:15.463962, epoch 11, iter = 150, loss = 0.1393757963180542, perplexity = 1.1495560177608422, 0:00:09.292768 per 50 iters\n",
            "time = 0:00:15.619424, epoch 11, iter = 200, loss = 0.1904181569814682, perplexity = 1.2097553595554142, 0:00:09.327593 per 50 iters\n",
            "time = 0:00:15.774293, epoch 11, iter = 250, loss = 0.2080601131916046, perplexity = 1.2312871839266328, 0:00:09.291908 per 50 iters\n",
            "time = 0:00:15.928425, epoch 11, iter = 300, loss = 0.19536762289702891, perplexity = 1.21575784476801, 0:00:09.247841 per 50 iters\n",
            "time = 0:00:16.083770, epoch 11, iter = 350, loss = 0.20962364017963409, perplexity = 1.2332138404659703, 0:00:09.319739 per 50 iters\n",
            "time = 0:00:16.239098, epoch 11, iter = 400, loss = 0.28471996665000915, perplexity = 1.3293897025402712, 0:00:09.319571 per 50 iters\n",
            "time = 0:00:16.393109, epoch 11, iter = 450, loss = 0.23114096343517304, perplexity = 1.260036846053183, 0:00:09.240578 per 50 iters\n",
            "\n",
            "time = 0:00:16.662008, epoch 12, iter = 50, loss = 0.33776314921677114, perplexity = 1.401808444654632, 0:00:16.133773 per 50 iters\n",
            "time = 0:00:16.817190, epoch 12, iter = 100, loss = 0.15397092044353486, perplexity = 1.166456966234031, 0:00:09.309843 per 50 iters\n",
            "time = 0:00:16.973920, epoch 12, iter = 150, loss = 0.170093085616827, perplexity = 1.1854151912890312, 0:00:09.403631 per 50 iters\n",
            "time = 0:00:17.128609, epoch 12, iter = 200, loss = 0.188085894882679, perplexity = 1.2069371806249138, 0:00:09.281266 per 50 iters\n",
            "time = 0:00:17.279261, epoch 12, iter = 250, loss = 0.2563024395704269, perplexity = 1.2921434641639093, 0:00:09.038148 per 50 iters\n",
            "time = 0:00:17.434767, epoch 12, iter = 300, loss = 0.1731581461429596, perplexity = 1.1890541345407215, 0:00:09.330291 per 50 iters\n",
            "time = 0:00:17.589589, epoch 12, iter = 350, loss = 0.17067323073744775, perplexity = 1.1861031036533738, 0:00:09.288446 per 50 iters\n",
            "time = 0:00:17.742539, epoch 12, iter = 400, loss = 0.2159601378440857, perplexity = 1.241052906970172, 0:00:09.176860 per 50 iters\n",
            "time = 0:00:17.896592, epoch 12, iter = 450, loss = 0.2494887375831604, perplexity = 1.2833691105365528, 0:00:09.243077 per 50 iters\n",
            "\n",
            "time = 0:00:18.170426, epoch 13, iter = 50, loss = 0.34675498768687246, perplexity = 1.4144701203148813, 0:00:16.429017 per 50 iters\n",
            "time = 0:00:18.322689, epoch 13, iter = 100, loss = 0.17421929076313972, perplexity = 1.1903165626296188, 0:00:09.135577 per 50 iters\n",
            "time = 0:00:18.476698, epoch 13, iter = 150, loss = 0.16758908599615097, perplexity = 1.1824506252847637, 0:00:09.239552 per 50 iters\n",
            "time = 0:00:18.632571, epoch 13, iter = 200, loss = 0.1926563349366188, perplexity = 1.2124660396929776, 0:00:09.352282 per 50 iters\n",
            "time = 0:00:18.787668, epoch 13, iter = 250, loss = 0.17657816797494888, perplexity = 1.1931276874897354, 0:00:09.305660 per 50 iters\n",
            "time = 0:00:18.939957, epoch 13, iter = 300, loss = 0.20697085604071616, perplexity = 1.2299467257411112, 0:00:09.137278 per 50 iters\n",
            "time = 0:00:19.099184, epoch 13, iter = 350, loss = 0.1470789495110512, perplexity = 1.1584454181189805, 0:00:09.552675 per 50 iters\n",
            "time = 0:00:19.255719, epoch 13, iter = 400, loss = 0.17876816436648368, perplexity = 1.1957434960801956, 0:00:09.391219 per 50 iters\n",
            "time = 0:00:19.410741, epoch 13, iter = 450, loss = 0.2555557711422443, perplexity = 1.2911790215387726, 0:00:09.301210 per 50 iters\n",
            "\n",
            "time = 0:00:19.674914, epoch 14, iter = 50, loss = 0.3179500336945057, perplexity = 1.3743075904390556, 0:00:15.849269 per 50 iters\n",
            "time = 0:00:19.830749, epoch 14, iter = 100, loss = 0.1631099407374859, perplexity = 1.177166101083841, 0:00:09.349613 per 50 iters\n",
            "time = 0:00:19.985284, epoch 14, iter = 150, loss = 0.12827205792069435, perplexity = 1.136862253008824, 0:00:09.271834 per 50 iters\n",
            "time = 0:00:20.143385, epoch 14, iter = 200, loss = 0.1552411650121212, perplexity = 1.1679395933100205, 0:00:09.485950 per 50 iters\n",
            "time = 0:00:20.300301, epoch 14, iter = 250, loss = 0.191290567740798, perplexity = 1.210811223653879, 0:00:09.414849 per 50 iters\n",
            "time = 0:00:20.454455, epoch 14, iter = 300, loss = 0.18501589003950358, perplexity = 1.2032375594681435, 0:00:09.248949 per 50 iters\n",
            "time = 0:00:20.608570, epoch 14, iter = 350, loss = 0.22295837506651878, perplexity = 1.2497685511204653, 0:00:09.246804 per 50 iters\n",
            "time = 0:00:20.761074, epoch 14, iter = 400, loss = 0.26358087457716467, perplexity = 1.301582555623961, 0:00:09.150064 per 50 iters\n",
            "time = 0:00:20.918903, epoch 14, iter = 450, loss = 0.20084310904145242, perplexity = 1.2224329680974604, 0:00:09.469613 per 50 iters\n",
            "\n",
            "time = 0:00:21.188134, epoch 15, iter = 50, loss = 0.29982133850455284, perplexity = 1.3496176613252153, 0:00:16.153066 per 50 iters\n",
            "time = 0:00:21.339995, epoch 15, iter = 100, loss = 0.1808215705305338, perplexity = 1.1982013657844408, 0:00:09.110750 per 50 iters\n",
            "time = 0:00:21.492229, epoch 15, iter = 150, loss = 0.1717599754780531, perplexity = 1.1873927956191364, 0:00:09.133160 per 50 iters\n",
            "time = 0:00:21.646145, epoch 15, iter = 200, loss = 0.18950238026678562, perplexity = 1.208648000890701, 0:00:09.234089 per 50 iters\n",
            "time = 0:00:21.803682, epoch 15, iter = 250, loss = 0.14278250500559808, perplexity = 1.1534788984953366, 0:00:09.451417 per 50 iters\n",
            "time = 0:00:21.959380, epoch 15, iter = 300, loss = 0.13896355882287026, perplexity = 1.1490822253317186, 0:00:09.341737 per 50 iters\n",
            "time = 0:00:22.110775, epoch 15, iter = 350, loss = 0.21983950696885585, perplexity = 1.2458767600032226, 0:00:09.083545 per 50 iters\n",
            "time = 0:00:22.266490, epoch 15, iter = 400, loss = 0.20134203881025314, perplexity = 1.2230430284715932, 0:00:09.342808 per 50 iters\n",
            "time = 0:00:22.421749, epoch 15, iter = 450, loss = 0.2264387048780918, perplexity = 1.2541257356880655, 0:00:09.315420 per 50 iters\n",
            "\n",
            "time = 0:00:22.690025, epoch 16, iter = 50, loss = 0.2772864989191294, perplexity = 1.3195443649192464, 0:00:16.095592 per 50 iters\n",
            "time = 0:00:22.846642, epoch 16, iter = 100, loss = 0.12315887995064259, perplexity = 1.1310641100825944, 0:00:09.395878 per 50 iters\n",
            "time = 0:00:23.001144, epoch 16, iter = 150, loss = 0.11997380442917346, perplexity = 1.1274673165425886, 0:00:09.269986 per 50 iters\n",
            "time = 0:00:23.157124, epoch 16, iter = 200, loss = 0.18054447568953036, perplexity = 1.1978693963631297, 0:00:09.358674 per 50 iters\n",
            "time = 0:00:23.310586, epoch 16, iter = 250, loss = 0.1761115700006485, perplexity = 1.1925711063875764, 0:00:09.207615 per 50 iters\n",
            "time = 0:00:23.465653, epoch 16, iter = 300, loss = 0.16636692747473716, perplexity = 1.1810063659136405, 0:00:09.303749 per 50 iters\n",
            "time = 0:00:23.620118, epoch 16, iter = 350, loss = 0.2215799840539694, perplexity = 1.2480470680927633, 0:00:09.267686 per 50 iters\n",
            "time = 0:00:23.775454, epoch 16, iter = 400, loss = 0.21195118770003318, perplexity = 1.236087547329758, 0:00:09.320013 per 50 iters\n",
            "time = 0:00:23.925319, epoch 16, iter = 450, loss = 0.22289847284555436, perplexity = 1.2496936894507742, 0:00:08.991803 per 50 iters\n",
            "\n",
            "time = 0:00:24.190743, epoch 17, iter = 50, loss = 0.2846406850218773, perplexity = 1.329284310538112, 0:00:15.925321 per 50 iters\n",
            "time = 0:00:24.349069, epoch 17, iter = 100, loss = 0.10390932820737361, perplexity = 1.1094998500143185, 0:00:09.499393 per 50 iters\n",
            "time = 0:00:24.503266, epoch 17, iter = 150, loss = 0.1573568518459797, perplexity = 1.1704132034999004, 0:00:09.251646 per 50 iters\n",
            "time = 0:00:24.659958, epoch 17, iter = 200, loss = 0.1619404513388872, perplexity = 1.1757902225027574, 0:00:09.401417 per 50 iters\n",
            "time = 0:00:24.811472, epoch 17, iter = 250, loss = 0.18344765610992908, perplexity = 1.2013520803246527, 0:00:09.090728 per 50 iters\n",
            "time = 0:00:24.964023, epoch 17, iter = 300, loss = 0.16583487540483474, perplexity = 1.180378176161736, 0:00:09.152075 per 50 iters\n",
            "time = 0:00:25.117425, epoch 17, iter = 350, loss = 0.18352410651743412, perplexity = 1.20144392769159, 0:00:09.203997 per 50 iters\n",
            "time = 0:00:25.273247, epoch 17, iter = 400, loss = 0.20355201326310635, perplexity = 1.2257489111837974, 0:00:09.349213 per 50 iters\n",
            "time = 0:00:25.428588, epoch 17, iter = 450, loss = 0.22396732985973358, perplexity = 1.251030147430325, 0:00:09.319383 per 50 iters\n",
            "\n",
            "time = 0:00:25.695136, epoch 18, iter = 50, loss = 0.2796367322653532, perplexity = 1.3226492492596804, 0:00:15.992711 per 50 iters\n",
            "time = 0:00:25.853409, epoch 18, iter = 100, loss = 0.16684716194868088, perplexity = 1.1815736620911872, 0:00:09.496221 per 50 iters\n",
            "time = 0:00:26.009109, epoch 18, iter = 150, loss = 0.15448470994830132, perplexity = 1.1670564335678688, 0:00:09.341896 per 50 iters\n",
            "time = 0:00:26.162893, epoch 18, iter = 200, loss = 0.166799698099494, perplexity = 1.1815175813880001, 0:00:09.226952 per 50 iters\n",
            "time = 0:00:26.314436, epoch 18, iter = 250, loss = 0.1594851676374674, perplexity = 1.172906865111868, 0:00:09.092454 per 50 iters\n",
            "time = 0:00:26.471462, epoch 18, iter = 300, loss = 0.14943633675575257, perplexity = 1.1611795440018873, 0:00:09.420743 per 50 iters\n",
            "time = 0:00:26.629349, epoch 18, iter = 350, loss = 0.15332694195210933, perplexity = 1.1657060348543826, 0:00:09.472417 per 50 iters\n",
            "time = 0:00:26.784408, epoch 18, iter = 400, loss = 0.17426897943019867, perplexity = 1.1903757093424427, 0:00:09.303417 per 50 iters\n",
            "time = 0:00:26.937286, epoch 18, iter = 450, loss = 0.21440177239477634, perplexity = 1.239120399166972, 0:00:09.171821 per 50 iters\n",
            "\n",
            "time = 0:00:27.207532, epoch 19, iter = 50, loss = 0.25424620769917966, perplexity = 1.2894892473684445, 0:00:16.214654 per 50 iters\n",
            "time = 0:00:27.362410, epoch 19, iter = 100, loss = 0.12720644794404506, perplexity = 1.1356514464882708, 0:00:09.291698 per 50 iters\n",
            "time = 0:00:27.516393, epoch 19, iter = 150, loss = 0.1343303318787366, perplexity = 1.14377058113279, 0:00:09.238861 per 50 iters\n",
            "time = 0:00:27.667710, epoch 19, iter = 200, loss = 0.2011576883494854, perplexity = 1.2228175807070938, 0:00:09.078926 per 50 iters\n",
            "time = 0:00:27.823990, epoch 19, iter = 250, loss = 0.15019785448908807, perplexity = 1.1620641395910964, 0:00:09.376634 per 50 iters\n",
            "time = 0:00:27.976187, epoch 19, iter = 300, loss = 0.1581935279071331, perplexity = 1.1713928699835248, 0:00:09.131729 per 50 iters\n",
            "time = 0:00:28.132580, epoch 19, iter = 350, loss = 0.16813064351677895, perplexity = 1.1830911637422126, 0:00:09.382705 per 50 iters\n",
            "time = 0:00:28.285607, epoch 19, iter = 400, loss = 0.23066431738436222, perplexity = 1.2594363975787009, 0:00:09.181524 per 50 iters\n",
            "time = 0:00:28.440292, epoch 19, iter = 450, loss = 0.21012815907597543, perplexity = 1.2338361771288173, 0:00:09.280963 per 50 iters\n",
            "\n",
            "time = 0:00:28.707273, epoch 20, iter = 50, loss = 0.28769702583551404, perplexity = 1.3333532713273808, 0:00:16.018358 per 50 iters\n",
            "time = 0:00:28.864345, epoch 20, iter = 100, loss = 0.11816061913967132, perplexity = 1.1254248616240172, 0:00:09.423346 per 50 iters\n",
            "time = 0:00:29.020981, epoch 20, iter = 150, loss = 0.15386657387018204, perplexity = 1.1663352567967327, 0:00:09.398043 per 50 iters\n",
            "time = 0:00:29.173694, epoch 20, iter = 200, loss = 0.13807284615933896, perplexity = 1.1480591789300074, 0:00:09.162670 per 50 iters\n",
            "time = 0:00:29.328701, epoch 20, iter = 250, loss = 0.16500738941133022, perplexity = 1.1794018337644643, 0:00:09.300299 per 50 iters\n",
            "time = 0:00:29.481175, epoch 20, iter = 300, loss = 0.1751051799952984, perplexity = 1.1913715184733298, 0:00:09.147407 per 50 iters\n",
            "time = 0:00:29.638495, epoch 20, iter = 350, loss = 0.15112386621534823, perplexity = 1.1631407229985233, 0:00:09.439038 per 50 iters\n",
            "time = 0:00:29.790032, epoch 20, iter = 400, loss = 0.19002329340204596, perplexity = 1.209277765522365, 0:00:09.092113 per 50 iters\n",
            "time = 0:00:29.944529, epoch 20, iter = 450, loss = 0.19482685804367064, perplexity = 1.2151005833833097, 0:00:09.269726 per 50 iters\n",
            "\n",
            "time = 0:00:30.208263, epoch 21, iter = 50, loss = 0.2808587486669421, perplexity = 1.3242665363102148, 0:00:15.822807 per 50 iters\n",
            "time = 0:00:30.362413, epoch 21, iter = 100, loss = 0.12906412795186042, perplexity = 1.1377630842426114, 0:00:09.248880 per 50 iters\n",
            "time = 0:00:30.519551, epoch 21, iter = 150, loss = 0.13428388699889182, perplexity = 1.1437174600791893, 0:00:09.428146 per 50 iters\n",
            "time = 0:00:30.684620, epoch 21, iter = 200, loss = 0.1218721741437912, perplexity = 1.12960969922434, 0:00:09.904067 per 50 iters\n",
            "time = 0:00:30.837658, epoch 21, iter = 250, loss = 0.1448203142732382, perplexity = 1.1558318651190567, 0:00:09.181069 per 50 iters\n",
            "time = 0:00:30.990879, epoch 21, iter = 300, loss = 0.15321257531642915, perplexity = 1.1655727246002523, 0:00:09.192502 per 50 iters\n",
            "time = 0:00:31.145751, epoch 21, iter = 350, loss = 0.18758989050984382, perplexity = 1.2063386829465896, 0:00:09.292212 per 50 iters\n",
            "time = 0:00:31.301832, epoch 21, iter = 400, loss = 0.1726422466337681, perplexity = 1.1884408603038505, 0:00:09.364723 per 50 iters\n",
            "time = 0:00:31.455501, epoch 21, iter = 450, loss = 0.2091139665711671, perplexity = 1.232585464064925, 0:00:09.219999 per 50 iters\n",
            "\n",
            "time = 0:00:31.726585, epoch 22, iter = 50, loss = 0.24205592259764672, perplexity = 1.2738654286881534, 0:00:16.264528 per 50 iters\n",
            "time = 0:00:31.878588, epoch 22, iter = 100, loss = 0.1350890338420868, perplexity = 1.1446386913951554, 0:00:09.119979 per 50 iters\n",
            "time = 0:00:32.035411, epoch 22, iter = 150, loss = 0.12925700135529042, perplexity = 1.1379825496448053, 0:00:09.409259 per 50 iters\n",
            "time = 0:00:32.191079, epoch 22, iter = 200, loss = 0.1452952503412962, perplexity = 1.156380941738237, 0:00:09.339965 per 50 iters\n",
            "time = 0:00:32.348021, epoch 22, iter = 250, loss = 0.13641709998250007, perplexity = 1.1461598571649998, 0:00:09.416398 per 50 iters\n",
            "time = 0:00:32.504718, epoch 22, iter = 300, loss = 0.14335580602288245, perplexity = 1.1541403787167843, 0:00:09.401333 per 50 iters\n",
            "time = 0:00:32.658216, epoch 22, iter = 350, loss = 0.17077094718813896, perplexity = 1.1862190111017565, 0:00:09.209117 per 50 iters\n",
            "time = 0:00:32.806651, epoch 22, iter = 400, loss = 0.17848128996789456, perplexity = 1.1954005170821898, 0:00:08.905888 per 50 iters\n",
            "time = 0:00:32.961748, epoch 22, iter = 450, loss = 0.24251408763229848, perplexity = 1.274449203008709, 0:00:09.305703 per 50 iters\n",
            "\n",
            "time = 0:00:33.231577, epoch 23, iter = 50, loss = 0.2825417990982533, perplexity = 1.326497220325606, 0:00:16.189555 per 50 iters\n",
            "time = 0:00:33.386076, epoch 23, iter = 100, loss = 0.13560172379016877, perplexity = 1.145225686606834, 0:00:09.269855 per 50 iters\n",
            "time = 0:00:33.538493, epoch 23, iter = 150, loss = 0.12120034620165825, perplexity = 1.1288510507338587, 0:00:09.144891 per 50 iters\n",
            "time = 0:00:33.691219, epoch 23, iter = 200, loss = 0.13415586560964585, perplexity = 1.1435710491531101, 0:00:09.163482 per 50 iters\n",
            "time = 0:00:33.845068, epoch 23, iter = 250, loss = 0.13362872429192066, perplexity = 1.1429683844620324, 0:00:09.230021 per 50 iters\n",
            "time = 0:00:34.000783, epoch 23, iter = 300, loss = 0.16297071933746338, perplexity = 1.1770022257789285, 0:00:09.342768 per 50 iters\n",
            "time = 0:00:34.155490, epoch 23, iter = 350, loss = 0.18626523435115813, perplexity = 1.2047417569032353, 0:00:09.282280 per 50 iters\n",
            "time = 0:00:34.309873, epoch 23, iter = 400, loss = 0.14798333056271076, perplexity = 1.1594935680965581, 0:00:09.262842 per 50 iters\n",
            "time = 0:00:34.465429, epoch 23, iter = 450, loss = 0.20694205969572066, perplexity = 1.2299113082808197, 0:00:09.333228 per 50 iters\n",
            "\n",
            "time = 0:00:34.732738, epoch 24, iter = 50, loss = 0.25958041913807395, perplexity = 1.2963860337672244, 0:00:16.038065 per 50 iters\n",
            "time = 0:00:34.886355, epoch 24, iter = 100, loss = 0.12923875086009504, perplexity = 1.1379617810892695, 0:00:09.216903 per 50 iters\n",
            "time = 0:00:35.041322, epoch 24, iter = 150, loss = 0.1301517267152667, perplexity = 1.139001187123621, 0:00:09.297922 per 50 iters\n",
            "time = 0:00:35.193117, epoch 24, iter = 200, loss = 0.15152261957526206, perplexity = 1.1636046217543186, 0:00:09.107560 per 50 iters\n",
            "time = 0:00:35.347821, epoch 24, iter = 250, loss = 0.14707232855260371, perplexity = 1.158437748125395, 0:00:09.281345 per 50 iters\n",
            "time = 0:00:35.505259, epoch 24, iter = 300, loss = 0.16299847327172756, perplexity = 1.177034892674647, 0:00:09.446166 per 50 iters\n",
            "time = 0:00:35.659042, epoch 24, iter = 350, loss = 0.1880356291681528, perplexity = 1.2068765145898652, 0:00:09.226870 per 50 iters\n",
            "time = 0:00:35.813822, epoch 24, iter = 400, loss = 0.15168465457856656, perplexity = 1.1637931817092935, 0:00:09.286656 per 50 iters\n",
            "time = 0:00:35.970915, epoch 24, iter = 450, loss = 0.1690237568318844, perplexity = 1.1841482702011945, 0:00:09.425459 per 50 iters\n",
            "\n",
            "time = 0:00:36.240389, epoch 25, iter = 50, loss = 0.2257104851398617, perplexity = 1.2532127890263494, 0:00:16.168095 per 50 iters\n",
            "time = 0:00:36.396994, epoch 25, iter = 100, loss = 0.10721813634037972, perplexity = 1.1131770523652393, 0:00:09.396207 per 50 iters\n",
            "time = 0:00:36.552463, epoch 25, iter = 150, loss = 0.11653745502233505, perplexity = 1.1235995941269705, 0:00:09.328026 per 50 iters\n",
            "time = 0:00:36.702914, epoch 25, iter = 200, loss = 0.14238255679607392, perplexity = 1.1530176589172796, 0:00:09.026935 per 50 iters\n",
            "time = 0:00:36.861492, epoch 25, iter = 250, loss = 0.12190147913992405, perplexity = 1.129642802917257, 0:00:09.513750 per 50 iters\n",
            "time = 0:00:37.014592, epoch 25, iter = 300, loss = 0.19482897989451886, perplexity = 1.2151031616482486, 0:00:09.185942 per 50 iters\n",
            "time = 0:00:37.165917, epoch 25, iter = 350, loss = 0.1844455999135971, perplexity = 1.2025515605966428, 0:00:09.079355 per 50 iters\n",
            "time = 0:00:37.322636, epoch 25, iter = 400, loss = 0.15300749972462654, perplexity = 1.1653337185919528, 0:00:09.402981 per 50 iters\n",
            "time = 0:00:37.476060, epoch 25, iter = 450, loss = 0.16154726885259152, perplexity = 1.1753280132519572, 0:00:09.205329 per 50 iters\n",
            "\n",
            "time = 0:00:37.749669, epoch 26, iter = 50, loss = 0.2578244090080261, perplexity = 1.2941115643396117, 0:00:16.416423 per 50 iters\n",
            "time = 0:00:37.900780, epoch 26, iter = 100, loss = 0.11817443505860865, perplexity = 1.1254404105100861, 0:00:09.066480 per 50 iters\n",
            "time = 0:00:38.054755, epoch 26, iter = 150, loss = 0.1395938917249441, perplexity = 1.1498067579899307, 0:00:09.237616 per 50 iters\n",
            "time = 0:00:38.207331, epoch 26, iter = 200, loss = 0.12264807015657425, perplexity = 1.130486498994705, 0:00:09.154407 per 50 iters\n",
            "time = 0:00:38.360144, epoch 26, iter = 250, loss = 0.16323238261044026, perplexity = 1.1773102443304406, 0:00:09.168649 per 50 iters\n",
            "time = 0:00:38.513573, epoch 26, iter = 300, loss = 0.12295124910771847, perplexity = 1.130829290666737, 0:00:09.205579 per 50 iters\n",
            "time = 0:00:38.673038, epoch 26, iter = 350, loss = 0.13529747925698757, perplexity = 1.144877310950807, 0:00:09.567410 per 50 iters\n",
            "time = 0:00:38.825216, epoch 26, iter = 400, loss = 0.1952664889395237, perplexity = 1.2156348965830237, 0:00:09.130532 per 50 iters\n",
            "time = 0:00:38.982875, epoch 26, iter = 450, loss = 0.1914702595025301, perplexity = 1.2110288160049734, 0:00:09.459382 per 50 iters\n",
            "\n",
            "time = 0:00:39.252680, epoch 27, iter = 50, loss = 0.2580635944753885, perplexity = 1.2944211340397582, 0:00:16.188192 per 50 iters\n",
            "time = 0:00:39.409347, epoch 27, iter = 100, loss = 0.10214497447013855, perplexity = 1.1075440256978195, 0:00:09.399930 per 50 iters\n",
            "time = 0:00:39.563666, epoch 27, iter = 150, loss = 0.0993275823444128, perplexity = 1.1044280314309312, 0:00:09.259024 per 50 iters\n",
            "time = 0:00:39.715159, epoch 27, iter = 200, loss = 0.12297545433044434, perplexity = 1.1308566629728576, 0:00:09.089510 per 50 iters\n",
            "time = 0:00:39.870172, epoch 27, iter = 250, loss = 0.1496677490323782, perplexity = 1.1614482862976698, 0:00:09.299898 per 50 iters\n",
            "time = 0:00:40.029681, epoch 27, iter = 300, loss = 0.1282242915034294, perplexity = 1.1368079504690032, 0:00:09.570466 per 50 iters\n",
            "time = 0:00:40.180073, epoch 27, iter = 350, loss = 0.18706090159714223, perplexity = 1.2057007119130265, 0:00:09.023395 per 50 iters\n",
            "time = 0:00:40.337848, epoch 27, iter = 400, loss = 0.1777847345918417, perplexity = 1.1945681443559832, 0:00:09.465552 per 50 iters\n",
            "time = 0:00:40.491593, epoch 27, iter = 450, loss = 0.16991189390420913, perplexity = 1.1852004233380322, 0:00:09.224576 per 50 iters\n",
            "\n",
            "time = 0:00:40.757819, epoch 28, iter = 50, loss = 0.24038518458604813, perplexity = 1.2717389102170613, 0:00:15.973419 per 50 iters\n",
            "time = 0:00:40.910485, epoch 28, iter = 100, loss = 0.12196292161941528, perplexity = 1.1297122131043527, 0:00:09.159837 per 50 iters\n",
            "time = 0:00:41.064056, epoch 28, iter = 150, loss = 0.12210290312767029, perplexity = 1.1298703629926088, 0:00:09.214157 per 50 iters\n",
            "time = 0:00:41.215416, epoch 28, iter = 200, loss = 0.12668107502162457, perplexity = 1.1350549626709214, 0:00:09.080509 per 50 iters\n",
            "time = 0:00:41.372786, epoch 28, iter = 250, loss = 0.10938927352428436, perplexity = 1.115596538023116, 0:00:09.442078 per 50 iters\n",
            "time = 0:00:41.529839, epoch 28, iter = 300, loss = 0.15740905448794365, perplexity = 1.170474303756096, 0:00:09.423057 per 50 iters\n",
            "time = 0:00:41.683227, epoch 28, iter = 350, loss = 0.16456493102014064, perplexity = 1.1788801129549173, 0:00:09.203210 per 50 iters\n",
            "time = 0:00:41.841920, epoch 28, iter = 400, loss = 0.14248615197837353, perplexity = 1.153137112179134, 0:00:09.520684 per 50 iters\n",
            "time = 0:00:41.995432, epoch 28, iter = 450, loss = 0.1767810080945492, perplexity = 1.1933697261993148, 0:00:09.210556 per 50 iters\n",
            "\n",
            "time = 0:00:42.263555, epoch 29, iter = 50, loss = 0.2205626967549324, perplexity = 1.2467780912282516, 0:00:16.086417 per 50 iters\n",
            "time = 0:00:42.417285, epoch 29, iter = 100, loss = 0.09596360549330711, perplexity = 1.100719003139859, 0:00:09.223640 per 50 iters\n",
            "time = 0:00:42.572481, epoch 29, iter = 150, loss = 0.11581503368914127, perplexity = 1.1227881749387607, 0:00:09.311642 per 50 iters\n",
            "time = 0:00:42.722530, epoch 29, iter = 200, loss = 0.13866808727383614, perplexity = 1.1487427543811057, 0:00:09.001877 per 50 iters\n",
            "time = 0:00:42.879166, epoch 29, iter = 250, loss = 0.12655880160629748, perplexity = 1.134916184108689, 0:00:09.398062 per 50 iters\n",
            "time = 0:00:43.031973, epoch 29, iter = 300, loss = 0.14203916892409324, perplexity = 1.152621794608419, 0:00:09.168288 per 50 iters\n",
            "time = 0:00:43.186125, epoch 29, iter = 350, loss = 0.16432888314127922, perplexity = 1.1786018736450137, 0:00:09.249020 per 50 iters\n",
            "time = 0:00:43.350788, epoch 29, iter = 400, loss = 0.178945838958025, perplexity = 1.1959559681923386, 0:00:09.878765 per 50 iters\n",
            "time = 0:00:43.505924, epoch 29, iter = 450, loss = 0.20021578304469587, perplexity = 1.2216663446038454, 0:00:09.308030 per 50 iters\n",
            "\n",
            "time = 0:00:43.774272, epoch 30, iter = 50, loss = 0.2109362205117941, perplexity = 1.2348335954950584, 0:00:16.100762 per 50 iters\n",
            "time = 0:00:43.927280, epoch 30, iter = 100, loss = 0.10564029414206744, perplexity = 1.1114220195843239, 0:00:09.180398 per 50 iters\n",
            "time = 0:00:44.082238, epoch 30, iter = 150, loss = 0.10862437397241592, perplexity = 1.1147435449996954, 0:00:09.296729 per 50 iters\n",
            "time = 0:00:44.237698, epoch 30, iter = 200, loss = 0.1127357865124941, perplexity = 1.1193361501674794, 0:00:09.327449 per 50 iters\n",
            "time = 0:00:44.392297, epoch 30, iter = 250, loss = 0.12953211344778537, perplexity = 1.1382956654742615, 0:00:09.275820 per 50 iters\n",
            "time = 0:00:44.545160, epoch 30, iter = 300, loss = 0.14204599701333792, perplexity = 1.1526296648397671, 0:00:09.171688 per 50 iters\n",
            "time = 0:00:44.701713, epoch 30, iter = 350, loss = 0.13855499804019927, perplexity = 1.148612851288826, 0:00:09.393070 per 50 iters\n",
            "time = 0:00:44.856394, epoch 30, iter = 400, loss = 0.19325991727411748, perplexity = 1.2131980836815397, 0:00:09.280021 per 50 iters\n",
            "time = 0:00:45.011021, epoch 30, iter = 450, loss = 0.1886137880384922, perplexity = 1.2075744827009647, 0:00:09.277459 per 50 iters\n",
            "\n",
            "time = 0:00:45.277081, epoch 31, iter = 50, loss = 0.2189267586171627, perplexity = 1.2447401068621702, 0:00:15.963493 per 50 iters\n",
            "time = 0:00:45.431421, epoch 31, iter = 100, loss = 0.09960871495306492, perplexity = 1.104738565813101, 0:00:09.260310 per 50 iters\n",
            "time = 0:00:45.586288, epoch 31, iter = 150, loss = 0.10925796590745449, perplexity = 1.1154500613173286, 0:00:09.291240 per 50 iters\n",
            "time = 0:00:45.737454, epoch 31, iter = 200, loss = 0.12180579712614417, perplexity = 1.1295347215898237, 0:00:09.069823 per 50 iters\n",
            "time = 0:00:45.893803, epoch 31, iter = 250, loss = 0.11772374354302884, perplexity = 1.1249332983499365, 0:00:09.380838 per 50 iters\n",
            "time = 0:00:46.048571, epoch 31, iter = 300, loss = 0.14954760983586313, perplexity = 1.1613087592152638, 0:00:09.285928 per 50 iters\n",
            "time = 0:00:46.204277, epoch 31, iter = 350, loss = 0.15976740561425687, perplexity = 1.1732379506927042, 0:00:09.342210 per 50 iters\n",
            "time = 0:00:46.356739, epoch 31, iter = 400, loss = 0.1877761036157608, perplexity = 1.2065633399359177, 0:00:09.147596 per 50 iters\n",
            "time = 0:00:46.510426, epoch 31, iter = 450, loss = 0.18202808178961277, perplexity = 1.199647881666282, 0:00:09.221094 per 50 iters\n",
            "\n",
            "time = 0:00:46.776027, epoch 32, iter = 50, loss = 0.22896210860460997, perplexity = 1.2572943974681063, 0:00:15.935910 per 50 iters\n",
            "time = 0:00:46.929406, epoch 32, iter = 100, loss = 0.11165417447686195, perplexity = 1.1181261172266028, 0:00:09.202688 per 50 iters\n",
            "time = 0:00:47.086240, epoch 32, iter = 150, loss = 0.10754954226315022, perplexity = 1.113546026970293, 0:00:09.409924 per 50 iters\n",
            "time = 0:00:47.237579, epoch 32, iter = 200, loss = 0.12866027615964412, perplexity = 1.137303689351891, 0:00:09.079453 per 50 iters\n",
            "time = 0:00:47.391639, epoch 32, iter = 250, loss = 0.11971147648990155, perplexity = 1.1271715891553176, 0:00:09.243478 per 50 iters\n",
            "time = 0:00:47.545608, epoch 32, iter = 300, loss = 0.14020286709070207, perplexity = 1.1505071752277045, 0:00:09.237381 per 50 iters\n",
            "time = 0:00:47.696281, epoch 32, iter = 350, loss = 0.15142541505396367, perplexity = 1.1634915196211886, 0:00:09.039649 per 50 iters\n",
            "time = 0:00:47.853142, epoch 32, iter = 400, loss = 0.16870166294276714, perplexity = 1.183766924697379, 0:00:09.411561 per 50 iters\n",
            "time = 0:00:48.013993, epoch 32, iter = 450, loss = 0.15778520680963992, perplexity = 1.170914663198861, 0:00:09.650252 per 50 iters\n",
            "\n",
            "time = 0:00:48.279126, epoch 33, iter = 50, loss = 0.24777528695762158, perplexity = 1.2811720037858176, 0:00:15.907868 per 50 iters\n",
            "time = 0:00:48.435190, epoch 33, iter = 100, loss = 0.09622897930443287, perplexity = 1.1010111438982395, 0:00:09.363724 per 50 iters\n",
            "time = 0:00:48.588176, epoch 33, iter = 150, loss = 0.09833560787141322, perplexity = 1.1033330102228223, 0:00:09.179095 per 50 iters\n",
            "time = 0:00:48.740104, epoch 33, iter = 200, loss = 0.13800895281136036, perplexity = 1.1479858279287334, 0:00:09.115517 per 50 iters\n",
            "time = 0:00:48.896476, epoch 33, iter = 250, loss = 0.11490367420017719, perplexity = 1.121765377420338, 0:00:09.382211 per 50 iters\n",
            "time = 0:00:49.052093, epoch 33, iter = 300, loss = 0.13475589349865913, perplexity = 1.1442574295787757, 0:00:09.336908 per 50 iters\n",
            "time = 0:00:49.206354, epoch 33, iter = 350, loss = 0.15073584370315074, perplexity = 1.1626894857639105, 0:00:09.254745 per 50 iters\n",
            "time = 0:00:49.361572, epoch 33, iter = 400, loss = 0.1458229099214077, perplexity = 1.156991278231191, 0:00:09.312930 per 50 iters\n",
            "time = 0:00:49.514874, epoch 33, iter = 450, loss = 0.20194206841289997, perplexity = 1.2237771107074984, 0:00:09.197987 per 50 iters\n",
            "\n",
            "time = 0:00:49.780816, epoch 34, iter = 50, loss = 0.2369431535899639, perplexity = 1.2673690703456442, 0:00:15.956411 per 50 iters\n",
            "time = 0:00:49.935396, epoch 34, iter = 100, loss = 0.10157217748463154, perplexity = 1.1069098094744942, 0:00:09.274680 per 50 iters\n",
            "time = 0:00:50.089912, epoch 34, iter = 150, loss = 0.12496745202690362, perplexity = 1.1331115719816673, 0:00:09.270792 per 50 iters\n",
            "time = 0:00:50.244786, epoch 34, iter = 200, loss = 0.11220446117222309, perplexity = 1.118741576476636, 0:00:09.291593 per 50 iters\n",
            "time = 0:00:50.399765, epoch 34, iter = 250, loss = 0.1074239481240511, perplexity = 1.113406180897796, 0:00:09.298641 per 50 iters\n",
            "time = 0:00:50.553686, epoch 34, iter = 300, loss = 0.12261459417641163, perplexity = 1.1304486554845183, 0:00:09.235139 per 50 iters\n",
            "time = 0:00:50.710062, epoch 34, iter = 350, loss = 0.15372246347367763, perplexity = 1.1661671878709492, 0:00:09.381651 per 50 iters\n",
            "time = 0:00:50.868414, epoch 34, iter = 400, loss = 0.13538374572992326, perplexity = 1.144976079738523, 0:00:09.500013 per 50 iters\n",
            "time = 0:00:51.017371, epoch 34, iter = 450, loss = 0.21094386719167232, perplexity = 1.2348430379083677, 0:00:08.937312 per 50 iters\n",
            "\n",
            "time = 0:00:51.282519, epoch 35, iter = 50, loss = 0.22050822410732507, perplexity = 1.2467101777743732, 0:00:15.907515 per 50 iters\n",
            "time = 0:00:51.438038, epoch 35, iter = 100, loss = 0.09925856154412031, perplexity = 1.104351805554952, 0:00:09.330993 per 50 iters\n",
            "time = 0:00:51.592829, epoch 35, iter = 150, loss = 0.10374426856637001, perplexity = 1.1093167314805372, 0:00:09.287321 per 50 iters\n",
            "time = 0:00:51.751434, epoch 35, iter = 200, loss = 0.10116543911397458, perplexity = 1.106459678331134, 0:00:09.516213 per 50 iters\n",
            "time = 0:00:51.904882, epoch 35, iter = 250, loss = 0.14824946716427803, perplexity = 1.159802192840659, 0:00:09.206721 per 50 iters\n",
            "time = 0:00:52.053070, epoch 35, iter = 300, loss = 0.15726145427674054, perplexity = 1.1703015542508992, 0:00:08.890415 per 50 iters\n",
            "time = 0:00:52.210292, epoch 35, iter = 350, loss = 0.15351078599691392, perplexity = 1.165920362667726, 0:00:09.433230 per 50 iters\n",
            "time = 0:00:52.362618, epoch 35, iter = 400, loss = 0.16350050024688245, perplexity = 1.1776259442909822, 0:00:09.139436 per 50 iters\n",
            "time = 0:00:52.518978, epoch 35, iter = 450, loss = 0.15714301601052283, perplexity = 1.1701629539718124, 0:00:09.380761 per 50 iters\n",
            "\n",
            "time = 0:00:52.792836, epoch 36, iter = 50, loss = 0.210278742313385, perplexity = 1.2340219861643145, 0:00:16.430580 per 50 iters\n",
            "time = 0:00:52.944636, epoch 36, iter = 100, loss = 0.10050361469388008, perplexity = 1.105727638563782, 0:00:09.107545 per 50 iters\n",
            "time = 0:00:53.100286, epoch 36, iter = 150, loss = 0.10932456418871879, perplexity = 1.1155243508479986, 0:00:09.338833 per 50 iters\n",
            "time = 0:00:53.254098, epoch 36, iter = 200, loss = 0.11649539165198802, perplexity = 1.1235523327351147, 0:00:09.228556 per 50 iters\n",
            "time = 0:00:53.409693, epoch 36, iter = 250, loss = 0.10634826749563217, perplexity = 1.1122091553614548, 0:00:09.335573 per 50 iters\n",
            "time = 0:00:53.565907, epoch 36, iter = 300, loss = 0.1396795853972435, perplexity = 1.1499052933753267, 0:00:09.371876 per 50 iters\n",
            "time = 0:00:53.718830, epoch 36, iter = 350, loss = 0.15435318946838378, perplexity = 1.1669029518388516, 0:00:09.175258 per 50 iters\n",
            "time = 0:00:53.871948, epoch 36, iter = 400, loss = 0.18007950328290462, perplexity = 1.197312549616298, 0:00:09.186230 per 50 iters\n",
            "time = 0:00:54.027211, epoch 36, iter = 450, loss = 0.1793793186545372, perplexity = 1.1964745032015522, 0:00:09.315663 per 50 iters\n",
            "\n",
            "time = 0:00:54.295094, epoch 37, iter = 50, loss = 0.19401706732809543, perplexity = 1.2141170045126641, 0:00:16.072855 per 50 iters\n",
            "time = 0:00:54.450193, epoch 37, iter = 100, loss = 0.08393702253699303, perplexity = 1.0875603998572112, 0:00:09.304901 per 50 iters\n",
            "time = 0:00:54.604832, epoch 37, iter = 150, loss = 0.11044774301350117, perplexity = 1.1167779880750022, 0:00:09.278175 per 50 iters\n",
            "time = 0:00:54.760720, epoch 37, iter = 200, loss = 0.12062858536839485, perplexity = 1.128205802397902, 0:00:09.353153 per 50 iters\n",
            "time = 0:00:54.916884, epoch 37, iter = 250, loss = 0.1331285820901394, perplexity = 1.1423968806661577, 0:00:09.369079 per 50 iters\n",
            "time = 0:00:55.070736, epoch 37, iter = 300, loss = 0.1320333318412304, perplexity = 1.141146355142459, 0:00:09.230261 per 50 iters\n",
            "time = 0:00:55.224944, epoch 37, iter = 350, loss = 0.13670879922807216, perplexity = 1.1464942398978644, 0:00:09.252333 per 50 iters\n",
            "time = 0:00:55.381936, epoch 37, iter = 400, loss = 0.14482426270842552, perplexity = 1.1558364288552734, 0:00:09.419357 per 50 iters\n",
            "time = 0:00:55.534855, epoch 37, iter = 450, loss = 0.19191101238131522, perplexity = 1.211562698088309, 0:00:09.175001 per 50 iters\n",
            "\n",
            "time = 0:00:55.808257, epoch 38, iter = 50, loss = 0.25200961280614137, perplexity = 1.2866084051425741, 0:00:16.403308 per 50 iters\n",
            "time = 0:00:55.963075, epoch 38, iter = 100, loss = 0.0873118070140481, perplexity = 1.0912368819905867, 0:00:09.288968 per 50 iters\n",
            "time = 0:00:56.118250, epoch 38, iter = 150, loss = 0.10691841088235378, perplexity = 1.1128434548596853, 0:00:09.310365 per 50 iters\n",
            "time = 0:00:56.274273, epoch 38, iter = 200, loss = 0.11935298606753349, perplexity = 1.12676758135703, 0:00:09.361262 per 50 iters\n",
            "time = 0:00:56.426884, epoch 38, iter = 250, loss = 0.1121126589924097, perplexity = 1.1186388782752992, 0:00:09.156493 per 50 iters\n",
            "time = 0:00:56.579331, epoch 38, iter = 300, loss = 0.13236647717654704, perplexity = 1.1415265860601498, 0:00:09.146720 per 50 iters\n",
            "time = 0:00:56.734141, epoch 38, iter = 350, loss = 0.16206006944179535, perplexity = 1.175930876710818, 0:00:09.288452 per 50 iters\n",
            "time = 0:00:56.890791, epoch 38, iter = 400, loss = 0.16872367203235628, perplexity = 1.1837929786163877, 0:00:09.398879 per 50 iters\n",
            "time = 0:00:57.045134, epoch 38, iter = 450, loss = 0.1549974813312292, perplexity = 1.1676550201651872, 0:00:09.259447 per 50 iters\n",
            "\n",
            "time = 0:00:57.313785, epoch 39, iter = 50, loss = 0.22485373482108117, perplexity = 1.252139558380848, 0:00:16.118874 per 50 iters\n",
            "time = 0:00:57.465986, epoch 39, iter = 100, loss = 0.0976234950311482, perplexity = 1.102547592305437, 0:00:09.130383 per 50 iters\n",
            "time = 0:00:57.621188, epoch 39, iter = 150, loss = 0.10030756175518035, perplexity = 1.1055108786597423, 0:00:09.311591 per 50 iters\n",
            "time = 0:00:57.775340, epoch 39, iter = 200, loss = 0.11386999793350697, perplexity = 1.1206064342621378, 0:00:09.248346 per 50 iters\n",
            "time = 0:00:57.928222, epoch 39, iter = 250, loss = 0.12120537407696247, perplexity = 1.1288567264704472, 0:00:09.172794 per 50 iters\n",
            "time = 0:00:58.085860, epoch 39, iter = 300, loss = 0.11798674441874027, perplexity = 1.125229195701445, 0:00:09.458098 per 50 iters\n",
            "time = 0:00:58.237799, epoch 39, iter = 350, loss = 0.14954632513225077, perplexity = 1.1613072672786642, 0:00:09.116236 per 50 iters\n",
            "time = 0:00:58.390708, epoch 39, iter = 400, loss = 0.17786373287439347, perplexity = 1.1946625169153644, 0:00:09.174052 per 50 iters\n",
            "time = 0:00:58.545335, epoch 39, iter = 450, loss = 0.15817686051130295, perplexity = 1.1713733460775948, 0:00:09.276777 per 50 iters\n",
            "\n",
            "time = 0:00:58.806954, epoch 40, iter = 50, loss = 0.2406278286781162, perplexity = 1.2720475275908556, 0:00:15.696539 per 50 iters\n",
            "time = 0:00:58.958055, epoch 40, iter = 100, loss = 0.10986671313643455, perplexity = 1.116129295171109, 0:00:09.065233 per 50 iters\n",
            "time = 0:00:59.113682, epoch 40, iter = 150, loss = 0.10949587643146515, perplexity = 1.1157154701964553, 0:00:09.337439 per 50 iters\n",
            "time = 0:00:59.269838, epoch 40, iter = 200, loss = 0.10708407543599606, perplexity = 1.1130278288456037, 0:00:09.369243 per 50 iters\n",
            "time = 0:00:59.421890, epoch 40, iter = 250, loss = 0.11472813583910466, perplexity = 1.1215684818463465, 0:00:09.122995 per 50 iters\n",
            "time = 0:00:59.576583, epoch 40, iter = 300, loss = 0.1251907578855753, perplexity = 1.1333646306879137, 0:00:09.281462 per 50 iters\n",
            "time = 0:00:59.736152, epoch 40, iter = 350, loss = 0.11113972969353199, perplexity = 1.1175510510110807, 0:00:09.574042 per 50 iters\n",
            "time = 0:00:59.889200, epoch 40, iter = 400, loss = 0.15502015456557275, perplexity = 1.1676814949812255, 0:00:09.182404 per 50 iters\n",
            "time = 0:01:00.045252, epoch 40, iter = 450, loss = 0.1834122186154127, perplexity = 1.2013095081712235, 0:00:09.362279 per 50 iters\n",
            "\n",
            "time = 0:01:00.309779, epoch 41, iter = 50, loss = 0.22893153212964534, perplexity = 1.2572559544251685, 0:00:15.870579 per 50 iters\n",
            "time = 0:01:00.464569, epoch 41, iter = 100, loss = 0.10103442650288344, perplexity = 1.1063147276549994, 0:00:09.286337 per 50 iters\n",
            "time = 0:01:00.617462, epoch 41, iter = 150, loss = 0.09501844972372055, perplexity = 1.0996791437153257, 0:00:09.172808 per 50 iters\n",
            "time = 0:01:00.772949, epoch 41, iter = 200, loss = 0.11044133655726909, perplexity = 1.1167708335086182, 0:00:09.329101 per 50 iters\n",
            "time = 0:01:00.927526, epoch 41, iter = 250, loss = 0.13194677293300627, perplexity = 1.1410475830346984, 0:00:09.273472 per 50 iters\n",
            "time = 0:01:01.080891, epoch 41, iter = 300, loss = 0.11795245602726936, perplexity = 1.1251906140637433, 0:00:09.201776 per 50 iters\n",
            "time = 0:01:01.237304, epoch 41, iter = 350, loss = 0.13698469884693623, perplexity = 1.14681060086161, 0:00:09.384673 per 50 iters\n",
            "time = 0:01:01.390203, epoch 41, iter = 400, loss = 0.1764613226056099, perplexity = 1.192988284188896, 0:00:09.173875 per 50 iters\n",
            "time = 0:01:01.545804, epoch 41, iter = 450, loss = 0.17646750628948213, perplexity = 1.1929956612741173, 0:00:09.335155 per 50 iters\n",
            "\n",
            "time = 0:01:01.812910, epoch 42, iter = 50, loss = 0.2687697599828243, perplexity = 1.3083538709478624, 0:00:16.025886 per 50 iters\n",
            "time = 0:01:01.965191, epoch 42, iter = 100, loss = 0.10926420863717795, perplexity = 1.115457024792317, 0:00:09.135935 per 50 iters\n",
            "time = 0:01:02.120210, epoch 42, iter = 150, loss = 0.09899438552558422, perplexity = 1.104060100824291, 0:00:09.300992 per 50 iters\n",
            "time = 0:01:02.273046, epoch 42, iter = 200, loss = 0.11244764551520348, perplexity = 1.119013669994977, 0:00:09.170019 per 50 iters\n",
            "time = 0:01:02.427181, epoch 42, iter = 250, loss = 0.10874630622565747, perplexity = 1.1148794764789711, 0:00:09.247980 per 50 iters\n",
            "time = 0:01:02.581681, epoch 42, iter = 300, loss = 0.13305884875357152, perplexity = 1.142317220297508, 0:00:09.269406 per 50 iters\n",
            "time = 0:01:02.733689, epoch 42, iter = 350, loss = 0.17255858324468135, perplexity = 1.1883414354729156, 0:00:09.120296 per 50 iters\n",
            "time = 0:01:02.886474, epoch 42, iter = 400, loss = 0.1999991685897112, perplexity = 1.221401742673772, 0:00:09.167014 per 50 iters\n",
            "time = 0:01:03.041457, epoch 42, iter = 450, loss = 0.19636023819446563, perplexity = 1.2169652237349873, 0:00:09.298861 per 50 iters\n",
            "\n",
            "time = 0:01:03.311501, epoch 43, iter = 50, loss = 0.21343294575810431, perplexity = 1.237920487665183, 0:00:16.202501 per 50 iters\n",
            "time = 0:01:03.465833, epoch 43, iter = 100, loss = 0.11016519755125045, perplexity = 1.1164624920952075, 0:00:09.259784 per 50 iters\n",
            "time = 0:01:03.622303, epoch 43, iter = 150, loss = 0.0959371055290103, perplexity = 1.1006898345120606, 0:00:09.388112 per 50 iters\n",
            "time = 0:01:03.777200, epoch 43, iter = 200, loss = 0.11323768198490143, perplexity = 1.119898080916804, 0:00:09.292952 per 50 iters\n",
            "time = 0:01:03.931357, epoch 43, iter = 250, loss = 0.13093470521271228, perplexity = 1.1398933497882164, 0:00:09.248377 per 50 iters\n",
            "time = 0:01:04.086190, epoch 43, iter = 300, loss = 0.11144691921770572, perplexity = 1.1178944037211584, 0:00:09.289840 per 50 iters\n",
            "time = 0:01:04.241135, epoch 43, iter = 350, loss = 0.13610565468668936, perplexity = 1.145802946651174, 0:00:09.296619 per 50 iters\n",
            "time = 0:01:04.394920, epoch 43, iter = 400, loss = 0.16931587770581247, perplexity = 1.1844942351580785, 0:00:09.226251 per 50 iters\n",
            "time = 0:01:04.555975, epoch 43, iter = 450, loss = 0.21434698604047298, perplexity = 1.239052514137362, 0:00:09.662465 per 50 iters\n",
            "\n",
            "time = 0:01:04.820979, epoch 44, iter = 50, loss = 0.23767648562788962, perplexity = 1.268298813552379, 0:00:15.900101 per 50 iters\n",
            "time = 0:01:04.975890, epoch 44, iter = 100, loss = 0.10310722012072801, perplexity = 1.1086102680306362, 0:00:09.294548 per 50 iters\n",
            "time = 0:01:05.129641, epoch 44, iter = 150, loss = 0.10907699331641198, perplexity = 1.115248213694548, 0:00:09.224976 per 50 iters\n",
            "time = 0:01:05.280001, epoch 44, iter = 200, loss = 0.137629336938262, perplexity = 1.1475501169929858, 0:00:09.021487 per 50 iters\n",
            "time = 0:01:05.431888, epoch 44, iter = 250, loss = 0.11706900462508202, perplexity = 1.1241970018067167, 0:00:09.112273 per 50 iters\n",
            "time = 0:01:05.586347, epoch 44, iter = 300, loss = 0.1395801179111004, perplexity = 1.149790920874759, 0:00:09.267422 per 50 iters\n",
            "time = 0:01:05.742773, epoch 44, iter = 350, loss = 0.143252365142107, perplexity = 1.1540209995939188, 0:00:09.385437 per 50 iters\n",
            "time = 0:01:05.893065, epoch 44, iter = 400, loss = 0.1636599907465279, perplexity = 1.1778137794197936, 0:00:09.017376 per 50 iters\n",
            "time = 0:01:06.049644, epoch 44, iter = 450, loss = 0.18084367379546165, perplexity = 1.198227850239361, 0:00:09.394584 per 50 iters\n",
            "\n",
            "time = 0:01:06.322471, epoch 45, iter = 50, loss = 0.19589094527065753, perplexity = 1.2163942445556912, 0:00:16.369516 per 50 iters\n",
            "time = 0:01:06.477446, epoch 45, iter = 100, loss = 0.11245932072401046, perplexity = 1.119026734789499, 0:00:09.298416 per 50 iters\n",
            "time = 0:01:06.632515, epoch 45, iter = 150, loss = 0.09794080838561058, perplexity = 1.102897500892804, 0:00:09.304014 per 50 iters\n",
            "time = 0:01:06.788837, epoch 45, iter = 200, loss = 0.11093536488711835, perplexity = 1.1173226862425392, 0:00:09.379187 per 50 iters\n",
            "time = 0:01:06.939655, epoch 45, iter = 250, loss = 0.12481627807021141, perplexity = 1.1329402879691242, 0:00:09.048227 per 50 iters\n",
            "time = 0:01:07.095207, epoch 45, iter = 300, loss = 0.1153723182529211, perplexity = 1.122291209297407, 0:00:09.333024 per 50 iters\n",
            "time = 0:01:07.245342, epoch 45, iter = 350, loss = 0.1739877050369978, perplexity = 1.190040934221158, 0:00:09.007668 per 50 iters\n",
            "time = 0:01:07.400096, epoch 45, iter = 400, loss = 0.1570384234189987, perplexity = 1.170040569996291, 0:00:09.285089 per 50 iters\n",
            "time = 0:01:07.555560, epoch 45, iter = 450, loss = 0.1847207897156477, perplexity = 1.2028825360610067, 0:00:09.327774 per 50 iters\n",
            "\n",
            "time = 0:01:07.822406, epoch 46, iter = 50, loss = 0.23620294384658336, perplexity = 1.2664312985280515, 0:00:16.010568 per 50 iters\n",
            "time = 0:01:07.976545, epoch 46, iter = 100, loss = 0.09980110295116901, perplexity = 1.10495112470044, 0:00:09.248226 per 50 iters\n",
            "time = 0:01:08.128645, epoch 46, iter = 150, loss = 0.10009950213134289, perplexity = 1.1052808904086444, 0:00:09.125207 per 50 iters\n",
            "time = 0:01:08.291298, epoch 46, iter = 200, loss = 0.11730331316590309, perplexity = 1.1244604416277002, 0:00:09.759058 per 50 iters\n",
            "time = 0:01:08.447665, epoch 46, iter = 250, loss = 0.13213269993662835, perplexity = 1.1412597543163765, 0:00:09.381922 per 50 iters\n",
            "time = 0:01:08.602163, epoch 46, iter = 300, loss = 0.13627022869884967, perplexity = 1.1459915315569111, 0:00:09.269453 per 50 iters\n",
            "time = 0:01:08.755159, epoch 46, iter = 350, loss = 0.16623990081250667, perplexity = 1.1808563561447274, 0:00:09.179680 per 50 iters\n",
            "time = 0:01:08.908683, epoch 46, iter = 400, loss = 0.13648915350437163, perplexity = 1.1462424449946726, 0:00:09.211275 per 50 iters\n",
            "time = 0:01:09.062932, epoch 46, iter = 450, loss = 0.1891705384105444, perplexity = 1.2082469874347481, 0:00:09.254205 per 50 iters\n",
            "\n",
            "time = 0:01:09.327900, epoch 47, iter = 50, loss = 0.23320745021104813, perplexity = 1.2626433877971155, 0:00:15.897924 per 50 iters\n",
            "time = 0:01:09.479031, epoch 47, iter = 100, loss = 0.09978621795773507, perplexity = 1.1049346776326114, 0:00:09.067786 per 50 iters\n",
            "time = 0:01:09.629904, epoch 47, iter = 150, loss = 0.11787689208984375, perplexity = 1.1251055934428773, 0:00:09.052238 per 50 iters\n",
            "time = 0:01:09.786317, epoch 47, iter = 200, loss = 0.10861941792070866, perplexity = 1.1147380202867365, 0:00:09.384687 per 50 iters\n",
            "time = 0:01:09.940585, epoch 47, iter = 250, loss = 0.11001309461891651, perplexity = 1.1162926877905128, 0:00:09.255947 per 50 iters\n",
            "time = 0:01:10.097539, epoch 47, iter = 300, loss = 0.12098418533802033, perplexity = 1.128607063686989, 0:00:09.417119 per 50 iters\n",
            "time = 0:01:10.251542, epoch 47, iter = 350, loss = 0.138987875347957, perplexity = 1.1491101673582027, 0:00:09.239363 per 50 iters\n",
            "time = 0:01:10.404637, epoch 47, iter = 400, loss = 0.17263394981622696, perplexity = 1.1884310000677787, 0:00:09.184752 per 50 iters\n",
            "time = 0:01:10.560478, epoch 47, iter = 450, loss = 0.16975442320108414, perplexity = 1.1850138036879745, 0:00:09.350353 per 50 iters\n",
            "\n",
            "time = 0:01:10.829201, epoch 48, iter = 50, loss = 0.23363790899515152, perplexity = 1.2631870207319744, 0:00:16.122583 per 50 iters\n",
            "time = 0:01:10.983884, epoch 48, iter = 100, loss = 0.09684566877782345, perplexity = 1.1016903352843315, 0:00:09.279936 per 50 iters\n",
            "time = 0:01:11.139312, epoch 48, iter = 150, loss = 0.10246576932258904, perplexity = 1.107899377114531, 0:00:09.325564 per 50 iters\n",
            "time = 0:01:11.292744, epoch 48, iter = 200, loss = 0.10235349290072918, perplexity = 1.1077749931195133, 0:00:09.205799 per 50 iters\n",
            "time = 0:01:11.447155, epoch 48, iter = 250, loss = 0.12100847519934177, perplexity = 1.1286344777289925, 0:00:09.264522 per 50 iters\n",
            "time = 0:01:11.599205, epoch 48, iter = 300, loss = 0.14336121767759324, perplexity = 1.154146624542902, 0:00:09.122929 per 50 iters\n",
            "time = 0:01:11.750591, epoch 48, iter = 350, loss = 0.14896335013210774, perplexity = 1.1606304514768708, 0:00:09.082276 per 50 iters\n",
            "time = 0:01:11.907821, epoch 48, iter = 400, loss = 0.14019897811114787, perplexity = 1.1505027009375233, 0:00:09.432904 per 50 iters\n",
            "time = 0:01:12.061070, epoch 48, iter = 450, loss = 0.2109826134890318, perplexity = 1.2348908844308386, 0:00:09.194887 per 50 iters\n",
            "\n",
            "time = 0:01:12.324287, epoch 49, iter = 50, loss = 0.2286407945305109, perplexity = 1.2568904759792188, 0:00:15.792912 per 50 iters\n",
            "time = 0:01:12.478816, epoch 49, iter = 100, loss = 0.11098851878196, perplexity = 1.1173820778735422, 0:00:09.271592 per 50 iters\n",
            "time = 0:01:12.632298, epoch 49, iter = 150, loss = 0.10496403358876705, perplexity = 1.1106706627995218, 0:00:09.208385 per 50 iters\n",
            "time = 0:01:12.786982, epoch 49, iter = 200, loss = 0.1019870938360691, perplexity = 1.1073691797475405, 0:00:09.279991 per 50 iters\n",
            "time = 0:01:12.943539, epoch 49, iter = 250, loss = 0.10579774203710259, perplexity = 1.111597024418513, 0:00:09.393330 per 50 iters\n",
            "time = 0:01:13.095590, epoch 49, iter = 300, loss = 0.13605660319328308, perplexity = 1.145746744683898, 0:00:09.122952 per 50 iters\n",
            "time = 0:01:13.249995, epoch 49, iter = 350, loss = 0.13920133903622628, perplexity = 1.1493554868352234, 0:00:09.264203 per 50 iters\n",
            "time = 0:01:13.403347, epoch 49, iter = 400, loss = 0.1730326956510544, perplexity = 1.1889049764708135, 0:00:09.200277 per 50 iters\n",
            "time = 0:01:13.557570, epoch 49, iter = 450, loss = 0.18359371721744538, perplexity = 1.2015275639553766, 0:00:09.253243 per 50 iters\n",
            "\n",
            "time = 0:01:13.825127, epoch 50, iter = 50, loss = 0.20725062470883132, perplexity = 1.2302908744371908, 0:00:16.053328 per 50 iters\n",
            "time = 0:01:13.977723, epoch 50, iter = 100, loss = 0.10528691343963147, perplexity = 1.1110293338782022, 0:00:09.155670 per 50 iters\n",
            "time = 0:01:14.135799, epoch 50, iter = 150, loss = 0.08101871885359287, perplexity = 1.0843911949367941, 0:00:09.484457 per 50 iters\n",
            "time = 0:01:14.291375, epoch 50, iter = 200, loss = 0.10651793889701366, perplexity = 1.1123978814577322, 0:00:09.333533 per 50 iters\n",
            "time = 0:01:14.444436, epoch 50, iter = 250, loss = 0.13064558647572994, perplexity = 1.1395638328996798, 0:00:09.183589 per 50 iters\n",
            "time = 0:01:14.596496, epoch 50, iter = 300, loss = 0.15180698081851005, perplexity = 1.16393555286097, 0:00:09.123504 per 50 iters\n",
            "time = 0:01:14.749928, epoch 50, iter = 350, loss = 0.15923743084073066, perplexity = 1.1726163289119744, 0:00:09.205799 per 50 iters\n",
            "time = 0:01:14.902585, epoch 50, iter = 400, loss = 0.1874854137003422, perplexity = 1.2062126551134247, 0:00:09.159294 per 50 iters\n",
            "time = 0:01:15.056354, epoch 50, iter = 450, loss = 0.18849059768021106, perplexity = 1.2074257303304066, 0:00:09.225981 per 50 iters\n",
            "\n"
          ]
        }
      ],
      "source": [
        "\n",
        "model.to(device)\n",
        "train_model(model, EPOCHS)"
      ]
    },
    {
      "cell_type": "code",
      "execution_count": null,
      "metadata": {
        "id": "Tn6itPSdNpgO",
        "colab": {
          "base_uri": "https://localhost:8080/",
          "height": 472
        },
        "outputId": "fd0aa811-8884-4c1c-daa7-f351e88c0357"
      },
      "outputs": [
        {
          "output_type": "display_data",
          "data": {
            "text/plain": [
              "<Figure size 640x480 with 1 Axes>"
            ],
            "image/png": "[encoded data removed]"
          },
          "metadata": {}
        }
      ],
      "source": [
        "\n",
        "epoch = list(range(66))\n",
        "import matplotlib.pyplot as plt\n",
        "plt.plot(epoch,Loss_hist)\n",
        "plt.title('Loss Graph')\n",
        "plt.xlabel('Epoch')\n",
        "plt.ylabel('Loss')\n",
        "plt.show() "
      ]
    },
    {
      "cell_type": "code",
      "execution_count": null,
      "metadata": {
        "id": "F0ffn7C9NpgO",
        "colab": {
          "base_uri": "https://localhost:8080/",
          "height": 472
        },
        "outputId": "918ad92c-06bc-4d2a-f5a1-b3d286b1eadc"
      },
      "outputs": [
        {
          "output_type": "display_data",
          "data": {
            "text/plain": [
              "<Figure size 640x480 with 1 Axes>"
            ],
            "image/png": "[encoded data removed]"
          },
          "metadata": {}
        }
      ],
      "source": [
        "plt.plot(epoch ,Perplexity_hist)\n",
        "plt.title('Perplexity Graph')\n",
        "plt.xlabel('Epoch')\n",
        "plt.ylabel('Perplexity') \n",
        "plt.show() "
      ]
    },
    {
      "cell_type": "code",
      "execution_count": null,
      "metadata": {
        "id": "EiNRQYM0zeiW"
      },
      "outputs": [],
      "source": [
        "def translate(model, src, max_len=80, custom_sentence=False):\n",
        "    \n",
        "    model.eval()\n",
        "    \n",
        "    if custom_sentence == True:\n",
        "        src = tokenize_ja(src)\n",
        "        src = torch.autograd.Variable(torch.LongTensor([[JA_TEXT.vocab.stoi[tok] for tok in src]])).to(device)\n",
        "    \n",
        "    src_mask = (src != input_pad).unsqueeze(-2)\n",
        "    e_outputs = model.encoder(src, src_mask)\n",
        "\n",
        "    outputs = torch.zeros(max_len).type_as(src.data)\n",
        "    outputs[0] = torch.LongTensor([EN_TEXT.vocab.stoi['<sos>']])\n",
        "    \n",
        "    for i in range(1, max_len):    \n",
        "        trg_mask = np.triu(np.ones((1, i, i)), k=1).astype('uint8')\n",
        "        trg_mask = torch.autograd.Variable(torch.from_numpy(trg_mask) == 0).to(device)\n",
        "\n",
        "        out = model.out(\n",
        "            model.decoder(\n",
        "                outputs[:i].unsqueeze(0),\n",
        "                e_outputs,\n",
        "                src_mask,\n",
        "                trg_mask\n",
        "            )\n",
        "        )\n",
        "        out = F.softmax(out, dim=-1)\n",
        "        val, ix = out[:, -1].data.topk(1)\n",
        "\n",
        "        outputs[i] = ix[0][0]\n",
        "        if ix[0][0] == EN_TEXT.vocab.stoi['<eos>']:\n",
        "            break\n",
        "\n",
        "    return ' '.join([EN_TEXT.vocab.itos[ix] for ix in outputs[:i]])"
      ]
    },
    {
      "cell_type": "markdown",
      "metadata": {
        "id": "JZMWD-MePw95"
      },
      "source": [
        "# **Results and Analysis**\n",
        "\n",
        "We conducted a translation experiment using our model, and the following is our analysis of the translated sentences."
      ]
    },
    {
      "cell_type": "markdown",
      "metadata": {
        "id": "-VGa9U2kQxy0"
      },
      "source": [
        "The sentence was successfully translated even without explicitly providing the subject \"I\" (僕). The results were accurate in capturing the intended meaning."
      ]
    },
    {
      "cell_type": "code",
      "execution_count": null,
      "metadata": {
        "id": "5c5Jnn_Wp4Ae",
        "colab": {
          "base_uri": "https://localhost:8080/",
          "height": 35
        },
        "outputId": "1103bfcf-11fb-4573-bfb6-e1a4ee8e3089"
      },
      "outputs": [
        {
          "output_type": "execute_result",
          "data": {
            "text/plain": [
              "\"<sos> I 'm on my way to the station .\""
            ],
            "application/vnd.google.colaboratory.intrinsic+json": {
              "type": "string"
            }
          },
          "metadata": {},
          "execution_count": 84
        }
      ],
      "source": [
        "translate(model, '駅に行く途中なの。', custom_sentence=True) "
      ]
    },
    {
      "cell_type": "markdown",
      "metadata": {
        "id": "nQMJRj5ERB2R"
      },
      "source": [
        "The sentence posed an interesting case. Without providing the subject \"I\" (僕) and ending the sentence with (。), the translation resulted in an unusual output. The correct translation should be \"On the way to the station.\" Based on our analysis, we observed that our model predicts more accurately when a proper sentence-ending dot is included or when a subject is provided."
      ]
    },
    {
      "cell_type": "code",
      "execution_count": null,
      "metadata": {
        "id": "p78qyz5bq6b-",
        "colab": {
          "base_uri": "https://localhost:8080/",
          "height": 35
        },
        "outputId": "1d5919f5-4a7b-42c9-d8fb-12316fb2f770"
      },
      "outputs": [
        {
          "output_type": "execute_result",
          "data": {
            "text/plain": [
              "'<sos> on my way to the station .'"
            ],
            "application/vnd.google.colaboratory.intrinsic+json": {
              "type": "string"
            }
          },
          "metadata": {},
          "execution_count": 85
        }
      ],
      "source": [
        "translate(model, '駅に行く途中なの', custom_sentence=True) "
      ]
    },
    {
      "cell_type": "markdown",
      "metadata": {
        "id": "21YDK4RdTFDp"
      },
      "source": [
        "The two random sentences were provided to the model out of curiosity, and our model successfully translated them accurately. This indicates the model's ability to handle various sentence inputs and produce meaningful translations."
      ]
    },
    {
      "cell_type": "code",
      "execution_count": null,
      "metadata": {
        "id": "NF4vsoE6zpXz",
        "colab": {
          "base_uri": "https://localhost:8080/",
          "height": 35
        },
        "outputId": "6d5dfa88-a82f-400c-9199-a917d1c29df5"
      },
      "outputs": [
        {
          "output_type": "execute_result",
          "data": {
            "text/plain": [
              "'<sos> I think that Japanese is difficult .'"
            ],
            "application/vnd.google.colaboratory.intrinsic+json": {
              "type": "string"
            }
          },
          "metadata": {},
          "execution_count": 89
        }
      ],
      "source": [
        "translate(model, '日本語は難しいと思います', custom_sentence=True) "
      ]
    },
    {
      "cell_type": "code",
      "execution_count": null,
      "metadata": {
        "id": "4qJwWW9XQBKV",
        "colab": {
          "base_uri": "https://localhost:8080/",
          "height": 35
        },
        "outputId": "64e6a727-8d7a-4665-a5bc-62bfe9bfe787"
      },
      "outputs": [
        {
          "output_type": "execute_result",
          "data": {
            "text/plain": [
              "'<sos> English is easy .'"
            ],
            "application/vnd.google.colaboratory.intrinsic+json": {
              "type": "string"
            }
          },
          "metadata": {},
          "execution_count": 90
        }
      ],
      "source": [
        "translate(model, '英語は簡単です' , custom_sentence=True)"
      ]
    },
    {
      "cell_type": "markdown",
      "metadata": {
        "id": "UQjk73JMTS5Z"
      },
      "source": [
        "# **BLEU Score**\n",
        "\n",
        "We could achieve a BLEU score of 7.79 for our model for Japanese to English Neural Machine Translation which is equal to the State of the art BLEU score."
      ]
    },
    {
      "cell_type": "code",
      "execution_count": null,
      "metadata": {
        "id": "il7QHsJVOIYV"
      },
      "outputs": [],
      "source": [
        "test_df = pd.read_csv('test.csv') "
      ]
    },
    {
      "cell_type": "code",
      "execution_count": null,
      "metadata": {
        "id": "4tYxtzJSOb45",
        "colab": {
          "base_uri": "https://localhost:8080/",
          "height": 423
        },
        "outputId": "7e50820a-bb4d-4fce-d8b0-f078fa82973e"
      },
      "outputs": [
        {
          "output_type": "execute_result",
          "data": {
            "text/plain": [
              "                 Japanese                                           English\n",
              "0             開敷華王－かいふけおう                                          Kaifukeo\n",
              "1       毎朝早起きするのを習慣にしている。  I make it a rule to get up early in the morning.\n",
              "2             彼は彼女と賭けをした。                           He made a bet with her.\n",
              "3                サダム・フセイン                                     Saddam Husayn\n",
              "4                   茶室安楽庵                                Anrakuan Tea House\n",
              "...                   ...                                               ...\n",
              "22887              大寄せの茶会  a tea ceremony party with a number of attendants\n",
              "22888       全く同じ辞書を持ってるよ。               I have exactly the same dictionary.\n",
              "22889                 荻野真                                      OGINO Makoto\n",
              "22890          彼が働く必要はない。                 There is no need for him to work.\n",
              "22891  私達はまだあまりお腹は空いていない。                        We aren't very hungry yet.\n",
              "\n",
              "[22892 rows x 2 columns]"
            ],
            "text/html": [
              "\n",
              "  <div id=\"df-8732438a-b0d5-48b3-af52-6ffe0ddb8a11\">\n",
              "    <div class=\"colab-df-container\">\n",
              "      <div>\n",
              "<style scoped>\n",
              "    .dataframe tbody tr th:only-of-type {\n",
              "        vertical-align: middle;\n",
              "    }\n",
              "\n",
              "    .dataframe tbody tr th {\n",
              "        vertical-align: top;\n",
              "    }\n",
              "\n",
              "    .dataframe thead th {\n",
              "        text-align: right;\n",
              "    }\n",
              "</style>\n",
              "<table border=\"1\" class=\"dataframe\">\n",
              "  <thead>\n",
              "    <tr style=\"text-align: right;\">\n",
              "      <th></th>\n",
              "      <th>Japanese</th>\n",
              "      <th>English</th>\n",
              "    </tr>\n",
              "  </thead>\n",
              "  <tbody>\n",
              "    <tr>\n",
              "      <th>0</th>\n",
              "      <td>開敷華王－かいふけおう</td>\n",
              "      <td>Kaifukeo</td>\n",
              "    </tr>\n",
              "    <tr>\n",
              "      <th>1</th>\n",
              "      <td>毎朝早起きするのを習慣にしている。</td>\n",
              "      <td>I make it a rule to get up early in the morning.</td>\n",
              "    </tr>\n",
              "    <tr>\n",
              "      <th>2</th>\n",
              "      <td>彼は彼女と賭けをした。</td>\n",
              "      <td>He made a bet with her.</td>\n",
              "    </tr>\n",
              "    <tr>\n",
              "      <th>3</th>\n",
              "      <td>サダム・フセイン</td>\n",
              "      <td>Saddam Husayn</td>\n",
              "    </tr>\n",
              "    <tr>\n",
              "      <th>4</th>\n",
              "      <td>茶室安楽庵</td>\n",
              "      <td>Anrakuan Tea House</td>\n",
              "    </tr>\n",
              "    <tr>\n",
              "      <th>...</th>\n",
              "      <td>...</td>\n",
              "      <td>...</td>\n",
              "    </tr>\n",
              "    <tr>\n",
              "      <th>22887</th>\n",
              "      <td>大寄せの茶会</td>\n",
              "      <td>a tea ceremony party with a number of attendants</td>\n",
              "    </tr>\n",
              "    <tr>\n",
              "      <th>22888</th>\n",
              "      <td>全く同じ辞書を持ってるよ。</td>\n",
              "      <td>I have exactly the same dictionary.</td>\n",
              "    </tr>\n",
              "    <tr>\n",
              "      <th>22889</th>\n",
              "      <td>荻野真</td>\n",
              "      <td>OGINO Makoto</td>\n",
              "    </tr>\n",
              "    <tr>\n",
              "      <th>22890</th>\n",
              "      <td>彼が働く必要はない。</td>\n",
              "      <td>There is no need for him to work.</td>\n",
              "    </tr>\n",
              "    <tr>\n",
              "      <th>22891</th>\n",
              "      <td>私達はまだあまりお腹は空いていない。</td>\n",
              "      <td>We aren't very hungry yet.</td>\n",
              "    </tr>\n",
              "  </tbody>\n",
              "</table>\n",
              "<p>22892 rows × 2 columns</p>\n",
              "</div>\n",
              "      <button class=\"colab-df-convert\" onclick=\"convertToInteractive('df-8732438a-b0d5-48b3-af52-6ffe0ddb8a11')\"\n",
              "              title=\"Convert this dataframe to an interactive table.\"\n",
              "              style=\"display:none;\">\n",
              "        \n",
              "  <svg xmlns=\"http://www.w3.org/2000/svg\" height=\"24px\"viewBox=\"0 0 24 24\"\n",
              "       width=\"24px\">\n",
              "    <path d=\"M0 0h24v24H0V0z\" fill=\"none\"/>\n",
              "    <path d=\"M18.56 5.44l.94 2.06.94-2.06 2.06-.94-2.06-.94-.94-2.06-.94 2.06-2.06.94zm-11 1L8.5 8.5l.94-2.06 2.06-.94-2.06-.94L8.5 2.5l-.94 2.06-2.06.94zm10 10l.94 2.06.94-2.06 2.06-.94-2.06-.94-.94-2.06-.94 2.06-2.06.94z\"/><path d=\"M17.41 7.96l-1.37-1.37c-.4-.4-.92-.59-1.43-.59-.52 0-1.04.2-1.43.59L10.3 9.45l-7.72 7.72c-.78.78-.78 2.05 0 2.83L4 21.41c.39.39.9.59 1.41.59.51 0 1.02-.2 1.41-.59l7.78-7.78 2.81-2.81c.8-.78.8-2.07 0-2.86zM5.41 20L4 18.59l7.72-7.72 1.47 1.35L5.41 20z\"/>\n",
              "  </svg>\n",
              "      </button>\n",
              "      \n",
              "  <style>\n",
              "    .colab-df-container {\n",
              "      display:flex;\n",
              "      flex-wrap:wrap;\n",
              "      gap: 12px;\n",
              "    }\n",
              "\n",
              "    .colab-df-convert {\n",
              "      background-color: #E8F0FE;\n",
              "      border: none;\n",
              "      border-radius: 50%;\n",
              "      cursor: pointer;\n",
              "      display: none;\n",
              "      fill: #1967D2;\n",
              "      height: 32px;\n",
              "      padding: 0 0 0 0;\n",
              "      width: 32px;\n",
              "    }\n",
              "\n",
              "    .colab-df-convert:hover {\n",
              "      background-color: #E2EBFA;\n",
              "      box-shadow: 0px 1px 2px rgba(60, 64, 67, 0.3), 0px 1px 3px 1px rgba(60, 64, 67, 0.15);\n",
              "      fill: #174EA6;\n",
              "    }\n",
              "\n",
              "    [theme=dark] .colab-df-convert {\n",
              "      background-color: #3B4455;\n",
              "      fill: #D2E3FC;\n",
              "    }\n",
              "\n",
              "    [theme=dark] .colab-df-convert:hover {\n",
              "      background-color: #434B5C;\n",
              "      box-shadow: 0px 1px 3px 1px rgba(0, 0, 0, 0.15);\n",
              "      filter: drop-shadow(0px 1px 2px rgba(0, 0, 0, 0.3));\n",
              "      fill: #FFFFFF;\n",
              "    }\n",
              "  </style>\n",
              "\n",
              "      <script>\n",
              "        const buttonEl =\n",
              "          document.querySelector('#df-8732438a-b0d5-48b3-af52-6ffe0ddb8a11 button.colab-df-convert');\n",
              "        buttonEl.style.display =\n",
              "          google.colab.kernel.accessAllowed ? 'block' : 'none';\n",
              "\n",
              "        async function convertToInteractive(key) {\n",
              "          const element = document.querySelector('#df-8732438a-b0d5-48b3-af52-6ffe0ddb8a11');\n",
              "          const dataTable =\n",
              "            await google.colab.kernel.invokeFunction('convertToInteractive',\n",
              "                                                     [key], {});\n",
              "          if (!dataTable) return;\n",
              "\n",
              "          const docLinkHtml = 'Like what you see? Visit the ' +\n",
              "            '<a target=\"_blank\" href=https://colab.research.google.com/notebooks/data_table.ipynb>data table notebook</a>'\n",
              "            + ' to learn more about interactive tables.';\n",
              "          element.innerHTML = '';\n",
              "          dataTable['output_type'] = 'display_data';\n",
              "          await google.colab.output.renderOutput(dataTable, element);\n",
              "          const docLink = document.createElement('div');\n",
              "          docLink.innerHTML = docLinkHtml;\n",
              "          element.appendChild(docLink);\n",
              "        }\n",
              "      </script>\n",
              "    </div>\n",
              "  </div>\n",
              "  "
            ]
          },
          "metadata": {},
          "execution_count": 92
        }
      ],
      "source": [
        "test_df"
      ]
    },
    {
      "cell_type": "code",
      "execution_count": null,
      "metadata": {
        "id": "6fnhEL54RjRL"
      },
      "outputs": [],
      "source": [
        "import warnings\n",
        "warnings.filterwarnings('ignore') "
      ]
    },
    {
      "cell_type": "code",
      "execution_count": null,
      "metadata": {
        "id": "BTsOAwfAOsa4"
      },
      "outputs": [],
      "source": [
        "data_length = len(test_df[\"English\"]);\n",
        "total_score = 0;\n",
        "\n",
        "for i in range(data_length):\n",
        "  reference = tokenize_en(test_df[\"English\"][i]);\n",
        "  candidate = tokenize_en(translate(model, test_df[\"Japanese\"][i] , custom_sentence=True));\n",
        "  candidate = candidate[3:]\n",
        "  score = sentence_bleu(reference, candidate)\n",
        "  total_score += score;"
      ]
    },
    {
      "cell_type": "code",
      "execution_count": null,
      "metadata": {
        "id": "6f7jvdUJ0bs2",
        "colab": {
          "base_uri": "https://localhost:8080/"
        },
        "outputId": "c5444e4c-7b8f-4ea7-d26b-657e70e9f418"
      },
      "outputs": [
        {
          "output_type": "stream",
          "name": "stdout",
          "text": [
            "BLEU score = 7.795914978111662e-155\n"
          ]
        }
      ],
      "source": [
        "print(f'BLEU score = {(total_score/data_length)*100}') "
      ]
    }
  ],
  "metadata": {
    "accelerator": "GPU",
    "colab": {
      "provenance": []
    },
    "kernelspec": {
      "display_name": "Python 3",
      "language": "python",
      "name": "python3"
    },
    "language_info": {
      "codemirror_mode": {
        "name": "ipython",
        "version": 3
      },
      "file_extension": ".py",
      "mimetype": "text/x-python",
      "name": "python",
      "nbconvert_exporter": "python",
      "pygments_lexer": "ipython3",
      "version": "3.7.4"
    }
  },
  "nbformat": 4,
  "nbformat_minor": 0
}
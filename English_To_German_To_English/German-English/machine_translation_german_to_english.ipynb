{
  "cells": [
    {
      "cell_type": "markdown",
      "metadata": {
        "collapsed": true,
        "id": "meQJnY1wgJiF"
      },
      "source": [
        "# Artificial Intelligence Final Project\n",
        "### Machine Translation ( German -> English )\n",
        "\n",
        "##### Team\n",
        "- Dikshant Sagar\n",
        "- Nimesh Arora\n",
        "- Shreyas Teli\n",
        "- Safal Rijal\n",
        "- Ashish Gurung"
      ]
    },
    {
      "cell_type": "code",
      "source": [
        "import os\n",
        "import collections\n",
        "import numpy as np\n",
        "\n",
        "import tensorflow as tf\n",
        "from tensorflow.keras.preprocessing.sequence import pad_sequences\n",
        "from tensorflow.keras.preprocessing.text import Tokenizer\n",
        "from tensorflow.keras.models import Model, Sequential\n",
        "from tensorflow.keras.layers import GRU, LSTM, Input, Dense, TimeDistributed, Activation, Dropout, Embedding, Bidirectional, RepeatVector, GlobalAveragePooling1D\n",
        "from tensorflow.keras.layers.experimental.preprocessing import TextVectorization\n",
        "from tensorflow.keras.optimizers import Adam\n",
        "from tensorflow.keras.losses import sparse_categorical_crossentropy\n",
        "\n",
        "from nltk.translate.bleu_score import sentence_bleu\n",
        "from nltk.util import ngrams\n",
        "import pandas as pd\n",
        "import string\n",
        "import matplotlib.pyplot as plt\n",
        "plt.style.use('seaborn')\n",
        "\n",
        "import seaborn as sns\n"
      ],
      "metadata": {
        "id": "sXMkjfs7ki-G",
        "colab": {
          "base_uri": "https://localhost:8080/"
        },
        "outputId": "a3c92d35-23e9-4851-d673-c3b412ba8424"
      },
      "execution_count": 1,
      "outputs": [
        {
          "output_type": "stream",
          "name": "stderr",
          "text": [
            "<ipython-input-1-2dc6799411ef>:19: MatplotlibDeprecationWarning: The seaborn styles shipped by Matplotlib are deprecated since 3.6, as they no longer correspond to the styles shipped by seaborn. However, they will remain available as 'seaborn-v0_8-<style>'. Alternatively, directly use the seaborn API instead.\n",
            "  plt.style.use('seaborn')\n"
          ]
        }
      ]
    },
    {
      "cell_type": "code",
      "source": [
        "def load_data(path):\n",
        "    \"\"\"\n",
        "    Load dataset\n",
        "    \"\"\"\n",
        "    input_file = os.path.join(path)\n",
        "    with open(input_file, \"r\") as f:\n",
        "        data = f.read()\n",
        "\n",
        "    return data.split('\\n')"
      ],
      "metadata": {
        "id": "1pCWHu_0Jl_G"
      },
      "execution_count": 2,
      "outputs": []
    },
    {
      "cell_type": "code",
      "source": [
        "\n",
        "# Load German data\n",
        "german_sentences = load_data('small_vocab_de')\n",
        "# Load english data\n",
        "english_sentences = load_data('small_vocab_en')\n",
        "\n",
        "print('Dataset Loaded')\n",
        "\n",
        "for sample_i in range(2):\n",
        "    print('small_vocab_en Line {}:  {}'.format(sample_i + 1, german_sentences[sample_i]))\n",
        "    print('small_vocab_de Line {}:  {}'.format(sample_i + 1, english_sentences[sample_i]))"
      ],
      "metadata": {
        "colab": {
          "base_uri": "https://localhost:8080/"
        },
        "id": "irpfX6DYZWfo",
        "outputId": "08cf3bb7-ea9c-43fc-9394-cd342d9b439c"
      },
      "execution_count": 3,
      "outputs": [
        {
          "output_type": "stream",
          "name": "stdout",
          "text": [
            "Dataset Loaded\n",
            "small_vocab_en Line 1:  Neues Trikot ist manchmal ruhig im Herbst, und es ist im April verschneit.\n",
            "small_vocab_de Line 1:  new jersey is sometimes quiet during autumn , and it is snowy in april .\n",
            "small_vocab_en Line 2:  Die Vereinigten Staaten ist in der Regel kühl während Juli, und es ist in der Regel im November frieren.\n",
            "small_vocab_de Line 2:  the united states is usually chilly during july , and it is usually freezing in november .\n"
          ]
        }
      ]
    },
    {
      "cell_type": "markdown",
      "metadata": {
        "id": "MiAYzvEJgJiN"
      },
      "source": [
        "\n",
        "# Creating Vocabulary\n",
        " \n",
        " Here we are creating vocabulary dictionaries from the German and English Corpora"
      ]
    },
    {
      "cell_type": "code",
      "execution_count": 4,
      "metadata": {
        "colab": {
          "base_uri": "https://localhost:8080/"
        },
        "id": "J1vna3sRgJiN",
        "outputId": "7dd04c31-79f8-4de0-b5f2-5163219c02d1"
      },
      "outputs": [
        {
          "output_type": "stream",
          "name": "stdout",
          "text": [
            "1668544 Language 1 words.\n",
            "704 unique Language 1 words.\n",
            "10 Most common words in the Language 1 dataset:\n",
            "\"ist\" \"im\" \"es\" \"aber\" \"und\" \"die\" \"der\" \"während\" \"am\" \"in\"\n",
            "\n",
            "1823250 Language 2 words.\n",
            "227 unique Language 2 words.\n",
            "10 Most common words in the Language 2 dataset:\n",
            "\"is\" \",\" \".\" \"in\" \"it\" \"during\" \"the\" \"but\" \"and\" \"sometimes\"\n"
          ]
        }
      ],
      "source": [
        "german_words_counter = collections.Counter([word for sentence in german_sentences for word in sentence.split()])\n",
        "english_words_counter = collections.Counter([word for sentence in english_sentences for word in sentence.split()])\n",
        "\n",
        "print('{} Language 1 words.'.format(len([word for sentence in german_sentences for word in sentence.split()])))\n",
        "print('{} unique Language 1 words.'.format(len(german_words_counter)))\n",
        "print('10 Most common words in the Language 1 dataset:')\n",
        "print('\"' + '\" \"'.join(list(zip(*german_words_counter.most_common(10)))[0]) + '\"')\n",
        "print()\n",
        "print('{} Language 2 words.'.format(len([word for sentence in english_sentences for word in sentence.split()])))\n",
        "print('{} unique Language 2 words.'.format(len(english_words_counter)))\n",
        "print('10 Most common words in the Language 2 dataset:')\n",
        "print('\"' + '\" \"'.join(list(zip(*english_words_counter.most_common(10)))[0]) + '\"')"
      ]
    },
    {
      "cell_type": "markdown",
      "source": [
        "# Preprocess\n",
        "\n",
        "For this project, we'll convert the text into sequences of integers using the following preprocess methods:\n",
        "1. Tokenize the words into ids\n",
        "2. Add padding to make all the sequences the same length."
      ],
      "metadata": {
        "id": "xqq02pxJmwER"
      }
    },
    {
      "cell_type": "markdown",
      "metadata": {
        "id": "XwQ3fHWegJiO"
      },
      "source": [
        "\n",
        "### Tokenize\n"
      ]
    },
    {
      "cell_type": "code",
      "execution_count": 5,
      "metadata": {
        "id": "WSkDeI-ggJiP"
      },
      "outputs": [],
      "source": [
        "\n",
        "def tokenize(x):\n",
        "    \"\"\"\n",
        "    Tokenize x\n",
        "    :param x: List of sentences/strings to be tokenized\n",
        "    :return: Tuple of (tokenized x data, tokenizer used to tokenize x)\n",
        "    \"\"\"\n",
        "    tokenizer = Tokenizer()\n",
        "    tokenizer.fit_on_texts(x)\n",
        "    return tokenizer.texts_to_sequences(x), tokenizer\n",
        "  "
      ]
    },
    {
      "cell_type": "markdown",
      "metadata": {
        "id": "UnOi9qXMgJiP"
      },
      "source": [
        "### Pad\n"
      ]
    },
    {
      "cell_type": "code",
      "execution_count": 6,
      "metadata": {
        "id": "KmyxEIO3gJiQ"
      },
      "outputs": [],
      "source": [
        "def pad(x, length=None):\n",
        "    \"\"\"\n",
        "    Pad x\n",
        "    :param x: List of sequences.\n",
        "    :param length: Length to pad the sequence to.  If None, use length of longest sequence in x.\n",
        "    :return: Padded numpy array of sequences\n",
        "    \"\"\"\n",
        "    return pad_sequences(x, maxlen=length, padding='post')\n"
      ]
    },
    {
      "cell_type": "markdown",
      "metadata": {
        "id": "5QmqhTDYgJiQ"
      },
      "source": [
        "### Total Preprocess Pipeline\n"
      ]
    },
    {
      "cell_type": "code",
      "execution_count": 7,
      "metadata": {
        "id": "6o1UWdcQgJiQ",
        "colab": {
          "base_uri": "https://localhost:8080/"
        },
        "outputId": "6cdc74db-5552-4b8f-8cbb-23bf32442026"
      },
      "outputs": [
        {
          "output_type": "stream",
          "name": "stdout",
          "text": [
            "Data Preprocessed\n"
          ]
        }
      ],
      "source": [
        "def preprocess(x, y):\n",
        "    \"\"\"\n",
        "    Preprocess x and y\n",
        "    :param x: Feature List of sentences\n",
        "    :param y: Label List of sentences\n",
        "    :return: Tuple of (Preprocessed x, Preprocessed y, x tokenizer, y tokenizer)\n",
        "    \"\"\"\n",
        "    preprocess_x, x_tk = tokenize(x)\n",
        "    preprocess_y, y_tk = tokenize(y)\n",
        "\n",
        "    preprocess_x = pad(preprocess_x)\n",
        "    preprocess_y = pad(preprocess_y)\n",
        "\n",
        "    preprocess_y = preprocess_y.reshape(*preprocess_y.shape, 1)\n",
        "\n",
        "    return preprocess_x, preprocess_y, x_tk, y_tk\n",
        "\n",
        "preproc_german_sentences, preproc_english_sentences, german_tokenizer, english_tokenizer =\\\n",
        "    preprocess(german_sentences, english_sentences)\n",
        "\n",
        "print('Data Preprocessed')"
      ]
    },
    {
      "cell_type": "markdown",
      "metadata": {
        "id": "fxOEFpbegJiR"
      },
      "source": [
        "\n",
        "### Ids Back to Text\n",
        "The neural network will be translating the input to words ids, which isn't the final form we want.  We want the english translation.  The function `logits_to_text` will bridge the gab between the logits from the neural network to the english translation.  You'll be using this function to better understand the output of the neural network."
      ]
    },
    {
      "cell_type": "code",
      "execution_count": 8,
      "metadata": {
        "id": "zKAaQeoggJiR"
      },
      "outputs": [],
      "source": [
        "def logits_to_text(logits, tokenizer):\n",
        "    \"\"\"\n",
        "    Turn logits from a neural network into text using the tokenizer\n",
        "    :param logits: Logits from a neural network\n",
        "    :param tokenizer: Keras Tokenizer fit on the labels\n",
        "    :return: String that represents the text of the logits\n",
        "    \"\"\"\n",
        "    index_to_words = {id: word for word, id in tokenizer.word_index.items()}\n",
        "    index_to_words[0] = '<PAD>'\n",
        "\n",
        "    return ' '.join([index_to_words[prediction] for prediction in np.argmax(logits, 1)])\n"
      ]
    },
    {
      "cell_type": "code",
      "source": [
        "metrics = {}"
      ],
      "metadata": {
        "id": "dReiSoFPmAUH"
      },
      "execution_count": 9,
      "outputs": []
    },
    {
      "cell_type": "code",
      "source": [
        "def calculate_metrics(candidate, reference, n):\n",
        "    candidate_ngrams = list(ngrams(candidate, n))\n",
        "    reference_ngrams = list(ngrams(reference, n))\n",
        "    \n",
        "    intersection_count = len(set(candidate_ngrams) & set(reference_ngrams))\n",
        "    reference_count = len(reference_ngrams)\n",
        "    \n",
        "    precision = intersection_count / len(candidate_ngrams)\n",
        "    recall = intersection_count / reference_count\n",
        "    \n",
        "    if precision + recall > 0:\n",
        "        f1_score = (2 * precision * recall) / (precision + recall)\n",
        "    else:\n",
        "        f1_score = 0.0\n",
        "    \n",
        "    return precision, recall, f1_score"
      ],
      "metadata": {
        "id": "D-qZRqqiYM2c"
      },
      "execution_count": 10,
      "outputs": []
    },
    {
      "cell_type": "code",
      "source": [
        "def get_metrics(pred):\n",
        "  \n",
        "  btemp = []\n",
        "  for i in range(len(pred)):\n",
        "    tr = logits_to_text(pred[i], english_tokenizer).replace('<PAD>', '')\n",
        "    ref = english_sentences[i].lower()\n",
        "    btemp.append(calculate_metrics(ref.split(), tr.split(), n=2))\n",
        "\n",
        "  return np.mean(np.array(btemp), axis=0)\n"
      ],
      "metadata": {
        "id": "J7g0ysWPmZ0Q"
      },
      "execution_count": 11,
      "outputs": []
    },
    {
      "cell_type": "markdown",
      "source": [
        "## Models\n",
        "\n",
        "Here we define and train different models using layers that are used in NLP Applications like : GRU, LSTM, Embedding, Bidirectional Layers, etc.\n",
        "\n"
      ],
      "metadata": {
        "id": "K-qtp7Rhnm2P"
      }
    },
    {
      "cell_type": "markdown",
      "metadata": {
        "id": "h2x1bbVEgJiS"
      },
      "source": [
        "### Model 1: Simple RNN/GRU Model\n"
      ]
    },
    {
      "cell_type": "code",
      "execution_count": 12,
      "metadata": {
        "colab": {
          "base_uri": "https://localhost:8080/"
        },
        "id": "TuOw9PWJgJiS",
        "outputId": "f414203d-e34f-441b-87a7-25bca44384cd"
      },
      "outputs": [
        {
          "output_type": "stream",
          "name": "stdout",
          "text": [
            "Model: \"sequential\"\n",
            "_________________________________________________________________\n",
            " Layer (type)                Output Shape              Param #   \n",
            "=================================================================\n",
            " gru (GRU)                   (None, 15, 256)           198912    \n",
            "                                                                 \n",
            " time_distributed (TimeDistr  (None, 15, 1024)         263168    \n",
            " ibuted)                                                         \n",
            "                                                                 \n",
            " dropout (Dropout)           (None, 15, 1024)          0         \n",
            "                                                                 \n",
            " time_distributed_1 (TimeDis  (None, 15, 200)          205000    \n",
            " tributed)                                                       \n",
            "                                                                 \n",
            "=================================================================\n",
            "Total params: 667,080\n",
            "Trainable params: 667,080\n",
            "Non-trainable params: 0\n",
            "_________________________________________________________________\n",
            "None\n",
            "Epoch 1/10\n",
            "108/108 [==============================] - 9s 40ms/step - loss: 3.0363 - accuracy: 0.3719 - val_loss: 2.3062 - val_accuracy: 0.4568\n",
            "Epoch 2/10\n",
            "108/108 [==============================] - 4s 33ms/step - loss: 2.0071 - accuracy: 0.4924 - val_loss: 1.6373 - val_accuracy: 0.5521\n",
            "Epoch 3/10\n",
            "108/108 [==============================] - 4s 37ms/step - loss: 1.5567 - accuracy: 0.5621 - val_loss: 1.3560 - val_accuracy: 0.5954\n",
            "Epoch 4/10\n",
            "108/108 [==============================] - 4s 33ms/step - loss: 1.3306 - accuracy: 0.6030 - val_loss: 1.1960 - val_accuracy: 0.6302\n",
            "Epoch 5/10\n",
            "108/108 [==============================] - 4s 33ms/step - loss: 1.2012 - accuracy: 0.6264 - val_loss: 1.1056 - val_accuracy: 0.6476\n",
            "Epoch 6/10\n",
            "108/108 [==============================] - 4s 37ms/step - loss: 1.1258 - accuracy: 0.6388 - val_loss: 1.0493 - val_accuracy: 0.6572\n",
            "Epoch 7/10\n",
            "108/108 [==============================] - 4s 34ms/step - loss: 1.0689 - accuracy: 0.6492 - val_loss: 1.0031 - val_accuracy: 0.6687\n",
            "Epoch 8/10\n",
            "108/108 [==============================] - 4s 33ms/step - loss: 1.0244 - accuracy: 0.6587 - val_loss: 0.9641 - val_accuracy: 0.6776\n",
            "Epoch 9/10\n",
            "108/108 [==============================] - 4s 33ms/step - loss: 0.9884 - accuracy: 0.6673 - val_loss: 0.9336 - val_accuracy: 0.6865\n",
            "Epoch 10/10\n",
            "108/108 [==============================] - 4s 35ms/step - loss: 0.9588 - accuracy: 0.6742 - val_loss: 0.9075 - val_accuracy: 0.6959\n",
            "1/1 [==============================] - 0s 344ms/step\n",
            "the least is never beautiful during autumn and it is snowy in january <PAD> <PAD>\n",
            "1/1 [==============================] - 0s 20ms/step\n"
          ]
        }
      ],
      "source": [
        "\n",
        "\n",
        "\n",
        "def rnn_model(input_shape, output_sequence_length, german_vocab_size, english_vocab_size):\n",
        "    \"\"\"\n",
        "    Build and train a basic RNN on x and y\n",
        "    :param input_shape: Tuple of input shape\n",
        "    :param output_sequence_length: Length of output sequence\n",
        "    :param german_vocab_size: Number of unique German words in the dataset\n",
        "    :param english_vocab_size: Number of unique english words in the dataset\n",
        "    :return: Keras model built, but not trained\n",
        "    \"\"\"\n",
        "    # TODO: Build the layers\n",
        "    # Hyperparameters\n",
        "    learning_rate = 0.0005\n",
        "    \n",
        "    # TODO: Build the layers\n",
        "    model = Sequential()\n",
        "    model.add(GRU(256, input_shape=input_shape[1:], return_sequences=True))\n",
        "    model.add(TimeDistributed(Dense(1024, activation='relu')))\n",
        "    model.add(Dropout(0.5))\n",
        "    model.add(TimeDistributed(Dense(english_vocab_size, activation='softmax'))) \n",
        "\n",
        "    # Compile model\n",
        "    model.compile(loss=sparse_categorical_crossentropy,\n",
        "                  optimizer=Adam(learning_rate),\n",
        "                  metrics=['accuracy'])\n",
        "    return model\n",
        "\n",
        "\n",
        "# Reshaping the input to work with a basic RNN\n",
        "tmp_x = pad(preproc_german_sentences, preproc_english_sentences.shape[1])\n",
        "tmp_x = tmp_x.reshape((-1, preproc_english_sentences.shape[-2], 1))\n",
        "\n",
        "# Train the neural network\n",
        "simple_rnn_model = rnn_model(\n",
        "    tmp_x.shape,\n",
        "    preproc_english_sentences.shape[1],\n",
        "    len(german_tokenizer.word_index)+1,\n",
        "    len(english_tokenizer.word_index)+1)\n",
        "\n",
        "print(simple_rnn_model.summary())\n",
        "rnn_history = simple_rnn_model.fit(tmp_x, preproc_english_sentences, batch_size=1024, epochs=10, validation_split=0.2)\n",
        "\n",
        "# Print prediction(s)\n",
        "print(logits_to_text(simple_rnn_model.predict(tmp_x[:1])[0], english_tokenizer))\n",
        "metrics['Simple RNN'] = get_metrics(simple_rnn_model.predict(tmp_x[:10]))"
      ]
    },
    {
      "cell_type": "markdown",
      "metadata": {
        "id": "yqI-yyndgJiS"
      },
      "source": [
        "### Model 2: Simple RNN Model Using Embedding Layer\n",
        "\n"
      ]
    },
    {
      "cell_type": "code",
      "execution_count": 13,
      "metadata": {
        "id": "c2NKfag7gJiT",
        "colab": {
          "base_uri": "https://localhost:8080/"
        },
        "outputId": "ba928c90-fe12-495d-d6e4-64f331af3a43"
      },
      "outputs": [
        {
          "output_type": "stream",
          "name": "stdout",
          "text": [
            "Model: \"sequential_1\"\n",
            "_________________________________________________________________\n",
            " Layer (type)                Output Shape              Param #   \n",
            "=================================================================\n",
            " embedding (Embedding)       (None, 15, 256)           97792     \n",
            "                                                                 \n",
            " gru_1 (GRU)                 (None, 15, 256)           394752    \n",
            "                                                                 \n",
            " time_distributed_2 (TimeDis  (None, 15, 1024)         263168    \n",
            " tributed)                                                       \n",
            "                                                                 \n",
            " dropout_1 (Dropout)         (None, 15, 1024)          0         \n",
            "                                                                 \n",
            " time_distributed_3 (TimeDis  (None, 15, 200)          205000    \n",
            " tributed)                                                       \n",
            "                                                                 \n",
            "=================================================================\n",
            "Total params: 960,712\n",
            "Trainable params: 960,712\n",
            "Non-trainable params: 0\n",
            "_________________________________________________________________\n",
            "None\n",
            "Epoch 1/10\n",
            "108/108 [==============================] - 14s 100ms/step - loss: 1.9157 - accuracy: 0.5233 - val_loss: 0.9746 - val_accuracy: 0.6822\n",
            "Epoch 2/10\n",
            "108/108 [==============================] - 4s 40ms/step - loss: 0.8630 - accuracy: 0.7087 - val_loss: 0.6776 - val_accuracy: 0.7600\n",
            "Epoch 3/10\n",
            "108/108 [==============================] - 5s 43ms/step - loss: 0.6143 - accuracy: 0.7786 - val_loss: 0.5278 - val_accuracy: 0.8016\n",
            "Epoch 4/10\n",
            "108/108 [==============================] - 4s 38ms/step - loss: 0.5394 - accuracy: 0.7956 - val_loss: 0.5085 - val_accuracy: 0.8037\n",
            "Epoch 5/10\n",
            "108/108 [==============================] - 5s 44ms/step - loss: 0.5196 - accuracy: 0.7988 - val_loss: 0.5001 - val_accuracy: 0.8045\n",
            "Epoch 6/10\n",
            "108/108 [==============================] - 4s 39ms/step - loss: 0.5109 - accuracy: 0.8003 - val_loss: 0.4963 - val_accuracy: 0.8050\n",
            "Epoch 7/10\n",
            "108/108 [==============================] - 4s 40ms/step - loss: 0.5048 - accuracy: 0.8016 - val_loss: 0.4912 - val_accuracy: 0.8055\n",
            "Epoch 8/10\n",
            "108/108 [==============================] - 4s 40ms/step - loss: 0.5013 - accuracy: 0.8020 - val_loss: 0.4909 - val_accuracy: 0.8057\n",
            "Epoch 9/10\n",
            "108/108 [==============================] - 4s 42ms/step - loss: 0.4979 - accuracy: 0.8030 - val_loss: 0.4909 - val_accuracy: 0.8044\n",
            "Epoch 10/10\n",
            "108/108 [==============================] - 5s 42ms/step - loss: 0.4955 - accuracy: 0.8037 - val_loss: 0.4895 - val_accuracy: 0.8051\n",
            "1/1 [==============================] - 0s 341ms/step\n",
            "new jersey is never mild during fall and it is snowy in april <PAD> <PAD>\n",
            "1/1 [==============================] - 0s 25ms/step\n"
          ]
        }
      ],
      "source": [
        "\n",
        "def rnn_embed_model(input_shape, output_sequence_length, german_vocab_size, english_vocab_size):\n",
        "    \"\"\"\n",
        "    Build and train a RNN model using word embedding on x and y\n",
        "    :param input_shape: Tuple of input shape\n",
        "    :param output_sequence_length: Length of output sequence\n",
        "    :param german_vocab_size: Number of unique German words in the dataset\n",
        "    :param english_vocab_size: Number of unique english words in the dataset\n",
        "    :return: Keras model built, but not trained\n",
        "    \"\"\"\n",
        "    # TODO: Implement\n",
        "\n",
        "    # Hyperparameters\n",
        "    learning_rate = 0.005\n",
        "    \n",
        "    # TODO: Build the layers\n",
        "    model = Sequential()\n",
        "    model.add(Embedding(german_vocab_size, 256, input_length=input_shape[1], input_shape=input_shape[1:]))\n",
        "    model.add(GRU(256, return_sequences=True))    \n",
        "    model.add(TimeDistributed(Dense(1024, activation='relu')))\n",
        "    model.add(Dropout(0.5))\n",
        "    model.add(TimeDistributed(Dense(english_vocab_size, activation='softmax'))) \n",
        "\n",
        "    # Compile model\n",
        "    model.compile(loss=sparse_categorical_crossentropy,\n",
        "                  optimizer=Adam(learning_rate),\n",
        "                  metrics=['accuracy'])\n",
        "    return model\n",
        "\n",
        "\n",
        "\n",
        "\n",
        "# TODO: Reshape the input\n",
        "tmp_x = pad(preproc_german_sentences, preproc_english_sentences.shape[1])\n",
        "tmp_x = tmp_x.reshape((-1, preproc_english_sentences.shape[-2]))\n",
        "\n",
        "# TODO: Train the neural network\n",
        "embed_rnn_model = rnn_embed_model(\n",
        "    tmp_x.shape,\n",
        "    preproc_english_sentences.shape[1],\n",
        "    len(german_tokenizer.word_index)+1,\n",
        "    len(english_tokenizer.word_index)+1)\n",
        "\n",
        "print(embed_rnn_model.summary())\n",
        "\n",
        "embed_rnn_history = embed_rnn_model.fit(tmp_x, preproc_english_sentences, batch_size=1024, epochs=10, validation_split=0.2)\n",
        "\n",
        "# TODO: Print prediction(s)\n",
        "print(logits_to_text(embed_rnn_model.predict(tmp_x[:1])[0], english_tokenizer))\n",
        "metrics['Simple RNN With Embedding'] = get_metrics(embed_rnn_model.predict(tmp_x[:10]))"
      ]
    },
    {
      "cell_type": "markdown",
      "source": [
        "### Model 3: LSTM Model Using Embedding Layer\n",
        "\n"
      ],
      "metadata": {
        "id": "9psJF_5oqq9E"
      }
    },
    {
      "cell_type": "code",
      "source": [
        "\n",
        "def lstm_embed_model(input_shape, output_sequence_length, german_vocab_size, english_vocab_size):\n",
        "    \"\"\"\n",
        "    Build and train a RNN model using word embedding on x and y\n",
        "    :param input_shape: Tuple of input shape\n",
        "    :param output_sequence_length: Length of output sequence\n",
        "    :param german_vocab_size: Number of unique German words in the dataset\n",
        "    :param english_vocab_size: Number of unique english words in the dataset\n",
        "    :return: Keras model built, but not trained\n",
        "    \"\"\"\n",
        "    # TODO: Implement\n",
        "\n",
        "    # Hyperparameters\n",
        "    learning_rate = 0.005\n",
        "    \n",
        "    # TODO: Build the layers\n",
        "    model = Sequential()\n",
        "    model.add(Embedding(german_vocab_size, 256, input_length=input_shape[1], input_shape=input_shape[1:]))\n",
        "    model.add(LSTM(256, return_sequences=True))    \n",
        "    model.add(TimeDistributed(Dense(1024, activation='relu')))\n",
        "    model.add(Dropout(0.5))\n",
        "    model.add(TimeDistributed(Dense(english_vocab_size, activation='softmax'))) \n",
        "\n",
        "    # Compile model\n",
        "    model.compile(loss=sparse_categorical_crossentropy,\n",
        "                  optimizer=Adam(learning_rate),\n",
        "                  metrics=['accuracy'])\n",
        "    return model\n",
        "\n",
        "\n",
        "\n",
        "\n",
        "# TODO: Reshape the input\n",
        "tmp_x = pad(preproc_german_sentences, preproc_english_sentences.shape[1])\n",
        "tmp_x = tmp_x.reshape((-1, preproc_english_sentences.shape[-2]))\n",
        "\n",
        "# TODO: Train the neural network\n",
        "lstm_model = lstm_embed_model(\n",
        "    tmp_x.shape,\n",
        "    preproc_english_sentences.shape[1],\n",
        "    len(german_tokenizer.word_index)+1,\n",
        "    len(english_tokenizer.word_index)+1)\n",
        "\n",
        "print(lstm_model.summary())\n",
        "\n",
        "lstm_history = lstm_model.fit(tmp_x, preproc_english_sentences, batch_size=1024, epochs=10, validation_split=0.2)\n",
        "\n",
        "# TODO: Print prediction(s)\n",
        "print(logits_to_text(lstm_model.predict(tmp_x[:1])[0], english_tokenizer))\n",
        "metrics['LSTM with Embeddings'] = get_metrics(lstm_model.predict(tmp_x[:10]))"
      ],
      "metadata": {
        "id": "7KGitE1ZqWn2",
        "colab": {
          "base_uri": "https://localhost:8080/"
        },
        "outputId": "365e8f03-cd36-4b12-cf35-b7553cab5701"
      },
      "execution_count": 14,
      "outputs": [
        {
          "output_type": "stream",
          "name": "stdout",
          "text": [
            "Model: \"sequential_2\"\n",
            "_________________________________________________________________\n",
            " Layer (type)                Output Shape              Param #   \n",
            "=================================================================\n",
            " embedding_1 (Embedding)     (None, 15, 256)           97792     \n",
            "                                                                 \n",
            " lstm (LSTM)                 (None, 15, 256)           525312    \n",
            "                                                                 \n",
            " time_distributed_4 (TimeDis  (None, 15, 1024)         263168    \n",
            " tributed)                                                       \n",
            "                                                                 \n",
            " dropout_2 (Dropout)         (None, 15, 1024)          0         \n",
            "                                                                 \n",
            " time_distributed_5 (TimeDis  (None, 15, 200)          205000    \n",
            " tributed)                                                       \n",
            "                                                                 \n",
            "=================================================================\n",
            "Total params: 1,091,272\n",
            "Trainable params: 1,091,272\n",
            "Non-trainable params: 0\n",
            "_________________________________________________________________\n",
            "None\n",
            "Epoch 1/10\n",
            "108/108 [==============================] - 11s 78ms/step - loss: 1.9733 - accuracy: 0.5101 - val_loss: 1.0384 - val_accuracy: 0.6621\n",
            "Epoch 2/10\n",
            "108/108 [==============================] - 5s 44ms/step - loss: 0.9792 - accuracy: 0.6766 - val_loss: 0.8073 - val_accuracy: 0.7177\n",
            "Epoch 3/10\n",
            "108/108 [==============================] - 5s 45ms/step - loss: 0.7109 - accuracy: 0.7485 - val_loss: 0.5602 - val_accuracy: 0.7957\n",
            "Epoch 4/10\n",
            "108/108 [==============================] - 5s 43ms/step - loss: 0.5559 - accuracy: 0.7933 - val_loss: 0.5129 - val_accuracy: 0.8037\n",
            "Epoch 5/10\n",
            "108/108 [==============================] - 5s 43ms/step - loss: 0.5269 - accuracy: 0.7976 - val_loss: 0.5032 - val_accuracy: 0.8031\n",
            "Epoch 6/10\n",
            "108/108 [==============================] - 5s 43ms/step - loss: 0.5139 - accuracy: 0.7999 - val_loss: 0.4948 - val_accuracy: 0.8055\n",
            "Epoch 7/10\n",
            "108/108 [==============================] - 5s 42ms/step - loss: 0.5066 - accuracy: 0.8012 - val_loss: 0.4923 - val_accuracy: 0.8046\n",
            "Epoch 8/10\n",
            "108/108 [==============================] - 5s 43ms/step - loss: 0.5024 - accuracy: 0.8022 - val_loss: 0.4908 - val_accuracy: 0.8059\n",
            "Epoch 9/10\n",
            "108/108 [==============================] - 5s 50ms/step - loss: 0.4987 - accuracy: 0.8031 - val_loss: 0.4876 - val_accuracy: 0.8067\n",
            "Epoch 10/10\n",
            "108/108 [==============================] - 5s 44ms/step - loss: 0.4959 - accuracy: 0.8036 - val_loss: 0.4872 - val_accuracy: 0.8063\n",
            "1/1 [==============================] - 0s 348ms/step\n",
            "new jersey is sometimes pleasant during fall and it is snowy in april <PAD> <PAD>\n",
            "1/1 [==============================] - 0s 19ms/step\n"
          ]
        }
      ]
    },
    {
      "cell_type": "markdown",
      "metadata": {
        "id": "X_fro9ZygJiT"
      },
      "source": [
        "### Model 4: Bidirectional LSTMs\n"
      ]
    },
    {
      "cell_type": "code",
      "execution_count": 15,
      "metadata": {
        "id": "6mE68bqWgJiU",
        "colab": {
          "base_uri": "https://localhost:8080/"
        },
        "outputId": "4a3e3182-3615-4ad1-a648-6d42f987e084"
      },
      "outputs": [
        {
          "output_type": "stream",
          "name": "stdout",
          "text": [
            "Model: \"sequential_3\"\n",
            "_________________________________________________________________\n",
            " Layer (type)                Output Shape              Param #   \n",
            "=================================================================\n",
            " embedding_2 (Embedding)     (None, 15, 256)           97792     \n",
            "                                                                 \n",
            " bidirectional (Bidirectiona  (None, 15, 512)          1050624   \n",
            " l)                                                              \n",
            "                                                                 \n",
            " time_distributed_6 (TimeDis  (None, 15, 1024)         525312    \n",
            " tributed)                                                       \n",
            "                                                                 \n",
            " dropout_3 (Dropout)         (None, 15, 1024)          0         \n",
            "                                                                 \n",
            " time_distributed_7 (TimeDis  (None, 15, 200)          205000    \n",
            " tributed)                                                       \n",
            "                                                                 \n",
            "=================================================================\n",
            "Total params: 1,878,728\n",
            "Trainable params: 1,878,728\n",
            "Non-trainable params: 0\n",
            "_________________________________________________________________\n",
            "Epoch 1/10\n",
            "108/108 [==============================] - 16s 109ms/step - loss: 2.0098 - accuracy: 0.5028 - val_loss: 1.1652 - val_accuracy: 0.6466\n",
            "Epoch 2/10\n",
            "108/108 [==============================] - 7s 69ms/step - loss: 1.0722 - accuracy: 0.6607 - val_loss: 0.9727 - val_accuracy: 0.6801\n",
            "Epoch 3/10\n",
            "108/108 [==============================] - 7s 69ms/step - loss: 0.8887 - accuracy: 0.7001 - val_loss: 0.7402 - val_accuracy: 0.7424\n",
            "Epoch 4/10\n",
            "108/108 [==============================] - 8s 72ms/step - loss: 0.6861 - accuracy: 0.7567 - val_loss: 0.5532 - val_accuracy: 0.8000\n",
            "Epoch 5/10\n",
            "108/108 [==============================] - 7s 69ms/step - loss: 0.5521 - accuracy: 0.7967 - val_loss: 0.5013 - val_accuracy: 0.8084\n",
            "Epoch 6/10\n",
            "108/108 [==============================] - 7s 68ms/step - loss: 0.5163 - accuracy: 0.8027 - val_loss: 0.4858 - val_accuracy: 0.8113\n",
            "Epoch 7/10\n",
            "108/108 [==============================] - 7s 69ms/step - loss: 0.5001 - accuracy: 0.8057 - val_loss: 0.4788 - val_accuracy: 0.8104\n",
            "Epoch 8/10\n",
            "108/108 [==============================] - 7s 68ms/step - loss: 0.4905 - accuracy: 0.8075 - val_loss: 0.4739 - val_accuracy: 0.8129\n",
            "Epoch 9/10\n",
            "108/108 [==============================] - 7s 69ms/step - loss: 0.4839 - accuracy: 0.8086 - val_loss: 0.4702 - val_accuracy: 0.8128\n",
            "Epoch 10/10\n",
            "108/108 [==============================] - 7s 68ms/step - loss: 0.4857 - accuracy: 0.8075 - val_loss: 0.4706 - val_accuracy: 0.8116\n",
            "1/1 [==============================] - 1s 710ms/step\n",
            "new jersey is sometimes hot during fall and it is snowy in april <PAD> <PAD>\n",
            "1/1 [==============================] - 0s 23ms/step\n"
          ]
        }
      ],
      "source": [
        "\n",
        "\n",
        "\n",
        "def bi_lstm_model(input_shape, output_sequence_length, german_vocab_size, english_vocab_size):\n",
        "    \"\"\"\n",
        "    Build and train a bidirectional LSTM model on x and y\n",
        "    :param input_shape: Tuple of input shape\n",
        "    :param output_sequence_length: Length of output sequence\n",
        "    :param german_vocab_size: Number of unique German words in the dataset\n",
        "    :param english_vocab_size: Number of unique english words in the dataset\n",
        "    :return: Keras model built, but not trained\n",
        "    \"\"\"\n",
        "   \n",
        "    # TODO: Implement\n",
        "\n",
        "    # Hyperparameters\n",
        "    learning_rate = 0.003\n",
        "    \n",
        "    # TODO: Build the layers\n",
        "    model = Sequential()\n",
        "    model.add(Embedding(german_vocab_size, 256, input_length=input_shape[1], input_shape=input_shape[1:]))\n",
        "    model.add(Bidirectional(LSTM(256, return_sequences=True),input_shape=(input_shape[1],256)))\n",
        "    model.add(TimeDistributed(Dense(1024, activation='relu')))\n",
        "    model.add(Dropout(0.5))\n",
        "    model.add(TimeDistributed(Dense(english_vocab_size, activation='softmax'))) \n",
        "\n",
        "    # Compile model\n",
        "    model.compile(loss=sparse_categorical_crossentropy,\n",
        "                  optimizer=Adam(learning_rate),\n",
        "                  metrics=['accuracy'])\n",
        "    return model\n",
        "\n",
        "\n",
        "# TODO: Reshape the input\n",
        "tmp_x = pad(preproc_german_sentences, preproc_english_sentences.shape[1])\n",
        "tmp_x = tmp_x.reshape((-1, preproc_english_sentences.shape[-2]))\n",
        "\n",
        "# TODO: Train and Print prediction(s)\n",
        "\n",
        "bidirectional_lstm_model = bi_lstm_model(\n",
        "    tmp_x.shape,\n",
        "    preproc_english_sentences.shape[1],\n",
        "    len(german_tokenizer.word_index)+1,\n",
        "    len(english_tokenizer.word_index)+1)\n",
        "\n",
        "bidirectional_lstm_model.summary()\n",
        "\n",
        "bi_lstm_history = bidirectional_lstm_model.fit(tmp_x, preproc_english_sentences, batch_size=1024, epochs=10, validation_split=0.2)\n",
        "\n",
        "print(logits_to_text(bidirectional_lstm_model.predict(tmp_x[:1])[0], english_tokenizer))\n",
        "metrics['Bidirectional LSTM'] = get_metrics(bidirectional_lstm_model.predict(tmp_x[:10]))"
      ]
    },
    {
      "cell_type": "markdown",
      "metadata": {
        "id": "fNeeR5IagJiU"
      },
      "source": [
        "### Model 5: Encoder-Decoder Model\n"
      ]
    },
    {
      "cell_type": "code",
      "execution_count": 16,
      "metadata": {
        "id": "MoGS5TG8gJiU",
        "colab": {
          "base_uri": "https://localhost:8080/"
        },
        "outputId": "5f5be132-b6e2-4dbd-d5ca-1019cfa54eb8"
      },
      "outputs": [
        {
          "output_type": "stream",
          "name": "stdout",
          "text": [
            "Model: \"sequential_4\"\n",
            "_________________________________________________________________\n",
            " Layer (type)                Output Shape              Param #   \n",
            "=================================================================\n",
            " gru_2 (GRU)                 (None, 256)               198912    \n",
            "                                                                 \n",
            " repeat_vector (RepeatVector  (None, 15, 256)          0         \n",
            " )                                                               \n",
            "                                                                 \n",
            " gru_3 (GRU)                 (None, 15, 256)           394752    \n",
            "                                                                 \n",
            " time_distributed_8 (TimeDis  (None, 15, 1024)         263168    \n",
            " tributed)                                                       \n",
            "                                                                 \n",
            " dropout_4 (Dropout)         (None, 15, 1024)          0         \n",
            "                                                                 \n",
            " time_distributed_9 (TimeDis  (None, 15, 200)          205000    \n",
            " tributed)                                                       \n",
            "                                                                 \n",
            "=================================================================\n",
            "Total params: 1,061,832\n",
            "Trainable params: 1,061,832\n",
            "Non-trainable params: 0\n",
            "_________________________________________________________________\n",
            "Epoch 1/10\n",
            "108/108 [==============================] - 10s 58ms/step - loss: 2.6096 - accuracy: 0.3935 - val_loss: 1.8056 - val_accuracy: 0.5106\n",
            "Epoch 2/10\n",
            "108/108 [==============================] - 5s 48ms/step - loss: 1.5948 - accuracy: 0.5502 - val_loss: 1.3143 - val_accuracy: 0.6085\n",
            "Epoch 3/10\n",
            "108/108 [==============================] - 5s 47ms/step - loss: 1.3257 - accuracy: 0.6008 - val_loss: 1.1212 - val_accuracy: 0.6406\n",
            "Epoch 4/10\n",
            "108/108 [==============================] - 5s 50ms/step - loss: 1.1142 - accuracy: 0.6395 - val_loss: 1.0329 - val_accuracy: 0.6542\n",
            "Epoch 5/10\n",
            "108/108 [==============================] - 5s 49ms/step - loss: 1.0438 - accuracy: 0.6501 - val_loss: 0.9812 - val_accuracy: 0.6663\n",
            "Epoch 6/10\n",
            "108/108 [==============================] - 5s 51ms/step - loss: 0.9904 - accuracy: 0.6628 - val_loss: 0.9258 - val_accuracy: 0.6821\n",
            "Epoch 7/10\n",
            "108/108 [==============================] - 5s 50ms/step - loss: 0.9423 - accuracy: 0.6731 - val_loss: 0.8947 - val_accuracy: 0.6851\n",
            "Epoch 8/10\n",
            "108/108 [==============================] - 5s 51ms/step - loss: 1.0147 - accuracy: 0.6615 - val_loss: 1.8712 - val_accuracy: 0.4736\n",
            "Epoch 9/10\n",
            "108/108 [==============================] - 5s 48ms/step - loss: 1.1776 - accuracy: 0.6293 - val_loss: 0.9332 - val_accuracy: 0.6811\n",
            "Epoch 10/10\n",
            "108/108 [==============================] - 5s 50ms/step - loss: 0.9456 - accuracy: 0.6733 - val_loss: 0.8761 - val_accuracy: 0.6919\n"
          ]
        },
        {
          "output_type": "stream",
          "name": "stderr",
          "text": [
            "WARNING:tensorflow:5 out of the last 9 calls to <function Model.make_predict_function.<locals>.predict_function at 0x7fae61ea7eb0> triggered tf.function retracing. Tracing is expensive and the excessive number of tracings could be due to (1) creating @tf.function repeatedly in a loop, (2) passing tensors with different shapes, (3) passing Python objects instead of tensors. For (1), please define your @tf.function outside of the loop. For (2), @tf.function has reduce_retracing=True option that can avoid unnecessary retracing. For (3), please refer to https://www.tensorflow.org/guide/function#controlling_retracing and https://www.tensorflow.org/api_docs/python/tf/function for  more details.\n"
          ]
        },
        {
          "output_type": "stream",
          "name": "stdout",
          "text": [
            "1/1 [==============================] - 1s 583ms/step\n"
          ]
        }
      ],
      "source": [
        "\n",
        "def encdec_model(input_shape, output_sequence_length, german_vocab_size, english_vocab_size):\n",
        "    \"\"\"\n",
        "    Build and train an encoder-decoder model on x and y\n",
        "    :param input_shape: Tuple of input shape\n",
        "    :param output_sequence_length: Length of output sequence\n",
        "    :param german_vocab_size: Number of unique German words in the dataset\n",
        "    :param english_vocab_size: Number of unique english words in the dataset\n",
        "    :return: Keras model built, but not trained\n",
        "    \"\"\"\n",
        "    # OPTIONAL: Implement\n",
        "    \n",
        "    # Hyperparameters\n",
        "    learning_rate = 0.001\n",
        "    \n",
        "    # Build the layers    \n",
        "    model = Sequential()\n",
        "    # Encoder\n",
        "    model.add(GRU(256, input_shape=input_shape[1:], go_backwards=True))\n",
        "    model.add(RepeatVector(output_sequence_length))\n",
        "    # Decoder\n",
        "    model.add(GRU(256, return_sequences=True))\n",
        "    model.add(TimeDistributed(Dense(1024, activation='relu')))\n",
        "    model.add(Dropout(0.5))\n",
        "    model.add(TimeDistributed(Dense(english_vocab_size, activation='softmax')))\n",
        "\n",
        "    # Compile model\n",
        "    model.compile(loss=sparse_categorical_crossentropy,\n",
        "                  optimizer=Adam(learning_rate),\n",
        "                  metrics=['accuracy'])\n",
        "    \n",
        "    return model\n",
        "\n",
        "\n",
        "\n",
        "# Reshape the input\n",
        "tmp_x = pad(preproc_german_sentences, preproc_english_sentences.shape[1])\n",
        "tmp_x = tmp_x.reshape((-1, preproc_english_sentences.shape[-2], 1))\n",
        "\n",
        "# Train and Print prediction(s)\n",
        "encdec_rnn_model = encdec_model(\n",
        "    tmp_x.shape,\n",
        "    preproc_english_sentences.shape[1],\n",
        "    len(german_tokenizer.word_index)+1,\n",
        "    len(english_tokenizer.word_index)+1)\n",
        "\n",
        "encdec_rnn_model.summary()\n",
        "\n",
        "encdec_history = encdec_rnn_model.fit(tmp_x, preproc_english_sentences, batch_size=1024, epochs=10, validation_split=0.2)\n",
        "metrics['Encoder Decoder Model'] = get_metrics(encdec_rnn_model.predict(tmp_x[:10]))"
      ]
    },
    {
      "cell_type": "markdown",
      "metadata": {
        "id": "LvKFUKA0gJiV"
      },
      "source": [
        "## Performance And Metrics"
      ]
    },
    {
      "cell_type": "code",
      "source": [
        "plt.plot(rnn_history.history['val_loss'], label='Simple RNN')\n",
        "plt.plot(embed_rnn_history.history['val_loss'], label='Simple RNN with Embeddings')\n",
        "plt.plot(lstm_history.history['val_loss'], label='LSTM with Embeddings')\n",
        "plt.plot(bi_lstm_history.history['val_loss'], label='Bidirectional LSTM')\n",
        "plt.plot(encdec_history.history['val_loss'], label='Encoder-Decoder Model')\n",
        "plt.title(\"Loss Plot\")\n",
        "plt.xlabel(\"Epochs\")\n",
        "plt.ylabel(\"Loss\")\n",
        "plt.legend(frameon=True)\n",
        "plt.show()"
      ],
      "metadata": {
        "id": "74ZqhV_AFiH7",
        "colab": {
          "base_uri": "https://localhost:8080/",
          "height": 524
        },
        "outputId": "9de16760-6198-4265-c295-c1b94e242bb6"
      },
      "execution_count": 17,
      "outputs": [
        {
          "output_type": "display_data",
          "data": {
            "text/plain": [
              "<Figure size 800x550 with 1 Axes>"
            ],
            "image/png": "[encoded data removed]"
          },
          "metadata": {}
        }
      ]
    },
    {
      "cell_type": "code",
      "source": [
        "plt.plot(rnn_history.history['val_accuracy'], label='Simple RNN')\n",
        "plt.plot(embed_rnn_history.history['val_accuracy'], label='Simple RNN with Embeddings')\n",
        "plt.plot(lstm_history.history['val_accuracy'], label='LSTM with Embeddings')\n",
        "plt.plot(bi_lstm_history.history['val_accuracy'], label='Bidirectional LSTM')\n",
        "plt.plot(encdec_history.history['val_accuracy'], label='Encoder-Decoder Model')\n",
        "plt.title(\"Accuracy Plot\")\n",
        "plt.xlabel(\"Epochs\")\n",
        "plt.ylabel(\"Accuracy\")\n",
        "plt.legend(frameon=True)\n",
        "plt.show()"
      ],
      "metadata": {
        "id": "jr4zbmqTGZBI",
        "colab": {
          "base_uri": "https://localhost:8080/",
          "height": 524
        },
        "outputId": "efa18d36-4a6f-40cd-d5f4-0113af91b9b7"
      },
      "execution_count": 18,
      "outputs": [
        {
          "output_type": "display_data",
          "data": {
            "text/plain": [
              "<Figure size 800x550 with 1 Axes>"
            ],
            "image/png": "[encoded data removed]"
          },
          "metadata": {}
        }
      ]
    },
    {
      "cell_type": "code",
      "source": [
        "met = pd.DataFrame(metrics).T\n",
        "met.columns = [\"Precision\", \"Recall\", \"F1-Score\"]\n",
        "met = met.reset_index()\n",
        "\n",
        "plt.figure(figsize=(15,7))\n",
        "xtk = np.arange(5)\n",
        "plt.bar(xtk-0.2, met['Precision'],width=0.2, label='BLEU Score')\n",
        "plt.bar(xtk, met['Recall'], width=0.2, label='ROUGE Score')\n",
        "plt.bar(xtk+0.2, met['F1-Score'],width=0.2, label='F1-Score')\n",
        "\n",
        "plt.xticks(xtk, met['index'])\n",
        "plt.legend(frameon=True)"
      ],
      "metadata": {
        "colab": {
          "base_uri": "https://localhost:8080/",
          "height": 523
        },
        "id": "DQl_VHRAiqdP",
        "outputId": "b37a272a-c418-4c0b-f57f-d93ff744f0ef"
      },
      "execution_count": 19,
      "outputs": [
        {
          "output_type": "execute_result",
          "data": {
            "text/plain": [
              "<matplotlib.legend.Legend at 0x7fae664c7d60>"
            ]
          },
          "metadata": {},
          "execution_count": 19
        },
        {
          "output_type": "display_data",
          "data": {
            "text/plain": [
              "<Figure size 1500x700 with 1 Axes>"
            ],
            "image/png": "[encoded data removed]"
          },
          "metadata": {}
        }
      ]
    },
    {
      "cell_type": "markdown",
      "source": [
        "# Save Final Model"
      ],
      "metadata": {
        "id": "pZ8BWkTsm_0q"
      }
    },
    {
      "cell_type": "code",
      "source": [
        "bidirectional_lstm_model.save(\"german_to_english\")\n"
      ],
      "metadata": {
        "colab": {
          "base_uri": "https://localhost:8080/"
        },
        "id": "ma10amyLeapM",
        "outputId": "092ad8f9-b044-49dd-f72e-9da847237e13"
      },
      "execution_count": 20,
      "outputs": [
        {
          "output_type": "stream",
          "name": "stderr",
          "text": [
            "WARNING:absl:Found untraced functions such as lstm_cell_2_layer_call_fn, lstm_cell_2_layer_call_and_return_conditional_losses, lstm_cell_3_layer_call_fn, lstm_cell_3_layer_call_and_return_conditional_losses while saving (showing 4 of 4). These functions will not be directly callable after loading.\n"
          ]
        }
      ]
    }
  ],
  "metadata": {
    "kernelspec": {
      "display_name": "Python 3 (ipykernel)",
      "language": "python",
      "name": "python3"
    },
    "language_info": {
      "codemirror_mode": {
        "name": "ipython",
        "version": 3
      },
      "file_extension": ".py",
      "mimetype": "text/x-python",
      "name": "python",
      "nbconvert_exporter": "python",
      "pygments_lexer": "ipython3",
      "version": "3.9.12"
    },
    "colab": {
      "provenance": [],
      "gpuType": "T4"
    },
    "accelerator": "GPU",
    "gpuClass": "standard"
  },
  "nbformat": 4,
  "nbformat_minor": 0
}

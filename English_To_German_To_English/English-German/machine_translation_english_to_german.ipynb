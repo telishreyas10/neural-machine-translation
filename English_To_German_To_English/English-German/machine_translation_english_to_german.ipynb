{
  "cells": [
    {
      "cell_type": "markdown",
      "metadata": {
        "collapsed": true,
        "id": "meQJnY1wgJiF"
      },
      "source": [
        "# Artificial Intelligence Final Project\n",
        "### Machine Translation ( English -> German )\n",
        "\n",
        "##### Team\n",
        "- Dikshant Sagar\n",
        "- Nimesh Arora\n",
        "- Shreyas Teli\n",
        "- Safal Rijal\n",
        "- Ashish Gujrang"
      ]
    },
    {
      "cell_type": "code",
      "source": [
        "import os\n",
        "import collections\n",
        "import numpy as np\n",
        "\n",
        "import tensorflow as tf\n",
        "from tensorflow.keras.preprocessing.sequence import pad_sequences\n",
        "from tensorflow.keras.preprocessing.text import Tokenizer\n",
        "from tensorflow.keras.models import Model, Sequential\n",
        "from tensorflow.keras.layers import GRU, LSTM, Input, Dense, TimeDistributed, Activation, Dropout, Embedding, Bidirectional, RepeatVector, GlobalAveragePooling1D\n",
        "from tensorflow.keras.layers.experimental.preprocessing import TextVectorization\n",
        "from tensorflow.keras.optimizers import Adam\n",
        "from tensorflow.keras.losses import sparse_categorical_crossentropy\n",
        "\n",
        "from nltk.translate.bleu_score import sentence_bleu\n",
        "from nltk.util import ngrams\n",
        "import pandas as pd\n",
        "import string\n",
        "import matplotlib.pyplot as plt\n",
        "plt.style.use('seaborn')\n",
        "\n",
        "import seaborn as sns\n"
      ],
      "metadata": {
        "id": "sXMkjfs7ki-G",
        "colab": {
          "base_uri": "https://localhost:8080/"
        },
        "outputId": "660a7b09-afdf-41e3-92c3-9b400a249054"
      },
      "execution_count": 1,
      "outputs": [
        {
          "output_type": "stream",
          "name": "stderr",
          "text": [
            "<ipython-input-1-2dc6799411ef>:19: MatplotlibDeprecationWarning: The seaborn styles shipped by Matplotlib are deprecated since 3.6, as they no longer correspond to the styles shipped by seaborn. However, they will remain available as 'seaborn-v0_8-<style>'. Alternatively, directly use the seaborn API instead.\n",
            "  plt.style.use('seaborn')\n"
          ]
        }
      ]
    },
    {
      "cell_type": "code",
      "source": [
        "def load_data(path):\n",
        "    \"\"\"\n",
        "    Load dataset\n",
        "    \"\"\"\n",
        "    input_file = os.path.join(path)\n",
        "    with open(input_file, \"r\") as f:\n",
        "        data = f.read()\n",
        "\n",
        "    return data.split('\\n')"
      ],
      "metadata": {
        "id": "1pCWHu_0Jl_G"
      },
      "execution_count": 2,
      "outputs": []
    },
    {
      "cell_type": "code",
      "source": [
        "\n",
        "# Load English data\n",
        "english_sentences = load_data('small_vocab_en')\n",
        "# Load german data\n",
        "german_sentences = load_data('small_vocab_de')\n",
        "\n",
        "print('Dataset Loaded')\n",
        "\n",
        "for sample_i in range(2):\n",
        "    print('small_vocab_en Line {}:  {}'.format(sample_i + 1, english_sentences[sample_i]))\n",
        "    print('small_vocab_de Line {}:  {}'.format(sample_i + 1, german_sentences[sample_i]))"
      ],
      "metadata": {
        "colab": {
          "base_uri": "https://localhost:8080/"
        },
        "id": "irpfX6DYZWfo",
        "outputId": "c0b6347d-9a24-4e51-8fe8-cd81c2cef5a4"
      },
      "execution_count": 3,
      "outputs": [
        {
          "output_type": "stream",
          "name": "stdout",
          "text": [
            "Dataset Loaded\n",
            "small_vocab_en Line 1:  new jersey is sometimes quiet during autumn , and it is snowy in april .\n",
            "small_vocab_de Line 1:  Neues Trikot ist manchmal ruhig im Herbst, und es ist im April verschneit.\n",
            "small_vocab_en Line 2:  the united states is usually chilly during july , and it is usually freezing in november .\n",
            "small_vocab_de Line 2:  Die Vereinigten Staaten ist in der Regel kühl während Juli, und es ist in der Regel im November frieren.\n"
          ]
        }
      ]
    },
    {
      "cell_type": "markdown",
      "metadata": {
        "id": "MiAYzvEJgJiN"
      },
      "source": [
        "\n",
        "# Creating Vocabulary\n",
        " \n",
        " Here we are creating vocabulary dictionaries from the English and German Corpora"
      ]
    },
    {
      "cell_type": "code",
      "execution_count": 4,
      "metadata": {
        "colab": {
          "base_uri": "https://localhost:8080/"
        },
        "id": "J1vna3sRgJiN",
        "outputId": "9c22921e-8177-4d6d-eac3-06c6da14aa32"
      },
      "outputs": [
        {
          "output_type": "stream",
          "name": "stdout",
          "text": [
            "1823250 Language 1 words.\n",
            "227 unique Language 1 words.\n",
            "10 Most common words in the Language 1 dataset:\n",
            "\"is\" \",\" \".\" \"in\" \"it\" \"during\" \"the\" \"but\" \"and\" \"sometimes\"\n",
            "\n",
            "1668544 Language 2 words.\n",
            "704 unique Language 2 words.\n",
            "10 Most common words in the Language 2 dataset:\n",
            "\"ist\" \"im\" \"es\" \"aber\" \"und\" \"die\" \"der\" \"während\" \"am\" \"in\"\n"
          ]
        }
      ],
      "source": [
        "english_words_counter = collections.Counter([word for sentence in english_sentences for word in sentence.split()])\n",
        "german_words_counter = collections.Counter([word for sentence in german_sentences for word in sentence.split()])\n",
        "\n",
        "print('{} Language 1 words.'.format(len([word for sentence in english_sentences for word in sentence.split()])))\n",
        "print('{} unique Language 1 words.'.format(len(english_words_counter)))\n",
        "print('10 Most common words in the Language 1 dataset:')\n",
        "print('\"' + '\" \"'.join(list(zip(*english_words_counter.most_common(10)))[0]) + '\"')\n",
        "print()\n",
        "print('{} Language 2 words.'.format(len([word for sentence in german_sentences for word in sentence.split()])))\n",
        "print('{} unique Language 2 words.'.format(len(german_words_counter)))\n",
        "print('10 Most common words in the Language 2 dataset:')\n",
        "print('\"' + '\" \"'.join(list(zip(*german_words_counter.most_common(10)))[0]) + '\"')"
      ]
    },
    {
      "cell_type": "markdown",
      "source": [
        "# Preprocess\n",
        "\n",
        "For this project, we'll convert the text into sequences of integers using the following preprocess methods:\n",
        "1. Tokenize the words into ids\n",
        "2. Add padding to make all the sequences the same length."
      ],
      "metadata": {
        "id": "xqq02pxJmwER"
      }
    },
    {
      "cell_type": "markdown",
      "metadata": {
        "id": "XwQ3fHWegJiO"
      },
      "source": [
        "\n",
        "### Tokenize\n"
      ]
    },
    {
      "cell_type": "code",
      "execution_count": 5,
      "metadata": {
        "id": "WSkDeI-ggJiP"
      },
      "outputs": [],
      "source": [
        "\n",
        "def tokenize(x):\n",
        "    \"\"\"\n",
        "    Tokenize x\n",
        "    :param x: List of sentences/strings to be tokenized\n",
        "    :return: Tuple of (tokenized x data, tokenizer used to tokenize x)\n",
        "    \"\"\"\n",
        "    tokenizer = Tokenizer()\n",
        "    tokenizer.fit_on_texts(x)\n",
        "    return tokenizer.texts_to_sequences(x), tokenizer\n",
        "  "
      ]
    },
    {
      "cell_type": "markdown",
      "metadata": {
        "id": "UnOi9qXMgJiP"
      },
      "source": [
        "### Pad\n"
      ]
    },
    {
      "cell_type": "code",
      "execution_count": 6,
      "metadata": {
        "id": "KmyxEIO3gJiQ"
      },
      "outputs": [],
      "source": [
        "def pad(x, length=None):\n",
        "    \"\"\"\n",
        "    Pad x\n",
        "    :param x: List of sequences.\n",
        "    :param length: Length to pad the sequence to.  If None, use length of longest sequence in x.\n",
        "    :return: Padded numpy array of sequences\n",
        "    \"\"\"\n",
        "    return pad_sequences(x, maxlen=length, padding='post')\n"
      ]
    },
    {
      "cell_type": "markdown",
      "metadata": {
        "id": "5QmqhTDYgJiQ"
      },
      "source": [
        "### Total Preprocess Pipeline\n"
      ]
    },
    {
      "cell_type": "code",
      "execution_count": 7,
      "metadata": {
        "id": "6o1UWdcQgJiQ",
        "colab": {
          "base_uri": "https://localhost:8080/"
        },
        "outputId": "7dde5703-4140-438d-c258-5a4979c9dc83"
      },
      "outputs": [
        {
          "output_type": "stream",
          "name": "stdout",
          "text": [
            "Data Preprocessed\n"
          ]
        }
      ],
      "source": [
        "def preprocess(x, y):\n",
        "    \"\"\"\n",
        "    Preprocess x and y\n",
        "    :param x: Feature List of sentences\n",
        "    :param y: Label List of sentences\n",
        "    :return: Tuple of (Preprocessed x, Preprocessed y, x tokenizer, y tokenizer)\n",
        "    \"\"\"\n",
        "    preprocess_x, x_tk = tokenize(x)\n",
        "    preprocess_y, y_tk = tokenize(y)\n",
        "\n",
        "    preprocess_x = pad(preprocess_x)\n",
        "    preprocess_y = pad(preprocess_y)\n",
        "\n",
        "    preprocess_y = preprocess_y.reshape(*preprocess_y.shape, 1)\n",
        "\n",
        "    return preprocess_x, preprocess_y, x_tk, y_tk\n",
        "\n",
        "preproc_english_sentences, preproc_german_sentences, english_tokenizer, german_tokenizer =\\\n",
        "    preprocess(english_sentences, german_sentences)\n",
        "\n",
        "print('Data Preprocessed')"
      ]
    },
    {
      "cell_type": "markdown",
      "metadata": {
        "id": "fxOEFpbegJiR"
      },
      "source": [
        "\n",
        "### Ids Back to Text\n",
        "The neural network will be translating the input to words ids, which isn't the final form we want.  We want the german translation.  The function `logits_to_text` will bridge the gab between the logits from the neural network to the german translation.  You'll be using this function to better understand the output of the neural network."
      ]
    },
    {
      "cell_type": "code",
      "execution_count": 8,
      "metadata": {
        "id": "zKAaQeoggJiR"
      },
      "outputs": [],
      "source": [
        "def logits_to_text(logits, tokenizer):\n",
        "    \"\"\"\n",
        "    Turn logits from a neural network into text using the tokenizer\n",
        "    :param logits: Logits from a neural network\n",
        "    :param tokenizer: Keras Tokenizer fit on the labels\n",
        "    :return: String that represents the text of the logits\n",
        "    \"\"\"\n",
        "    index_to_words = {id: word for word, id in tokenizer.word_index.items()}\n",
        "    index_to_words[0] = '<PAD>'\n",
        "\n",
        "    return ' '.join([index_to_words[prediction] for prediction in np.argmax(logits, 1)])\n"
      ]
    },
    {
      "cell_type": "code",
      "source": [
        "metrics = {}"
      ],
      "metadata": {
        "id": "dReiSoFPmAUH"
      },
      "execution_count": 9,
      "outputs": []
    },
    {
      "cell_type": "code",
      "source": [
        "def calculate_metrics(candidate, reference, n):\n",
        "    candidate_ngrams = list(ngrams(candidate, n))\n",
        "    reference_ngrams = list(ngrams(reference, n))\n",
        "    \n",
        "    intersection_count = len(set(candidate_ngrams) & set(reference_ngrams))\n",
        "    reference_count = len(reference_ngrams)\n",
        "    \n",
        "    precision = intersection_count / len(candidate_ngrams)\n",
        "    recall = intersection_count / reference_count\n",
        "    \n",
        "    if precision + recall > 0:\n",
        "        f1_score = (2 * precision * recall) / (precision + recall)\n",
        "    else:\n",
        "        f1_score = 0.0\n",
        "    \n",
        "    return precision, recall, f1_score"
      ],
      "metadata": {
        "id": "D-qZRqqiYM2c"
      },
      "execution_count": 10,
      "outputs": []
    },
    {
      "cell_type": "code",
      "source": [
        "def get_metrics(pred):\n",
        "  \n",
        "  btemp = []\n",
        "  for i in range(len(pred)):\n",
        "    tr = logits_to_text(pred[i], german_tokenizer).replace('<PAD>', '')\n",
        "    ref = german_sentences[i].lower()\n",
        "    btemp.append(calculate_metrics(ref.split(), tr.split(), n=2))\n",
        "\n",
        "  return np.mean(np.array(btemp), axis=0)\n"
      ],
      "metadata": {
        "id": "J7g0ysWPmZ0Q"
      },
      "execution_count": 11,
      "outputs": []
    },
    {
      "cell_type": "markdown",
      "source": [
        "## Models\n",
        "\n",
        "Here we define and train different models using layers that are used in NLP Applications like : GRU, LSTM, Embedding, Bidirectional Layers, etc.\n",
        "\n"
      ],
      "metadata": {
        "id": "K-qtp7Rhnm2P"
      }
    },
    {
      "cell_type": "markdown",
      "metadata": {
        "id": "h2x1bbVEgJiS"
      },
      "source": [
        "### Model 1: Simple RNN/GRU Model\n"
      ]
    },
    {
      "cell_type": "code",
      "execution_count": 12,
      "metadata": {
        "colab": {
          "base_uri": "https://localhost:8080/"
        },
        "id": "TuOw9PWJgJiS",
        "outputId": "4a3606e1-1f53-40a5-d0cb-f76f50bb5c27"
      },
      "outputs": [
        {
          "output_type": "stream",
          "name": "stdout",
          "text": [
            "Model: \"sequential\"\n",
            "_________________________________________________________________\n",
            " Layer (type)                Output Shape              Param #   \n",
            "=================================================================\n",
            " gru (GRU)                   (None, 20, 256)           198912    \n",
            "                                                                 \n",
            " time_distributed (TimeDistr  (None, 20, 1024)         263168    \n",
            " ibuted)                                                         \n",
            "                                                                 \n",
            " dropout (Dropout)           (None, 20, 1024)          0         \n",
            "                                                                 \n",
            " time_distributed_1 (TimeDis  (None, 20, 382)          391550    \n",
            " tributed)                                                       \n",
            "                                                                 \n",
            "=================================================================\n",
            "Total params: 853,630\n",
            "Trainable params: 853,630\n",
            "Non-trainable params: 0\n",
            "_________________________________________________________________\n",
            "None\n",
            "Epoch 1/10\n",
            "108/108 [==============================] - 14s 56ms/step - loss: 1.8501 - accuracy: 0.5650 - val_loss: 1.0982 - val_accuracy: 0.6922\n",
            "Epoch 2/10\n",
            "108/108 [==============================] - 5s 48ms/step - loss: 1.0950 - accuracy: 0.6917 - val_loss: 1.0131 - val_accuracy: 0.7090\n",
            "Epoch 3/10\n",
            "108/108 [==============================] - 5s 48ms/step - loss: 0.9571 - accuracy: 0.7143 - val_loss: 0.8338 - val_accuracy: 0.7501\n",
            "Epoch 4/10\n",
            "108/108 [==============================] - 5s 50ms/step - loss: 0.8671 - accuracy: 0.7354 - val_loss: 0.7247 - val_accuracy: 0.7676\n",
            "Epoch 5/10\n",
            "108/108 [==============================] - 5s 50ms/step - loss: 0.6767 - accuracy: 0.7854 - val_loss: 0.5724 - val_accuracy: 0.8113\n",
            "Epoch 6/10\n",
            "108/108 [==============================] - 6s 51ms/step - loss: 0.5871 - accuracy: 0.8059 - val_loss: 0.5238 - val_accuracy: 0.8221\n",
            "Epoch 7/10\n",
            "108/108 [==============================] - 5s 51ms/step - loss: 0.5560 - accuracy: 0.8126 - val_loss: 0.4969 - val_accuracy: 0.8306\n",
            "Epoch 8/10\n",
            "108/108 [==============================] - 5s 50ms/step - loss: 0.5303 - accuracy: 0.8181 - val_loss: 0.4824 - val_accuracy: 0.8374\n",
            "Epoch 9/10\n",
            "108/108 [==============================] - 5s 49ms/step - loss: 0.5084 - accuracy: 0.8250 - val_loss: 0.4417 - val_accuracy: 0.8534\n",
            "Epoch 10/10\n",
            "108/108 [==============================] - 6s 51ms/step - loss: 0.4932 - accuracy: 0.8286 - val_loss: 0.4488 - val_accuracy: 0.8359\n",
            "1/1 [==============================] - 0s 474ms/step\n",
            "neues trikot ist manchmal ruhig während herbst und es ist im im november <PAD> <PAD> <PAD> <PAD> <PAD> <PAD> <PAD>\n",
            "1/1 [==============================] - 0s 19ms/step\n"
          ]
        }
      ],
      "source": [
        "\n",
        "\n",
        "\n",
        "def rnn_model(input_shape, output_sequence_length, english_vocab_size, german_vocab_size):\n",
        "    \"\"\"\n",
        "    Build and train a basic RNN on x and y\n",
        "    :param input_shape: Tuple of input shape\n",
        "    :param output_sequence_length: Length of output sequence\n",
        "    :param english_vocab_size: Number of unique English words in the dataset\n",
        "    :param german_vocab_size: Number of unique german words in the dataset\n",
        "    :return: Keras model built, but not trained\n",
        "    \"\"\"\n",
        "    # TODO: Build the layers\n",
        "    # Hyperparameters\n",
        "    learning_rate = 0.005\n",
        "    \n",
        "    # TODO: Build the layers\n",
        "    model = Sequential()\n",
        "    model.add(GRU(256, input_shape=input_shape[1:], return_sequences=True))\n",
        "    model.add(TimeDistributed(Dense(1024, activation='relu')))\n",
        "    model.add(Dropout(0.5))\n",
        "    model.add(TimeDistributed(Dense(german_vocab_size, activation='softmax'))) \n",
        "\n",
        "    # Compile model\n",
        "    model.compile(loss=sparse_categorical_crossentropy,\n",
        "                  optimizer=Adam(learning_rate),\n",
        "                  metrics=['accuracy'])\n",
        "    return model\n",
        "\n",
        "\n",
        "# Reshaping the input to work with a basic RNN\n",
        "tmp_x = pad(preproc_english_sentences, preproc_german_sentences.shape[1])\n",
        "tmp_x = tmp_x.reshape((-1, preproc_german_sentences.shape[-2], 1))\n",
        "\n",
        "# Train the neural network\n",
        "simple_rnn_model = rnn_model(\n",
        "    tmp_x.shape,\n",
        "    preproc_german_sentences.shape[1],\n",
        "    len(english_tokenizer.word_index)+1,\n",
        "    len(german_tokenizer.word_index)+1)\n",
        "\n",
        "print(simple_rnn_model.summary())\n",
        "rnn_history = simple_rnn_model.fit(tmp_x, preproc_german_sentences, batch_size=1024, epochs=10, validation_split=0.2)\n",
        "\n",
        "# Print prediction(s)\n",
        "print(logits_to_text(simple_rnn_model.predict(tmp_x[:1])[0], german_tokenizer))\n",
        "metrics['Simple RNN'] = get_metrics(simple_rnn_model.predict(tmp_x[:10]))"
      ]
    },
    {
      "cell_type": "code",
      "source": [],
      "metadata": {
        "id": "NMTQb_rOY_UK"
      },
      "execution_count": 12,
      "outputs": []
    },
    {
      "cell_type": "markdown",
      "metadata": {
        "id": "yqI-yyndgJiS"
      },
      "source": [
        "### Model 2: Simple RNN Model Using Embedding Layer\n",
        "\n"
      ]
    },
    {
      "cell_type": "code",
      "execution_count": 13,
      "metadata": {
        "id": "c2NKfag7gJiT",
        "colab": {
          "base_uri": "https://localhost:8080/"
        },
        "outputId": "9928cff4-4e97-4870-ef69-8ed0502576e8"
      },
      "outputs": [
        {
          "output_type": "stream",
          "name": "stdout",
          "text": [
            "Model: \"sequential_1\"\n",
            "_________________________________________________________________\n",
            " Layer (type)                Output Shape              Param #   \n",
            "=================================================================\n",
            " embedding (Embedding)       (None, 20, 256)           51200     \n",
            "                                                                 \n",
            " gru_1 (GRU)                 (None, 20, 256)           394752    \n",
            "                                                                 \n",
            " time_distributed_2 (TimeDis  (None, 20, 1024)         263168    \n",
            " tributed)                                                       \n",
            "                                                                 \n",
            " dropout_1 (Dropout)         (None, 20, 1024)          0         \n",
            "                                                                 \n",
            " time_distributed_3 (TimeDis  (None, 20, 382)          391550    \n",
            " tributed)                                                       \n",
            "                                                                 \n",
            "=================================================================\n",
            "Total params: 1,100,670\n",
            "Trainable params: 1,100,670\n",
            "Non-trainable params: 0\n",
            "_________________________________________________________________\n",
            "None\n",
            "Epoch 1/10\n",
            "108/108 [==============================] - 14s 103ms/step - loss: 1.1795 - accuracy: 0.7464 - val_loss: 0.2557 - val_accuracy: 0.9231\n",
            "Epoch 2/10\n",
            "108/108 [==============================] - 7s 61ms/step - loss: 0.2346 - accuracy: 0.9257 - val_loss: 0.1900 - val_accuracy: 0.9343\n",
            "Epoch 3/10\n",
            "108/108 [==============================] - 6s 58ms/step - loss: 0.1979 - accuracy: 0.9328 - val_loss: 0.1769 - val_accuracy: 0.9366\n",
            "Epoch 4/10\n",
            "108/108 [==============================] - 6s 60ms/step - loss: 0.1836 - accuracy: 0.9359 - val_loss: 0.1684 - val_accuracy: 0.9398\n",
            "Epoch 5/10\n",
            "108/108 [==============================] - 7s 61ms/step - loss: 0.1745 - accuracy: 0.9382 - val_loss: 0.1638 - val_accuracy: 0.9411\n",
            "Epoch 6/10\n",
            "108/108 [==============================] - 6s 59ms/step - loss: 0.1693 - accuracy: 0.9393 - val_loss: 0.1601 - val_accuracy: 0.9419\n",
            "Epoch 7/10\n",
            "108/108 [==============================] - 6s 60ms/step - loss: 0.1645 - accuracy: 0.9402 - val_loss: 0.1605 - val_accuracy: 0.9411\n",
            "Epoch 8/10\n",
            "108/108 [==============================] - 7s 60ms/step - loss: 0.1610 - accuracy: 0.9412 - val_loss: 0.1572 - val_accuracy: 0.9422\n",
            "Epoch 9/10\n",
            "108/108 [==============================] - 7s 63ms/step - loss: 0.1584 - accuracy: 0.9416 - val_loss: 0.1573 - val_accuracy: 0.9420\n",
            "Epoch 10/10\n",
            "108/108 [==============================] - 6s 59ms/step - loss: 0.1566 - accuracy: 0.9419 - val_loss: 0.1553 - val_accuracy: 0.9435\n",
            "1/1 [==============================] - 0s 390ms/step\n",
            "neues trikot ist manchmal ruhig während herbst und es ist im herbst verschneit <PAD> <PAD> <PAD> <PAD> <PAD> <PAD> <PAD>\n",
            "1/1 [==============================] - 0s 18ms/step\n"
          ]
        }
      ],
      "source": [
        "\n",
        "def rnn_embed_model(input_shape, output_sequence_length, english_vocab_size, german_vocab_size):\n",
        "    \"\"\"\n",
        "    Build and train a RNN model using word embedding on x and y\n",
        "    :param input_shape: Tuple of input shape\n",
        "    :param output_sequence_length: Length of output sequence\n",
        "    :param english_vocab_size: Number of unique English words in the dataset\n",
        "    :param german_vocab_size: Number of unique german words in the dataset\n",
        "    :return: Keras model built, but not trained\n",
        "    \"\"\"\n",
        "    # TODO: Implement\n",
        "\n",
        "    # Hyperparameters\n",
        "    learning_rate = 0.005\n",
        "    \n",
        "    # TODO: Build the layers\n",
        "    model = Sequential()\n",
        "    model.add(Embedding(english_vocab_size, 256, input_length=input_shape[1], input_shape=input_shape[1:]))\n",
        "    model.add(GRU(256, return_sequences=True))    \n",
        "    model.add(TimeDistributed(Dense(1024, activation='relu')))\n",
        "    model.add(Dropout(0.5))\n",
        "    model.add(TimeDistributed(Dense(german_vocab_size, activation='softmax'))) \n",
        "\n",
        "    # Compile model\n",
        "    model.compile(loss=sparse_categorical_crossentropy,\n",
        "                  optimizer=Adam(learning_rate),\n",
        "                  metrics=['accuracy'])\n",
        "    return model\n",
        "\n",
        "\n",
        "\n",
        "\n",
        "# TODO: Reshape the input\n",
        "tmp_x = pad(preproc_english_sentences, preproc_german_sentences.shape[1])\n",
        "tmp_x = tmp_x.reshape((-1, preproc_german_sentences.shape[-2]))\n",
        "\n",
        "# TODO: Train the neural network\n",
        "embed_rnn_model = rnn_embed_model(\n",
        "    tmp_x.shape,\n",
        "    preproc_german_sentences.shape[1],\n",
        "    len(english_tokenizer.word_index)+1,\n",
        "    len(german_tokenizer.word_index)+1)\n",
        "\n",
        "print(embed_rnn_model.summary())\n",
        "\n",
        "embed_rnn_history = embed_rnn_model.fit(tmp_x, preproc_german_sentences, batch_size=1024, epochs=10, validation_split=0.2)\n",
        "\n",
        "# TODO: Print prediction(s)\n",
        "print(logits_to_text(embed_rnn_model.predict(tmp_x[:1])[0], german_tokenizer))\n",
        "metrics['Simple RNN With Embedding'] = get_metrics(embed_rnn_model.predict(tmp_x[:10]))"
      ]
    },
    {
      "cell_type": "markdown",
      "source": [
        "### Model 3: LSTM Model Using Embedding Layer\n",
        "\n"
      ],
      "metadata": {
        "id": "9psJF_5oqq9E"
      }
    },
    {
      "cell_type": "code",
      "source": [
        "\n",
        "def lstm_embed_model(input_shape, output_sequence_length, english_vocab_size, german_vocab_size):\n",
        "    \"\"\"\n",
        "    Build and train a RNN model using word embedding on x and y\n",
        "    :param input_shape: Tuple of input shape\n",
        "    :param output_sequence_length: Length of output sequence\n",
        "    :param english_vocab_size: Number of unique English words in the dataset\n",
        "    :param german_vocab_size: Number of unique german words in the dataset\n",
        "    :return: Keras model built, but not trained\n",
        "    \"\"\"\n",
        "    # TODO: Implement\n",
        "\n",
        "    # Hyperparameters\n",
        "    learning_rate = 0.005\n",
        "    \n",
        "    # TODO: Build the layers\n",
        "    model = Sequential()\n",
        "    model.add(Embedding(english_vocab_size, 256, input_length=input_shape[1], input_shape=input_shape[1:]))\n",
        "    model.add(LSTM(256, return_sequences=True))    \n",
        "    model.add(TimeDistributed(Dense(1024, activation='relu')))\n",
        "    model.add(Dropout(0.5))\n",
        "    model.add(TimeDistributed(Dense(german_vocab_size, activation='softmax'))) \n",
        "\n",
        "    # Compile model\n",
        "    model.compile(loss=sparse_categorical_crossentropy,\n",
        "                  optimizer=Adam(learning_rate),\n",
        "                  metrics=['accuracy'])\n",
        "    return model\n",
        "\n",
        "\n",
        "\n",
        "\n",
        "# TODO: Reshape the input\n",
        "tmp_x = pad(preproc_english_sentences, preproc_german_sentences.shape[1])\n",
        "tmp_x = tmp_x.reshape((-1, preproc_german_sentences.shape[-2]))\n",
        "\n",
        "# TODO: Train the neural network\n",
        "lstm_model = lstm_embed_model(\n",
        "    tmp_x.shape,\n",
        "    preproc_german_sentences.shape[1],\n",
        "    len(english_tokenizer.word_index)+1,\n",
        "    len(german_tokenizer.word_index)+1)\n",
        "\n",
        "print(lstm_model.summary())\n",
        "\n",
        "lstm_history = lstm_model.fit(tmp_x, preproc_german_sentences, batch_size=1024, epochs=10, validation_split=0.2)\n",
        "\n",
        "# TODO: Print prediction(s)\n",
        "print(logits_to_text(lstm_model.predict(tmp_x[:1])[0], german_tokenizer))\n",
        "metrics['LSTM with Embeddings'] = get_metrics(lstm_model.predict(tmp_x[:10]))"
      ],
      "metadata": {
        "id": "7KGitE1ZqWn2",
        "colab": {
          "base_uri": "https://localhost:8080/"
        },
        "outputId": "1c647646-3e26-466d-ea06-b4b751b89990"
      },
      "execution_count": 14,
      "outputs": [
        {
          "output_type": "stream",
          "name": "stdout",
          "text": [
            "Model: \"sequential_2\"\n",
            "_________________________________________________________________\n",
            " Layer (type)                Output Shape              Param #   \n",
            "=================================================================\n",
            " embedding_1 (Embedding)     (None, 20, 256)           51200     \n",
            "                                                                 \n",
            " lstm (LSTM)                 (None, 20, 256)           525312    \n",
            "                                                                 \n",
            " time_distributed_4 (TimeDis  (None, 20, 1024)         263168    \n",
            " tributed)                                                       \n",
            "                                                                 \n",
            " dropout_2 (Dropout)         (None, 20, 1024)          0         \n",
            "                                                                 \n",
            " time_distributed_5 (TimeDis  (None, 20, 382)          391550    \n",
            " tributed)                                                       \n",
            "                                                                 \n",
            "=================================================================\n",
            "Total params: 1,231,230\n",
            "Trainable params: 1,231,230\n",
            "Non-trainable params: 0\n",
            "_________________________________________________________________\n",
            "None\n",
            "Epoch 1/10\n",
            "108/108 [==============================] - 12s 89ms/step - loss: 1.4913 - accuracy: 0.6761 - val_loss: 0.3552 - val_accuracy: 0.9021\n",
            "Epoch 2/10\n",
            "108/108 [==============================] - 7s 68ms/step - loss: 0.2697 - accuracy: 0.9195 - val_loss: 0.2063 - val_accuracy: 0.9317\n",
            "Epoch 3/10\n",
            "108/108 [==============================] - 7s 66ms/step - loss: 0.2073 - accuracy: 0.9314 - val_loss: 0.1814 - val_accuracy: 0.9376\n",
            "Epoch 4/10\n",
            "108/108 [==============================] - 7s 67ms/step - loss: 0.1862 - accuracy: 0.9357 - val_loss: 0.1706 - val_accuracy: 0.9391\n",
            "Epoch 5/10\n",
            "108/108 [==============================] - 7s 67ms/step - loss: 0.1770 - accuracy: 0.9375 - val_loss: 0.1647 - val_accuracy: 0.9409\n",
            "Epoch 6/10\n",
            "108/108 [==============================] - 7s 67ms/step - loss: 0.1706 - accuracy: 0.9392 - val_loss: 0.1620 - val_accuracy: 0.9414\n",
            "Epoch 7/10\n",
            "108/108 [==============================] - 7s 66ms/step - loss: 0.1662 - accuracy: 0.9400 - val_loss: 0.1584 - val_accuracy: 0.9424\n",
            "Epoch 8/10\n",
            "108/108 [==============================] - 7s 63ms/step - loss: 0.1614 - accuracy: 0.9411 - val_loss: 0.1568 - val_accuracy: 0.9428\n",
            "Epoch 9/10\n",
            "108/108 [==============================] - 7s 63ms/step - loss: 0.1590 - accuracy: 0.9416 - val_loss: 0.1536 - val_accuracy: 0.9434\n",
            "Epoch 10/10\n",
            "108/108 [==============================] - 7s 63ms/step - loss: 0.1560 - accuracy: 0.9424 - val_loss: 0.1535 - val_accuracy: 0.9433\n",
            "1/1 [==============================] - 0s 488ms/step\n",
            "neues trikot ist manchmal ruhig während herbst und es ist im herbst verschneit <PAD> <PAD> <PAD> <PAD> <PAD> <PAD> <PAD>\n",
            "1/1 [==============================] - 0s 26ms/step\n"
          ]
        }
      ]
    },
    {
      "cell_type": "markdown",
      "metadata": {
        "id": "X_fro9ZygJiT"
      },
      "source": [
        "### Model 4: Bidirectional LSTMs\n"
      ]
    },
    {
      "cell_type": "code",
      "execution_count": 15,
      "metadata": {
        "id": "6mE68bqWgJiU",
        "colab": {
          "base_uri": "https://localhost:8080/"
        },
        "outputId": "b85dba62-6dcd-4a31-efa6-6534f60c829e"
      },
      "outputs": [
        {
          "output_type": "stream",
          "name": "stdout",
          "text": [
            "Model: \"sequential_3\"\n",
            "_________________________________________________________________\n",
            " Layer (type)                Output Shape              Param #   \n",
            "=================================================================\n",
            " embedding_2 (Embedding)     (None, 20, 256)           51200     \n",
            "                                                                 \n",
            " bidirectional (Bidirectiona  (None, 20, 512)          1050624   \n",
            " l)                                                              \n",
            "                                                                 \n",
            " time_distributed_6 (TimeDis  (None, 20, 1024)         525312    \n",
            " tributed)                                                       \n",
            "                                                                 \n",
            " dropout_3 (Dropout)         (None, 20, 1024)          0         \n",
            "                                                                 \n",
            " time_distributed_7 (TimeDis  (None, 20, 382)          391550    \n",
            " tributed)                                                       \n",
            "                                                                 \n",
            "=================================================================\n",
            "Total params: 2,018,686\n",
            "Trainable params: 2,018,686\n",
            "Non-trainable params: 0\n",
            "_________________________________________________________________\n",
            "Epoch 1/10\n",
            "108/108 [==============================] - 18s 129ms/step - loss: 1.5613 - accuracy: 0.6586 - val_loss: 0.4275 - val_accuracy: 0.8902\n",
            "Epoch 2/10\n",
            "108/108 [==============================] - 11s 103ms/step - loss: 0.2971 - accuracy: 0.9181 - val_loss: 0.1717 - val_accuracy: 0.9507\n",
            "Epoch 3/10\n",
            "108/108 [==============================] - 11s 103ms/step - loss: 0.1669 - accuracy: 0.9505 - val_loss: 0.1241 - val_accuracy: 0.9610\n",
            "Epoch 4/10\n",
            "108/108 [==============================] - 11s 106ms/step - loss: 0.1316 - accuracy: 0.9586 - val_loss: 0.1078 - val_accuracy: 0.9651\n",
            "Epoch 5/10\n",
            "108/108 [==============================] - 11s 105ms/step - loss: 0.1128 - accuracy: 0.9633 - val_loss: 0.0945 - val_accuracy: 0.9685\n",
            "Epoch 6/10\n",
            "108/108 [==============================] - 11s 98ms/step - loss: 0.1008 - accuracy: 0.9665 - val_loss: 0.0902 - val_accuracy: 0.9691\n",
            "Epoch 7/10\n",
            "108/108 [==============================] - 11s 98ms/step - loss: 0.0945 - accuracy: 0.9680 - val_loss: 0.0821 - val_accuracy: 0.9718\n",
            "Epoch 8/10\n",
            "108/108 [==============================] - 10s 95ms/step - loss: 0.0870 - accuracy: 0.9702 - val_loss: 0.0780 - val_accuracy: 0.9731\n",
            "Epoch 9/10\n",
            "108/108 [==============================] - 11s 100ms/step - loss: 0.0817 - accuracy: 0.9717 - val_loss: 0.0754 - val_accuracy: 0.9737\n",
            "Epoch 10/10\n",
            "108/108 [==============================] - 11s 102ms/step - loss: 0.0774 - accuracy: 0.9729 - val_loss: 0.0743 - val_accuracy: 0.9740\n",
            "1/1 [==============================] - 1s 628ms/step\n",
            "neues trikot ist manchmal ruhig im herbst und es ist im april verschneit <PAD> <PAD> <PAD> <PAD> <PAD> <PAD> <PAD>\n",
            "1/1 [==============================] - 0s 20ms/step\n"
          ]
        }
      ],
      "source": [
        "\n",
        "\n",
        "\n",
        "def bi_lstm_model(input_shape, output_sequence_length, english_vocab_size, german_vocab_size):\n",
        "    \"\"\"\n",
        "    Build and train a bidirectional LSTM model on x and y\n",
        "    :param input_shape: Tuple of input shape\n",
        "    :param output_sequence_length: Length of output sequence\n",
        "    :param english_vocab_size: Number of unique English words in the dataset\n",
        "    :param german_vocab_size: Number of unique german words in the dataset\n",
        "    :return: Keras model built, but not trained\n",
        "    \"\"\"\n",
        "   \n",
        "    # TODO: Implement\n",
        "\n",
        "    # Hyperparameters\n",
        "    learning_rate = 0.003\n",
        "    \n",
        "    # TODO: Build the layers\n",
        "    model = Sequential()\n",
        "    model.add(Embedding(english_vocab_size, 256, input_length=input_shape[1], input_shape=input_shape[1:]))\n",
        "    model.add(Bidirectional(LSTM(256, return_sequences=True),input_shape=(input_shape[1],256)))\n",
        "    model.add(TimeDistributed(Dense(1024, activation='relu')))\n",
        "    model.add(Dropout(0.5))\n",
        "    model.add(TimeDistributed(Dense(german_vocab_size, activation='softmax'))) \n",
        "\n",
        "    # Compile model\n",
        "    model.compile(loss=sparse_categorical_crossentropy,\n",
        "                  optimizer=Adam(learning_rate),\n",
        "                  metrics=['accuracy'])\n",
        "    return model\n",
        "\n",
        "\n",
        "# TODO: Reshape the input\n",
        "tmp_x = pad(preproc_english_sentences, preproc_german_sentences.shape[1])\n",
        "tmp_x = tmp_x.reshape((-1, preproc_german_sentences.shape[-2]))\n",
        "\n",
        "# TODO: Train and Print prediction(s)\n",
        "\n",
        "bidirectional_lstm_model = bi_lstm_model(\n",
        "    tmp_x.shape,\n",
        "    preproc_german_sentences.shape[1],\n",
        "    len(english_tokenizer.word_index)+1,\n",
        "    len(german_tokenizer.word_index)+1)\n",
        "\n",
        "bidirectional_lstm_model.summary()\n",
        "\n",
        "bi_lstm_history = bidirectional_lstm_model.fit(tmp_x, preproc_german_sentences, batch_size=1024, epochs=10, validation_split=0.2)\n",
        "\n",
        "print(logits_to_text(bidirectional_lstm_model.predict(tmp_x[:1])[0], german_tokenizer))\n",
        "metrics['Bidirectional LSTM'] = get_metrics(bidirectional_lstm_model.predict(tmp_x[:10]))"
      ]
    },
    {
      "cell_type": "markdown",
      "metadata": {
        "id": "fNeeR5IagJiU"
      },
      "source": [
        "### Model 5: Encoder-Decoder Model\n"
      ]
    },
    {
      "cell_type": "code",
      "execution_count": 16,
      "metadata": {
        "id": "MoGS5TG8gJiU",
        "colab": {
          "base_uri": "https://localhost:8080/"
        },
        "outputId": "04bdbb0e-05c2-4f07-ad16-216e5c1d61f3"
      },
      "outputs": [
        {
          "output_type": "stream",
          "name": "stdout",
          "text": [
            "Model: \"sequential_4\"\n",
            "_________________________________________________________________\n",
            " Layer (type)                Output Shape              Param #   \n",
            "=================================================================\n",
            " gru_2 (GRU)                 (None, 256)               198912    \n",
            "                                                                 \n",
            " repeat_vector (RepeatVector  (None, 20, 256)          0         \n",
            " )                                                               \n",
            "                                                                 \n",
            " gru_3 (GRU)                 (None, 20, 256)           394752    \n",
            "                                                                 \n",
            " time_distributed_8 (TimeDis  (None, 20, 1024)         263168    \n",
            " tributed)                                                       \n",
            "                                                                 \n",
            " dropout_4 (Dropout)         (None, 20, 1024)          0         \n",
            "                                                                 \n",
            " time_distributed_9 (TimeDis  (None, 20, 382)          391550    \n",
            " tributed)                                                       \n",
            "                                                                 \n",
            "=================================================================\n",
            "Total params: 1,248,382\n",
            "Trainable params: 1,248,382\n",
            "Non-trainable params: 0\n",
            "_________________________________________________________________\n",
            "Epoch 1/10\n",
            "108/108 [==============================] - 13s 83ms/step - loss: 2.5096 - accuracy: 0.4661 - val_loss: 1.7602 - val_accuracy: 0.5586\n",
            "Epoch 2/10\n",
            "108/108 [==============================] - 8s 79ms/step - loss: 1.6174 - accuracy: 0.5833 - val_loss: 1.3926 - val_accuracy: 0.6277\n",
            "Epoch 3/10\n",
            "108/108 [==============================] - 9s 80ms/step - loss: 1.3530 - accuracy: 0.6310 - val_loss: 1.1872 - val_accuracy: 0.6651\n",
            "Epoch 4/10\n",
            "108/108 [==============================] - 9s 79ms/step - loss: 1.2212 - accuracy: 0.6560 - val_loss: 1.1488 - val_accuracy: 0.6658\n",
            "Epoch 5/10\n",
            "108/108 [==============================] - 8s 73ms/step - loss: 1.1140 - accuracy: 0.6774 - val_loss: 1.0432 - val_accuracy: 0.6964\n",
            "Epoch 6/10\n",
            "108/108 [==============================] - 8s 72ms/step - loss: 1.0552 - accuracy: 0.6931 - val_loss: 1.0122 - val_accuracy: 0.7017\n",
            "Epoch 7/10\n",
            "108/108 [==============================] - 8s 72ms/step - loss: 1.1099 - accuracy: 0.6818 - val_loss: 0.9694 - val_accuracy: 0.7137\n",
            "Epoch 8/10\n",
            "108/108 [==============================] - 8s 71ms/step - loss: 0.9605 - accuracy: 0.7185 - val_loss: 0.8618 - val_accuracy: 0.7413\n",
            "Epoch 9/10\n",
            "108/108 [==============================] - 8s 71ms/step - loss: 0.8655 - accuracy: 0.7387 - val_loss: 0.8191 - val_accuracy: 0.7450\n",
            "Epoch 10/10\n",
            "108/108 [==============================] - 8s 71ms/step - loss: 1.0172 - accuracy: 0.7093 - val_loss: 1.0635 - val_accuracy: 0.6881\n"
          ]
        },
        {
          "output_type": "stream",
          "name": "stderr",
          "text": [
            "WARNING:tensorflow:5 out of the last 9 calls to <function Model.make_predict_function.<locals>.predict_function at 0x7fc703addb40> triggered tf.function retracing. Tracing is expensive and the excessive number of tracings could be due to (1) creating @tf.function repeatedly in a loop, (2) passing tensors with different shapes, (3) passing Python objects instead of tensors. For (1), please define your @tf.function outside of the loop. For (2), @tf.function has reduce_retracing=True option that can avoid unnecessary retracing. For (3), please refer to https://www.tensorflow.org/guide/function#controlling_retracing and https://www.tensorflow.org/api_docs/python/tf/function for  more details.\n"
          ]
        },
        {
          "output_type": "stream",
          "name": "stdout",
          "text": [
            "1/1 [==============================] - 1s 565ms/step\n"
          ]
        }
      ],
      "source": [
        "\n",
        "def encdec_model(input_shape, output_sequence_length, english_vocab_size, german_vocab_size):\n",
        "    \"\"\"\n",
        "    Build and train an encoder-decoder model on x and y\n",
        "    :param input_shape: Tuple of input shape\n",
        "    :param output_sequence_length: Length of output sequence\n",
        "    :param english_vocab_size: Number of unique English words in the dataset\n",
        "    :param german_vocab_size: Number of unique german words in the dataset\n",
        "    :return: Keras model built, but not trained\n",
        "    \"\"\"\n",
        "    # OPTIONAL: Implement\n",
        "    \n",
        "    # Hyperparameters\n",
        "    learning_rate = 0.001\n",
        "    \n",
        "    # Build the layers    \n",
        "    model = Sequential()\n",
        "    # Encoder\n",
        "    model.add(GRU(256, input_shape=input_shape[1:], go_backwards=True))\n",
        "    model.add(RepeatVector(output_sequence_length))\n",
        "    # Decoder\n",
        "    model.add(GRU(256, return_sequences=True))\n",
        "    model.add(TimeDistributed(Dense(1024, activation='relu')))\n",
        "    model.add(Dropout(0.5))\n",
        "    model.add(TimeDistributed(Dense(german_vocab_size, activation='softmax')))\n",
        "\n",
        "    # Compile model\n",
        "    model.compile(loss=sparse_categorical_crossentropy,\n",
        "                  optimizer=Adam(learning_rate),\n",
        "                  metrics=['accuracy'])\n",
        "    \n",
        "    return model\n",
        "\n",
        "\n",
        "\n",
        "# Reshape the input\n",
        "tmp_x = pad(preproc_english_sentences, preproc_german_sentences.shape[1])\n",
        "tmp_x = tmp_x.reshape((-1, preproc_german_sentences.shape[-2], 1))\n",
        "\n",
        "# Train and Print prediction(s)\n",
        "encdec_rnn_model = encdec_model(\n",
        "    tmp_x.shape,\n",
        "    preproc_german_sentences.shape[1],\n",
        "    len(english_tokenizer.word_index)+1,\n",
        "    len(german_tokenizer.word_index)+1)\n",
        "\n",
        "encdec_rnn_model.summary()\n",
        "\n",
        "encdec_history = encdec_rnn_model.fit(tmp_x, preproc_german_sentences, batch_size=1024, epochs=10, validation_split=0.2)\n",
        "metrics['Encoder Decoder Model'] = get_metrics(encdec_rnn_model.predict(tmp_x[:10]))"
      ]
    },
    {
      "cell_type": "markdown",
      "metadata": {
        "id": "LvKFUKA0gJiV"
      },
      "source": [
        "## Performance And Metrics"
      ]
    },
    {
      "cell_type": "code",
      "source": [
        "plt.plot(rnn_history.history['val_loss'], label='Simple RNN')\n",
        "plt.plot(embed_rnn_history.history['val_loss'], label='Simple RNN with Embeddings')\n",
        "plt.plot(lstm_history.history['val_loss'], label='LSTM with Embeddings')\n",
        "plt.plot(bi_lstm_history.history['val_loss'], label='Bidirectional LSTM')\n",
        "plt.plot(encdec_history.history['val_loss'], label='Encoder-Decoder Model')\n",
        "plt.title(\"Loss Plot\")\n",
        "plt.xlabel(\"Epochs\")\n",
        "plt.ylabel(\"Loss\")\n",
        "plt.legend(frameon=True)\n",
        "plt.show()"
      ],
      "metadata": {
        "id": "74ZqhV_AFiH7",
        "colab": {
          "base_uri": "https://localhost:8080/",
          "height": 524
        },
        "outputId": "f8f4f8e3-e041-4127-97a5-bf64e58ef6cd"
      },
      "execution_count": 17,
      "outputs": [
        {
          "output_type": "display_data",
          "data": {
            "text/plain": [
              "<Figure size 800x550 with 1 Axes>"
            ],
            "image/png": "[encoded data removed]"
          },
          "metadata": {}
        }
      ]
    },
    {
      "cell_type": "code",
      "source": [
        "plt.plot(rnn_history.history['val_accuracy'], label='Simple RNN')\n",
        "plt.plot(embed_rnn_history.history['val_accuracy'], label='Simple RNN with Embeddings')\n",
        "plt.plot(lstm_history.history['val_accuracy'], label='LSTM with Embeddings')\n",
        "plt.plot(bi_lstm_history.history['val_accuracy'], label='Bidirectional LSTM')\n",
        "plt.plot(encdec_history.history['val_accuracy'], label='Encoder-Decoder Model')\n",
        "plt.title(\"Accuracy Plot\")\n",
        "plt.xlabel(\"Epochs\")\n",
        "plt.ylabel(\"Accuracy\")\n",
        "plt.legend(frameon=True)\n",
        "plt.show()"
      ],
      "metadata": {
        "id": "jr4zbmqTGZBI",
        "colab": {
          "base_uri": "https://localhost:8080/",
          "height": 524
        },
        "outputId": "14f1db09-33ff-41b6-b7fa-e7ef22790fb2"
      },
      "execution_count": 18,
      "outputs": [
        {
          "output_type": "display_data",
          "data": {
            "text/plain": [
              "<Figure size 800x550 with 1 Axes>"
            ],
            "image/png": "[encoded data removed]"
          },
          "metadata": {}
        }
      ]
    },
    {
      "cell_type": "code",
      "source": [
        "met = pd.DataFrame(metrics).T\n",
        "met.columns = [\"Precision\", \"Recall\", \"F1-Score\"]\n",
        "met = met.reset_index()\n",
        "\n",
        "plt.figure(figsize=(15,7))\n",
        "xtk = np.arange(5)\n",
        "plt.bar(xtk-0.2, met['Precision'],width=0.2, label='BLEU Score')\n",
        "plt.bar(xtk, met['Recall'], width=0.2, label='ROUGE Score')\n",
        "plt.bar(xtk+0.2, met['F1-Score'],width=0.2, label='F1-Score')\n",
        "\n",
        "plt.xticks(xtk, met['index'])\n",
        "plt.legend(frameon=True)"
      ],
      "metadata": {
        "colab": {
          "base_uri": "https://localhost:8080/",
          "height": 523
        },
        "id": "DQl_VHRAiqdP",
        "outputId": "9c7d2e8e-12c2-4057-8b4e-f1159395f852"
      },
      "execution_count": 19,
      "outputs": [
        {
          "output_type": "execute_result",
          "data": {
            "text/plain": [
              "<matplotlib.legend.Legend at 0x7fc703e3f7c0>"
            ]
          },
          "metadata": {},
          "execution_count": 19
        },
        {
          "output_type": "display_data",
          "data": {
            "text/plain": [
              "<Figure size 1500x700 with 1 Axes>"
            ],
            "image/png": "[encoded data removed]"
          },
          "metadata": {}
        }
      ]
    },
    {
      "cell_type": "markdown",
      "source": [
        "# Save Final Model"
      ],
      "metadata": {
        "id": "pZ8BWkTsm_0q"
      }
    },
    {
      "cell_type": "code",
      "source": [
        "bidirectional_lstm_model.save(\"english_to_german\")\n"
      ],
      "metadata": {
        "colab": {
          "base_uri": "https://localhost:8080/"
        },
        "id": "ma10amyLeapM",
        "outputId": "5f3960f8-fb89-4f68-fdca-30a2837e5a8a"
      },
      "execution_count": 20,
      "outputs": [
        {
          "output_type": "stream",
          "name": "stderr",
          "text": [
            "WARNING:absl:Found untraced functions such as lstm_cell_2_layer_call_fn, lstm_cell_2_layer_call_and_return_conditional_losses, lstm_cell_3_layer_call_fn, lstm_cell_3_layer_call_and_return_conditional_losses while saving (showing 4 of 4). These functions will not be directly callable after loading.\n"
          ]
        }
      ]
    }
  ],
  "metadata": {
    "kernelspec": {
      "display_name": "Python 3 (ipykernel)",
      "language": "python",
      "name": "python3"
    },
    "language_info": {
      "codemirror_mode": {
        "name": "ipython",
        "version": 3
      },
      "file_extension": ".py",
      "mimetype": "text/x-python",
      "name": "python",
      "nbconvert_exporter": "python",
      "pygments_lexer": "ipython3",
      "version": "3.9.12"
    },
    "colab": {
      "provenance": [],
      "gpuType": "T4"
    },
    "accelerator": "GPU",
    "gpuClass": "standard"
  },
  "nbformat": 4,
  "nbformat_minor": 0
}
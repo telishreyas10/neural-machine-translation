{
  "cells": [
    {
      "cell_type": "markdown",
      "id": "871e190f",
      "metadata": {
        "papermill": {
          "duration": 0.047239,
          "end_time": "2021-10-07T04:41:45.966015",
          "exception": false,
          "start_time": "2021-10-07T04:41:45.918776",
          "status": "completed"
        },
        "tags": [],
        "id": "871e190f"
      },
      "source": [
        "# **English To Italian - Machine Translation**"
      ]
    },
    {
      "cell_type": "markdown",
      "id": "367716cb",
      "metadata": {
        "papermill": {
          "duration": 0.039947,
          "end_time": "2021-10-07T04:41:46.357871",
          "exception": false,
          "start_time": "2021-10-07T04:41:46.317924",
          "status": "completed"
        },
        "tags": [],
        "id": "367716cb"
      },
      "source": [
        "# **Dependancies :**"
      ]
    },
    {
      "cell_type": "code",
      "execution_count": 1,
      "id": "f2e9d456",
      "metadata": {
        "execution": {
          "iopub.execute_input": "2021-10-07T04:41:46.516378Z",
          "iopub.status.busy": "2021-10-07T04:41:46.515662Z",
          "iopub.status.idle": "2021-10-07T04:41:51.281470Z",
          "shell.execute_reply": "2021-10-07T04:41:51.280516Z",
          "shell.execute_reply.started": "2021-10-07T04:31:20.895298Z"
        },
        "papermill": {
          "duration": 4.885486,
          "end_time": "2021-10-07T04:41:51.281631",
          "exception": false,
          "start_time": "2021-10-07T04:41:46.396145",
          "status": "completed"
        },
        "tags": [],
        "id": "f2e9d456"
      },
      "outputs": [],
      "source": [
        "# Importing dependancies\n",
        "\n",
        "import os\n",
        "import warnings\n",
        "import pickle\n",
        "import pandas as pd\n",
        "import numpy as np\n",
        "import matplotlib\n",
        "import matplotlib.pyplot as plt\n",
        "import tensorflow as tf\n",
        "from sklearn.model_selection import train_test_split\n",
        "from IPython.display import display\n",
        "from tensorflow.keras.preprocessing.text import Tokenizer\n",
        "from tensorflow.keras.preprocessing.sequence import pad_sequences\n",
        "from tensorflow.keras.utils import to_categorical\n",
        "from tensorflow.keras.layers import Input, GRU, TimeDistributed, Dense\n",
        "from tensorflow.keras.models import Model, save_model"
      ]
    },
    {
      "cell_type": "markdown",
      "id": "953261a3",
      "metadata": {
        "papermill": {
          "duration": 0.04052,
          "end_time": "2021-10-07T04:41:51.361724",
          "exception": false,
          "start_time": "2021-10-07T04:41:51.321204",
          "status": "completed"
        },
        "tags": [],
        "id": "953261a3"
      },
      "source": [
        "# **Configuration :**"
      ]
    },
    {
      "cell_type": "code",
      "execution_count": 2,
      "id": "593f6e5b",
      "metadata": {
        "execution": {
          "iopub.execute_input": "2021-10-07T04:41:51.445533Z",
          "iopub.status.busy": "2021-10-07T04:41:51.444719Z",
          "iopub.status.idle": "2021-10-07T04:41:51.447451Z",
          "shell.execute_reply": "2021-10-07T04:41:51.447018Z",
          "shell.execute_reply.started": "2021-10-07T04:15:57.219328Z"
        },
        "papermill": {
          "duration": 0.046378,
          "end_time": "2021-10-07T04:41:51.447559",
          "exception": false,
          "start_time": "2021-10-07T04:41:51.401181",
          "status": "completed"
        },
        "tags": [],
        "colab": {
          "base_uri": "https://localhost:8080/"
        },
        "id": "593f6e5b",
        "outputId": "03870f24-e64b-4300-9cc4-871d70c8bcb4"
      },
      "outputs": [
        {
          "output_type": "stream",
          "name": "stderr",
          "text": [
            "<ipython-input-2-e9aa3efcb9b4>:2: MatplotlibDeprecationWarning: The seaborn styles shipped by Matplotlib are deprecated since 3.6, as they no longer correspond to the styles shipped by seaborn. However, they will remain available as 'seaborn-v0_8-<style>'. Alternatively, directly use the seaborn API instead.\n",
            "  matplotlib.style.use(\"seaborn\")\n"
          ]
        }
      ],
      "source": [
        "# Setting to use seaborn style for plots\n",
        "matplotlib.style.use(\"seaborn\")\n",
        "\n",
        "# Suppress warnings\n",
        "warnings.filterwarnings(\"ignore\")"
      ]
    },
    {
      "cell_type": "markdown",
      "id": "5a0b6738",
      "metadata": {
        "papermill": {
          "duration": 0.038765,
          "end_time": "2021-10-07T04:41:51.524633",
          "exception": false,
          "start_time": "2021-10-07T04:41:51.485868",
          "status": "completed"
        },
        "tags": [],
        "id": "5a0b6738"
      },
      "source": [
        "# **Loading data and basic preprocessing :**"
      ]
    },
    {
      "cell_type": "code",
      "source": [
        "# Download training set from : https://www.kaggle.com/datasets/balamurugan1603/nmtitalian2english\n",
        "!unzip archive.zip"
      ],
      "metadata": {
        "colab": {
          "base_uri": "https://localhost:8080/"
        },
        "id": "UmbZZg9gb2pb",
        "outputId": "0115bcbb-877a-4a0c-e307-28789c932cc3"
      },
      "id": "UmbZZg9gb2pb",
      "execution_count": 3,
      "outputs": [
        {
          "output_type": "stream",
          "name": "stdout",
          "text": [
            "Archive:  archive.zip\n",
            "  inflating: _about.txt              \n",
            "  inflating: ita.txt                 \n"
          ]
        }
      ]
    },
    {
      "cell_type": "code",
      "execution_count": 10,
      "id": "77491008",
      "metadata": {
        "execution": {
          "iopub.execute_input": "2021-10-07T04:41:51.608371Z",
          "iopub.status.busy": "2021-10-07T04:41:51.607802Z",
          "iopub.status.idle": "2021-10-07T04:41:52.840886Z",
          "shell.execute_reply": "2021-10-07T04:41:52.840424Z",
          "shell.execute_reply.started": "2021-10-07T04:15:57.227056Z"
        },
        "papermill": {
          "duration": 1.277735,
          "end_time": "2021-10-07T04:41:52.841054",
          "exception": false,
          "start_time": "2021-10-07T04:41:51.563319",
          "status": "completed"
        },
        "tags": [],
        "id": "77491008"
      },
      "outputs": [],
      "source": [
        "# Loads data\n",
        "data = pd.read_csv(\"/content/ita.txt\", sep=\"\\t\")"
      ]
    },
    {
      "cell_type": "code",
      "execution_count": 11,
      "id": "42c36f5c",
      "metadata": {
        "execution": {
          "iopub.execute_input": "2021-10-07T04:41:52.926482Z",
          "iopub.status.busy": "2021-10-07T04:41:52.925927Z",
          "iopub.status.idle": "2021-10-07T04:41:52.929340Z",
          "shell.execute_reply": "2021-10-07T04:41:52.929719Z",
          "shell.execute_reply.started": "2021-10-07T04:15:58.191396Z"
        },
        "papermill": {
          "duration": 0.048643,
          "end_time": "2021-10-07T04:41:52.929852",
          "exception": false,
          "start_time": "2021-10-07T04:41:52.881209",
          "status": "completed"
        },
        "tags": [],
        "id": "42c36f5c"
      },
      "outputs": [],
      "source": [
        "# Sets column names\n",
        "data.columns = [\"english\", \"italian\", \"attrib\"]"
      ]
    },
    {
      "cell_type": "code",
      "execution_count": 12,
      "id": "05adb14a",
      "metadata": {
        "execution": {
          "iopub.execute_input": "2021-10-07T04:41:53.017095Z",
          "iopub.status.busy": "2021-10-07T04:41:53.016548Z",
          "iopub.status.idle": "2021-10-07T04:41:53.045285Z",
          "shell.execute_reply": "2021-10-07T04:41:53.045649Z",
          "shell.execute_reply.started": "2021-10-07T04:15:58.199586Z"
        },
        "papermill": {
          "duration": 0.077564,
          "end_time": "2021-10-07T04:41:53.045796",
          "exception": false,
          "start_time": "2021-10-07T04:41:52.968232",
          "status": "completed"
        },
        "tags": [],
        "id": "05adb14a"
      },
      "outputs": [],
      "source": [
        "data.drop([\"attrib\"], inplace=True, axis=1)"
      ]
    },
    {
      "cell_type": "code",
      "execution_count": 13,
      "id": "e2117086",
      "metadata": {
        "execution": {
          "iopub.execute_input": "2021-10-07T04:41:53.131605Z",
          "iopub.status.busy": "2021-10-07T04:41:53.130817Z",
          "iopub.status.idle": "2021-10-07T04:41:53.217177Z",
          "shell.execute_reply": "2021-10-07T04:41:53.216765Z",
          "shell.execute_reply.started": "2021-10-07T04:15:58.244278Z"
        },
        "papermill": {
          "duration": 0.130981,
          "end_time": "2021-10-07T04:41:53.217290",
          "exception": false,
          "start_time": "2021-10-07T04:41:53.086309",
          "status": "completed"
        },
        "tags": [],
        "colab": {
          "base_uri": "https://localhost:8080/",
          "height": 388
        },
        "id": "e2117086",
        "outputId": "53564684-150a-4d52-9279-1cc81f4d4936"
      },
      "outputs": [
        {
          "output_type": "display_data",
          "data": {
            "text/plain": [
              "  english   italian\n",
              "0     Hi.     Ciao.\n",
              "1    Run!    Corri!\n",
              "2    Run!    Corra!\n",
              "3    Run!  Correte!\n",
              "4    Who?      Chi?"
            ],
            "text/html": [
              "\n",
              "  <div id=\"df-d31b0436-cf7b-456d-80f8-1d81b3259862\">\n",
              "    <div class=\"colab-df-container\">\n",
              "      <div>\n",
              "<style scoped>\n",
              "    .dataframe tbody tr th:only-of-type {\n",
              "        vertical-align: middle;\n",
              "    }\n",
              "\n",
              "    .dataframe tbody tr th {\n",
              "        vertical-align: top;\n",
              "    }\n",
              "\n",
              "    .dataframe thead th {\n",
              "        text-align: right;\n",
              "    }\n",
              "</style>\n",
              "<table border=\"1\" class=\"dataframe\">\n",
              "  <thead>\n",
              "    <tr style=\"text-align: right;\">\n",
              "      <th></th>\n",
              "      <th>english</th>\n",
              "      <th>italian</th>\n",
              "    </tr>\n",
              "  </thead>\n",
              "  <tbody>\n",
              "    <tr>\n",
              "      <th>0</th>\n",
              "      <td>Hi.</td>\n",
              "      <td>Ciao.</td>\n",
              "    </tr>\n",
              "    <tr>\n",
              "      <th>1</th>\n",
              "      <td>Run!</td>\n",
              "      <td>Corri!</td>\n",
              "    </tr>\n",
              "    <tr>\n",
              "      <th>2</th>\n",
              "      <td>Run!</td>\n",
              "      <td>Corra!</td>\n",
              "    </tr>\n",
              "    <tr>\n",
              "      <th>3</th>\n",
              "      <td>Run!</td>\n",
              "      <td>Correte!</td>\n",
              "    </tr>\n",
              "    <tr>\n",
              "      <th>4</th>\n",
              "      <td>Who?</td>\n",
              "      <td>Chi?</td>\n",
              "    </tr>\n",
              "  </tbody>\n",
              "</table>\n",
              "</div>\n",
              "      <button class=\"colab-df-convert\" onclick=\"convertToInteractive('df-d31b0436-cf7b-456d-80f8-1d81b3259862')\"\n",
              "              title=\"Convert this dataframe to an interactive table.\"\n",
              "              style=\"display:none;\">\n",
              "        \n",
              "  <svg xmlns=\"http://www.w3.org/2000/svg\" height=\"24px\"viewBox=\"0 0 24 24\"\n",
              "       width=\"24px\">\n",
              "    <path d=\"M0 0h24v24H0V0z\" fill=\"none\"/>\n",
              "    <path d=\"M18.56 5.44l.94 2.06.94-2.06 2.06-.94-2.06-.94-.94-2.06-.94 2.06-2.06.94zm-11 1L8.5 8.5l.94-2.06 2.06-.94-2.06-.94L8.5 2.5l-.94 2.06-2.06.94zm10 10l.94 2.06.94-2.06 2.06-.94-2.06-.94-.94-2.06-.94 2.06-2.06.94z\"/><path d=\"M17.41 7.96l-1.37-1.37c-.4-.4-.92-.59-1.43-.59-.52 0-1.04.2-1.43.59L10.3 9.45l-7.72 7.72c-.78.78-.78 2.05 0 2.83L4 21.41c.39.39.9.59 1.41.59.51 0 1.02-.2 1.41-.59l7.78-7.78 2.81-2.81c.8-.78.8-2.07 0-2.86zM5.41 20L4 18.59l7.72-7.72 1.47 1.35L5.41 20z\"/>\n",
              "  </svg>\n",
              "      </button>\n",
              "      \n",
              "  <style>\n",
              "    .colab-df-container {\n",
              "      display:flex;\n",
              "      flex-wrap:wrap;\n",
              "      gap: 12px;\n",
              "    }\n",
              "\n",
              "    .colab-df-convert {\n",
              "      background-color: #E8F0FE;\n",
              "      border: none;\n",
              "      border-radius: 50%;\n",
              "      cursor: pointer;\n",
              "      display: none;\n",
              "      fill: #1967D2;\n",
              "      height: 32px;\n",
              "      padding: 0 0 0 0;\n",
              "      width: 32px;\n",
              "    }\n",
              "\n",
              "    .colab-df-convert:hover {\n",
              "      background-color: #E2EBFA;\n",
              "      box-shadow: 0px 1px 2px rgba(60, 64, 67, 0.3), 0px 1px 3px 1px rgba(60, 64, 67, 0.15);\n",
              "      fill: #174EA6;\n",
              "    }\n",
              "\n",
              "    [theme=dark] .colab-df-convert {\n",
              "      background-color: #3B4455;\n",
              "      fill: #D2E3FC;\n",
              "    }\n",
              "\n",
              "    [theme=dark] .colab-df-convert:hover {\n",
              "      background-color: #434B5C;\n",
              "      box-shadow: 0px 1px 3px 1px rgba(0, 0, 0, 0.15);\n",
              "      filter: drop-shadow(0px 1px 2px rgba(0, 0, 0, 0.3));\n",
              "      fill: #FFFFFF;\n",
              "    }\n",
              "  </style>\n",
              "\n",
              "      <script>\n",
              "        const buttonEl =\n",
              "          document.querySelector('#df-d31b0436-cf7b-456d-80f8-1d81b3259862 button.colab-df-convert');\n",
              "        buttonEl.style.display =\n",
              "          google.colab.kernel.accessAllowed ? 'block' : 'none';\n",
              "\n",
              "        async function convertToInteractive(key) {\n",
              "          const element = document.querySelector('#df-d31b0436-cf7b-456d-80f8-1d81b3259862');\n",
              "          const dataTable =\n",
              "            await google.colab.kernel.invokeFunction('convertToInteractive',\n",
              "                                                     [key], {});\n",
              "          if (!dataTable) return;\n",
              "\n",
              "          const docLinkHtml = 'Like what you see? Visit the ' +\n",
              "            '<a target=\"_blank\" href=https://colab.research.google.com/notebooks/data_table.ipynb>data table notebook</a>'\n",
              "            + ' to learn more about interactive tables.';\n",
              "          element.innerHTML = '';\n",
              "          dataTable['output_type'] = 'display_data';\n",
              "          await google.colab.output.renderOutput(dataTable, element);\n",
              "          const docLink = document.createElement('div');\n",
              "          docLink.innerHTML = docLinkHtml;\n",
              "          element.appendChild(docLink);\n",
              "        }\n",
              "      </script>\n",
              "    </div>\n",
              "  </div>\n",
              "  "
            ]
          },
          "metadata": {}
        },
        {
          "output_type": "stream",
          "name": "stdout",
          "text": [
            "<class 'pandas.core.frame.DataFrame'>\n",
            "RangeIndex: 352039 entries, 0 to 352038\n",
            "Data columns (total 2 columns):\n",
            " #   Column   Non-Null Count   Dtype \n",
            "---  ------   --------------   ----- \n",
            " 0   english  352039 non-null  object\n",
            " 1   italian  352039 non-null  object\n",
            "dtypes: object(2)\n",
            "memory usage: 5.4+ MB\n"
          ]
        },
        {
          "output_type": "display_data",
          "data": {
            "text/plain": [
              "None"
            ]
          },
          "metadata": {}
        }
      ],
      "source": [
        "display(data.head())\n",
        "display(data.info())"
      ]
    },
    {
      "cell_type": "code",
      "execution_count": 14,
      "id": "09bedf99",
      "metadata": {
        "execution": {
          "iopub.execute_input": "2021-10-07T04:41:53.362194Z",
          "iopub.status.busy": "2021-10-07T04:41:53.361620Z",
          "iopub.status.idle": "2021-10-07T04:41:53.463258Z",
          "shell.execute_reply": "2021-10-07T04:41:53.463959Z",
          "shell.execute_reply.started": "2021-10-07T04:15:58.344610Z"
        },
        "papermill": {
          "duration": 0.207481,
          "end_time": "2021-10-07T04:41:53.464111",
          "exception": false,
          "start_time": "2021-10-07T04:41:53.256630",
          "status": "completed"
        },
        "tags": [],
        "colab": {
          "base_uri": "https://localhost:8080/"
        },
        "id": "09bedf99",
        "outputId": "afcb69c6-bc6b-49df-c370-06c3fd058dec"
      },
      "outputs": [
        {
          "output_type": "stream",
          "name": "stdout",
          "text": [
            "<class 'pandas.core.frame.DataFrame'>\n",
            "RangeIndex: 352039 entries, 0 to 352038\n",
            "Data columns (total 2 columns):\n",
            " #   Column   Non-Null Count   Dtype \n",
            "---  ------   --------------   ----- \n",
            " 0   english  352039 non-null  object\n",
            " 1   italian  352039 non-null  object\n",
            "dtypes: object(2)\n",
            "memory usage: 5.4+ MB\n"
          ]
        }
      ],
      "source": [
        "# Drops null values\n",
        "data.dropna(inplace=True)\n",
        "data.info()"
      ]
    },
    {
      "cell_type": "code",
      "execution_count": 15,
      "id": "c479ed72",
      "metadata": {
        "execution": {
          "iopub.execute_input": "2021-10-07T04:41:53.551106Z",
          "iopub.status.busy": "2021-10-07T04:41:53.547771Z",
          "iopub.status.idle": "2021-10-07T04:41:53.710204Z",
          "shell.execute_reply": "2021-10-07T04:41:53.709729Z",
          "shell.execute_reply.started": "2021-10-07T04:15:58.517188Z"
        },
        "papermill": {
          "duration": 0.206242,
          "end_time": "2021-10-07T04:41:53.710331",
          "exception": false,
          "start_time": "2021-10-07T04:41:53.504089",
          "status": "completed"
        },
        "tags": [],
        "id": "c479ed72"
      },
      "outputs": [],
      "source": [
        "# Adds 'sos' and 'eos' to start and end of target (Italian) text\n",
        "# 'sos' --> Denotes start of sequence; 'eos' --> Denotes end of sequence\n",
        "\n",
        "data[\"italian\"] = data[\"italian\"].apply(lambda x: \"sos \" + x + \" eos\")"
      ]
    },
    {
      "cell_type": "markdown",
      "id": "bf1c4f54",
      "metadata": {
        "papermill": {
          "duration": 0.039871,
          "end_time": "2021-10-07T04:41:53.870908",
          "exception": false,
          "start_time": "2021-10-07T04:41:53.831037",
          "status": "completed"
        },
        "tags": [],
        "id": "bf1c4f54"
      },
      "source": [
        "# **Splitting Data :**"
      ]
    },
    {
      "cell_type": "code",
      "execution_count": 16,
      "id": "df492e4b",
      "metadata": {
        "execution": {
          "iopub.execute_input": "2021-10-07T04:41:53.958846Z",
          "iopub.status.busy": "2021-10-07T04:41:53.958303Z",
          "iopub.status.idle": "2021-10-07T04:41:54.036548Z",
          "shell.execute_reply": "2021-10-07T04:41:54.035850Z",
          "shell.execute_reply.started": "2021-10-07T04:15:58.714447Z"
        },
        "papermill": {
          "duration": 0.126047,
          "end_time": "2021-10-07T04:41:54.036693",
          "exception": false,
          "start_time": "2021-10-07T04:41:53.910646",
          "status": "completed"
        },
        "tags": [],
        "id": "df492e4b"
      },
      "outputs": [],
      "source": [
        "# Train data: 60%; Validation data: 20%; Test data: 10000 sentences;\n",
        "eng_train, eng_remaining, it_train, it_remaining  = train_test_split(data[\"english\"].values, \n",
        "                                                                     data[\"italian\"].values, \n",
        "                                                                     test_size=0.4, \n",
        "                                                                     random_state=22)\n",
        "\n",
        "eng_val, eng_test, it_val, it_test = train_test_split(eng_remaining, \n",
        "                                                      it_remaining, \n",
        "                                                      test_size=0.5, \n",
        "                                                      random_state=22)\n",
        "\n",
        "# Taking 10k sentences as test set\n",
        "eng_test = eng_test[:10000]\n",
        "it_test = it_test[:10000]"
      ]
    },
    {
      "cell_type": "code",
      "execution_count": 17,
      "id": "92d192d0",
      "metadata": {
        "execution": {
          "iopub.execute_input": "2021-10-07T04:41:54.123811Z",
          "iopub.status.busy": "2021-10-07T04:41:54.123168Z",
          "iopub.status.idle": "2021-10-07T04:41:54.126075Z",
          "shell.execute_reply": "2021-10-07T04:41:54.126517Z",
          "shell.execute_reply.started": "2021-10-07T04:15:58.727462Z"
        },
        "papermill": {
          "duration": 0.048452,
          "end_time": "2021-10-07T04:41:54.126649",
          "exception": false,
          "start_time": "2021-10-07T04:41:54.078197",
          "status": "completed"
        },
        "tags": [],
        "colab": {
          "base_uri": "https://localhost:8080/"
        },
        "id": "92d192d0",
        "outputId": "de325fe4-6517-441c-d4d8-6c2967a31752"
      },
      "outputs": [
        {
          "output_type": "stream",
          "name": "stdout",
          "text": [
            "211223\n",
            "70408\n",
            "10000\n"
          ]
        }
      ],
      "source": [
        "print(len(eng_train))\n",
        "print(len(eng_val))\n",
        "print(len(eng_test))"
      ]
    },
    {
      "cell_type": "code",
      "execution_count": 18,
      "id": "979c8c0b",
      "metadata": {
        "execution": {
          "iopub.execute_input": "2021-10-07T04:41:54.214503Z",
          "iopub.status.busy": "2021-10-07T04:41:54.213853Z",
          "iopub.status.idle": "2021-10-07T04:41:54.216653Z",
          "shell.execute_reply": "2021-10-07T04:41:54.217058Z",
          "shell.execute_reply.started": "2021-10-07T04:15:58.741447Z"
        },
        "papermill": {
          "duration": 0.04898,
          "end_time": "2021-10-07T04:41:54.217183",
          "exception": false,
          "start_time": "2021-10-07T04:41:54.168203",
          "status": "completed"
        },
        "tags": [],
        "colab": {
          "base_uri": "https://localhost:8080/"
        },
        "id": "979c8c0b",
        "outputId": "bd9ecf29-3db0-486a-eb06-abdf2b99794d"
      },
      "outputs": [
        {
          "output_type": "stream",
          "name": "stdout",
          "text": [
            "['Tom wants to work.' \"Tom is quite conservative, isn't he?\"\n",
            " 'There are teachers and then there are teachers.'\n",
            " \"You love children, don't you?\" 'This car is worthless.']\n",
            "[\"I know that Tom wasn't a popular kid at his school.\"\n",
            " 'My car needs washing.' \"We'll be there.\" 'So what do you want to know?'\n",
            " 'Why did you go there?']\n",
            "[\"That's serious.\" 'Tom is teaching me how to swim.'\n",
            " 'Are you sure this thing is safe?' 'They were so happy together.'\n",
            " 'Both Tom and I were shocked.']\n",
            "['sos Tom vuole lavorare. eos'\n",
            " 'sos Tom è piuttosto conservatore, vero? eos'\n",
            " 'sos Ci sono insegnanti e insegnanti. eos' 'sos Ama i bambini, vero? eos'\n",
            " 'sos Questa auto è inutile. eos']\n",
            "['sos So che Tom non era un bambino popolare nella sua scuola. eos'\n",
            " 'sos La mia automobile ha bisogno di essere lavata. eos'\n",
            " 'sos Noi saremo lì. eos' 'sos Quindi che cosa vuole sapere? eos'\n",
            " 'sos Perché è andata lì? eos']\n",
            "['sos È serio. eos' 'sos Tom mi sta insegnando a nuotare. eos'\n",
            " 'sos Siete sicure che questa cosa sia sicura? eos'\n",
            " 'sos Loro erano così felici insieme. eos'\n",
            " 'sos Sia io che Tom eravamo scioccati. eos']\n"
          ]
        }
      ],
      "source": [
        "print(eng_train[:5])\n",
        "print(eng_val[:5])\n",
        "print(eng_test[:5])\n",
        "print(it_train[:5])\n",
        "print(it_val[:5])\n",
        "print(it_test[:5])"
      ]
    },
    {
      "cell_type": "markdown",
      "id": "42a46af4",
      "metadata": {
        "papermill": {
          "duration": 0.043258,
          "end_time": "2021-10-07T04:42:00.138310",
          "exception": false,
          "start_time": "2021-10-07T04:42:00.095052",
          "status": "completed"
        },
        "tags": [],
        "id": "42a46af4"
      },
      "source": [
        "# **Fitting tokenizer and defining preprocessing functions :**"
      ]
    },
    {
      "cell_type": "code",
      "execution_count": 20,
      "id": "63773b01",
      "metadata": {
        "execution": {
          "iopub.execute_input": "2021-10-07T04:42:00.253756Z",
          "iopub.status.busy": "2021-10-07T04:42:00.253238Z",
          "iopub.status.idle": "2021-10-07T04:42:08.583094Z",
          "shell.execute_reply": "2021-10-07T04:42:08.582599Z",
          "shell.execute_reply.started": "2021-10-07T04:16:04.937644Z"
        },
        "papermill": {
          "duration": 8.401524,
          "end_time": "2021-10-07T04:42:08.583245",
          "exception": false,
          "start_time": "2021-10-07T04:42:00.181721",
          "status": "completed"
        },
        "tags": [],
        "id": "63773b01"
      },
      "outputs": [],
      "source": [
        "# Instantiating and fitting the Tokenizer on english text\n",
        "eng_tokenizer_train_data = data[\"english\"]\n",
        "eng_tok = Tokenizer(oov_token=\"UNK\")\n",
        "eng_tok.fit_on_texts(eng_tokenizer_train_data.values)\n",
        "\n",
        "# Instantiating and fitting the Tokenizer on italian text\n",
        "it_tokenizer_train_data = data[\"italian\"]\n",
        "it_tok = Tokenizer(oov_token=\"UNK\")\n",
        "it_tok.fit_on_texts(it_tokenizer_train_data.values)"
      ]
    },
    {
      "cell_type": "code",
      "execution_count": 21,
      "id": "407d6ded",
      "metadata": {
        "execution": {
          "iopub.execute_input": "2021-10-07T04:42:08.678314Z",
          "iopub.status.busy": "2021-10-07T04:42:08.677518Z",
          "iopub.status.idle": "2021-10-07T04:42:08.679534Z",
          "shell.execute_reply": "2021-10-07T04:42:08.679915Z",
          "shell.execute_reply.started": "2021-10-07T04:16:14.818432Z"
        },
        "papermill": {
          "duration": 0.052912,
          "end_time": "2021-10-07T04:42:08.680059",
          "exception": false,
          "start_time": "2021-10-07T04:42:08.627147",
          "status": "completed"
        },
        "tags": [],
        "id": "407d6ded"
      },
      "outputs": [],
      "source": [
        "def sent_to_seq(sequences, tokenizer, vocab_size=None, reverse=False, onehot=False):\n",
        "    \n",
        "    \"\"\" Converts text data into sequences supported by model input layers.\n",
        "    \n",
        "    Args:\n",
        "        sequences (list): List of text data.\n",
        "        tokenizer (tf.keras.preprocessing.text.Tokenizer): Tensorflow tokenizer object.\n",
        "        vocab_size (int): Number of words in the whole vocabulary.\n",
        "        reverse (bool): Reverses the padded sequence if set True. Defaults False.\n",
        "                        (Eg: if set True, [1 2 3 0 0] becomes [0 0 3 2 1])\n",
        "        onehot (bool): Creates onehot representation of the padded sequence if set True.\n",
        "                       Defaults False.\n",
        "                       \n",
        "    Returns:\n",
        "        preprocessed_seq (list): List of preprocessed sequences.\n",
        "        \n",
        "    \"\"\"\n",
        "    \n",
        "    # Tokenizing\n",
        "    seq = tokenizer.texts_to_sequences(sequences)\n",
        "    \n",
        "    # Padding\n",
        "    preprocessed_seq = pad_sequences(seq, padding='post', truncating='post', maxlen=20)\n",
        "    \n",
        "    # Reversing\n",
        "    if reverse:\n",
        "        preprocessed_seq = preprocessed_seq[:, ::-1]\n",
        "    \n",
        "    # Onehot encoding\n",
        "    if onehot:\n",
        "        preprocessed_seq = to_categorical(preprocessed_seq, num_classes=vocab_size) \n",
        "    \n",
        "    return preprocessed_seq\n"
      ]
    },
    {
      "cell_type": "code",
      "execution_count": 22,
      "id": "81d6032e",
      "metadata": {
        "execution": {
          "iopub.execute_input": "2021-10-07T04:42:08.773986Z",
          "iopub.status.busy": "2021-10-07T04:42:08.773222Z",
          "iopub.status.idle": "2021-10-07T04:42:08.775673Z",
          "shell.execute_reply": "2021-10-07T04:42:08.775280Z",
          "shell.execute_reply.started": "2021-10-07T04:16:14.830718Z"
        },
        "papermill": {
          "duration": 0.051925,
          "end_time": "2021-10-07T04:42:08.775776",
          "exception": false,
          "start_time": "2021-10-07T04:42:08.723851",
          "status": "completed"
        },
        "tags": [],
        "id": "81d6032e"
      },
      "outputs": [],
      "source": [
        "def generate_batch(X, y, batch_size):\n",
        "    \n",
        "    \"\"\" Generator function to preprocess the data in batches and\n",
        "        feed them to the model.\n",
        "        \n",
        "    Args:\n",
        "        X (list): List of text data.\n",
        "        y (list): List of text data.\n",
        "        batch_size (int): Number of items to be preprocessed and fed\n",
        "                          in a single batch.\n",
        "    Yields:\n",
        "        en_x (list): Preprocessed data supported by encoder input layer.\n",
        "        de_x (list): Preprocessed data supported by decoder input layer.\n",
        "                    (1 timestep behind de_y, since \n",
        "                     TimeDistributed layer is being used for training)\n",
        "        de_y (list): Preprocessed actual outputs of decoder. \n",
        "                     (1 timestep ahead of de_x, since \n",
        "                     TimeDistributed layer is being used for training)\n",
        "    \"\"\"\n",
        "    \n",
        "    while True:   \n",
        "        for batch in range(0, len(X), batch_size):\n",
        "            en_x = sent_to_seq(X[batch: batch+batch_size], \n",
        "                               tokenizer = eng_tok, \n",
        "                               vocab_size = eng_vocab_size,\n",
        "                               onehot = True, \n",
        "                               reverse = True)\n",
        "\n",
        "            de_xy = sent_to_seq(y[batch: batch+batch_size],\n",
        "                                tokenizer = it_tok,\n",
        "                                vocab_size = it_vocab_size,\n",
        "                                onehot = True)\n",
        "\n",
        "            de_x = de_xy[:,:-1,:]\n",
        "            de_y = de_xy[:,1:,:]\n",
        "\n",
        "            yield([en_x, de_x], de_y)"
      ]
    },
    {
      "cell_type": "markdown",
      "id": "2976b990",
      "metadata": {
        "papermill": {
          "duration": 0.042791,
          "end_time": "2021-10-07T04:42:08.862121",
          "exception": false,
          "start_time": "2021-10-07T04:42:08.819330",
          "status": "completed"
        },
        "tags": [],
        "id": "2976b990"
      },
      "source": [
        "# **Defining Model Architecture :**"
      ]
    },
    {
      "cell_type": "code",
      "execution_count": 23,
      "id": "618f6947",
      "metadata": {
        "execution": {
          "iopub.execute_input": "2021-10-07T04:42:08.954426Z",
          "iopub.status.busy": "2021-10-07T04:42:08.952975Z",
          "iopub.status.idle": "2021-10-07T04:42:08.955119Z",
          "shell.execute_reply": "2021-10-07T04:42:08.955506Z",
          "shell.execute_reply.started": "2021-10-07T04:16:14.847298Z"
        },
        "papermill": {
          "duration": 0.049849,
          "end_time": "2021-10-07T04:42:08.955623",
          "exception": false,
          "start_time": "2021-10-07T04:42:08.905774",
          "status": "completed"
        },
        "tags": [],
        "id": "618f6947"
      },
      "outputs": [],
      "source": [
        "eng_seq_len = 20    # First dimension of encoder Input shape\n",
        "eng_vocab_size = len(eng_tok.word_index)+1    # Second dimension of encoder Input shape\n",
        "gru_units = 2048    # Number of GRU units"
      ]
    },
    {
      "cell_type": "code",
      "execution_count": 24,
      "id": "930d00cf",
      "metadata": {
        "execution": {
          "iopub.execute_input": "2021-10-07T04:42:09.047052Z",
          "iopub.status.busy": "2021-10-07T04:42:09.046527Z",
          "iopub.status.idle": "2021-10-07T04:42:16.994863Z",
          "shell.execute_reply": "2021-10-07T04:42:16.995680Z",
          "shell.execute_reply.started": "2021-10-07T04:16:14.862818Z"
        },
        "papermill": {
          "duration": 7.997023,
          "end_time": "2021-10-07T04:42:16.995869",
          "exception": false,
          "start_time": "2021-10-07T04:42:08.998846",
          "status": "completed"
        },
        "tags": [],
        "id": "930d00cf"
      },
      "outputs": [],
      "source": [
        "# Encoder  \n",
        "en_inputs = Input(shape=(eng_seq_len, eng_vocab_size)) \n",
        "en_gru = GRU(gru_units, return_state=True) \n",
        "en_out, en_state = en_gru(en_inputs)"
      ]
    },
    {
      "cell_type": "code",
      "execution_count": 25,
      "id": "cd305071",
      "metadata": {
        "execution": {
          "iopub.execute_input": "2021-10-07T04:42:17.090911Z",
          "iopub.status.busy": "2021-10-07T04:42:17.089330Z",
          "iopub.status.idle": "2021-10-07T04:42:17.091548Z",
          "shell.execute_reply": "2021-10-07T04:42:17.091958Z",
          "shell.execute_reply.started": "2021-10-07T04:16:18.241762Z"
        },
        "papermill": {
          "duration": 0.050182,
          "end_time": "2021-10-07T04:42:17.092087",
          "exception": false,
          "start_time": "2021-10-07T04:42:17.041905",
          "status": "completed"
        },
        "tags": [],
        "id": "cd305071"
      },
      "outputs": [],
      "source": [
        "it_seq_len = 20     # First dimension of decoder Input shape\n",
        "it_vocab_size = len(it_tok.word_index)+1     # Second dimension of decoder Input shape"
      ]
    },
    {
      "cell_type": "code",
      "execution_count": 28,
      "id": "8f85de0a",
      "metadata": {
        "execution": {
          "iopub.execute_input": "2021-10-07T04:42:17.189508Z",
          "iopub.status.busy": "2021-10-07T04:42:17.188771Z",
          "iopub.status.idle": "2021-10-07T04:42:22.827022Z",
          "shell.execute_reply": "2021-10-07T04:42:22.826296Z",
          "shell.execute_reply.started": "2021-10-07T04:16:18.249657Z"
        },
        "papermill": {
          "duration": 5.691082,
          "end_time": "2021-10-07T04:42:22.827210",
          "exception": false,
          "start_time": "2021-10-07T04:42:17.136128",
          "status": "completed"
        },
        "tags": [],
        "id": "8f85de0a"
      },
      "outputs": [],
      "source": [
        "# Decoder\n",
        "de_inputs = Input(shape=(it_seq_len-1, it_vocab_size))\n",
        "de_gru = GRU(gru_units, return_sequences=True)\n",
        "de_out = de_gru(de_inputs, initial_state=en_state)"
      ]
    },
    {
      "cell_type": "code",
      "execution_count": 29,
      "id": "45043306",
      "metadata": {
        "execution": {
          "iopub.execute_input": "2021-10-07T04:42:22.966558Z",
          "iopub.status.busy": "2021-10-07T04:42:22.965727Z",
          "iopub.status.idle": "2021-10-07T04:42:22.977564Z",
          "shell.execute_reply": "2021-10-07T04:42:22.977938Z",
          "shell.execute_reply.started": "2021-10-07T04:16:19.220987Z"
        },
        "papermill": {
          "duration": 0.0758,
          "end_time": "2021-10-07T04:42:22.978072",
          "exception": false,
          "start_time": "2021-10-07T04:42:22.902272",
          "status": "completed"
        },
        "tags": [],
        "id": "45043306"
      },
      "outputs": [],
      "source": [
        "# Decoder output architecture\n",
        "# TimeDistributed layer is used for training purpose\n",
        "de_dense = TimeDistributed(Dense(it_vocab_size, activation='softmax'))    \n",
        "de_pred = de_dense(de_out)"
      ]
    },
    {
      "cell_type": "code",
      "execution_count": 30,
      "id": "be3949bf",
      "metadata": {
        "execution": {
          "iopub.execute_input": "2021-10-07T04:42:23.161673Z",
          "iopub.status.busy": "2021-10-07T04:42:23.160853Z",
          "iopub.status.idle": "2021-10-07T04:42:23.174914Z",
          "shell.execute_reply": "2021-10-07T04:42:23.175291Z",
          "shell.execute_reply.started": "2021-10-07T04:16:19.249412Z"
        },
        "papermill": {
          "duration": 0.064501,
          "end_time": "2021-10-07T04:42:23.175423",
          "exception": false,
          "start_time": "2021-10-07T04:42:23.110922",
          "status": "completed"
        },
        "tags": [],
        "id": "be3949bf"
      },
      "outputs": [],
      "source": [
        "# Compiling\n",
        "nmt = Model(inputs=[en_inputs, de_inputs], outputs=de_pred) \n",
        "nmt.compile(optimizer='adam', loss=\"categorical_crossentropy\", metrics=[\"acc\"])"
      ]
    },
    {
      "cell_type": "code",
      "execution_count": null,
      "id": "9faa822a",
      "metadata": {
        "execution": {
          "iopub.execute_input": "2021-10-07T04:42:23.270951Z",
          "iopub.status.busy": "2021-10-07T04:42:23.270124Z",
          "iopub.status.idle": "2021-10-07T04:42:23.274567Z",
          "shell.execute_reply": "2021-10-07T04:42:23.274161Z",
          "shell.execute_reply.started": "2021-10-07T04:16:19.275806Z"
        },
        "papermill": {
          "duration": 0.054485,
          "end_time": "2021-10-07T04:42:23.274673",
          "exception": false,
          "start_time": "2021-10-07T04:42:23.220188",
          "status": "completed"
        },
        "tags": [],
        "id": "9faa822a"
      },
      "outputs": [],
      "source": [
        "print(nmt.summary())"
      ]
    },
    {
      "cell_type": "markdown",
      "id": "7c76a17d",
      "metadata": {
        "papermill": {
          "duration": 0.044851,
          "end_time": "2021-10-07T04:42:23.365417",
          "exception": false,
          "start_time": "2021-10-07T04:42:23.320566",
          "status": "completed"
        },
        "tags": [],
        "id": "7c76a17d"
      },
      "source": [
        "# **Training, Evaluating and plotting results :**"
      ]
    },
    {
      "cell_type": "code",
      "execution_count": null,
      "id": "c70997a2",
      "metadata": {
        "execution": {
          "iopub.execute_input": "2021-10-07T04:42:23.464820Z",
          "iopub.status.busy": "2021-10-07T04:42:23.463796Z",
          "iopub.status.idle": "2021-10-07T04:42:23.466785Z",
          "shell.execute_reply": "2021-10-07T04:42:23.465738Z",
          "shell.execute_reply.started": "2021-10-07T04:16:19.293001Z"
        },
        "papermill": {
          "duration": 0.055564,
          "end_time": "2021-10-07T04:42:23.466890",
          "exception": false,
          "start_time": "2021-10-07T04:42:23.411326",
          "status": "completed"
        },
        "tags": [],
        "id": "c70997a2"
      },
      "outputs": [],
      "source": [
        "def plot_history(history, metric = \"loss\"):\n",
        "    \n",
        "    \"\"\" Plots training history of models.\n",
        "    \n",
        "    Args:\n",
        "        history (History): Tensorflow History object containing training \n",
        "                           history of the model.\n",
        "        metric (str): 'accuracy' or 'loss'. Metric to be plotted. \n",
        "                           \n",
        "    Returns:\n",
        "        Nothing\n",
        "        \n",
        "    \"\"\"\n",
        "    \n",
        "    history_dict = history.history\n",
        "    epochs = range(1, len(history_dict['loss'])+1)\n",
        "    \n",
        "    if metric == \"loss\":\n",
        "        train_loss = history_dict['loss']    # Training loss over epochs\n",
        "        val_loss = history_dict['val_loss']    # Validation loss over epochs\n",
        "        plt.plot(epochs, train_loss,'b', label='Training error')\n",
        "        plt.plot(epochs, val_loss,'b', color=\"orange\", label='Validation error')\n",
        "        plt.title('Training and Validation error')\n",
        "        plt.xlabel('Epochs')\n",
        "        plt.ylabel('Error')\n",
        "        plt.legend()\n",
        "        plt.show()\n",
        "    \n",
        "    elif metric == \"accuracy\":\n",
        "        train_acc = history_dict['acc']    # Training accuracy over epochs\n",
        "        val_acc = history_dict['val_acc']    # Validation accuracy over epochs\n",
        "        plt.plot(epochs, train_acc,'b', label='Training accuracy')\n",
        "        plt.plot(epochs, val_acc,'b', color=\"orange\", label='Validation accuracy')\n",
        "        plt.title('Training and Validation accuracy')\n",
        "        plt.xlabel('Epochs')\n",
        "        plt.ylabel('Accuracy')\n",
        "        plt.legend()\n",
        "        plt.show()\n",
        "    \n",
        "    "
      ]
    },
    {
      "cell_type": "code",
      "execution_count": null,
      "id": "2053b01a",
      "metadata": {
        "execution": {
          "iopub.execute_input": "2021-10-07T04:42:23.559801Z",
          "iopub.status.busy": "2021-10-07T04:42:23.558865Z",
          "iopub.status.idle": "2021-10-07T04:42:23.561258Z",
          "shell.execute_reply": "2021-10-07T04:42:23.560712Z",
          "shell.execute_reply.started": "2021-10-07T04:16:19.306351Z"
        },
        "papermill": {
          "duration": 0.050211,
          "end_time": "2021-10-07T04:42:23.561365",
          "exception": false,
          "start_time": "2021-10-07T04:42:23.511154",
          "status": "completed"
        },
        "tags": [],
        "id": "2053b01a"
      },
      "outputs": [],
      "source": [
        "n_epochs, batch_size = 10, 64"
      ]
    },
    {
      "cell_type": "code",
      "execution_count": null,
      "id": "118a9558",
      "metadata": {
        "execution": {
          "iopub.execute_input": "2021-10-07T04:42:23.656780Z",
          "iopub.status.busy": "2021-10-07T04:42:23.656147Z",
          "iopub.status.idle": "2021-10-07T12:05:24.588385Z",
          "shell.execute_reply": "2021-10-07T12:05:24.589008Z",
          "shell.execute_reply.started": "2021-10-07T04:16:19.318321Z"
        },
        "papermill": {
          "duration": 26580.983438,
          "end_time": "2021-10-07T12:05:24.589167",
          "exception": false,
          "start_time": "2021-10-07T04:42:23.605729",
          "status": "completed"
        },
        "tags": [],
        "id": "118a9558",
        "outputId": "fa283ce6-f7b1-45ab-c8d0-6592cfab8e44"
      },
      "outputs": [
        {
          "name": "stderr",
          "output_type": "stream",
          "text": [
            "2021-10-07 04:42:24.145037: I tensorflow/compiler/mlir/mlir_graph_optimization_pass.cc:116] None of the MLIR optimization passes are enabled (registered 2)\n",
            "2021-10-07 04:42:24.149341: I tensorflow/core/platform/profile_utils/cpu_utils.cc:112] CPU Frequency: 2000179999 Hz\n"
          ]
        },
        {
          "name": "stdout",
          "output_type": "stream",
          "text": [
            "Epoch 1/10\n"
          ]
        },
        {
          "name": "stderr",
          "output_type": "stream",
          "text": [
            "2021-10-07 04:42:26.383459: I tensorflow/stream_executor/platform/default/dso_loader.cc:49] Successfully opened dynamic library libcublas.so.11\n",
            "2021-10-07 04:42:27.316467: I tensorflow/stream_executor/platform/default/dso_loader.cc:49] Successfully opened dynamic library libcublasLt.so.11\n",
            "2021-10-07 04:42:27.478572: I tensorflow/stream_executor/platform/default/dso_loader.cc:49] Successfully opened dynamic library libcudnn.so.8\n"
          ]
        },
        {
          "name": "stdout",
          "output_type": "stream",
          "text": [
            "3300/3300 [==============================] - 2650s 801ms/step - loss: 1.8352 - acc: 0.7431 - val_loss: 1.0887 - val_acc: 0.8027\n",
            "Epoch 2/10\n",
            "3300/3300 [==============================] - 2648s 803ms/step - loss: 0.9890 - acc: 0.8123 - val_loss: 0.8416 - val_acc: 0.8363\n",
            "Epoch 3/10\n",
            "3300/3300 [==============================] - 2659s 806ms/step - loss: 0.6929 - acc: 0.8515 - val_loss: 0.7119 - val_acc: 0.8579\n",
            "Epoch 4/10\n",
            "3300/3300 [==============================] - 2652s 804ms/step - loss: 0.4978 - acc: 0.8824 - val_loss: 0.6632 - val_acc: 0.8679\n",
            "Epoch 5/10\n",
            "3300/3300 [==============================] - 2657s 805ms/step - loss: 0.3771 - acc: 0.9056 - val_loss: 0.6505 - val_acc: 0.8720\n",
            "Epoch 6/10\n",
            "3300/3300 [==============================] - 2662s 807ms/step - loss: 0.3074 - acc: 0.9211 - val_loss: 0.6647 - val_acc: 0.8731\n",
            "Epoch 7/10\n",
            "3300/3300 [==============================] - 2666s 808ms/step - loss: 0.2658 - acc: 0.9312 - val_loss: 0.6679 - val_acc: 0.8738\n",
            "Epoch 8/10\n",
            "3300/3300 [==============================] - 2659s 806ms/step - loss: 0.2378 - acc: 0.9382 - val_loss: 0.6859 - val_acc: 0.8741\n",
            "Epoch 9/10\n",
            "3300/3300 [==============================] - 2659s 806ms/step - loss: 0.2182 - acc: 0.9432 - val_loss: 0.7083 - val_acc: 0.8724\n",
            "Epoch 10/10\n",
            "3300/3300 [==============================] - 2658s 805ms/step - loss: 0.2046 - acc: 0.9466 - val_loss: 0.7096 - val_acc: 0.8746\n"
          ]
        }
      ],
      "source": [
        "# Training and validation\n",
        "history = nmt.fit(generate_batch(eng_train, it_train, batch_size=batch_size),\n",
        "                  steps_per_epoch = len(eng_train)//batch_size,\n",
        "                  epochs = n_epochs,\n",
        "                  validation_data = generate_batch(eng_val, it_val, batch_size=batch_size),\n",
        "                  validation_steps = len(eng_val)//batch_size)"
      ]
    },
    {
      "cell_type": "code",
      "execution_count": null,
      "id": "b875c4e8",
      "metadata": {
        "execution": {
          "iopub.execute_input": "2021-10-07T12:05:43.214155Z",
          "iopub.status.busy": "2021-10-07T12:05:43.213209Z",
          "iopub.status.idle": "2021-10-07T12:05:43.394472Z",
          "shell.execute_reply": "2021-10-07T12:05:43.395160Z",
          "shell.execute_reply.started": "2021-10-07T04:16:43.213581Z"
        },
        "papermill": {
          "duration": 9.243921,
          "end_time": "2021-10-07T12:05:43.395316",
          "exception": false,
          "start_time": "2021-10-07T12:05:34.151395",
          "status": "completed"
        },
        "tags": [],
        "id": "b875c4e8",
        "outputId": "63508688-0dd0-48a1-9787-e3db7768f367"
      },
      "outputs": [
        {
          "data": {
            "image/png": "[encoded data removed]",
            "text/plain": [
              "<Figure size 576x396 with 1 Axes>"
            ]
          },
          "metadata": {},
          "output_type": "display_data"
        }
      ],
      "source": [
        "plot_history(history)"
      ]
    },
    {
      "cell_type": "code",
      "execution_count": null,
      "id": "c7be2b4f",
      "metadata": {
        "execution": {
          "iopub.execute_input": "2021-10-07T12:06:01.159056Z",
          "iopub.status.busy": "2021-10-07T12:06:01.152940Z",
          "iopub.status.idle": "2021-10-07T12:06:01.348154Z",
          "shell.execute_reply": "2021-10-07T12:06:01.348821Z",
          "shell.execute_reply.started": "2021-10-07T04:16:43.487242Z"
        },
        "papermill": {
          "duration": 8.960678,
          "end_time": "2021-10-07T12:06:01.348987",
          "exception": false,
          "start_time": "2021-10-07T12:05:52.388309",
          "status": "completed"
        },
        "tags": [],
        "id": "c7be2b4f",
        "outputId": "bdeaa3b0-8bf6-4b94-ceba-475da8665abe"
      },
      "outputs": [
        {
          "data": {
            "image/png": "[encoded data removed]",
            "text/plain": [
              "<Figure size 576x396 with 1 Axes>"
            ]
          },
          "metadata": {},
          "output_type": "display_data"
        }
      ],
      "source": [
        "plot_history(history, metric=\"accuracy\")"
      ]
    },
    {
      "cell_type": "code",
      "execution_count": null,
      "id": "5b8b6c66",
      "metadata": {
        "execution": {
          "iopub.execute_input": "2021-10-07T12:06:19.849678Z",
          "iopub.status.busy": "2021-10-07T12:06:19.848850Z",
          "iopub.status.idle": "2021-10-07T12:06:53.432587Z",
          "shell.execute_reply": "2021-10-07T12:06:53.432180Z",
          "shell.execute_reply.started": "2021-10-07T04:16:43.747420Z"
        },
        "papermill": {
          "duration": 42.59708,
          "end_time": "2021-10-07T12:06:53.432705",
          "exception": false,
          "start_time": "2021-10-07T12:06:10.835625",
          "status": "completed"
        },
        "tags": [],
        "id": "5b8b6c66",
        "outputId": "dce8ea77-952b-4993-8557-c538f5eb65cf"
      },
      "outputs": [
        {
          "name": "stdout",
          "output_type": "stream",
          "text": [
            "64/64 [==============================] - 33s 512ms/step - loss: 0.6971 - acc: 0.8757\n",
            "========== Test set loss: 0.6970807909965515 - Test set Accuracy: 87.5732421875 % ==========\n"
          ]
        }
      ],
      "source": [
        "# Evaluating on completely unseen data\n",
        "results = nmt.evaluate(generate_batch(eng_test, it_test, batch_size=batch_size), steps=batch_size)\n",
        "print(f\"========== Test set loss: {results[0]} - Test set Accuracy: {results[1]*100} % ==========\")"
      ]
    },
    {
      "cell_type": "markdown",
      "id": "111628ef",
      "metadata": {
        "papermill": {
          "duration": 9.455053,
          "end_time": "2021-10-07T12:07:12.193838",
          "exception": false,
          "start_time": "2021-10-07T12:07:02.738785",
          "status": "completed"
        },
        "tags": [],
        "id": "111628ef"
      },
      "source": [
        "# **Copying trained layers' weights :**"
      ]
    },
    {
      "cell_type": "code",
      "execution_count": null,
      "id": "01823a17",
      "metadata": {
        "execution": {
          "iopub.execute_input": "2021-10-07T12:07:30.094059Z",
          "iopub.status.busy": "2021-10-07T12:07:30.093162Z",
          "iopub.status.idle": "2021-10-07T12:07:31.735235Z",
          "shell.execute_reply": "2021-10-07T12:07:31.735645Z",
          "shell.execute_reply.started": "2021-10-07T04:17:10.638445Z"
        },
        "papermill": {
          "duration": 10.476288,
          "end_time": "2021-10-07T12:07:31.735808",
          "exception": false,
          "start_time": "2021-10-07T12:07:21.259520",
          "status": "completed"
        },
        "tags": [],
        "id": "01823a17"
      },
      "outputs": [],
      "source": [
        "en_gru_weights = en_gru.get_weights()   # Encoder GRU layer weights\n",
        "de_gru_weights = de_gru.get_weights()    # Decoder GRU layer weights\n",
        "de_dense_weights = de_dense.get_weights()    # Decoder Dense layer weights"
      ]
    },
    {
      "cell_type": "markdown",
      "id": "451fb8ce",
      "metadata": {
        "papermill": {
          "duration": 9.506434,
          "end_time": "2021-10-07T12:07:50.066644",
          "exception": false,
          "start_time": "2021-10-07T12:07:40.560210",
          "status": "completed"
        },
        "tags": [],
        "id": "451fb8ce"
      },
      "source": [
        "# **Defining inference model Architecture :**"
      ]
    },
    {
      "cell_type": "code",
      "execution_count": null,
      "id": "feece98b",
      "metadata": {
        "execution": {
          "iopub.execute_input": "2021-10-07T12:08:07.970501Z",
          "iopub.status.busy": "2021-10-07T12:08:07.963819Z",
          "iopub.status.idle": "2021-10-07T12:08:13.593425Z",
          "shell.execute_reply": "2021-10-07T12:08:13.594196Z",
          "shell.execute_reply.started": "2021-10-07T04:17:11.416883Z"
        },
        "papermill": {
          "duration": 14.52426,
          "end_time": "2021-10-07T12:08:13.594377",
          "exception": false,
          "start_time": "2021-10-07T12:07:59.070117",
          "status": "completed"
        },
        "tags": [],
        "id": "feece98b"
      },
      "outputs": [],
      "source": [
        "# Encoder\n",
        "en_inputs = Input(shape=(eng_seq_len, eng_vocab_size)) \n",
        "en_gru = GRU(gru_units, return_state=True) \n",
        "en_out, en_state = en_gru(en_inputs)\n",
        "\n",
        "encoder = Model(inputs=en_inputs, outputs=en_state)"
      ]
    },
    {
      "cell_type": "code",
      "execution_count": null,
      "id": "64507d5c",
      "metadata": {
        "execution": {
          "iopub.execute_input": "2021-10-07T12:08:32.432332Z",
          "iopub.status.busy": "2021-10-07T12:08:32.431134Z",
          "iopub.status.idle": "2021-10-07T12:08:32.569363Z",
          "shell.execute_reply": "2021-10-07T12:08:32.568769Z",
          "shell.execute_reply.started": "2021-10-07T04:17:12.418008Z"
        },
        "papermill": {
          "duration": 9.381683,
          "end_time": "2021-10-07T12:08:32.569491",
          "exception": false,
          "start_time": "2021-10-07T12:08:23.187808",
          "status": "completed"
        },
        "tags": [],
        "id": "64507d5c"
      },
      "outputs": [],
      "source": [
        "# Assigns weights of trained model layer to inference model layer \n",
        "en_gru.set_weights(en_gru_weights)"
      ]
    },
    {
      "cell_type": "code",
      "execution_count": null,
      "id": "ece04a28",
      "metadata": {
        "execution": {
          "iopub.execute_input": "2021-10-07T12:08:51.094938Z",
          "iopub.status.busy": "2021-10-07T12:08:51.094121Z",
          "iopub.status.idle": "2021-10-07T12:08:56.576180Z",
          "shell.execute_reply": "2021-10-07T12:08:56.575271Z",
          "shell.execute_reply.started": "2021-10-07T04:17:12.589266Z"
        },
        "papermill": {
          "duration": 14.980266,
          "end_time": "2021-10-07T12:08:56.576322",
          "exception": false,
          "start_time": "2021-10-07T12:08:41.596056",
          "status": "completed"
        },
        "tags": [],
        "id": "ece04a28"
      },
      "outputs": [],
      "source": [
        "# Decoder\n",
        "de_inputs = Input(shape=(1, it_vocab_size))\n",
        "\n",
        "# Following layer is added in inference model\n",
        "# to take context vector as input\n",
        "de_state_in = Input(shape=(gru_units,))     \n",
        "\n",
        "de_gru = GRU(gru_units, return_state=True) \n",
        "de_out, de_state_out = de_gru(de_inputs, initial_state=de_state_in) \n",
        "\n",
        "# TimeDistributed layer is not used since\n",
        "# we will be using .predict() method for\n",
        "# each timestep manually\n",
        "de_dense = Dense(it_vocab_size, activation='softmax') \n",
        "de_pred = de_dense(de_out)\n",
        "\n",
        "decoder = Model(inputs=[de_inputs, de_state_in], outputs=[de_pred, de_state_out]) "
      ]
    },
    {
      "cell_type": "code",
      "execution_count": null,
      "id": "7d4dc924",
      "metadata": {
        "execution": {
          "iopub.execute_input": "2021-10-07T12:09:15.170120Z",
          "iopub.status.busy": "2021-10-07T12:09:15.168853Z",
          "iopub.status.idle": "2021-10-07T12:09:15.631017Z",
          "shell.execute_reply": "2021-10-07T12:09:15.630105Z",
          "shell.execute_reply.started": "2021-10-07T04:17:13.602982Z"
        },
        "papermill": {
          "duration": 10.025357,
          "end_time": "2021-10-07T12:09:15.631166",
          "exception": false,
          "start_time": "2021-10-07T12:09:05.605809",
          "status": "completed"
        },
        "tags": [],
        "id": "7d4dc924"
      },
      "outputs": [],
      "source": [
        "# Assigns weights of trained model layers to inference model layers \n",
        "de_gru.set_weights(de_gru_weights)\n",
        "de_dense.set_weights(de_dense_weights)"
      ]
    },
    {
      "cell_type": "code",
      "execution_count": null,
      "id": "cf56ee61",
      "metadata": {
        "execution": {
          "iopub.execute_input": "2021-10-07T12:09:34.242139Z",
          "iopub.status.busy": "2021-10-07T12:09:34.241309Z",
          "iopub.status.idle": "2021-10-07T12:09:34.247256Z",
          "shell.execute_reply": "2021-10-07T12:09:34.247688Z",
          "shell.execute_reply.started": "2021-10-07T04:17:14.033969Z"
        },
        "papermill": {
          "duration": 9.057951,
          "end_time": "2021-10-07T12:09:34.247822",
          "exception": false,
          "start_time": "2021-10-07T12:09:25.189871",
          "status": "completed"
        },
        "tags": [],
        "id": "cf56ee61",
        "outputId": "0c2c741b-f68c-4fc7-9701-27c413508a9a"
      },
      "outputs": [
        {
          "name": "stdout",
          "output_type": "stream",
          "text": [
            "Model: \"model_2\"\n",
            "__________________________________________________________________________________________________\n",
            "Layer (type)                    Output Shape         Param #     Connected to                     \n",
            "==================================================================================================\n",
            "input_4 (InputLayer)            [(None, 1, 28445)]   0                                            \n",
            "__________________________________________________________________________________________________\n",
            "input_5 (InputLayer)            [(None, 2048)]       0                                            \n",
            "__________________________________________________________________________________________________\n",
            "gru_3 (GRU)                     [(None, 2048), (None 187361280   input_4[0][0]                    \n",
            "                                                                 input_5[0][0]                    \n",
            "__________________________________________________________________________________________________\n",
            "dense_1 (Dense)                 (None, 28445)        58283805    gru_3[0][0]                      \n",
            "==================================================================================================\n",
            "Total params: 245,645,085\n",
            "Trainable params: 245,645,085\n",
            "Non-trainable params: 0\n",
            "__________________________________________________________________________________________________\n",
            "None\n"
          ]
        }
      ],
      "source": [
        "print(decoder.summary())"
      ]
    },
    {
      "cell_type": "markdown",
      "id": "1c4c0c90",
      "metadata": {
        "papermill": {
          "duration": 8.693586,
          "end_time": "2021-10-07T12:09:52.027024",
          "exception": false,
          "start_time": "2021-10-07T12:09:43.333438",
          "status": "completed"
        },
        "tags": [],
        "id": "1c4c0c90"
      },
      "source": [
        "# **Translation in action :**"
      ]
    },
    {
      "cell_type": "code",
      "execution_count": null,
      "id": "871a77d2",
      "metadata": {
        "execution": {
          "iopub.execute_input": "2021-10-07T12:10:10.800483Z",
          "iopub.status.busy": "2021-10-07T12:10:10.799572Z",
          "iopub.status.idle": "2021-10-07T12:10:10.801369Z",
          "shell.execute_reply": "2021-10-07T12:10:10.801838Z",
          "shell.execute_reply.started": "2021-10-07T04:17:14.049400Z"
        },
        "papermill": {
          "duration": 9.011511,
          "end_time": "2021-10-07T12:10:10.801992",
          "exception": false,
          "start_time": "2021-10-07T12:10:01.790481",
          "status": "completed"
        },
        "tags": [],
        "id": "871a77d2"
      },
      "outputs": [],
      "source": [
        "def word_to_onehot(tokenizer, word, vocab_size):\n",
        "    \n",
        "    de_seq = tokenizer.texts_to_sequences([[word]])\n",
        "    de_onehot = to_categorical(de_seq, num_classes=vocab_size).reshape(1, 1, vocab_size)  \n",
        "    \n",
        "    return de_onehot\n",
        "\n",
        "\n",
        "def translate(eng_sentence):\n",
        "    \n",
        "    en_seq = sent_to_seq([eng_sentence], \n",
        "                         tokenizer=eng_tok, \n",
        "                         reverse=True, \n",
        "                         onehot=True, \n",
        "                         vocab_size=eng_vocab_size)\n",
        "    \n",
        "    en_st = encoder.predict(en_seq)\n",
        "    de_seq = word_to_onehot(it_tok, \"sos\", it_vocab_size)\n",
        "    it_sent = \"\"\n",
        "    for i in range(it_seq_len):         \n",
        "        de_prob, en_st = decoder.predict([de_seq, en_st])\n",
        "        index = np.argmax(de_prob[0, :], axis=-1)\n",
        "        de_w = it_tok.index_word[index]\n",
        "        de_seq = word_to_onehot(it_tok, de_w, it_vocab_size) \n",
        "        if de_w == 'eos': break\n",
        "        it_sent += de_w + ' '\n",
        "        \n",
        "    return it_sent"
      ]
    },
    {
      "cell_type": "code",
      "execution_count": null,
      "id": "18928871",
      "metadata": {
        "execution": {
          "iopub.execute_input": "2021-10-07T12:10:29.254630Z",
          "iopub.status.busy": "2021-10-07T12:10:29.253854Z",
          "iopub.status.idle": "2021-10-07T12:10:38.470861Z",
          "shell.execute_reply": "2021-10-07T12:10:38.471594Z",
          "shell.execute_reply.started": "2021-10-07T04:34:35.440243Z"
        },
        "papermill": {
          "duration": 18.816606,
          "end_time": "2021-10-07T12:10:38.471764",
          "exception": false,
          "start_time": "2021-10-07T12:10:19.655158",
          "status": "completed"
        },
        "tags": [],
        "id": "18928871",
        "outputId": "2a752691-119e-4300-8f19-9c90ed6aed0d"
      },
      "outputs": [
        {
          "name": "stdout",
          "output_type": "stream",
          "text": [
            "English: That's serious.\n",
            "Translated text: è seria \n",
            "English: Tom is teaching me how to swim.\n",
            "Translated text: tom mi sta disturbando \n",
            "English: Are you sure this thing is safe?\n",
            "Translated text: siete sicure che questo sia sicuro \n",
            "English: They were so happy together.\n",
            "Translated text: erano così felici assieme \n",
            "English: Both Tom and I were shocked.\n",
            "Translated text: sia tom che mary erano sorpresi \n",
            "English: Anybody can use it.\n",
            "Translated text: chiunque può farlo \n",
            "English: I encouraged Tom to learn French.\n",
            "Translated text: io ho incoraggiato tom a imparare il francese \n",
            "English: I really like your paintings.\n",
            "Translated text: mi piacciono veramente i tuoi dipinti \n",
            "English: This is the cheapest shop in town.\n",
            "Translated text: questo è il libro che voglio leggere \n",
            "English: Have you ever had this problem before?\n",
            "Translated text: ha mai avuto questo problema \n",
            "English: I usually drink coffee without sugar.\n",
            "Translated text: io bevo del caffè al mattino \n",
            "English: Tom won't like it.\n",
            "Translated text: tom non avrà successo \n",
            "English: It is time for her to go home.\n",
            "Translated text: è meglio se non fosse nostra \n",
            "English: Have you ever used one of these?\n",
            "Translated text: prendi una tazza di caffè \n",
            "English: Everyone hugged Tom.\n",
            "Translated text: tutti hanno abbracciato tom \n",
            "English: Tom is a bad boy.\n",
            "Translated text: tom è un pessimo bugiardo \n",
            "English: Tom wore this.\n",
            "Translated text: tom indossava dei pantaloni \n",
            "English: They've taken Tom home.\n",
            "Translated text: loro si stanno facendo una doccia tutte le mattine \n",
            "English: Tom also had a sister.\n",
            "Translated text: tom ha tre fratelli maggiori \n",
            "English: I'm resting my eyes.\n",
            "Translated text: mi sto trasferendo quindi ho acceso le candele \n",
            "English: He is learning how to drive a car.\n",
            "Translated text: sta imparando a guidare un'auto \n",
            "English: I'll do no such thing.\n",
            "Translated text: non farò mai più quell'errore di ciò \n",
            "English: Can I talk to you for a minute?\n",
            "Translated text: posso parlarvi per un minuto \n",
            "English: I don't feel sorry for you.\n",
            "Translated text: non mi aspettavo questo da lei \n",
            "English: I'll join you.\n",
            "Translated text: mi unirò a lei \n"
          ]
        }
      ],
      "source": [
        "for sent in eng_test[: 25]:\n",
        "    print(f\"English: {sent}\")\n",
        "    print(f\"Translated text: {translate(sent)}\")"
      ]
    }
  ],
  "metadata": {
    "kernelspec": {
      "display_name": "Python 3",
      "language": "python",
      "name": "python3"
    },
    "language_info": {
      "codemirror_mode": {
        "name": "ipython",
        "version": 3
      },
      "file_extension": ".py",
      "mimetype": "text/x-python",
      "name": "python",
      "nbconvert_exporter": "python",
      "pygments_lexer": "ipython3",
      "version": "3.7.10"
    },
    "papermill": {
      "default_parameters": {},
      "duration": 27034.125718,
      "end_time": "2021-10-07T12:12:13.685362",
      "environment_variables": {},
      "exception": null,
      "input_path": "__notebook__.ipynb",
      "output_path": "__notebook__.ipynb",
      "parameters": {},
      "start_time": "2021-10-07T04:41:39.559644",
      "version": "2.3.3"
    },
    "colab": {
      "provenance": []
    }
  },
  "nbformat": 4,
  "nbformat_minor": 5
}